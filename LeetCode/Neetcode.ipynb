{
 "cells": [
  {
   "cell_type": "code",
   "execution_count": 17,
   "id": "fb546f63",
   "metadata": {},
   "outputs": [
    {
     "name": "stdout",
     "output_type": "stream",
     "text": [
      "[]\n"
     ]
    },
    {
     "data": {
      "text/plain": [
       "5"
      ]
     },
     "execution_count": 17,
     "metadata": {},
     "output_type": "execute_result"
    }
   ],
   "source": [
    "grid = [\n",
    "  [\"1\",\"1\",\"1\",\"1\",\"0\"],\n",
    "  [\"1\",\"1\",\"0\",\"1\",\"0\"],\n",
    "  [\"1\",\"1\",\"0\",\"0\",\"0\"],\n",
    "  [\"0\",\"0\",\"0\",\"0\",\"0\"]\n",
    "]\n",
    "\n",
    "\n",
    "\n",
    "\n",
    "def count_island(grid):\n",
    "  if not grid or not grid[0]:\n",
    "      return 0\n",
    "\n",
    "  col,row = (0,0)\n",
    "\n",
    "  visited = []\n",
    "  islands = 0\n",
    "  \n",
    "  max_row_len = len(grid[0])\n",
    "  max_col_len = len(grid)\n",
    "\n",
    "  water_list = []\n",
    "  land_list = []\n",
    "  \n",
    "  if(row+1<max_row_len):\n",
    "    if(grid[col][row+1]=='1'):\n",
    "      land_list.append([col,row+1])\n",
    "    else:\n",
    "      water_list.append([col,row+1])\n",
    "\n",
    "  if(col+1<max_col_len):\n",
    "    if(grid[col][row+1]=='1'):\n",
    "      land_list.append([col+1,row])\n",
    "    else:\n",
    "      water_list.append( [col+1,row])\n",
    "\n",
    "  if(row-1>max_row_len):\n",
    "    if(grid[col][row+1]=='1'):\n",
    "      land_list.append([col,row-1])\n",
    "    else:\n",
    "      water_list.append([col,row-1])\n",
    "\n",
    "  if(col-1>max_col_len):\n",
    "    if(grid[col-1][row]=='1'):\n",
    "      land_list.append([col-1,row])\n",
    "    else:\n",
    "      water_list.append([col-1,row])\n",
    "\n",
    "  print(water_list)\n",
    "  \n",
    "count_island( grid )\n",
    "    \n",
    "len(grid[0])\n",
    "\n"
   ]
  },
  {
   "cell_type": "code",
   "execution_count": 2,
   "id": "375fd8f8",
   "metadata": {},
   "outputs": [],
   "source": [
    "grid = [\n",
    "  [\"1\",\"1\",\"0\",\"0\",\"0\"],\n",
    "  [\"1\",\"1\",\"0\",\"0\",\"0\"],\n",
    "  [\"0\",\"0\",\"1\",\"0\",\"0\"],\n",
    "  [\"0\",\"0\",\"0\",\"1\",\"1\"]\n",
    "]"
   ]
  }
 ],
 "metadata": {
  "kernelspec": {
   "display_name": "Python 3.10.5 64-bit",
   "language": "python",
   "name": "python3"
  },
  "language_info": {
   "codemirror_mode": {
    "name": "ipython",
    "version": 3
   },
   "file_extension": ".py",
   "mimetype": "text/x-python",
   "name": "python",
   "nbconvert_exporter": "python",
   "pygments_lexer": "ipython3",
   "version": "3.10.5"
  },
  "vscode": {
   "interpreter": {
    "hash": "fb4569285eef3a3450cb62085a5b1e0da4bce0af555edc33dcf29baf3acc1368"
   }
  }
 },
 "nbformat": 4,
 "nbformat_minor": 5
}
