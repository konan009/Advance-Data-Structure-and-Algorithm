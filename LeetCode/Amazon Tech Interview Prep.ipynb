{
 "cells": [
  {
   "cell_type": "code",
   "execution_count": 18,
   "id": "4aa4a2bd",
   "metadata": {},
   "outputs": [
    {
     "data": {
      "text/plain": [
       "[0, 1, 2, 3]"
      ]
     },
     "execution_count": 18,
     "metadata": {},
     "output_type": "execute_result"
    }
   ],
   "source": [
    "\n",
    "def findOrder(numCourses, prerequisites ):\n",
    "    course_prereq = {c: [] for c in range(numCourses)}\n",
    "    for crs, pre in prerequisites:\n",
    "        course_prereq[crs].append(pre)\n",
    "    \n",
    "    def dfs(course):\n",
    "        if course in cycle:\n",
    "            return False\n",
    "        if course in visit:\n",
    "            return True\n",
    "\n",
    "        cycle.add(course)\n",
    "        for pre in course_prereq[course]:\n",
    "            if dfs(pre) == False:\n",
    "                return False\n",
    "                \n",
    "        cycle.remove(course)\n",
    "        visit.add(course)\n",
    "        output.append(course)\n",
    "        return True\n",
    "\n",
    "    output = []\n",
    "    visit, cycle = set(), set()\n",
    "    for course in range(numCourses):\n",
    "        if dfs(course) == False:\n",
    "            return []\n",
    "    return output\n",
    "\n",
    "\n",
    "findOrder(2, [[1,0]])\n",
    "findOrder(4, [[1,0],[2,0],[3,1],[3,2]])"
   ]
  },
  {
   "cell_type": "code",
   "execution_count": null,
   "id": "01365fad",
   "metadata": {},
   "outputs": [],
   "source": [
    "def numIslands( grid ):\n",
    "    if not grid:\n",
    "        return 0\n",
    "\n",
    "    def bfs(r,c):\n",
    "        queue = []\n",
    "        visit.add((r,c))\n",
    "        queue.append((r,c))\n",
    "        area = 1\n",
    "        while queue:\n",
    "            row,col = queue.pop(0)\n",
    "            directions = [[1,0],[0,1],[-1,0],[0,-1]]\n",
    "            for dr,dc in directions:\n",
    "                r, c = row + dr, col + dc\n",
    "                if ( r in range(rows) and \n",
    "                     c in range(cols) and \n",
    "                     grid[r][c] == \"1\" and \n",
    "                     (r,c) not in visit):\n",
    "                        area += 1\n",
    "                        queue.append((r,c))\n",
    "                        visit.add((r,c))\n",
    "\n",
    "        return area\n",
    "\n",
    "    rows, cols = len(grid), len(grid[0])\n",
    "    visit = set()\n",
    "    islands = 0\n",
    "    max_area = 0 \n",
    "    for r in range(rows):\n",
    "        for c in range(cols):\n",
    "            if grid[r][c]== \"1\" and (r,c) not in visit:\n",
    "                max_area = max( bfs(r,c), max_area ) \n",
    "                islands += 1\n",
    "\n",
    "    return islands\n",
    "\n",
    "\n",
    "grid = [\n",
    "  [\"1\",\"1\",\"0\",\"0\",\"0\"],\n",
    "  [\"1\",\"1\",\"0\",\"0\",\"0\"],\n",
    "  [\"0\",\"0\",\"1\",\"0\",\"0\"],\n",
    "  [\"0\",\"0\",\"0\",\"1\",\"1\"]\n",
    "]\n",
    "\n",
    "numIslands( grid )"
   ]
  }
 ],
 "metadata": {
  "kernelspec": {
   "display_name": "Python 3.10.5 64-bit",
   "language": "python",
   "name": "python3"
  },
  "language_info": {
   "codemirror_mode": {
    "name": "ipython",
    "version": 3
   },
   "file_extension": ".py",
   "mimetype": "text/x-python",
   "name": "python",
   "nbconvert_exporter": "python",
   "pygments_lexer": "ipython3",
   "version": "3.10.5"
  },
  "vscode": {
   "interpreter": {
    "hash": "369f2c481f4da34e4445cda3fffd2e751bd1c4d706f27375911949ba6bb62e1c"
   }
  }
 },
 "nbformat": 4,
 "nbformat_minor": 5
}
