{
 "cells": [
  {
   "cell_type": "code",
   "execution_count": 229,
   "source": [
    "# numbers = [5,4,2,3,7,9]\r\n",
    "numbers = [5,4,2,3,7,9,8,8,7,8,10]\r\n",
    "\r\n",
    "tag = 0 \r\n",
    "array = []\r\n",
    "\r\n",
    "\r\n",
    "def recursive(number,index):\r\n",
    "    global tag\r\n",
    "    global array\r\n",
    "    index += 1\r\n",
    "    \r\n",
    "    if( len(numbers) <= index):\r\n",
    "        if(tag==1 and len(array) == 1):\r\n",
    "            array.append(\"Day \"+ str( index))  \r\n",
    "            tag = 0\r\n",
    "            print(array)\r\n",
    "        return False\r\n",
    "\r\n",
    "    # IF LESSER THAN THE NEXT\r\n",
    "    if(number > numbers[index]):\r\n",
    "        if(tag==0 and len(array) == 0):\r\n",
    "            array.append(\"Day \"+ str( index)) \r\n",
    "        if(tag==1 and len(array) == 1):\r\n",
    "            array.append(\"Day \"+ str( index)) \r\n",
    "            tag = 0\r\n",
    "            print(array)\r\n",
    "            array = []\r\n",
    "\r\n",
    "    # IF LESSER THAN THE NEXT\r\n",
    "    if(number < numbers[index]):\r\n",
    "        tag = 1\r\n",
    "        \r\n",
    "\r\n",
    "    recursive(numbers[index],index)\r\n",
    "\r\n",
    "recursive(numbers[0],0)\r\n"
   ],
   "outputs": [
    {
     "output_type": "stream",
     "name": "stdout",
     "text": [
      "['Day 1', 'Day 6']\n",
      "['Day 8', 'Day 11']\n"
     ]
    }
   ],
   "metadata": {}
  },
  {
   "cell_type": "markdown",
   "source": [
    "2. What If?"
   ],
   "metadata": {}
  },
  {
   "cell_type": "code",
   "execution_count": 217,
   "source": [
    "timeline = [5, 6, 1, 3, 6, 7, 3, 6, 1]\r\n",
    "transformed_timeline = []\r\n",
    "def recursive_transform(number,index):\r\n",
    "    index += 1\r\n",
    "    global transformed_timeline\r\n",
    "\r\n",
    "    if( len(timeline) <= index):\r\n",
    "        return False\r\n",
    "\r\n",
    "    if( number < timeline[index]):\r\n",
    "        transformed_timeline.append(\"UP\")\r\n",
    "\r\n",
    "    # IF LESSER THAN THE NEXT\r\n",
    "    if(number > timeline[index]):\r\n",
    "        transformed_timeline.append(\"DOWN\")\r\n",
    "\r\n",
    "    recursive_transform(timeline[index],index)\r\n",
    "\r\n",
    "\r\n",
    "def is_palindrome_exhaustive(s):\r\n",
    "    right_index = len(s) - 1\r\n",
    "\r\n",
    "    for left_index in range(len(s) - 1):\r\n",
    "        if left_index >= right_index:\r\n",
    "            return True\r\n",
    "        elif s[left_index] != s[right_index]:\r\n",
    "            return False\r\n",
    "        \r\n",
    "        right_index = right_index - 1\r\n",
    "        \r\n",
    "        \r\n",
    "recursive_transform(timeline[0],0)\r\n",
    "\r\n",
    "print(\"Transformed:\",transformed_timeline)\r\n",
    "is_palindrome_exhaustive(transformed_timeline)\r\n"
   ],
   "outputs": [
    {
     "output_type": "stream",
     "name": "stdout",
     "text": [
      "Transformed: ['UP', 'DOWN', 'UP', 'UP', 'UP', 'DOWN', 'UP', 'DOWN']\n"
     ]
    },
    {
     "output_type": "execute_result",
     "data": {
      "text/plain": [
       "False"
      ]
     },
     "metadata": {},
     "execution_count": 217
    }
   ],
   "metadata": {}
  },
  {
   "cell_type": "markdown",
   "source": [
    "3. Fear is the Mind Killer"
   ],
   "metadata": {}
  },
  {
   "cell_type": "code",
   "execution_count": 5,
   "source": [
    "grid = [[3,4,1],\r\n",
    "        [6,2,3],\r\n",
    "        [1,6,2]]\r\n",
    "\r\n",
    "initial_point = (0,0)\r\n",
    "threshhold = 10\r\n",
    "risk_number = 0\r\n",
    "number = []\r\n",
    "\r\n",
    "def traverse_the_world(point,world,risk_number):\r\n",
    "        index_i, index_j = point\r\n",
    "        if((index_i > 2 or index_j > 2) ):\r\n",
    "                return False\r\n",
    "\r\n",
    "        if((index_i < 0 or index_j < 0) ):\r\n",
    "                return False\r\n",
    "\r\n",
    "        risk_number += grid[index_i][index_j]\r\n",
    "        if(threshhold < risk_number):\r\n",
    "                return False\r\n",
    "\r\n",
    "        print(world[index_i][index_j])\r\n",
    "\r\n",
    "        next_i, next_j = move_right(point)\r\n",
    "        traverse_the_world((next_i, next_j),world,risk_number)   \r\n",
    "\r\n",
    "        next_i, next_j = move_down(point)\r\n",
    "        traverse_the_world((next_i, next_j),world,risk_number) \r\n",
    "\r\n",
    "\r\n",
    "        next_i, next_j = move_up(point)\r\n",
    "        traverse_the_world((next_i, next_j),world,risk_number)   \r\n",
    "\r\n",
    "        next_i, next_j = move_left(point)\r\n",
    "        traverse_the_world((next_i, next_j),world,risk_number)  \r\n",
    "\r\n",
    "\r\n",
    "\r\n",
    "def move_up(point):\r\n",
    "        index_i, index_j = point\r\n",
    "        return (index_i - 1, index_j )\r\n",
    "\r\n",
    "def move_down(point):\r\n",
    "        index_i, index_j = point\r\n",
    "        return (index_i + 1, index_j )\r\n",
    "\r\n",
    "def move_right(point):\r\n",
    "        index_i, index_j = point\r\n",
    "        return (index_i, index_j + 1 )\r\n",
    "    \r\n",
    "def move_left(point):\r\n",
    "        index_i, index_j = point\r\n",
    "        return (index_i, index_j - 1 )\r\n",
    "\r\n",
    "\r\n",
    "traverse_the_world(initial_point,grid,risk_number)\r\n"
   ],
   "outputs": [
    {
     "output_type": "stream",
     "name": "stdout",
     "text": [
      "3\n",
      "4\n",
      "1\n",
      "2\n",
      "3\n",
      "6\n",
      "1\n"
     ]
    }
   ],
   "metadata": {}
  },
  {
   "cell_type": "code",
   "execution_count": null,
   "source": [],
   "outputs": [],
   "metadata": {}
  }
 ],
 "metadata": {
  "language_info": {
   "name": "python",
   "version": "3.8.8",
   "mimetype": "text/x-python",
   "codemirror_mode": {
    "name": "ipython",
    "version": 3
   },
   "pygments_lexer": "ipython3",
   "nbconvert_exporter": "python",
   "file_extension": ".py"
  },
  "kernelspec": {
   "name": "python3",
   "display_name": "Python 3.8.8 64-bit ('base': conda)"
  },
  "interpreter": {
   "hash": "6d46af94c2bbce495f1e668725902fa517c90b1782bcfe2fce0dd9868df553d3"
  }
 },
 "nbformat": 4,
 "nbformat_minor": 5
}