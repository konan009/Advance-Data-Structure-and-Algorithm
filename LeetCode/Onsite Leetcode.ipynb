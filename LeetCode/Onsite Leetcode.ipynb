{
 "cells": [
  {
   "cell_type": "code",
   "execution_count": 8,
   "id": "afa25ebb",
   "metadata": {},
   "outputs": [
    {
     "data": {
      "text/plain": [
       "3"
      ]
     },
     "execution_count": 8,
     "metadata": {},
     "output_type": "execute_result"
    }
   ],
   "source": [
    "## Leetcode 309 \n",
    "## Best Time to Buy and Sell Stock with Cooldown\n",
    "## https:#leetcode.com/problems/best-time-to-buy-and-sell-stock-with-cooldown/\n",
    "\n",
    "def maxProfit( prices):\n",
    "    dp = {}\n",
    "\n",
    "    def dfs(i, buying):\n",
    "        if i >= len(prices):\n",
    "            return 0\n",
    "        if (i,buying) in dp:\n",
    "            return dp[(i, buying)]\n",
    "\n",
    "        cooldown = dfs(i + 1, buying)\n",
    "        if buying:\n",
    "            buy = dfs(i+1, not buying) - prices[i]\n",
    "            dp[(i,buying)] = max(buy,cooldown)\n",
    "        else:\n",
    "            sell = dfs(i+2,not buying) + prices[i]\n",
    "            dp[(i,buying)] = max(sell,cooldown)\n",
    "        return dp[(i,buying)]\n",
    "\n",
    "    return dfs(0,True)\n",
    "\n",
    "maxProfit([1,2,3,0,2])"
   ]
  },
  {
   "cell_type": "code",
   "execution_count": 1,
   "id": "1251231b",
   "metadata": {},
   "outputs": [
    {
     "name": "stdout",
     "output_type": "stream",
     "text": [
      "['eat', 'oath']\n",
      "[]\n"
     ]
    }
   ],
   "source": [
    "## 212.Word Search II\n",
    "# https://leetcode.com/problems/word-search-ii/submissions/\n",
    "\n",
    "class TrieNode:\n",
    "    def __init__(self) -> None:\n",
    "        self.children = {}\n",
    "        self.isWord = False\n",
    "\n",
    "    def addWord(self, word):\n",
    "        for c in word:\n",
    "            if c not in self.children:\n",
    "                self.children[c] = TrieNode()\n",
    "            self = self.children[c]\n",
    "        self.isWord = True\n",
    "\n",
    "class Solution:\n",
    "    def findWords( self, board, words):\n",
    "        root = TrieNode()\n",
    "        for w in words:\n",
    "            root.addWord(w)\n",
    "        \n",
    "        rows, cols = len(board), len(board[0])\n",
    "        res, visit = set(), set()\n",
    "\n",
    "        def dfs(r, c, node, word):\n",
    "            if (r not in range(rows) or \n",
    "                c not in range(cols) or\n",
    "                board[r][c] not in node.children or \n",
    "                (r,c) in visit):\n",
    "                return\n",
    "        \n",
    "            visit.add((r,c))\n",
    "            node = node.children[board[r][c]]\n",
    "            word += board[r][c]\n",
    "\n",
    "            if node.isWord:\n",
    "                res.add(word)\n",
    "\n",
    "            directions = [[1,0],[0,1],[-1,0],[0,-1]]\n",
    "            for dr,dc in directions:\n",
    "                rs, cs = r + dr, c + dc\n",
    "                dfs(rs,cs,node,word)\n",
    "\n",
    "            visit.remove((r,c))\n",
    "\n",
    "        for r in range(rows):\n",
    "            for c in range(cols):\n",
    "                dfs(r,c,root, \"\")\n",
    "\n",
    "        return list(res)\n",
    "\n",
    "solution = Solution()\n",
    "\n",
    "board = [[\"o\",\"a\",\"a\",\"n\"],[\"e\",\"t\",\"a\",\"e\"],[\"i\",\"h\",\"k\",\"r\"],[\"i\",\"f\",\"l\",\"v\"]]\n",
    "words = [\"oath\",\"pea\",\"eat\",\"rain\"]\n",
    "print(solution.findWords( board, words))\n",
    "\n",
    "\n",
    "board = [[\"a\",\"b\"],[\"c\",\"d\"]]\n",
    "words = [\"abcb\"]\n",
    "print(solution.findWords( board, words))"
   ]
  },
  {
   "cell_type": "code",
   "execution_count": 2,
   "id": "0c3f2d38",
   "metadata": {},
   "outputs": [],
   "source": [
    "## Leetcode 139. Word Break\n",
    "\n",
    "class Solution:\n",
    "    def wordBreak(self, s, wordDict):\n",
    "        dp = [False] * (len(s) + 1)\n",
    "        dp[len(s)] = True\n",
    "\n",
    "        for i in range( len(s) - 1, -1, -1):\n",
    "            for w in wordDict:\n",
    "                if( i + len(w)) <= len(s) and s[i : i + len(w)] == w:\n",
    "                    dp[i] = dp[i + len(w)]\n",
    "                if dp[i]:\n",
    "                    break\n",
    "\n",
    "        return dp[0]\n"
   ]
  },
  {
   "cell_type": "code",
   "execution_count": 4,
   "id": "c580b04a",
   "metadata": {},
   "outputs": [
    {
     "name": "stdout",
     "output_type": "stream",
     "text": [
      "['cat sand dog', 'cats and dog']\n",
      "['pine apple pen apple', 'pine applepen apple', 'pineapple pen apple']\n",
      "[]\n"
     ]
    }
   ],
   "source": [
    "## Leetcode 140. Word Break II\n",
    "## https://leetcode.com/problems/word-break-ii/\n",
    "\n",
    "\n",
    "def wordBreak( s: str, wordDict) :\n",
    "    \n",
    "    wordDict = set(wordDict)\n",
    "    \n",
    "    results = []\n",
    "    \n",
    "    def backRecursion(start, sentence):\n",
    "        \n",
    "        if start == len(s):\n",
    "            results.append(sentence[1:])\n",
    "            return True\n",
    "\n",
    "        for end in range(start+1, len(s)+1):\n",
    "            \n",
    "            if s[start:end] in wordDict:\n",
    "                backRecursion(end, sentence + \" \" + s[start:end])\n",
    "\n",
    "    backRecursion(0, \"\")\n",
    "    return results\n",
    "\n",
    "s = \"catsanddog\"\n",
    "wordDict = [\"cat\",\"cats\",\"and\",\"sand\",\"dog\"]\n",
    "print(wordBreak( s, wordDict))\n",
    "\n",
    "s = \"pineapplepenapple\"\n",
    "wordDict = [\"apple\",\"pen\",\"applepen\",\"pine\",\"pineapple\"]\n",
    "print(wordBreak( s, wordDict))\n",
    "\n",
    "s = \"catsandog\"\n",
    "wordDict = [\"cats\",\"dog\",\"sand\",\"and\",\"cat\"]\n",
    "print(wordBreak( s, wordDict))"
   ]
  },
  {
   "cell_type": "code",
   "execution_count": 7,
   "metadata": {},
   "outputs": [
    {
     "data": {
      "text/plain": [
       "3"
      ]
     },
     "execution_count": 7,
     "metadata": {},
     "output_type": "execute_result"
    }
   ],
   "source": [
    "## Leetcode 200 \n",
    "## Number of Islands\n",
    "\n",
    "def numIslands( grid ):\n",
    "    if not grid:\n",
    "        return 0\n",
    "\n",
    "    def bfs(r,c):\n",
    "        queue = []\n",
    "        visit.add((r,c))\n",
    "        queue.append((r,c))\n",
    "        area = 1\n",
    "        while queue:\n",
    "            row,col = queue.pop(0)\n",
    "            directions = [[1,0],[0,1],[-1,0],[0,-1]]\n",
    "            for dr,dc in directions:\n",
    "                r, c = row + dr, col + dc\n",
    "                if ( r in range(rows) and \n",
    "                     c in range(cols) and \n",
    "                     grid[r][c] == \"1\" and \n",
    "                     (r,c) not in visit):\n",
    "                        area += 1\n",
    "                        queue.append((r,c))\n",
    "                        visit.add((r,c))\n",
    "\n",
    "        return area\n",
    "\n",
    "    rows, cols = len(grid), len(grid[0])\n",
    "    visit = set()\n",
    "    islands = 0\n",
    "    max_area = 0 \n",
    "    for r in range(rows):\n",
    "        for c in range(cols):\n",
    "            if grid[r][c]== \"1\" and (r,c) not in visit:\n",
    "                bfs(r,c)\n",
    "                islands += 1\n",
    "\n",
    "    return islands\n",
    "\n",
    "\n",
    "grid = [\n",
    "  [\"1\",\"1\",\"0\",\"0\",\"0\"],\n",
    "  [\"1\",\"1\",\"0\",\"0\",\"0\"],\n",
    "  [\"0\",\"0\",\"1\",\"0\",\"0\"],\n",
    "  [\"0\",\"0\",\"0\",\"1\",\"1\"]\n",
    "]\n",
    "\n",
    "numIslands( grid )"
   ]
  },
  {
   "cell_type": "code",
   "execution_count": 2,
   "id": "7fe4f947",
   "metadata": {},
   "outputs": [
    {
     "name": "stdout",
     "output_type": "stream",
     "text": [
      "True\n",
      "True\n",
      "False\n"
     ]
    }
   ],
   "source": [
    "## Leetcode 79\n",
    "## Word Search - Backtracking\n",
    "\n",
    "def exist( board, word):\n",
    "    rows, cols = len(board), len(board[0])\n",
    "    path = set()\n",
    "\n",
    "    def dfs(r, c, i):\n",
    "        if i == len(word):\n",
    "            return True\n",
    "            \n",
    "        if (r not in range( rows ) or \n",
    "            c not in range( cols ) or\n",
    "            word[i] != board[r][c] or\n",
    "            (r,c) in path\n",
    "            ):\n",
    "            return False\n",
    "\n",
    "        path.add((r,c))\n",
    "        res = ( dfs(r + 1, c, i + 1) or\n",
    "                dfs(r - 1, c, i + 1) or\n",
    "                dfs(r, c + 1, i + 1) or \n",
    "                dfs(r, c - 1, i + 1) )\n",
    "\n",
    "        path.remove((r,c))\n",
    "        return res\n",
    "\n",
    "    for r in range(rows):\n",
    "        for c in range(cols):\n",
    "            if dfs(r,c,0): \n",
    "                return True\n",
    "    return False\n",
    "\n",
    "board = [[\"A\",\"B\",\"C\",\"E\"],[\"S\",\"F\",\"C\",\"S\"],[\"A\",\"D\",\"E\",\"E\"]]\n",
    "word = \"ABCCED\"\n",
    "print(exist( board, word))\n",
    "\n",
    "board = [[\"A\",\"B\",\"C\",\"E\"],[\"S\",\"F\",\"C\",\"S\"],[\"A\",\"D\",\"E\",\"E\"]]\n",
    "word = \"SEE\"\n",
    "print(exist( board, word))\n",
    "\n",
    "board = [[\"A\",\"B\",\"C\",\"E\"],[\"S\",\"F\",\"C\",\"S\"],[\"A\",\"D\",\"E\",\"E\"]]\n",
    "word = \"ABCB\"\n",
    "print(exist( board, word))"
   ]
  },
  {
   "cell_type": "code",
   "execution_count": 12,
   "id": "44493f25",
   "metadata": {},
   "outputs": [
    {
     "name": "stdout",
     "output_type": "stream",
     "text": [
      "25\n",
      "1026\n"
     ]
    }
   ],
   "source": [
    "## Leetcode 129\n",
    "## 129. Sum Root to Leaf Numbers\n",
    "def sumNumbers( root ):\n",
    "    def dfs(cur,num):\n",
    "        if not cur:\n",
    "            return 0\n",
    "\n",
    "        num = num * 10 + cur.val\n",
    "        if not cur.left and not cur.right:\n",
    "            return num\n",
    "\n",
    "        return dfs(cur.left, num) + dfs(cur.right, num)\n",
    "        \n",
    "    return dfs(root, 0)\n",
    "\n",
    "\n",
    "class TreeNode:\n",
    "    def __init__(self, val=0, left=None, right=None):\n",
    "        self.val = val\n",
    "        self.left = left\n",
    "        self.right = right\n",
    "\n",
    "left = TreeNode(2)\n",
    "right = TreeNode(3)\n",
    "root = TreeNode(1,left,right)\n",
    "print(sumNumbers( root ))\n",
    "\n",
    "\n",
    "node5 = TreeNode(5)\n",
    "node1 = TreeNode(1)\n",
    "node0 = TreeNode(0)\n",
    "\n",
    "node9 = TreeNode(9,node5,node1)\n",
    "node4 = TreeNode(4,node9,node0)\n",
    "print(sumNumbers( node4 ))\n"
   ]
  },
  {
   "cell_type": "code",
   "execution_count": 22,
   "id": "87a51c5f",
   "metadata": {},
   "outputs": [
    {
     "name": "stdout",
     "output_type": "stream",
     "text": [
      "[1, 2, 3, 4]\n",
      "[1, 2, 3, 4]\n"
     ]
    }
   ],
   "source": [
    "## Leetcode 658\n",
    "## Find K Closest Elements - Leetcode 658\n",
    "\n",
    "def findClosestElements( arr, k, x):\n",
    "    l, r = 0, len(arr) - k\n",
    "    while l < r:\n",
    "        m = (l + r) # 2\n",
    "        if x - arr[m] > arr[m + k] - x:\n",
    "            l = m + 1\n",
    "        else:\n",
    "            r = m \n",
    "\n",
    "    return arr[l:l+k]\n",
    "\n",
    "\n",
    "arr = [1,2,3,4,5]\n",
    "k = 4\n",
    "x = 3\n",
    "print(findClosestElements( arr, k, x))\n",
    "\n",
    "arr = [1,2,3,4,5]\n",
    "k = 4\n",
    "x = -1\n",
    "print(findClosestElements( arr, k, x))\n"
   ]
  },
  {
   "cell_type": "code",
   "execution_count": 4,
   "id": "869dc787",
   "metadata": {},
   "outputs": [
    {
     "name": "stdout",
     "output_type": "stream",
     "text": [
      "[[-2, 2]]\n",
      "[[3, 3], [-2, 4]]\n"
     ]
    }
   ],
   "source": [
    "## Leetcode 973 \n",
    "## Heap / Priority Queue\n",
    "\n",
    "import heapq\n",
    "def kClosest( points, k):\n",
    "    minHeap = []\n",
    "    for x,y in points:\n",
    "        dist = ( x ** 2 ) + (y ** 2)\n",
    "        minHeap.append([dist,x,y])\n",
    "\n",
    "    heapq.heapify(minHeap)\n",
    "    res = []\n",
    "\n",
    "    for _ in range(0,k):\n",
    "        dist,x,y =  heapq.heappop(minHeap)\n",
    "        res.append([x,y])\n",
    "\n",
    "    return res\n",
    "\n",
    "points = [[1,3],[-2,2]]\n",
    "k = 1\n",
    "print(kClosest( points, k))\n",
    "\n",
    "points = [[3,3],[5,-1],[-2,4]]\n",
    "k = 2\n",
    "print(kClosest( points, k))"
   ]
  },
  {
   "cell_type": "code",
   "execution_count": null,
   "id": "15c3d504",
   "metadata": {},
   "outputs": [],
   "source": [
    "dependencies = {\n",
    "    \"A\" : [\"B\",\"C\"],\n",
    "    \"B\" : [\"E\"],\n",
    "    \"C\" : [\"D\",\"E\",\"F\"],\n",
    "    \"D\" : [],\n",
    "    \"E\" : [],\n",
    "    \"F\" : [],\n",
    "    \"G\" : [\"C\"]\n",
    "}\n",
    "\n",
    "\n",
    "def packageDependencies( dependencies ):\n",
    "    def dfs(package):\n",
    "        if package in visit:\n",
    "            return True\n",
    "        if package in cycle:\n",
    "            return False\n",
    "\n",
    "        cycle.add(package)\n",
    "        for prereq in dependencies[package]:\n",
    "            if dfs(prereq) == False:\n",
    "                return False\n",
    "\n",
    "        output.append(package)\n",
    "        visit.add(package)\n",
    "        return True\n",
    "\n",
    "    output = []\n",
    "    visit = set()\n",
    "    cycle = set()\n",
    "\n",
    "    for package in dependencies:\n",
    "        if dfs(package) == False:\n",
    "            return []\n",
    "\n",
    "    return output\n",
    "\n",
    "\n",
    "packageDependencies( dependencies )"
   ]
  },
  {
   "cell_type": "code",
   "execution_count": 1,
   "id": "a30b92a6",
   "metadata": {},
   "outputs": [
    {
     "name": "stdout",
     "output_type": "stream",
     "text": [
      "[2, -1, 2]\n",
      "[2, 3, 4, -1, 4]\n"
     ]
    }
   ],
   "source": [
    "## Leetcode 503\n",
    "## https:#leetcode.com/problems/next-greater-element-ii/\n",
    "\n",
    "def improved(nums):\n",
    "    stack = []\n",
    "    output = [-1] * len(nums)\n",
    "    lnums = nums * 2\n",
    "    n = len(nums)\n",
    "    \n",
    "    for i in range( n * 2 ):\n",
    "        while len(stack) > 0 and lnums[stack[-1]] < lnums[i]:\n",
    "            output[stack.pop()] = lnums[i]\n",
    "\n",
    "        if i < n:\n",
    "            stack.append(i)\n",
    "        \n",
    "    return output\n",
    "\n",
    " \n",
    "print( improved([1,2,1]) )\n",
    "print( improved([1,2,3,4,3]) )"
   ]
  },
  {
   "cell_type": "code",
   "execution_count": 3,
   "id": "95916667",
   "metadata": {},
   "outputs": [
    {
     "name": "stdout",
     "output_type": "stream",
     "text": [
      "True\n",
      "True\n",
      "False\n"
     ]
    }
   ],
   "source": [
    "## Leetcode 139\n",
    "## https:#leetcode.com/problems/word-break/\n",
    "\n",
    "def wordBreak( s, wordDict):\n",
    "    dp = [False] * (len(s)+1)\n",
    "    dp[len(s)] = True\n",
    "\n",
    "    for i in range(len(s)-1,-1,-1):\n",
    "        for w in wordDict:\n",
    "            if (i +len(w)) <= len(s) and s[i : i + len(w)] == w:\n",
    "                dp[i] = dp[i + len(w)]\n",
    "            if dp[i]:\n",
    "                break\n",
    "    \n",
    "    return dp[0]\n",
    "\n",
    "\n",
    "s = \"leetcode\"\n",
    "wordDict = [\"leet\",\"code\"]\n",
    "print( wordBreak( s, wordDict) )\n",
    "\n",
    "s = \"applepenapple\"\n",
    "wordDict = [\"apple\",\"pen\"]\n",
    "print( wordBreak( s, wordDict) )\n",
    "\n",
    "s = \"catsandog\"\n",
    "wordDict = [\"cats\",\"dog\",\"sand\",\"and\",\"cat\"]\n",
    "print( wordBreak( s, wordDict) )"
   ]
  },
  {
   "cell_type": "code",
   "execution_count": 7,
   "id": "c4077f44",
   "metadata": {},
   "outputs": [
    {
     "name": "stdout",
     "output_type": "stream",
     "text": [
      "2\n",
      "5\n"
     ]
    }
   ],
   "source": [
    "##  Leetcode 26\n",
    "## https:#leetcode.com/problems/remove-duplicates-from-sorted-array/\n",
    "\n",
    "def removeDuplicates( nums ):\n",
    "    l = 1\n",
    "    for r in range(1,len(nums)):\n",
    "        if nums[r] != nums[r - 1]:\n",
    "            nums[l] = nums[r]\n",
    "            l += 1\n",
    "    \n",
    "    return l\n",
    "\n",
    "print(removeDuplicates( [1,1,2] ))\n",
    "print(removeDuplicates(  [0,0,1,1,1,2,2,3,3,4]))"
   ]
  },
  {
   "cell_type": "code",
   "execution_count": null,
   "id": "01365fad",
   "metadata": {},
   "outputs": [],
   "source": [
    "## Leetcode 200\n",
    "## Number of Islands\n",
    "\n",
    "def numIslands( grid ):\n",
    "    if not grid:\n",
    "        return 0\n",
    "\n",
    "    def bfs(r,c):\n",
    "        queue = []\n",
    "        visit.add((r,c))\n",
    "        queue.append((r,c))\n",
    "        while queue:\n",
    "            row,col = queue.pop()\n",
    "            directions = [[1,0],[0,1],[-1,0],[0,-1]]\n",
    "            for dr,dc in directions:\n",
    "                r, c = row + dr, col + dc\n",
    "                if ( r in range(rows) and \n",
    "                     c in range(cols) and \n",
    "                     grid[r][c] == \"1\" and \n",
    "                     (r,c) not in visit):\n",
    "                        queue.append((r,c))\n",
    "                        visit.add((r,c))\n",
    "        return None\n",
    "\n",
    "    rows, cols = len(grid), len(grid[0])\n",
    "    visit = set()\n",
    "    islands = 0\n",
    "    max_area = 0 \n",
    "    for r in range(rows):\n",
    "        for c in range(cols):\n",
    "            if grid[r][c]== \"1\" and (r,c) not in visit:\n",
    "                bfs(r,c)\n",
    "                islands += 1\n",
    "\n",
    "    return islands\n",
    "\n",
    "\n",
    "grid = [\n",
    "  [\"1\",\"1\",\"0\",\"0\",\"0\"],\n",
    "  [\"1\",\"1\",\"1\",\"0\",\"0\"],\n",
    "  [\"0\",\"0\",\"1\",\"0\",\"0\"],\n",
    "  [\"0\",\"0\",\"0\",\"1\",\"1\"]\n",
    "]\n",
    "\n",
    "numIslands( grid )"
   ]
  },
  {
   "cell_type": "code",
   "execution_count": 1,
   "id": "da1ac0eb",
   "metadata": {},
   "outputs": [
    {
     "name": "stdout",
     "output_type": "stream",
     "text": [
      "2\n",
      "2\n"
     ]
    }
   ],
   "source": [
    "## Leetcode 560\n",
    "## Subarray Sum Equals K\n",
    "\n",
    "def subarraySum(nums, k):\n",
    "    res = 0\n",
    "    curSum = 0\n",
    "    prefixSums = { 0 : 1}\n",
    "\n",
    "    for n in nums:\n",
    "        curSum += n\n",
    "        diff = curSum - k\n",
    "\n",
    "        res += prefixSums.get(diff,0)\n",
    "        prefixSums[curSum] = 1 + prefixSums.get(curSum, 0)\n",
    "\n",
    "    return res\n",
    "\n",
    "nums = [1,1,1]\n",
    "k = 2\n",
    "print(subarraySum(nums, k))\n",
    "\n",
    "nums = [1,2,3]\n",
    "k = 3\n",
    "print(subarraySum(nums, k))"
   ]
  },
  {
   "cell_type": "code",
   "execution_count": 11,
   "id": "4c10d878",
   "metadata": {},
   "outputs": [
    {
     "name": "stdout",
     "output_type": "stream",
     "text": [
      "5\n",
      "4\n"
     ]
    }
   ],
   "source": [
    "## Leetcode 215\n",
    "## Kth Largest Element in an Array\n",
    "\n",
    "def findKthLargest(nums,k):\n",
    "    k = len(nums) - k\n",
    "\n",
    "    def quickSelect(l, r):\n",
    "        pivot, p = nums[r],l\n",
    "        for i in range(l,r):\n",
    "            if nums[i] <= pivot:\n",
    "                nums[p], nums[i] = nums[i], nums[p]\n",
    "                p += 1\n",
    "        nums[p], nums[r] = nums[r], nums[p]\n",
    "\n",
    "        if p > k:   return quickSelect(l, p - 1)\n",
    "        elif p < k: return quickSelect(p + 1, r)\n",
    "        else:       return nums[p]\n",
    "\n",
    "    return quickSelect(0, len(nums) - 1)\n",
    "\n",
    "nums = [3,2,1,5,6,4]\n",
    "k = 2\n",
    "print(findKthLargest(nums,k))\n",
    "\n",
    "\n",
    "nums = [3,2,3,1,2,4,5,5,6]\n",
    "k = 4\n",
    "print(findKthLargest(nums,k))"
   ]
  },
  {
   "cell_type": "code",
   "execution_count": 2,
   "id": "fb60a2b6",
   "metadata": {},
   "outputs": [
    {
     "name": "stdout",
     "output_type": "stream",
     "text": [
      "[[1, 6], [8, 10], [15, 18]]\n",
      "[[1, 4], [5, 7]]\n"
     ]
    }
   ],
   "source": [
    "## Leetcode 56\n",
    "## Merge Intervals\n",
    "\n",
    "def merge( intervals ):\n",
    "    intervals.sort(key = lambda i : i[0])\n",
    "    output = [intervals[0]]\n",
    "\n",
    "    for start, end in intervals[1:]:\n",
    "        lastEnd = output[-1][1]\n",
    "\n",
    "        if start <= lastEnd:\n",
    "            output[-1][1] = max(lastEnd, end)\n",
    "        else:\n",
    "            output.append([start,end])\n",
    "    \n",
    "    return output\n",
    "\n",
    "intervals = [[1,3],[2,6],[8,10],[15,18]]\n",
    "print(merge(intervals))\n",
    "\n",
    "intervals = [[1,4],[4,5]]\n",
    "print(merge(intervals))"
   ]
  },
  {
   "cell_type": "code",
   "execution_count": 4,
   "id": "da331aff",
   "metadata": {},
   "outputs": [
    {
     "name": "stdout",
     "output_type": "stream",
     "text": [
      "[[0, 4], [1, 4]]\n"
     ]
    }
   ],
   "source": [
    "\n",
    "intervals = [[1,4],[0,4]]\n",
    "intervals.sort(key = lambda i : i[0])\n",
    "\n",
    "print(intervals)"
   ]
  },
  {
   "cell_type": "code",
   "execution_count": 3,
   "id": "1084fc07",
   "metadata": {},
   "outputs": [
    {
     "name": "stdout",
     "output_type": "stream",
     "text": [
      "[['mobile', 'moneypot', 'monitor'], ['mobile', 'moneypot', 'monitor'], ['mouse', 'mousepad'], ['mouse', 'mousepad'], ['mouse', 'mousepad']]\n",
      "[['havana'], ['havana'], ['havana'], ['havana'], ['havana'], ['havana']]\n",
      "[['baggage', 'bags', 'banner'], ['baggage', 'bags', 'banner'], ['baggage', 'bags'], ['bags']]\n"
     ]
    }
   ],
   "source": [
    "## Leetcode 1268\n",
    "## Search Suggestions System\n",
    "\n",
    "def suggestedProducts( products, searchWord ):\n",
    "    res = []\n",
    "    products.sort()\n",
    "\n",
    "    l,r=0, len(products)- 1\n",
    "\n",
    "    for i in range(len(searchWord)):\n",
    "        c = searchWord[i]\n",
    "\n",
    "        while l <= r and (len(products[l]) <= i or products[l][i] != c):\n",
    "            l += 1\n",
    "        while l <= r and (len(products[r]) <= i or products[r][i] != c):\n",
    "            r -= 1\n",
    "\n",
    "        res.append([])\n",
    "        remain = r - l + 1\n",
    "        for j in range(min(3,remain)):\n",
    "            res[-1].append(products[l + j])\n",
    "\n",
    "    return res\n",
    "\n",
    "products = [\"mobile\",\"mouse\",\"moneypot\",\"monitor\",\"mousepad\"]\n",
    "searchWord = \"mouse\"\n",
    "print(suggestedProducts( products, searchWord ))\n",
    "\n",
    "\n",
    "\n",
    "products = [\"havana\"]\n",
    "searchWord = \"havana\"\n",
    "print(suggestedProducts( products, searchWord ))\n",
    "\n",
    "\n",
    "products = [\"bags\",\"baggage\",\"banner\",\"box\",\"cloths\"]\n",
    "searchWord = \"bags\"\n",
    "print(suggestedProducts( products, searchWord ))\n",
    "\n"
   ]
  }
 ],
 "metadata": {
  "kernelspec": {
   "display_name": "Python 3.10.5 64-bit",
   "language": "python",
   "name": "python3"
  },
  "language_info": {
   "codemirror_mode": {
    "name": "ipython",
    "version": 3
   },
   "file_extension": ".py",
   "mimetype": "text/x-python",
   "name": "python",
   "nbconvert_exporter": "python",
   "pygments_lexer": "ipython3",
   "version": "3.10.7 (tags/v3.10.7:6cc6b13, Sep  5 2022, 14:08:36) [MSC v.1933 64 bit (AMD64)]"
  },
  "vscode": {
   "interpreter": {
    "hash": "369f2c481f4da34e4445cda3fffd2e751bd1c4d706f27375911949ba6bb62e1c"
   }
  }
 },
 "nbformat": 4,
 "nbformat_minor": 5
}
