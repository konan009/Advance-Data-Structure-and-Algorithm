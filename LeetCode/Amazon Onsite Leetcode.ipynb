{
 "cells": [
  {
   "cell_type": "code",
   "execution_count": 8,
   "id": "afa25ebb",
   "metadata": {},
   "outputs": [
    {
     "data": {
      "text/plain": [
       "3"
      ]
     },
     "execution_count": 8,
     "metadata": {},
     "output_type": "execute_result"
    }
   ],
   "source": [
    "## Leetcode 309 \n",
    "## Best Time to Buy and Sell Stock with Cooldown\n",
    "## https:#leetcode.com/problems/best-time-to-buy-and-sell-stock-with-cooldown/\n",
    "\n",
    "def maxProfit( prices):\n",
    "    dp = {}\n",
    "\n",
    "    def dfs(i, buying):\n",
    "        if i >= len(prices):\n",
    "            return 0\n",
    "        if (i,buying) in dp:\n",
    "            return dp[(i, buying)]\n",
    "\n",
    "        cooldown = dfs(i + 1, buying)\n",
    "        if buying:\n",
    "            buy = dfs(i+1, not buying) - prices[i]\n",
    "            dp[(i,buying)] = max(buy,cooldown)\n",
    "        else:\n",
    "            sell = dfs(i+2,not buying) + prices[i]\n",
    "            dp[(i,buying)] = max(sell,cooldown)\n",
    "        return dp[(i,buying)]\n",
    "\n",
    "    return dfs(0,True)\n",
    "\n",
    "maxProfit([1,2,3,0,2])"
   ]
  },
  {
   "cell_type": "code",
   "execution_count": 27,
   "id": "7fe4f947",
   "metadata": {},
   "outputs": [
    {
     "name": "stdout",
     "output_type": "stream",
     "text": [
      "True\n",
      "True\n",
      "False\n"
     ]
    }
   ],
   "source": [
    "## Leetcode 79\n",
    "## Word Search - Backtracking\n",
    "\n",
    "def exist( board, word):\n",
    "    ROWS, COLS = len(board), len(board[0])\n",
    "    path = set()\n",
    "\n",
    "    def dfs(r, c, i):\n",
    "        if i == len(word):\n",
    "            return True\n",
    "        if ( \n",
    "            r < 0 or c < 0 or \n",
    "            r >= ROWS or c >= COLS or\n",
    "            word[i] != board[r][c] or\n",
    "            (r,c) in path\n",
    "            ):\n",
    "            return False\n",
    "\n",
    "        path.add((r,c))\n",
    "        res = (\n",
    "            dfs(r + 1, c, i + 1) or\n",
    "            dfs(r - 1, c, i + 1) or\n",
    "            dfs(r, c + 1, i + 1) or \n",
    "            dfs(r, c - 1, i + 1) \n",
    "        )\n",
    "        path.remove((r,c))\n",
    "        return res\n",
    "\n",
    "    for r in range(ROWS):\n",
    "        for c in range(COLS):\n",
    "            if dfs(r,c,0): return True\n",
    "    return False\n",
    "\n",
    "board = [[\"A\",\"B\",\"C\",\"E\"],[\"S\",\"F\",\"C\",\"S\"],[\"A\",\"D\",\"E\",\"E\"]]\n",
    "word = \"ABCCED\"\n",
    "print(exist( board, word))\n",
    "\n",
    "board = [[\"A\",\"B\",\"C\",\"E\"],[\"S\",\"F\",\"C\",\"S\"],[\"A\",\"D\",\"E\",\"E\"]]\n",
    "word = \"SEE\"\n",
    "print(exist( board, word))\n",
    "\n",
    "board = [[\"A\",\"B\",\"C\",\"E\"],[\"S\",\"F\",\"C\",\"S\"],[\"A\",\"D\",\"E\",\"E\"]]\n",
    "word = \"ABCB\"\n",
    "print(exist( board, word))"
   ]
  },
  {
   "cell_type": "code",
   "execution_count": 12,
   "id": "44493f25",
   "metadata": {},
   "outputs": [
    {
     "name": "stdout",
     "output_type": "stream",
     "text": [
      "25\n",
      "1026\n"
     ]
    }
   ],
   "source": [
    "## Leetcode 129\n",
    "## 129. Sum Root to Leaf Numbers\n",
    "def sumNumbers( root ):\n",
    "\n",
    "    def dfs(cur,num):\n",
    "        if not cur:\n",
    "            return 0\n",
    "\n",
    "        num = num * 10 + cur.val\n",
    "        if not cur.left and not cur.right:\n",
    "            return num\n",
    "        return dfs(cur.left, num) + dfs(cur.right, num)\n",
    "\n",
    "    return dfs(root, 0)\n",
    "\n",
    "\n",
    "class TreeNode:\n",
    "    def __init__(self, val=0, left=None, right=None):\n",
    "        self.val = val\n",
    "        self.left = left\n",
    "        self.right = right\n",
    "\n",
    "left = TreeNode(2)\n",
    "right = TreeNode(3)\n",
    "root = TreeNode(1,left,right)\n",
    "print(sumNumbers( root ))\n",
    "\n",
    "\n",
    "node5 = TreeNode(5)\n",
    "node1 = TreeNode(1)\n",
    "node0 = TreeNode(0)\n",
    "\n",
    "node9 = TreeNode(9,node5,node1)\n",
    "node4 = TreeNode(4,node9,node0)\n",
    "print(sumNumbers( node4 ))\n"
   ]
  },
  {
   "cell_type": "code",
   "execution_count": 22,
   "id": "87a51c5f",
   "metadata": {},
   "outputs": [
    {
     "name": "stdout",
     "output_type": "stream",
     "text": [
      "[1, 2, 3, 4]\n",
      "[1, 2, 3, 4]\n"
     ]
    }
   ],
   "source": [
    "## Leetcode 658\n",
    "## Find K Closest Elements - Leetcode 658\n",
    "\n",
    "def findClosestElements( arr, k, x):\n",
    "    l, r = 0, len(arr) - k\n",
    "    while l < r:\n",
    "        m = (l + r) # 2\n",
    "        if x - arr[m] > arr[m + k] - x:\n",
    "\n",
    "            l = m + 1\n",
    "        else:\n",
    "            r = m \n",
    "\n",
    "    return arr[l:l+k]\n",
    "\n",
    "\n",
    "arr = [1,2,3,4,5]\n",
    "k = 4\n",
    "x = 3\n",
    "print(findClosestElements( arr, k, x))\n",
    "\n",
    "arr = [1,2,3,4,5]\n",
    "k = 4\n",
    "x = -1\n",
    "print(findClosestElements( arr, k, x))\n"
   ]
  },
  {
   "cell_type": "code",
   "execution_count": 23,
   "metadata": {},
   "outputs": [
    {
     "name": "stdout",
     "output_type": "stream",
     "text": [
      "[[-2, 2]]\n",
      "[[3, 3], [-2, 4]]\n"
     ]
    }
   ],
   "source": [
    "## Leetcode 973 \n",
    "## Heap / Priority Queue\n",
    "\n",
    "import heapq\n",
    "def kClosest( points, k):\n",
    "    minHeap = []\n",
    "    for x,y in points:\n",
    "        dist = ( x ** 2 ) + (y ** 2)\n",
    "        minHeap.append([dist,x,y])\n",
    "\n",
    "    heapq.heapify(minHeap)\n",
    "    res = []\n",
    "    while k > 0:\n",
    "        dist,x,y =  heapq.heappop(minHeap)\n",
    "        res.append([x,y])\n",
    "        k -= 1\n",
    "\n",
    "    return res\n",
    "\n",
    "points = [[1,3],[-2,2]]\n",
    "k = 1\n",
    "print(kClosest( points, k))\n",
    "\n",
    "points = [[3,3],[5,-1],[-2,4]]\n",
    "k = 2\n",
    "print(kClosest( points, k))"
   ]
  },
  {
   "cell_type": "code",
   "execution_count": null,
   "id": "15c3d504",
   "metadata": {},
   "outputs": [],
   "source": [
    "dependencies = {\n",
    "    \"A\" : [\"B\",\"C\"],\n",
    "    \"B\" : [\"E\"],\n",
    "    \"C\" : [\"D\",\"E\",\"F\"],\n",
    "    \"D\" : [],\n",
    "    \"E\" : [],\n",
    "    \"F\" : [],\n",
    "    \"G\" : [\"C\"]\n",
    "}\n",
    "\n",
    "\n",
    "def packageDependencies( dependencies ):\n",
    "    def dfs(package):\n",
    "        if package in visit:\n",
    "            return True\n",
    "        if package in cycle:\n",
    "            return False\n",
    "\n",
    "        cycle.add(package)\n",
    "        for prereq in dependencies[package]:\n",
    "            if dfs(prereq) == False:\n",
    "                return False\n",
    "\n",
    "        output.append(package)\n",
    "        visit.add(package)\n",
    "        return True\n",
    "\n",
    "    output = []\n",
    "    visit = set()\n",
    "    cycle = set()\n",
    "\n",
    "    for package in dependencies:\n",
    "        if dfs(package) == False:\n",
    "            return []\n",
    "\n",
    "    return output\n",
    "\n",
    "\n",
    "packageDependencies( dependencies )"
   ]
  },
  {
   "cell_type": "code",
   "execution_count": 8,
   "id": "a30b92a6",
   "metadata": {},
   "outputs": [
    {
     "name": "stdout",
     "output_type": "stream",
     "text": [
      "[2, -1, 2]\n",
      "[2, 3, 4, -1, 4]\n"
     ]
    }
   ],
   "source": [
    "## Leetcode 503\n",
    "## https:#leetcode.com/problems/next-greater-element-ii/\n",
    "\n",
    "def improved(nums):\n",
    "    stack = []\n",
    "    output = [-1] * len(nums)\n",
    "    lnums = nums * 2\n",
    "    n = len(nums)\n",
    "    for i in range( len(lnums)):\n",
    "        while len(stack) > 0 and lnums[stack[-1]] < lnums[i]:\n",
    "            output[stack.pop()] = lnums[i]\n",
    "\n",
    "        if i < n:\n",
    "            stack.append(i)\n",
    "        \n",
    "    return output\n",
    "\n",
    " \n",
    "print( improved([1,2,1]) )\n",
    "print( improved([1,2,3,4,3]) )"
   ]
  },
  {
   "cell_type": "code",
   "execution_count": 3,
   "id": "95916667",
   "metadata": {},
   "outputs": [
    {
     "name": "stdout",
     "output_type": "stream",
     "text": [
      "True\n",
      "True\n",
      "False\n"
     ]
    }
   ],
   "source": [
    "## Leetcode 139\n",
    "## https:#leetcode.com/problems/word-break/\n",
    "\n",
    "def wordBreak( s, wordDict):\n",
    "    dp = [False] * (len(s)+1)\n",
    "    dp[len(s)] = True\n",
    "\n",
    "    for i in range(len(s)-1,-1,-1):\n",
    "        for w in wordDict:\n",
    "            if (i +len(w)) <= len(s) and s[i : i + len(w)] == w:\n",
    "                dp[i] = dp[i + len(w)]\n",
    "            if dp[i]:\n",
    "                break\n",
    "    \n",
    "    return dp[0]\n",
    "\n",
    "\n",
    "s = \"leetcode\"\n",
    "wordDict = [\"leet\",\"code\"]\n",
    "print( wordBreak( s, wordDict) )\n",
    "\n",
    "s = \"applepenapple\"\n",
    "wordDict = [\"apple\",\"pen\"]\n",
    "print( wordBreak( s, wordDict) )\n",
    "\n",
    "s = \"catsandog\"\n",
    "wordDict = [\"cats\",\"dog\",\"sand\",\"and\",\"cat\"]\n",
    "print( wordBreak( s, wordDict) )"
   ]
  },
  {
   "cell_type": "code",
   "execution_count": 7,
   "id": "c4077f44",
   "metadata": {},
   "outputs": [
    {
     "name": "stdout",
     "output_type": "stream",
     "text": [
      "2\n",
      "5\n"
     ]
    }
   ],
   "source": [
    "##  Leetcode 26\n",
    "## https:#leetcode.com/problems/remove-duplicates-from-sorted-array/\n",
    "\n",
    "def removeDuplicates( nums ):\n",
    "    l = 1\n",
    "    for r in range(1,len(nums)):\n",
    "        if nums[r] != nums[r - 1]:\n",
    "            nums[l] = nums[r]\n",
    "            l += 1\n",
    "    \n",
    "    return l\n",
    "\n",
    "print(removeDuplicates( [1,1,2] ))\n",
    "print(removeDuplicates(  [0,0,1,1,1,2,2,3,3,4]))"
   ]
  },
  {
   "cell_type": "code",
   "execution_count": null,
   "id": "01365fad",
   "metadata": {},
   "outputs": [],
   "source": [
    "## Leetcode 200\n",
    "## Number of Islands\n",
    "\n",
    "def numIslands( grid ):\n",
    "    if not grid:\n",
    "        return 0\n",
    "\n",
    "    def bfs(r,c):\n",
    "        queue = []\n",
    "        visit.add((r,c))\n",
    "        queue.append((r,c))\n",
    "        while queue:\n",
    "            row,col = queue.pop()\n",
    "            directions = [[1,0],[0,1],[-1,0],[0,-1]]\n",
    "            for dr,dc in directions:\n",
    "                r, c = row + dr, col + dc\n",
    "                if ( r in range(rows) and \n",
    "                     c in range(cols) and \n",
    "                     grid[r][c] == \"1\" and \n",
    "                     (r,c) not in visit):\n",
    "                        queue.append((r,c))\n",
    "                        visit.add((r,c))\n",
    "        return None\n",
    "\n",
    "    rows, cols = len(grid), len(grid[0])\n",
    "    visit = set()\n",
    "    islands = 0\n",
    "    max_area = 0 \n",
    "    for r in range(rows):\n",
    "        for c in range(cols):\n",
    "            if grid[r][c]== \"1\" and (r,c) not in visit:\n",
    "                bfs(r,c)\n",
    "                islands += 1\n",
    "\n",
    "    return islands\n",
    "\n",
    "\n",
    "grid = [\n",
    "  [\"1\",\"1\",\"0\",\"0\",\"0\"],\n",
    "  [\"1\",\"1\",\"1\",\"0\",\"0\"],\n",
    "  [\"0\",\"0\",\"1\",\"0\",\"0\"],\n",
    "  [\"0\",\"0\",\"0\",\"1\",\"1\"]\n",
    "]\n",
    "\n",
    "numIslands( grid )"
   ]
  },
  {
   "cell_type": "code",
   "execution_count": 1,
   "id": "da1ac0eb",
   "metadata": {},
   "outputs": [
    {
     "name": "stdout",
     "output_type": "stream",
     "text": [
      "2\n",
      "2\n"
     ]
    }
   ],
   "source": [
    "## Leetcode 560\n",
    "## Subarray Sum Equals K\n",
    "\n",
    "def subarraySum(nums, k):\n",
    "    res = 0\n",
    "    curSum = 0\n",
    "    prefixSums = { 0 : 1}\n",
    "\n",
    "    for n in nums:\n",
    "        curSum += n\n",
    "        diff = curSum - k\n",
    "\n",
    "        res += prefixSums.get(diff,0)\n",
    "        prefixSums[curSum] = 1 + prefixSums.get(curSum, 0)\n",
    "\n",
    "    return res\n",
    "\n",
    "nums = [1,1,1]\n",
    "k = 2\n",
    "print(subarraySum(nums, k))\n",
    "\n",
    "nums = [1,2,3]\n",
    "k = 3\n",
    "print(subarraySum(nums, k))"
   ]
  },
  {
   "cell_type": "code",
   "execution_count": 11,
   "id": "4c10d878",
   "metadata": {},
   "outputs": [
    {
     "name": "stdout",
     "output_type": "stream",
     "text": [
      "5\n",
      "4\n"
     ]
    }
   ],
   "source": [
    "## Leetcode 215\n",
    "## Kth Largest Element in an Array\n",
    "\n",
    "def findKthLargest(nums,k):\n",
    "    k = len(nums) - k\n",
    "\n",
    "    def quickSelect(l, r):\n",
    "        pivot, p = nums[r],l\n",
    "        for i in range(l,r):\n",
    "            if nums[i] <= pivot:\n",
    "                nums[p], nums[i] = nums[i], nums[p]\n",
    "                p += 1\n",
    "        nums[p], nums[r] = nums[r], nums[p]\n",
    "\n",
    "        if p > k:   return quickSelect(l, p - 1)\n",
    "        elif p < k: return quickSelect(p + 1, r)\n",
    "        else:       return nums[p]\n",
    "\n",
    "    return quickSelect(0, len(nums) - 1)\n",
    "\n",
    "nums = [3,2,1,5,6,4]\n",
    "k = 2\n",
    "print(findKthLargest(nums,k))\n",
    "\n",
    "\n",
    "nums = [3,2,3,1,2,4,5,5,6]\n",
    "k = 4\n",
    "print(findKthLargest(nums,k))"
   ]
  },
  {
   "cell_type": "code",
   "execution_count": 10,
   "id": "4f53af5a",
   "metadata": {},
   "outputs": [
    {
     "name": "stdout",
     "output_type": "stream",
     "text": [
      "Case 1\n",
      "2\n",
      "2\n",
      "3\n",
      "-1\n",
      "Case 2\n",
      "-1\n",
      "17\n"
     ]
    }
   ],
   "source": [
    "## Leetcode 1429\n",
    "## https:#leetcode.com/problems/first-unique-number/\n",
    "\n",
    "import collections \n",
    "import heapq\n",
    "\n",
    "class FirstUnique:\n",
    "\n",
    "    def __init__(self, nums):\n",
    "        self.nums = nums\n",
    "        self.dic = []\n",
    "        self.pos = set()\n",
    "        self.Counter = collections.defaultdict(int)\n",
    "        for index, num in enumerate(self.nums):\n",
    "            self.Counter[num] += 1\n",
    "            if self.Counter[num] == 1:\n",
    "                heapq.heappush(self.dic, (index, num))\n",
    "                self.pos.add(num)\n",
    "            elif num in self.pos and self.Counter[num] == 2:\n",
    "                self.pos.remove(num)\n",
    "        \n",
    "\n",
    "    def showFirstUnique(self) -> int:\n",
    "        while len(self.dic):\n",
    "            index, number = heapq.heappop(self.dic)\n",
    "            if number in self.pos:\n",
    "                heapq.heappush(self.dic, (index, number))\n",
    "                return number\n",
    "        return -1\n",
    "                \n",
    "    \n",
    "    def add(self, value: int) -> None:\n",
    "        self.nums.append(value)\n",
    "        self.Counter[value] += 1\n",
    "        if value in self.pos:\n",
    "            self.pos.remove(value)\n",
    "        elif self.Counter[value] == 1:\n",
    "            self.pos.add(value)\n",
    "            heapq.heappush(self.dic, (len(self.nums)-1, value))\n",
    "\n",
    "print( \"Case 1\" )\n",
    "firstUnique = FirstUnique([2,3,5])\n",
    "print(firstUnique.showFirstUnique() )   # return 2\n",
    "firstUnique.add(5)                      # the queue is now [2,3,5,5]\n",
    "print(firstUnique.showFirstUnique() )   # return 2\n",
    "firstUnique.add(2)                      # the queue is now [2,3,5,5,2]\n",
    "print(firstUnique.showFirstUnique())    # return 3\n",
    "firstUnique.add(3)                      # the queue is now [2,3,5,5,2,3]\n",
    "print(firstUnique.showFirstUnique())    # return -1\n",
    "\n",
    "print( \"Case 2\" )\n",
    "firstUnique = FirstUnique([7,7,7,7,7,7])\n",
    "print(firstUnique.showFirstUnique()) # return -1\n",
    "firstUnique.add(7)            # the queue is now [7,7,7,7,7,7,7]\n",
    "firstUnique.add(3)            # the queue is now [7,7,7,7,7,7,7,3]\n",
    "firstUnique.add(3)            # the queue is now [7,7,7,7,7,7,7,3,3]\n",
    "firstUnique.add(7)            # the queue is now [7,7,7,7,7,7,7,3,3,7]\n",
    "firstUnique.add(17)           # the queue is now [7,7,7,7,7,7,7,3,3,7,17]\n",
    "print(firstUnique.showFirstUnique()) # return 17\n",
    "\n",
    "        "
   ]
  },
  {
   "cell_type": "code",
   "execution_count": 14,
   "id": "fb60a2b6",
   "metadata": {},
   "outputs": [
    {
     "name": "stdout",
     "output_type": "stream",
     "text": [
      "[[1, 6], [8, 10], [15, 18]]\n",
      "[[1, 5]]\n"
     ]
    }
   ],
   "source": [
    "## Leetcode 56\n",
    "## Merge Intervals\n",
    "\n",
    "def merge( intervals ):\n",
    "    intervals.sort(key = lambda i : i[0])\n",
    "    output = [intervals[0]]\n",
    "\n",
    "    for start, end in intervals[1:]:\n",
    "        lastEnd = output[-1][1]\n",
    "\n",
    "        if start <= lastEnd:\n",
    "            output[-1][1] = max(lastEnd, end)\n",
    "        else:\n",
    "            output.append([start,end])\n",
    "    \n",
    "    return output\n",
    "\n",
    "intervals = [[1,3],[2,6],[8,10],[15,18]]\n",
    "print(merge(intervals))\n",
    "\n",
    "intervals = [[1,4],[4,5]]\n",
    "print(merge(intervals))"
   ]
  }
 ],
 "metadata": {
  "kernelspec": {
   "display_name": "Python 3.10.5 64-bit",
   "language": "python",
   "name": "python3"
  },
  "language_info": {
   "codemirror_mode": {
    "name": "ipython",
    "version": 3
   },
   "file_extension": ".py",
   "mimetype": "text/x-python",
   "name": "python",
   "nbconvert_exporter": "python",
   "pygments_lexer": "ipython3",
   "version": "3.10.5"
  },
  "vscode": {
   "interpreter": {
    "hash": "369f2c481f4da34e4445cda3fffd2e751bd1c4d706f27375911949ba6bb62e1c"
   }
  }
 },
 "nbformat": 4,
 "nbformat_minor": 5
}
