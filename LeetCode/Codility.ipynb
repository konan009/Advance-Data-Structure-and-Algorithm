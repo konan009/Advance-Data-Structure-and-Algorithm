{
 "cells": [
  {
   "cell_type": "code",
   "execution_count": 22,
   "id": "41665cf4",
   "metadata": {},
   "outputs": [
    {
     "data": {
      "text/plain": [
       "5"
      ]
     },
     "execution_count": 22,
     "metadata": {},
     "output_type": "execute_result"
    }
   ],
   "source": [
    "# 1.1 BinaryGap\n",
    "# BINARY GAP\n",
    "MAXINT = 2147483647\n",
    "\n",
    "def solution(N : int) -> int:\n",
    "    cnt = 0\n",
    "    result = 0\n",
    "    found_one = False\n",
    "    i = N\n",
    "\n",
    "    while i:\n",
    "        if i & 1 == 1:\n",
    "            if (found_one is False):\n",
    "                found_one = True\n",
    "            else:\n",
    "                result = max(result, cnt)\n",
    "            cnt = 0\n",
    "        else:\n",
    "            cnt += 1\n",
    "        i //= 2\n",
    "    return result\n",
    "\n",
    "solution(1041)"
   ]
  },
  {
   "cell_type": "code",
   "execution_count": 145,
   "metadata": {},
   "outputs": [
    {
     "name": "stdout",
     "output_type": "stream",
     "text": [
      "0\n"
     ]
    },
    {
     "data": {
      "text/plain": [
       "[]"
      ]
     },
     "execution_count": 145,
     "metadata": {},
     "output_type": "execute_result"
    }
   ],
   "source": [
    "# 2.1 CyclicRotation\n",
    "# CyclicRotation\n",
    "\n",
    "A = [3, 8, 9, 7, 6]\n",
    "K = 1\n",
    "\n",
    "MAX_LENGTH = 1000000\n",
    "MAX_NUMBER = 1000\n",
    "MIN_NUMBER = -1000\n",
    "\n",
    "\n",
    "def solution(A : list, K: int ) -> list:\n",
    "    if 1 > len(A) :\n",
    "        return []\n",
    "\n",
    "    ARRAY_LENGTH = len(A) \n",
    "\n",
    "    if ARRAY_LENGTH > MAX_LENGTH:\n",
    "        raise ValueError(\"Invalid number of items\")\n",
    "        \n",
    "    K = K % ARRAY_LENGTH\n",
    "    return A[ARRAY_LENGTH-K:ARRAY_LENGTH] + A[0:ARRAY_LENGTH-K]  \n"
   ]
  },
  {
   "cell_type": "code",
   "execution_count": 147,
   "id": "4cddada8",
   "metadata": {},
   "outputs": [
    {
     "data": {
      "text/plain": [
       "7"
      ]
     },
     "execution_count": 147,
     "metadata": {},
     "output_type": "execute_result"
    }
   ],
   "source": [
    "# 2.2 OddOccurrencesInArray\n",
    "# OddOccurrencesInArray\n",
    "\n",
    "MAX_LENGTH = 1000000\n",
    "MAX_NUMBER = 1000000000\n",
    "MIN_NUMBER = 1\n",
    "\n",
    "def solution(A):\n",
    "    n = len(A)\n",
    "    if A is None or n == 0:\n",
    "        return 0\n",
    "    if n == 1:\n",
    "        return A[0]\n",
    "    result = 0\n",
    "    for i in range(0, n):\n",
    "        result ^= A[i]\n",
    "    return result\n",
    "\n",
    "arr = [9, 3, 9, 3, 9, 7, 9]\n",
    "solution(arr)\n",
    "\n"
   ]
  },
  {
   "cell_type": "code",
   "execution_count": 1,
   "id": "17c184fb",
   "metadata": {},
   "outputs": [
    {
     "data": {
      "text/plain": [
       "15"
      ]
     },
     "execution_count": 1,
     "metadata": {},
     "output_type": "execute_result"
    }
   ],
   "source": [
    "# 3.1 FrogJmp\n",
    "# FrogJmp\n",
    "\n",
    "MAX_NUMBER = 1000000000\n",
    "MIN_NUMBER = 1\n",
    "\n",
    "X = 10\n",
    "Y = 85\n",
    "D = 30\n",
    "\n",
    "def solution( X :int , Y: int , D:int) -> int:\n",
    "    difference = Y - X\n",
    "    difference //= D\n",
    "    \n",
    "    if X + difference * D < Y:\n",
    "        difference +=1\n",
    "\n",
    "    return difference\n",
    "\n",
    "solution(10,85,5)\n"
   ]
  },
  {
   "cell_type": "code",
   "execution_count": 79,
   "id": "92dd523e",
   "metadata": {},
   "outputs": [
    {
     "data": {
      "text/plain": [
       "1"
      ]
     },
     "execution_count": 79,
     "metadata": {},
     "output_type": "execute_result"
    }
   ],
   "source": [
    "# 3.2 PermMissingElem\n",
    "# PermMissingElem\n",
    "\n",
    "def solution(A):\n",
    "    if len(A) == 0:\n",
    "        return 1\n",
    "\n",
    "    len_plus_one = sum(range(1, len(A)+2))\n",
    "    sum_of_items = sum(A)\n",
    "\n",
    "    return  len_plus_one - sum_of_items\n",
    "\n",
    "A= [2, 3, 4, 5]\n",
    "solution(A)"
   ]
  },
  {
   "cell_type": "code",
   "execution_count": null,
   "id": "b1537ba7",
   "metadata": {},
   "outputs": [],
   "source": [
    "\n",
    "# 3.3 TapeEquilibrium\n",
    "# TapeEquilibrium\n",
    "\n",
    "def solution(nums):\n",
    "    lefts, rights = sum(nums[:1]), sum(nums[1:])\n",
    "    minval = abs(lefts - rights)\n",
    "    for i in range(1, len(nums) - 1):\n",
    "        lefts += nums[i]\n",
    "        rights -= nums[i]\n",
    "        minval = min(minval, abs(lefts - rights))\n",
    "    return minval"
   ]
  },
  {
   "cell_type": "code",
   "execution_count": 80,
   "id": "debdece8",
   "metadata": {},
   "outputs": [],
   "source": [
    "# 4.1 FrogRiverOne\n",
    "# FrogRiverOne\n",
    "\n",
    "def solution(X, A):\n",
    "    if len(A) == 1 and A[0] and X == 1:\n",
    "        return 0\n",
    "    \n",
    "    if len(A) < X:\n",
    "        return -1\n",
    "    \n",
    "    positions = set(range(1, X + 1))\n",
    "    for minute, pos in enumerate(A):\n",
    "        if pos in positions:\n",
    "            positions.remove(pos)\n",
    "            if not positions:\n",
    "                return minute\n",
    "    return -1"
   ]
  },
  {
   "cell_type": "code",
   "execution_count": null,
   "id": "e54d7e06",
   "metadata": {},
   "outputs": [],
   "source": [
    "# 4.2 PermCheck\n",
    "# PermCheck\n",
    "\n",
    "def solution(nums):\n",
    "    if not nums:\n",
    "        return 0\n",
    "    seen = set()\n",
    "    for num in nums:\n",
    "        if num < 1 or num > len(nums) or num in seen:\n",
    "            return 0\n",
    "        seen.add(num)\n",
    "    return 1"
   ]
  },
  {
   "cell_type": "code",
   "execution_count": 3,
   "id": "664a656e",
   "metadata": {},
   "outputs": [],
   "source": [
    "# 4.3 MaxCounters\n",
    "# MaxCounters\n",
    "def solution(N : int , A : list) -> list:\n",
    "    n = N + 1\n",
    "    count = [0] * n\n",
    "    oldcmax = cmax = 0\n",
    "\n",
    "    for item in A:\n",
    "        if item >= N + 1:\n",
    "            oldcmax = cmax\n",
    "        else:\n",
    "            if count[item] < oldcmax:\n",
    "                count[item] = oldcmax\n",
    "            count[item] += 1\n",
    "            if count[item] > cmax:\n",
    "                cmax = count[item]\n",
    "                \n",
    "    return [max(num, oldcmax) for num in count[1:]]"
   ]
  },
  {
   "cell_type": "code",
   "execution_count": 2,
   "id": "f556516e",
   "metadata": {},
   "outputs": [
    {
     "data": {
      "text/plain": [
       "5"
      ]
     },
     "execution_count": 2,
     "metadata": {},
     "output_type": "execute_result"
    }
   ],
   "source": [
    "# 4.4 MissingInteger\n",
    "# MissingInteger\n",
    "\n",
    "MAX_NO_ELEMENT = 100000\n",
    "MIN_VAL = -1000000\n",
    "MAX_VAL = 1000000\n",
    "\n",
    "def solution(A : list )-> int:\n",
    "    array_len = len(A)\n",
    "    if( array_len < 0 or array_len > MAX_NO_ELEMENT):\n",
    "        raise ValueError(\"Invalid No of Elements\")\n",
    "\n",
    "    counter = [0] * array_len\n",
    "    for i in range(0, array_len):\n",
    "        if ( A[i] < MIN_VAL or A[i] > MAX_VAL):\n",
    "            raise ValueError(\"Invalid Element\")\n",
    "\n",
    "        if (A[i] > 0) and (A[i] <= array_len):\n",
    "            counter[A[i] - 1] += 1\n",
    "\n",
    "    for i in range(0, len(counter)):\n",
    "        if (counter[i] == 0):\n",
    "            return i + 1\n",
    "\n",
    "    return array_len + 1\n",
    "\n",
    "A= [1, 3, 6, 4, 1, 2]\n",
    "solution(A)"
   ]
  },
  {
   "cell_type": "code",
   "execution_count": 89,
   "id": "77eba5ec",
   "metadata": {},
   "outputs": [
    {
     "name": "stdout",
     "output_type": "stream",
     "text": [
      "5\n"
     ]
    },
    {
     "data": {
      "text/plain": [
       "0"
      ]
     },
     "execution_count": 89,
     "metadata": {},
     "output_type": "execute_result"
    }
   ],
   "source": [
    "\n",
    "# 5.1 PassingCars\n",
    "# PassingCars\n",
    "\n",
    "def solution(A : list )-> int:\n",
    "    count = [0] * len(A)\n",
    "    test = 0\n",
    "    number = 0\n",
    "    \n",
    "    for index, item in  enumerate(A):\n",
    "        if item == 0:\n",
    "            test += 1\n",
    "\n",
    "        count[index] = test\n",
    "        if item == 1:\n",
    "            number += count[index]\n",
    "\n",
    "        if number > 1000000000:\n",
    "            return -1\n",
    "\n",
    "    return number\n",
    "    \n",
    "A= [0,1,0,1,1]\n",
    "solution(A)"
   ]
  },
  {
   "cell_type": "code",
   "execution_count": 4,
   "id": "9baaeb68",
   "metadata": {},
   "outputs": [
    {
     "data": {
      "text/plain": [
       "2.5"
      ]
     },
     "execution_count": 4,
     "metadata": {},
     "output_type": "execute_result"
    }
   ],
   "source": [
    "\n",
    "# 5.2 CountDiv\n",
    "# CountDiv\n",
    "\n",
    "def solution(A, B, K):\n",
    "    return (B // K) - (-(A // -K)) + 1"
   ]
  },
  {
   "cell_type": "code",
   "execution_count": 22,
   "id": "41a0bd80",
   "metadata": {},
   "outputs": [
    {
     "name": "stdout",
     "output_type": "stream",
     "text": [
      "[0, 0, 0, 0, 0, 1, 1]\n",
      "0 0 4 2\n",
      "1 1 5 5\n",
      "1 0 6 0\n"
     ]
    },
    {
     "data": {
      "text/plain": [
       "[2, 0, 1]"
      ]
     },
     "execution_count": 22,
     "metadata": {},
     "output_type": "execute_result"
    }
   ],
   "source": [
    "# 5.3 GenomicRangeQuery\n",
    "# GenomicRangeQuery\n",
    "\n",
    "S = 'CAGCCTA'\n",
    "P = [2,5,0]\n",
    "Q = [4,5,6]\n",
    "dict_letter = { 'A' : 0 ,'C':1 ,'G':2 ,'T':3}\n",
    "\n",
    "def solution(S, P, Q):\n",
    "    N = len(S)\n",
    "    M = len(P)\n",
    "    result = [0] * M\n",
    "    rows, cols = (4, 7)\n",
    "    transformed_scored = [[0 for i in range(cols)] for j in range(rows)]\n",
    "    result = [0]* 3\n",
    "    \n",
    "    for i in range(0, N):\n",
    "        transformed_scored[dict_letter[S[i]]][i] = 1\n",
    "\n",
    "    for i in range(1, N ):\n",
    "        transformed_scored[dict_letter['A']][i] += transformed_scored[dict_letter['A']][i - 1]\n",
    "        transformed_scored[dict_letter['C']][i] += transformed_scored[dict_letter['C']][i - 1]\n",
    "        transformed_scored[dict_letter['G']][i] += transformed_scored[dict_letter['G']][i - 1]\n",
    "        transformed_scored[dict_letter['T']][i] += transformed_scored[dict_letter['T']][i - 1]\n",
    "\n",
    "    print(transformed_scored[dict_letter['T']] )\n",
    "    for i in range(0, M):\n",
    "        if ((transformed_scored[dict_letter['A']][Q[i]] - transformed_scored[dict_letter['A']][P[i]]) != 0):\n",
    "            result[i] = dict_letter['A'] + 1\n",
    "        elif ((transformed_scored[dict_letter['C']][Q[i]] - transformed_scored[dict_letter['C']][P[i]]) != 0):\n",
    "            result[i] = dict_letter['C'] + 1\n",
    "        elif ((transformed_scored[dict_letter['G']][Q[i]] - transformed_scored[dict_letter['G']][P[i]]) != 0):\n",
    "            result[i] = dict_letter['G'] + 1\n",
    "        elif ((transformed_scored[dict_letter['T']][Q[i]] - transformed_scored[dict_letter['T']][P[i]]) != 0):\n",
    "            result[i] = dict_letter['T'] + 1\n",
    "    return result\n",
    "\n",
    "solution(S, P, Q)"
   ]
  },
  {
   "cell_type": "code",
   "execution_count": 23,
   "id": "079a4ef6",
   "metadata": {},
   "outputs": [
    {
     "name": "stdout",
     "output_type": "stream",
     "text": [
      "[0, 0, 0, 0, 0, 0, 1, 1]\n",
      "1 1 5 2\n",
      "1 1 6 5\n",
      "2 0 7 0\n"
     ]
    },
    {
     "data": {
      "text/plain": [
       "[2, 4, 1]"
      ]
     },
     "execution_count": 23,
     "metadata": {},
     "output_type": "execute_result"
    }
   ],
   "source": [
    "# 5.3 GenomicRangeQuery\n",
    "# GenomicRangeQuery\n",
    "\n",
    "def solution(S, P, Q):\n",
    "    N = len(S)\n",
    "    M = len(P)\n",
    "    result = [0] * M\n",
    "    pos_of_a = [0] * (N + 1)\n",
    "    pos_of_c = [0] * (N + 1)\n",
    "    pos_of_g = [0] * (N + 1)\n",
    "    pos_of_t = [0] * (N + 1)\n",
    "    for i in range(0, N):\n",
    "        if (S[i] == 'A'):\n",
    "            pos_of_a[i + 1] = 1\n",
    "        if (S[i] == 'C'):\n",
    "            pos_of_c[i + 1] = 1\n",
    "        if (S[i] == 'G'):\n",
    "            pos_of_g[i + 1] = 1\n",
    "        if (S[i] == 'T'):\n",
    "            pos_of_t[i + 1] = 1\n",
    "\n",
    "\n",
    "    for i in range(1, N + 1):\n",
    "        pos_of_a[i] += pos_of_a[i - 1]\n",
    "        pos_of_c[i] += pos_of_c[i - 1]\n",
    "        pos_of_g[i] += pos_of_g[i - 1]\n",
    "        pos_of_t[i] += pos_of_t[i - 1]\n",
    "\n",
    "\n",
    "    for i in range(0, M):\n",
    "        print( pos_of_a[Q[i] + 1] , pos_of_a[P[i]] , Q[i] + 1 , P[i] )\n",
    "        if ((pos_of_a[Q[i] + 1] - pos_of_a[P[i]]) != 0):\n",
    "            result[i] = 1\n",
    "        elif ((pos_of_c[Q[i] + 1] - pos_of_c[P[i]]) != 0):\n",
    "            result[i] = 2\n",
    "        elif ((pos_of_g[Q[i] + 1] - pos_of_g[P[i]]) != 0):\n",
    "            result[i] = 3\n",
    "        elif ((pos_of_t[Q[i] + 1] - pos_of_t[P[i]]) != 0):\n",
    "            result[i] = 4\n",
    "\n",
    "    return result\n",
    "\n",
    "\n",
    "S = 'CAGCCTA'\n",
    "P = [2,5,0]\n",
    "Q = [4,5,6]\n",
    "solution(S, P, Q)"
   ]
  },
  {
   "cell_type": "code",
   "execution_count": 55,
   "id": "ff294dff",
   "metadata": {},
   "outputs": [
    {
     "data": {
      "text/plain": [
       "1"
      ]
     },
     "execution_count": 55,
     "metadata": {},
     "output_type": "execute_result"
    }
   ],
   "source": [
    "# 5.4 MinAvgTwoSlice\n",
    "# MinAvgTwoSlice\n",
    "\n",
    "def solution( A ):\n",
    "    min_number = 3*9+1\n",
    "    min_number_index = 0\n",
    "\n",
    "    for i in range(0,len(A)-2):\n",
    "        ave_1 = (A[i]+A[i+1]+A[i+2])/3\n",
    "        ave_2 = (A[i]+A[i+1])/2\n",
    "        if min_number>ave_1 or min_number>ave_2:\n",
    "            min_number=min(ave_1,ave_2)\n",
    "            min_number_index=i\n",
    "\n",
    "    if min_number > (A[-1]+A[-2])/2:\n",
    "        return len(A)-2\n",
    "    \n",
    "    return min_number_index\n",
    "\n",
    "\n",
    "A= [4,2,2,5,1,5,8]\n",
    "solution( A )\n",
    "    \n"
   ]
  },
  {
   "cell_type": "code",
   "execution_count": 9,
   "id": "d552e686",
   "metadata": {},
   "outputs": [
    {
     "data": {
      "text/plain": [
       "3"
      ]
     },
     "execution_count": 9,
     "metadata": {},
     "output_type": "execute_result"
    }
   ],
   "source": [
    "# 6.1 Distinct\n",
    "# Distinct\n",
    "\n",
    "A= [2,2,1,3,1,1]\n",
    "\n",
    "def solution( A ):\n",
    "    number_dictionary = {}\n",
    "    count = 0\n",
    "    for i in range(0,len(A)):\n",
    "        if A[i] not in number_dictionary:\n",
    "            number_dictionary[A[i]] = i\n",
    "            count += 1\n",
    "    \n",
    "    return count\n",
    "\n",
    "solution( A )\n",
    "\n"
   ]
  },
  {
   "cell_type": "code",
   "execution_count": 24,
   "id": "6a12d4e2",
   "metadata": {},
   "outputs": [
    {
     "data": {
      "text/plain": [
       "60"
      ]
     },
     "execution_count": 24,
     "metadata": {},
     "output_type": "execute_result"
    }
   ],
   "source": [
    "# 6.2 MaxProductOfThree\n",
    "# MaxProductOfThree\n",
    "\n",
    "A= [-3,1,2,-2,5,6]\n",
    "\n",
    "def solution( A ):\n",
    "    A.sort()\n",
    "    result = A[-1]*A[-2]*A[-3]\n",
    "\n",
    "    if(A[0] < 0 and A[1] < 0):\n",
    "        other = A[-1]*A[0]*A[1]\n",
    "\n",
    "        if( other > result):\n",
    "            return other\n",
    "            \n",
    "    return result\n",
    "\n",
    "solution( A )"
   ]
  },
  {
   "cell_type": "code",
   "execution_count": 26,
   "id": "b76fcd98",
   "metadata": {},
   "outputs": [
    {
     "data": {
      "text/plain": [
       "0"
      ]
     },
     "execution_count": 26,
     "metadata": {},
     "output_type": "execute_result"
    }
   ],
   "source": [
    "# 6.3 Triangle\n",
    "# Triangle\n",
    "\n",
    "def solution( A ):\n",
    "    A.sort()\n",
    "    for i in range(0,len(A)-2):\n",
    "        if A[i]+A[i+1]> A[i+2]:\n",
    "            return 1\n",
    "    return 0\n",
    "\n",
    "\n",
    "A= [10,50,5,1]\n",
    "solution( A )\n"
   ]
  },
  {
   "cell_type": "code",
   "execution_count": 1,
   "id": "5f24f373",
   "metadata": {},
   "outputs": [
    {
     "data": {
      "text/plain": [
       "11"
      ]
     },
     "execution_count": 1,
     "metadata": {},
     "output_type": "execute_result"
    }
   ],
   "source": [
    "# 6.4 NumberOfDiscIntersections\n",
    "# NumberOfDiscIntersections\n",
    "\n",
    "A= [1, 5, 2, 1, 4, 0]\n",
    "\n",
    "MAX_RESULT = 10 ** 7\n",
    "\n",
    "\n",
    "def solution(A):\n",
    "    array_len = len(A)\n",
    "    starts = [0] * array_len\n",
    "    ends = [0] * array_len\n",
    "\n",
    "    # prepare helper arrays\n",
    "    for index, value in enumerate(A):\n",
    "        starts[max(index - value, 0)] += 1\n",
    "        ends[min(index + value, array_len - 1)] += 1\n",
    "    \n",
    "    active = 0\n",
    "    intersections = 0\n",
    "    current = 0\n",
    "\n",
    "    for index in range(0,len(A)):\n",
    "        started = starts[index]\n",
    "        ended   = ends[index]\n",
    "        current     = active * started + (started * (started - 1) // 2)\n",
    "        intersections += current\n",
    "        \n",
    "        if intersections > MAX_RESULT:\n",
    "            return -1\n",
    "\n",
    "        active += started - ended\n",
    "    return intersections\n",
    "\n",
    "solution( A )"
   ]
  },
  {
   "cell_type": "code",
   "execution_count": 9,
   "id": "637ba14d",
   "metadata": {},
   "outputs": [
    {
     "data": {
      "text/plain": [
       "1"
      ]
     },
     "execution_count": 9,
     "metadata": {},
     "output_type": "execute_result"
    }
   ],
   "source": [
    "# 7.1 Brackets\n",
    "# Brackets\n",
    "\n",
    "S = \"{[()()]}\" \n",
    "opening_char = ['{','(','[']\n",
    "closing_dictionary = { '}' : '{',')' : '(',']' : '['}\n",
    "def solution( S ):\n",
    "    queue = []\n",
    "    for char in S:\n",
    "        if char in opening_char: \n",
    "            queue.append(char)\n",
    "        else:\n",
    "            queue_length = len(queue)\n",
    "            if( queue_length > 0 ):\n",
    "                if(queue[-1] == closing_dictionary[char]):\n",
    "                    queue.pop()\n",
    "                else:\n",
    "                    return 0\n",
    "            else:\n",
    "                return 0\n",
    "\n",
    "    if( len(queue)> 0):\n",
    "        return 0\n",
    "\n",
    "    return 1\n",
    "\n",
    "\n",
    "solution( S )\n",
    "\n"
   ]
  },
  {
   "cell_type": "code",
   "execution_count": null,
   "id": "3ba50b4a",
   "metadata": {},
   "outputs": [],
   "source": [
    "# 7.1 Brackets\n",
    "# Brackets\n",
    "\n",
    "S = \"{[()()]}\" \n",
    "opening_char = ['{','(','[']\n",
    "closing_dictionary = { '}' : '{',')' : '(',']' : '['}\n",
    "def solution( S ):\n",
    "    queue = []\n",
    "    for char in S:\n",
    "        if char in opening_char: \n",
    "            queue.append(char)\n",
    "        else:\n",
    "            queue_length = len(queue)\n",
    "            if( queue_length > 0 ):\n",
    "                if(queue[-1] == closing_dictionary[char]):\n",
    "                    queue.pop()\n",
    "                else:\n",
    "                    return 0\n",
    "            else:\n",
    "                return 0\n",
    "\n",
    "    if( len(queue)> 0):\n",
    "        return 0\n",
    "\n",
    "    return 1\n",
    "\n",
    "\n",
    "solution( S )\n",
    "\n"
   ]
  },
  {
   "cell_type": "code",
   "execution_count": 36,
   "id": "badd093d",
   "metadata": {},
   "outputs": [
    {
     "data": {
      "text/plain": [
       "1"
      ]
     },
     "execution_count": 36,
     "metadata": {},
     "output_type": "execute_result"
    }
   ],
   "source": [
    "# 7.2 Fish\n",
    "# Fish\n",
    "\n",
    "def solution(A, B):\n",
    "    stack = []\n",
    "    escaped = 0\n",
    "    for size, direction in zip(A, B):\n",
    "        if direction == 0:\n",
    "            if stack:\n",
    "                while stack and stack[-1] < size:\n",
    "                    stack.pop()\n",
    "                if not stack:\n",
    "                    escaped += 1\n",
    "            else:\n",
    "                escaped += 1\n",
    "        else:\n",
    "            stack.append(size)\n",
    "\n",
    "    return len(stack) + escaped\n",
    "A = [ 5,3 ]\n",
    "B = [ 1,0 ]\n",
    "solution( A, B)"
   ]
  },
  {
   "cell_type": "code",
   "execution_count": 39,
   "id": "0d1b6f37",
   "metadata": {},
   "outputs": [
    {
     "data": {
      "text/plain": [
       "0"
      ]
     },
     "execution_count": 39,
     "metadata": {},
     "output_type": "execute_result"
    }
   ],
   "source": [
    "# 7.3 Nesting\n",
    "# Nesting\n",
    "\n",
    "\n",
    "closing_dictionary = { ')' : '('}\n",
    "def solution( S ):\n",
    "    queue = []\n",
    "    for char in S:\n",
    "        if char == '(': \n",
    "            queue.append(char)\n",
    "        else:\n",
    "            queue_length = len(queue)\n",
    "            if( queue_length > 0 ):\n",
    "                if(queue[-1] == closing_dictionary[char]):\n",
    "                    queue.pop()\n",
    "                else:\n",
    "                    return 0\n",
    "            else:\n",
    "                return 0\n",
    "\n",
    "    if( len(queue)> 0):\n",
    "        return 0\n",
    "\n",
    "    return 1\n",
    "\n",
    "S = \"(()(())())\" \n",
    "\n",
    "S = \"())\" \n",
    "solution( S )\n"
   ]
  },
  {
   "cell_type": "code",
   "execution_count": 23,
   "id": "1ba6c004",
   "metadata": {},
   "outputs": [
    {
     "data": {
      "text/plain": [
       "7"
      ]
     },
     "execution_count": 23,
     "metadata": {},
     "output_type": "execute_result"
    }
   ],
   "source": [
    "# 7.4 StoneWall\n",
    "# StoneWall\n",
    "\n",
    "def solution(H):\n",
    "    stack = []\n",
    "    blocks = 0\n",
    "\n",
    "    for height in H:\n",
    "        while stack and stack[-1] > height:\n",
    "            stack.pop()\n",
    "\n",
    "        if not stack or stack[-1] < height:\n",
    "            stack.append(height)\n",
    "            blocks += 1\n",
    "\n",
    "    return blocks\n",
    "\n",
    "\n",
    "H = [8,7,7,8,9,4,5,8,8]\n",
    "solution(H)"
   ]
  },
  {
   "cell_type": "code",
   "execution_count": 60,
   "metadata": {},
   "outputs": [
    {
     "data": {
      "text/plain": [
       "6"
      ]
     },
     "execution_count": 60,
     "metadata": {},
     "output_type": "execute_result"
    }
   ],
   "source": [
    "# 8.1 Dominator\n",
    "# Dominator\n",
    "import random \n",
    "def solution(A):\n",
    "    array_len = len(A)\n",
    "    number_dictionary = {}\n",
    "\n",
    "    if(len(A)==1):\n",
    "        return 0\n",
    "\n",
    "    for number in range(0,len(A)):\n",
    "        if A[number] not in number_dictionary:\n",
    "            number_dictionary[A[number]] = [number]\n",
    "        else:\n",
    "            number_dictionary[A[number]].append(number)\n",
    "            if(len(number_dictionary[A[number]])>(array_len//2)):\n",
    "                return random.choice(number_dictionary[A[number]])\n",
    "\n",
    "    return -1\n",
    "\n",
    "\n",
    "H = [3,4,3,2,3,-1,3,3]\n",
    "solution(H)"
   ]
  },
  {
   "cell_type": "code",
   "execution_count": 20,
   "id": "e8f4f48e",
   "metadata": {},
   "outputs": [
    {
     "data": {
      "text/plain": [
       "4"
      ]
     },
     "execution_count": 20,
     "metadata": {},
     "output_type": "execute_result"
    }
   ],
   "source": [
    "# 8.2 EquiLeader\n",
    "# EquiLeader\n",
    "def solution(A):\n",
    "    array_len = len(A)\n",
    "    dictionary = dict()\n",
    "    dominant_value = dominant_key = 0\n",
    "    \n",
    "    for i in range(array_len):\n",
    "        if A[i] not in dictionary:\n",
    "            dictionary[A[i]] = 1\n",
    "        else:\n",
    "            dictionary[A[i]] += 1\n",
    "        if dominant_value < dictionary[A[i]]:\n",
    "            dominant_value = dictionary[A[i]]\n",
    "            dominant_key = A[i]\n",
    "    \n",
    "    if dominant_value <= array_len / 2:\n",
    "        return 0\n",
    "\n",
    "    left = 0\n",
    "    right = dominant_value\n",
    "    count = 0\n",
    "    \n",
    "    for i in range(array_len):\n",
    "\n",
    "        if A[i] == dominant_key:\n",
    "            left += 1\n",
    "            right -= 1\n",
    "\n",
    "        if left > (i + 1) / 2 and right > (array_len - i - 1) / 2:\n",
    "            count += 1\n",
    "\n",
    "    return count\n",
    "\n",
    "H = [4,3,4,4,4,2,4]\n",
    "solution(H)"
   ]
  },
  {
   "cell_type": "code",
   "execution_count": 15,
   "id": "8dad58aa",
   "metadata": {},
   "outputs": [
    {
     "data": {
      "text/plain": [
       "356"
      ]
     },
     "execution_count": 15,
     "metadata": {},
     "output_type": "execute_result"
    }
   ],
   "source": [
    "# 9.1 MaxProfit\n",
    "# MaxProfit\n",
    "def solution( A ):\n",
    "    min_value = 400001\n",
    "    max_profit = 0\n",
    "    for i in range( len(A) ):\n",
    "        min_value = min(min_value,A[i])\n",
    "        max_profit =  max(A[i] - min_value , max_profit)\n",
    "    return max_profit\n",
    "\n",
    "A = [23171,21011,21123,21366,21013,21367]\n",
    "solution( A )  "
   ]
  },
  {
   "cell_type": "code",
   "execution_count": 16,
   "id": "62cf102f",
   "metadata": {},
   "outputs": [
    {
     "data": {
      "text/plain": [
       "18"
      ]
     },
     "execution_count": 16,
     "metadata": {},
     "output_type": "execute_result"
    }
   ],
   "source": [
    "# 9.2 MaxSliceSum\n",
    "# MaxSliceSum\n",
    "\n",
    "def solution(A):\n",
    "    max_slice = 0\n",
    "    return_value = A[0]\n",
    "\n",
    "    for value in A:\n",
    "        max_slice = max(value, max_slice + value)\n",
    "        return_value = max(max_slice, return_value)\n",
    "\n",
    "    return return_value\n",
    "\n",
    "A = [10,6,-20,8,10]\n",
    "solution(A)"
   ]
  },
  {
   "cell_type": "code",
   "execution_count": 1,
   "id": "51680e6c",
   "metadata": {},
   "outputs": [],
   "source": [
    "# 9.3 MaxDoubleSliceSum\n",
    "\n",
    "def solution(A):\n",
    "    array_len = len(A)\n",
    "\n",
    "    left_right = [0] * array_len\n",
    "    for i in range(1, array_len - 1):\n",
    "        left_right[i] = max(0, left_right[i - 1] + A[i])\n",
    "\n",
    "    right_left = [0] * array_len\n",
    "    for i in range(array_len - 2, 1, -1):\n",
    "        right_left[i] = max(0, right_left[i + 1] + A[i])\n",
    "\n",
    "    max_sum = -10001\n",
    "    for i in range(1, array_len - 1):\n",
    "        max_sum = max(max_sum, left_right[i - 1] + right_left[i + 1])\n",
    "    \n",
    "    return max_sum\n",
    "\n",
    "A = [3,2,6,-1,4,5,-1,2]\n",
    "test = solution(A)"
   ]
  },
  {
   "cell_type": "code",
   "execution_count": 28,
   "id": "eed22a98",
   "metadata": {},
   "outputs": [
    {
     "data": {
      "text/plain": [
       "3"
      ]
     },
     "execution_count": 28,
     "metadata": {},
     "output_type": "execute_result"
    }
   ],
   "source": [
    "# 10.1 CountFactors\n",
    "\n",
    "def solution(N):\n",
    "    result = 0\n",
    "    if N > 0:\n",
    "        index = 1\n",
    "        factors = []\n",
    "        while index**2 <= N:\n",
    "            if N % index == 0:\n",
    "                if (N / index) != index:\n",
    "                    factors.append(index)\n",
    "                    factors.append(N / index)\n",
    "                else:\n",
    "                    factors.append(index)\n",
    "            index += 1\n",
    "        result = len(factors)\n",
    "\n",
    "    return result\n",
    "\n",
    "N = 25\n",
    "solution(N)"
   ]
  },
  {
   "cell_type": "code",
   "execution_count": 8,
   "id": "6b350619",
   "metadata": {},
   "outputs": [
    {
     "name": "stdout",
     "output_type": "stream",
     "text": [
      "[62.0, 34.0, 26.0, 22.0]\n"
     ]
    },
    {
     "data": {
      "text/plain": [
       "22.0"
      ]
     },
     "execution_count": 8,
     "metadata": {},
     "output_type": "execute_result"
    }
   ],
   "source": [
    "# 10.2 MinPerimeterRectangle\n",
    "\n",
    "def solution(N):\n",
    "    result = 0\n",
    "    if N > 0:\n",
    "        index = 1\n",
    "        perimeters = []\n",
    "        while index**2 <= N:\n",
    "            if N % index == 0:\n",
    "                perimeters.append(2 * (index + (N / index)))\n",
    "                index = index + 1\n",
    "                continue\n",
    "            index += 1\n",
    "        result = min(perimeters)\n",
    "\n",
    "    return result\n",
    "\n",
    "N = 30\n",
    "solution(N)"
   ]
  },
  {
   "cell_type": "code",
   "execution_count": 33,
   "id": "f7af11eb",
   "metadata": {},
   "outputs": [
    {
     "data": {
      "text/plain": [
       "3"
      ]
     },
     "execution_count": 33,
     "metadata": {},
     "output_type": "execute_result"
    }
   ],
   "source": [
    "# 10.3 Flags\n",
    "def transform(A):\n",
    "    peak_pos = len(A)\n",
    "    last_height = A[-1]\n",
    "    for p in range(len(A) - 1, 0, -1):\n",
    "        if (A[p - 1] < A[p] > last_height):\n",
    "            peak_pos = p\n",
    "        last_height = A[p]\n",
    "        A[p] = peak_pos\n",
    "    A[0] = peak_pos\n",
    "\n",
    "def can_fit_flags(A, k):\n",
    "    flag = 1 - k\n",
    "    for i in range(k):\n",
    "        if flag + k > len(A) - 1:\n",
    "            return False\n",
    "        flag = A[flag + k]\n",
    "    return flag < len(A)  \n",
    "    \n",
    "def solution(A):\n",
    "    transform(A)\n",
    "    lower = 0\n",
    "    upper = int((len(A))**0.5) + 2\n",
    "    assert not can_fit_flags(A, k=upper)\n",
    "    while lower < upper - 1:\n",
    "        next = (lower + upper) // 2\n",
    "        if can_fit_flags(A, k=next):\n",
    "            lower = next\n",
    "        else:\n",
    "            upper = next\n",
    "    return lower\n",
    "\n",
    "A = [1,5,3,4,3,5,1,2,3,4,6,2]\n",
    "solution(A)"
   ]
  },
  {
   "cell_type": "code",
   "execution_count": 3,
   "id": "97d67592",
   "metadata": {},
   "outputs": [
    {
     "data": {
      "text/plain": [
       "3"
      ]
     },
     "execution_count": 3,
     "metadata": {},
     "output_type": "execute_result"
    }
   ],
   "source": [
    "# 10.4 Peaks\n",
    "\n",
    "def solution(A):\n",
    "    length = len(A)\n",
    "    if length < 3:\n",
    "        return 0\n",
    "\n",
    "    peaks = [0] * length\n",
    "    for index in range(2, length):\n",
    "        peaks[index] = peaks[index - 1]\n",
    "\n",
    "        if A[index - 1] > A[index - 2] and A[index - 1] > A[index]:\n",
    "            peaks[index] += 1\n",
    "\n",
    "    for candidate in range(3, length + 1):\n",
    "        if length % candidate != 0:\n",
    "            continue\n",
    "\n",
    "        valid = True\n",
    "        index = candidate\n",
    "        while index != length:\n",
    "            if peaks[index] == peaks[index - candidate]:\n",
    "                valid = False\n",
    "                break\n",
    "            index += candidate\n",
    "\n",
    "        if index == length and peaks[index - 1] == peaks[index - candidate]:\n",
    "            valid = False\n",
    "        if valid:\n",
    "            return length // candidate\n",
    "\n",
    "    return 0\n",
    "\n",
    "\n",
    "A = [1,2,3,4,3,4,1,2,3,4,6,2]\n",
    "solution(A)"
   ]
  },
  {
   "cell_type": "code",
   "execution_count": 19,
   "id": "7f7fd8e0",
   "metadata": {},
   "outputs": [
    {
     "name": "stdout",
     "output_type": "stream",
     "text": [
      "[4, 4, 3, 2, 3, 3, 1]\n"
     ]
    },
    {
     "data": {
      "text/plain": [
       "[2, 4, 3, 2, 0]"
      ]
     },
     "execution_count": 19,
     "metadata": {},
     "output_type": "execute_result"
    }
   ],
   "source": [
    "# 11.1 CountNonDivisible\n",
    "\n",
    "def solution(A):\n",
    "    dict = {}\n",
    "    max_item = 0\n",
    "\n",
    "    for a in A:\n",
    "        dict[a] = dict.get(a, 0) + 1  \n",
    "        max_item = max(a, max_item)\n",
    "    \n",
    "    nd = [len(A) - 1] * (max_item + 1)\n",
    "    for b in dict.keys():\n",
    "        nd[b] -= (dict[b] - 1)\n",
    "        m = b * 2\n",
    "        while m <= max_item:\n",
    "            nd[m] -= dict[b]\n",
    "            m += b\n",
    "\n",
    "    result = []\n",
    "    for a in A:\n",
    "        result += [nd[a]]\n",
    "        \n",
    "    return result\n",
    "\n",
    "A = [3,1,2,3,6]\n",
    "solution( A )\n"
   ]
  },
  {
   "cell_type": "code",
   "execution_count": 34,
   "id": "5f521d0e",
   "metadata": {},
   "outputs": [
    {
     "data": {
      "text/plain": [
       "[10, 4, 0]"
      ]
     },
     "execution_count": 34,
     "metadata": {},
     "output_type": "execute_result"
    }
   ],
   "source": [
    "# 11.2 CountSemiprimes\n",
    "\n",
    "def solution(N, P, Q):\n",
    "    primes = [1] * (N+1)\n",
    "    primes[0] = primes[1] = 0\n",
    "\n",
    "    for i in range(2, int(N**0.5)+1 ):\n",
    "        if primes[i]:\n",
    "            k = i**2\n",
    "            while k <= N:\n",
    "                primes[k] = 0\n",
    "                k += i\n",
    "\n",
    "    allsemiprimes = [0] * (N+1)\n",
    "    for i in range(0, N+1):\n",
    "        for j in range(0, N+1):\n",
    "            if primes[i] and primes[j] and i*j <= N:\n",
    "                allsemiprimes[i*j] = 1\n",
    "            if i * j > N :\n",
    "                break\n",
    "\n",
    "    semiprimes = [0] * len(P)\n",
    "    semiprimescum = [0] * (N+1)\n",
    "    s = 0\n",
    "\n",
    "    for i in range(0,N+1):\n",
    "        s += allsemiprimes[i]\n",
    "        semiprimescum[i] = s\n",
    "\n",
    "    for i in range(0, len(P)):\n",
    "        semiprimes[i] = semiprimescum[Q[i]] - semiprimescum[P[i]-1]\n",
    "    \n",
    "    return semiprimes\n",
    "\n",
    "P = [1 ,4 ,16]\n",
    "Q = [26,10,20]\n",
    "N = 26\n",
    "solution(N, P, Q)\n",
    "    "
   ]
  },
  {
   "cell_type": "code",
   "execution_count": 7,
   "id": "3fd43a9a",
   "metadata": {},
   "outputs": [
    {
     "name": "stdout",
     "output_type": "stream",
     "text": [
      "4 2\n",
      "2 0\n",
      "2\n",
      "2 1\n",
      "1 0\n",
      "1\n"
     ]
    },
    {
     "data": {
      "text/plain": [
       "5"
      ]
     },
     "execution_count": 7,
     "metadata": {},
     "output_type": "execute_result"
    }
   ],
   "source": [
    "# 12.1 ChocolatesByNumbers\n",
    "def solution(N, M):\n",
    "    x = 0\n",
    "    while x != 1:\n",
    "        x = N\n",
    "        y = M\n",
    "        # print(x,y)\n",
    "\n",
    "        while y != 0:\n",
    "            x, y = y, x % y\n",
    "            print(x,y)\n",
    "            \n",
    "        N = N // x\n",
    "        M = M // x\n",
    "        print(x)\n",
    "\n",
    "    return N\n",
    "\n",
    "\n",
    "N = 10\n",
    "M = 4\n",
    "solution(N, M)"
   ]
  },
  {
   "cell_type": "code",
   "execution_count": 8,
   "id": "d0d405b8",
   "metadata": {},
   "outputs": [
    {
     "data": {
      "text/plain": [
       "1"
      ]
     },
     "execution_count": 8,
     "metadata": {},
     "output_type": "execute_result"
    }
   ],
   "source": [
    "#12.2\n",
    "\n",
    "def gcd(a, b):\n",
    "    if b == 0:\n",
    "        return a\n",
    "    return gcd(b, a % b)\n",
    "\n",
    "def solution(A, B):\n",
    "    count = 0\n",
    "    for i in range(len(A)):\n",
    "        a, b = A[i], B[i]\n",
    "        g = gcd(a, b)\n",
    "        while True:\n",
    "            d = gcd(a, g)\n",
    "            if 1 == d:\n",
    "                break\n",
    "            a /= d\n",
    "        while True:\n",
    "            d = gcd(b, g)\n",
    "            if 1 == d:\n",
    "                break\n",
    "            b /= d\n",
    "        count += 1 if a == 1 and b == 1 else 0\n",
    "        \n",
    "    return count\n",
    "    \n",
    "A = [15, 10, 3]\n",
    "B = [75, 30, 5]\n",
    "solution(A, B)"
   ]
  },
  {
   "cell_type": "code",
   "execution_count": 4,
   "id": "430a6bd8",
   "metadata": {},
   "outputs": [
    {
     "data": {
      "text/plain": [
       "-1"
      ]
     },
     "execution_count": 4,
     "metadata": {},
     "output_type": "execute_result"
    }
   ],
   "source": [
    "# 13.1\n",
    "def get_fib_seq_up_to_n(N):\n",
    "    fib = [0] * (27)\n",
    "    fib[1] = 1\n",
    "    for i in range(2, 27):\n",
    "        fib[i] = fib[i - 1] + fib[i - 2]\n",
    "        if fib[i] > N:\n",
    "            return fib[2:i]\n",
    "        else:\n",
    "            last_valid = i\n",
    "\n",
    "\n",
    "def solution(A):\n",
    "    # you can always step on the other shore, this simplifies the algorithm\n",
    "    A.append(1)\n",
    "\n",
    "    fib_set = get_fib_seq_up_to_n(len(A))\n",
    "\n",
    "    # this array will hold the optimal jump count that reaches this index\n",
    "    reachable = [-1] * (len(A))\n",
    "\n",
    "    # get the leafs that can be reached from the starting shore\n",
    "    for jump in fib_set:\n",
    "        if A[jump - 1] == 1:\n",
    "            reachable[jump - 1] = 1\n",
    "\n",
    "    # iterate all the positions until you reach the other shore\n",
    "    for idx in range(len(A)):\n",
    "        # ignore non-leafs and already found paths\n",
    "        if A[idx] == 0 or reachable[idx] > 0:\n",
    "            continue\n",
    "\n",
    "        # get the optimal jump count to reach this leaf\n",
    "        min_idx = -1\n",
    "        min_value = 100000\n",
    "        for jump in fib_set:\n",
    "            previous_idx = idx - jump\n",
    "            if previous_idx < 0:\n",
    "                break\n",
    "            if reachable[previous_idx] > 0 and min_value > reachable[\n",
    "                    previous_idx]:\n",
    "                min_value = reachable[previous_idx]\n",
    "                min_idx = previous_idx\n",
    "        if min_idx != -1:\n",
    "            reachable[idx] = min_value + 1\n",
    "\n",
    "    return reachable[len(A) - 1]\n",
    "\n",
    "\n",
    "A=[0,0,0,1,1,0,1,0,0,0]\n",
    "solution(A)"
   ]
  },
  {
   "cell_type": "code",
   "execution_count": null,
   "metadata": {},
   "outputs": [],
   "source": [
    "# 13.2\n",
    "\n",
    "def solution(A, B):\n",
    "    limit = max(A)\n",
    "    result = [0] * len(A)\n",
    "    mod_limit = (1 << max(B)) - 1\n",
    "\n",
    "    # Compute the Fibonacci numbers for later use\n",
    "    fib = [0] * (limit + 2)\n",
    "    fib[1] = 1\n",
    "    for i in range(2, limit + 2):\n",
    "        fib[i] = (fib[i - 1] + fib[i - 2]) & mod_limit\n",
    "\n",
    "    for i in range(len(A)):\n",
    "        result[i] = fib[A[i] + 1] & ((1 << B[i]) - 1)\n",
    "\n",
    "    return result"
   ]
  },
  {
   "cell_type": "code",
   "execution_count": null,
   "id": "7f54845e",
   "metadata": {},
   "outputs": [],
   "source": [
    "# 14.1\n",
    "\n",
    "def solution(K, M, A):\n",
    "    N = len(A)\n",
    "\n",
    "    min_largest_sum = max(A)\n",
    "    max_largest_sum = sum(A)\n",
    "\n",
    "    if K == 1:\n",
    "        return max_largest_sum\n",
    "\n",
    "    if K == len(A):\n",
    "        return min_largest_sum\n",
    "\n",
    "    while min_largest_sum <= max_largest_sum:\n",
    "        largest_sum = (min_largest_sum + max_largest_sum) // 2\n",
    "\n",
    "        acumulator = 0\n",
    "        k_counter = 1\n",
    "        for val in A:\n",
    "            acumulator += val\n",
    "\n",
    "            if acumulator > largest_sum:\n",
    "                acumulator = val\n",
    "                k_counter += 1\n",
    "                if k_counter > K:\n",
    "                    break\n",
    "\n",
    "        if k_counter <= K:\n",
    "            max_largest_sum = largest_sum - 1\n",
    "            result = largest_sum\n",
    "        else:\n",
    "            min_largest_sum = largest_sum + 1\n",
    "\n",
    "    return result"
   ]
  },
  {
   "cell_type": "code",
   "execution_count": 15,
   "id": "3de3585d",
   "metadata": {},
   "outputs": [
    {
     "data": {
      "text/plain": [
       "4"
      ]
     },
     "execution_count": 15,
     "metadata": {},
     "output_type": "execute_result"
    }
   ],
   "source": [
    "# 15.1\n",
    "\n",
    "def solution(A):\n",
    "    A.sort()\n",
    "    count_triangle = 0\n",
    "    for index, value in enumerate(A):\n",
    "        middle_idx = index + 1\n",
    "        biggest_idx = index + 2\n",
    "        while biggest_idx < len(A):\n",
    "            if value + A[middle_idx] > A[biggest_idx]:  \n",
    "                count_triangle += biggest_idx - middle_idx\n",
    "                biggest_idx += 1  \n",
    "            elif middle_idx < biggest_idx - 1:  \n",
    "                middle_idx += 1\n",
    "            else:  \n",
    "                biggest_idx += 1\n",
    "                middle_idx += 1\n",
    "\n",
    "    return count_triangle\n",
    "\n",
    "\n",
    "A = [10,2,5,1,8,12]\n",
    "solution(A)"
   ]
  },
  {
   "cell_type": "code",
   "execution_count": 12,
   "id": "a5813e67",
   "metadata": {},
   "outputs": [
    {
     "data": {
      "text/plain": [
       "5"
      ]
     },
     "execution_count": 12,
     "metadata": {},
     "output_type": "execute_result"
    }
   ],
   "source": [
    "# 15.1\n",
    "def solution( A ):\n",
    "    number_dictionary = {}\n",
    "    count = 0\n",
    "    for i in range(0,len(A)):\n",
    "        if abs(A[i]) not in number_dictionary:\n",
    "            number_dictionary[abs(A[i])] = abs(A[i])\n",
    "            count += 1\n",
    "    \n",
    "    return count\n",
    "\n",
    "\n",
    "A = [-5,-3,-1, 0, 3, 6]\n",
    "\n",
    "solution(A)"
   ]
  },
  {
   "cell_type": "code",
   "execution_count": 20,
   "id": "c3bc41d8",
   "metadata": {},
   "outputs": [
    {
     "data": {
      "text/plain": [
       "9"
      ]
     },
     "execution_count": 20,
     "metadata": {},
     "output_type": "execute_result"
    }
   ],
   "source": [
    "# 15.2\n",
    "\n",
    "def solution(M, A):\n",
    "    N = len(A)\n",
    "    last = 0\n",
    "    result = 0\n",
    "    s = [-1] * (M + 1)\n",
    "\n",
    "    for i, a in enumerate(A):\n",
    "        if s[a] >= last:\n",
    "            result += (i - last) * (i - last + 1) // 2\n",
    "            last = s[a] + 1\n",
    "            result -= (i - last) * (i - last + 1) // 2\n",
    "\n",
    "            if result > 1e9:\n",
    "                return int(1e9)\n",
    "\n",
    "        s[a] = i\n",
    "\n",
    "    result += (N - last) * (N - last + 1) // 2\n",
    "    \n",
    "    if result > 1000000000:\n",
    "        return 1000000000\n",
    "    return result\n",
    "\n",
    "\n",
    "M =  6\n",
    "A = [3, 4, 5, 5 ,2]\n",
    "\n",
    "solution(M, A)"
   ]
  },
  {
   "cell_type": "code",
   "execution_count": 21,
   "id": "d56e3572",
   "metadata": {},
   "outputs": [
    {
     "data": {
      "text/plain": [
       "4"
      ]
     },
     "execution_count": 21,
     "metadata": {},
     "output_type": "execute_result"
    }
   ],
   "source": [
    "\n",
    "# 15.3\n",
    "\n",
    "def solution(A):\n",
    "    n = len(A)\n",
    "    result = 0\n",
    "\n",
    "    A.sort()\n",
    "\n",
    "    for first in range(n - 2):\n",
    "        third = first + 2\n",
    "        for second in range(first + 1, n - 1):\n",
    "            while third < n and A[first] + A[second] > A[third]:\n",
    "                third += 1\n",
    "            result += third - second - 1\n",
    "\n",
    "    return result\n",
    "\n",
    "\n",
    "A = [10,2,5,1,8,12]\n",
    "solution(A)"
   ]
  },
  {
   "cell_type": "code",
   "execution_count": 18,
   "id": "0029f2aa",
   "metadata": {},
   "outputs": [
    {
     "data": {
      "text/plain": [
       "3"
      ]
     },
     "execution_count": 18,
     "metadata": {},
     "output_type": "execute_result"
    }
   ],
   "source": [
    "# 15.4\n",
    "\n",
    "def solution(A):\n",
    "    A.sort()\n",
    "\n",
    "    if A[0] >= 0:\n",
    "        return A[0] + A[0]\n",
    "    if A[-1] <= 0:\n",
    "        return -A[-1] - A[-1]\n",
    "\n",
    "    front, back = len(A) - 1, 0\n",
    "    min_abs = A[-1] + A[-1]\n",
    "\n",
    "    while back <= front:\n",
    "        temp = abs(A[back] + A[front])\n",
    "\n",
    "        # Update the result if needed\n",
    "        if temp < min_abs:\n",
    "            min_abs = temp\n",
    "\n",
    "        # Adjust the pointer for next trying\n",
    "        if abs(A[back + 1] + A[front]) <= temp:\n",
    "            back += 1\n",
    "        elif abs(A[back] + A[front - 1]) <= temp:\n",
    "            front -= 1\n",
    "        else:\n",
    "            back += 1\n",
    "            front -= 1\n",
    "\n",
    "    return min_abs\n",
    "\n",
    "# A = [1, 4, -3]\n",
    "A = [-8, 4, 5, -10, 3]\n",
    "solution(A)\n"
   ]
  },
  {
   "cell_type": "code",
   "execution_count": null,
   "id": "66ee0afc",
   "metadata": {},
   "outputs": [],
   "source": [
    "# 16.1\n",
    "\n",
    "def solution(A, B):\n",
    "    n = len(A)\n",
    "    last_b = -1\n",
    "    result = 0\n",
    "    for index in range(n):\n",
    "        if A[index] > last_b:\n",
    "            print(index)\n",
    "            result += 1\n",
    "            last_b = B[index]\n",
    " \n",
    "    return result\n",
    "\n",
    "A = [1,3,7,9,9]\n",
    "B = [5,6,8,9,10]\n",
    "solution(A, B) "
   ]
  },
  {
   "cell_type": "code",
   "execution_count": null,
   "id": "d8c3bdbc",
   "metadata": {},
   "outputs": [],
   "source": [
    "# 16.2\n",
    "\n",
    "def solution(K, A):\n",
    "    count = 0\n",
    "    length = 0\n",
    "\n",
    "    for i in A:\n",
    "        if i >= K:\n",
    "            print(\"if\",i)\n",
    "            length = 0\n",
    "            count += 1\n",
    "        else:\n",
    "            print(\"else\",i)\n",
    "            length += i\n",
    "            if length >= K:\n",
    "                length = 0\n",
    "                count += 1\n",
    "                \n",
    "    return count\n",
    "\n",
    "\n",
    "K = 4 \n",
    "A = [1,2,3,4,1,1,3]\n",
    "solution(K, A)"
   ]
  }
 ],
 "metadata": {
  "kernelspec": {
   "display_name": "Python 3.10.5 64-bit",
   "language": "python",
   "name": "python3"
  },
  "language_info": {
   "codemirror_mode": {
    "name": "ipython",
    "version": 3
   },
   "file_extension": ".py",
   "mimetype": "text/x-python",
   "name": "python",
   "nbconvert_exporter": "python",
   "pygments_lexer": "ipython3",
   "version": "3.10.5"
  },
  "vscode": {
   "interpreter": {
    "hash": "fb4569285eef3a3450cb62085a5b1e0da4bce0af555edc33dcf29baf3acc1368"
   }
  }
 },
 "nbformat": 4,
 "nbformat_minor": 5
}
