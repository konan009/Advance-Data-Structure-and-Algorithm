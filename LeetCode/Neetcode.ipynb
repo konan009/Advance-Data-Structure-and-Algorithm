{
 "cells": [
  {
   "cell_type": "code",
   "execution_count": 29,
   "id": "fb546f63",
   "metadata": {},
   "outputs": [
    {
     "name": "stdout",
     "output_type": "stream",
     "text": [
      "[0, 1]\n",
      "[1, 0]\n",
      "[0, -1]\n",
      "[-1, 0]\n",
      "[]\n",
      "[[0, 1], [1, 0]]\n"
     ]
    },
    {
     "data": {
      "text/plain": [
       "5"
      ]
     },
     "execution_count": 29,
     "metadata": {},
     "output_type": "execute_result"
    }
   ],
   "source": [
    "grid = [\n",
    "  [\"1\",\"1\",\"1\",\"1\",\"0\"],\n",
    "  [\"1\",\"1\",\"0\",\"1\",\"0\"],\n",
    "  [\"1\",\"1\",\"0\",\"0\",\"0\"],\n",
    "  [\"0\",\"0\",\"0\",\"0\",\"0\"]\n",
    "]\n",
    "\n",
    "def count_island(grid):\n",
    "  if not grid or not grid[0]:\n",
    "      return 0\n",
    "\n",
    "  col,row = (0,0)\n",
    "\n",
    "  visited = []\n",
    "  islands = 0\n",
    "  \n",
    "  max_row_len = len(grid[0])\n",
    "  max_col_len = len(grid)\n",
    "\n",
    "  water_list = []\n",
    "  land_list = []\n",
    "  \n",
    "  if(row+1<max_row_len):\n",
    "    if(grid[col][row+1]=='1'):\n",
    "      land_list.append([col,row+1])\n",
    "    else:\n",
    "      water_list.append([col,row+1])\n",
    "\n",
    "  if(col+1<max_col_len):\n",
    "    if(grid[col+1][row]=='1'):\n",
    "      land_list.append([col+1,row])\n",
    "    else:\n",
    "      water_list.append( [col+1,row])\n",
    "\n",
    "  if(row-1>0):\n",
    "    if(grid[col][row-1]=='1'):\n",
    "      land_list.append([col,row-1])\n",
    "    else:\n",
    "      water_list.append([col,row-1])\n",
    "\n",
    "  if(col-1>0):\n",
    "    if(grid[col-1][row]=='1'):\n",
    "      land_list.append([col-1,row])\n",
    "    else:\n",
    "      water_list.append([col-1,row])\n",
    "\n",
    "  print(water_list)\n",
    "  print(land_list)\n",
    "  \n",
    "count_island( grid )\n",
    "    \n",
    "len(grid[0])\n",
    "\n"
   ]
  },
  {
   "cell_type": "code",
   "execution_count": 2,
   "id": "375fd8f8",
   "metadata": {},
   "outputs": [],
   "source": [
    "grid = [\n",
    "  [\"1\",\"1\",\"0\",\"0\",\"0\"],\n",
    "  [\"1\",\"1\",\"0\",\"0\",\"0\"],\n",
    "  [\"0\",\"0\",\"1\",\"0\",\"0\"],\n",
    "  [\"0\",\"0\",\"0\",\"1\",\"1\"]\n",
    "]"
   ]
  },
  {
   "cell_type": "markdown",
   "id": "edb56c50",
   "metadata": {},
   "source": [
    "<h2>Top Amazon Leetcode</h2>\n",
    "Link : https://leetcode.com/problem-list/top-amazon-questions/\n"
   ]
  },
  {
   "cell_type": "code",
   "execution_count": 42,
   "id": "0ceb25fa",
   "metadata": {},
   "outputs": [
    {
     "name": "stdout",
     "output_type": "stream",
     "text": [
      "9\n",
      "13\n",
      "17\n",
      "18\n",
      "22\n",
      "26\n"
     ]
    }
   ],
   "source": [
    "## 1. Two Sum\n",
    "nums = [2,7,11,15]\n",
    "target = 9\n",
    "\n",
    "for item,value in enumerate(nums) :\n",
    "    for i in nums[int(item)+1:]:\n",
    "        print(i+value )\n"
   ]
  },
  {
   "cell_type": "code",
   "execution_count": 59,
   "id": "9765ff38",
   "metadata": {},
   "outputs": [
    {
     "name": "stdout",
     "output_type": "stream",
     "text": [
      "not palindrome\n"
     ]
    }
   ],
   "source": [
    "## 9. Palindrome Number\n",
    "x = 10\n",
    "test = str(x)\n",
    "\n",
    "length = len(test)\n",
    "if(length%2==1):\n",
    "    length -= 1\n",
    "\n",
    "for item in range(length//2):\n",
    "    if(test[item]!=test[(length-1)-item]):\n",
    "        print(\"not palindrome\")"
   ]
  },
  {
   "cell_type": "code",
   "execution_count": 16,
   "id": "cc1d447d",
   "metadata": {},
   "outputs": [
    {
     "name": "stdout",
     "output_type": "stream",
     "text": [
      "Not Match\n"
     ]
    }
   ],
   "source": [
    "## 20. Valid Parentheses\n",
    "## Valid Parenthesis\n",
    "# s = \"()\"\n",
    "s = \"(]\"\n",
    "# s = \"()[]{}\"\n",
    "\n",
    "opening = ['(','[','{']\n",
    "partner = {'(':')','[':']','{':'}'}\n",
    "length = []\n",
    "\n",
    "for item in s:\n",
    "    if item in opening:\n",
    "        length.append(item)\n",
    "    else:\n",
    "        if(item != partner[length[-1]] ):\n",
    "            print(\"Not Match\")\n",
    "        else:\n",
    "            length.pop()\n",
    "\n",
    "\n"
   ]
  },
  {
   "cell_type": "code",
   "execution_count": 55,
   "id": "12219a44",
   "metadata": {},
   "outputs": [
    {
     "name": "stdout",
     "output_type": "stream",
     "text": [
      "[1, 1, 3, 2, 4, 4, 6, 5]\n"
     ]
    }
   ],
   "source": [
    "list1 = [1,2,4,5]\n",
    "list2 = [1,3,4,6]\n",
    "total_len = len(list1) + len(list2) \n",
    "\n",
    "merge_list = [0] * total_len \n",
    "total_len = total_len // 2\n",
    "\n",
    "curr_index = 0\n",
    "for x in range( total_len ):\n",
    "    if( list1[x]>=list2[x] ):\n",
    "        merge_list[curr_index] = list1[x] \n",
    "        merge_list[curr_index+1] = list2[x] \n",
    "        curr_index +=2\n",
    "    else:\n",
    "        merge_list[curr_index] = list2[x] \n",
    "        merge_list[curr_index+1] = list1[x] \n",
    "        curr_index +=2\n",
    "\n",
    "\n",
    "print(merge_list)\n"
   ]
  },
  {
   "cell_type": "code",
   "execution_count": 45,
   "id": "fe901202",
   "metadata": {},
   "outputs": [
    {
     "name": "stdout",
     "output_type": "stream",
     "text": [
      "[0, 1, 2, 3, 4, '_', '_', '_', '_', '_'] [5, 6, 7, 8, 9]\n"
     ]
    }
   ],
   "source": [
    "## 26. Remove Duplicates from Sorted Array\n",
    "nums = [0,0,1,1,1,2,2,3,3,4]\n",
    "existed = []\n",
    "indexes = []\n",
    "for index, value in enumerate(nums):\n",
    "    if value not in existed:\n",
    "        existed.append(value)\n",
    "\n",
    "        if( len(indexes) > 0 ):\n",
    "            nums[ indexes[0] ] = value\n",
    "            indexes = indexes[1:]\n",
    "\n",
    "            nums[ index ] = '_'\n",
    "            indexes.append(index)\n",
    "        \n",
    "    else:\n",
    "        indexes.append(index)\n",
    "        nums[index] = '_'\n",
    "\n",
    "print(nums,indexes)"
   ]
  },
  {
   "cell_type": "code",
   "execution_count": null,
   "id": "d0b24136",
   "metadata": {},
   "outputs": [],
   "source": []
  },
  {
   "cell_type": "code",
   "execution_count": null,
   "id": "8325f123",
   "metadata": {},
   "outputs": [],
   "source": []
  }
 ],
 "metadata": {
  "kernelspec": {
   "display_name": "Python 3.10.5 64-bit",
   "language": "python",
   "name": "python3"
  },
  "language_info": {
   "codemirror_mode": {
    "name": "ipython",
    "version": 3
   },
   "file_extension": ".py",
   "mimetype": "text/x-python",
   "name": "python",
   "nbconvert_exporter": "python",
   "pygments_lexer": "ipython3",
   "version": "3.10.5"
  },
  "vscode": {
   "interpreter": {
    "hash": "369f2c481f4da34e4445cda3fffd2e751bd1c4d706f27375911949ba6bb62e1c"
   }
  }
 },
 "nbformat": 4,
 "nbformat_minor": 5
}
