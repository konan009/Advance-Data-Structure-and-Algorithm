{
 "cells": [
  {
   "cell_type": "code",
   "execution_count": 1,
   "id": "4aa4a2bd",
   "metadata": {},
   "outputs": [
    {
     "data": {
      "text/plain": [
       "[0, 1, 2, 3]"
      ]
     },
     "execution_count": 1,
     "metadata": {},
     "output_type": "execute_result"
    }
   ],
   "source": [
    "\n",
    "def findOrder(numCourses, prerequisites ):\n",
    "    course_prereq = {c: [] for c in range(numCourses)}\n",
    "    for crs, pre in prerequisites:\n",
    "        course_prereq[crs].append(pre)\n",
    "    \n",
    "    def dfs(course):\n",
    "        if course in cycle:\n",
    "            return False\n",
    "        if course in visit:\n",
    "            return True\n",
    "\n",
    "        cycle.add(course)\n",
    "        for pre in course_prereq[course]:\n",
    "            if dfs(pre) == False:\n",
    "                return False\n",
    "                \n",
    "        cycle.remove(course)\n",
    "        visit.add(course)\n",
    "        output.append(course)\n",
    "        return True\n",
    "\n",
    "    output = []\n",
    "    visit, cycle = set(), set()\n",
    "    for course in range(numCourses):\n",
    "        if dfs(course) == False:\n",
    "            return []\n",
    "    return output\n",
    "\n",
    "\n",
    "# findOrder(2, [[1,0]])\n",
    "findOrder(4, [[1,0],[2,0],[3,1],[3,2]])"
   ]
  },
  {
   "cell_type": "code",
   "execution_count": 1,
   "id": "8f2dda16",
   "metadata": {},
   "outputs": [
    {
     "name": "stdout",
     "output_type": "stream",
     "text": [
      "1\n",
      "-1\n",
      "-1\n",
      "3\n",
      "4\n"
     ]
    }
   ],
   "source": [
    "# Following is the implementation without using ordereddict.\n",
    "class ListNode:\n",
    "    def __init__(self, key, val):\n",
    "        self.val = val\n",
    "        self.key = key\n",
    "        self.next = None\n",
    "        self.prev = None\n",
    "        \n",
    "class LinkedList:\n",
    "    def __init__(self):\n",
    "        self.head = None\n",
    "        self.tail = None\n",
    "    \n",
    "    def insert(self, node):\n",
    "        if self.head is None:\n",
    "            self.head = node\n",
    "        else:\n",
    "            self.tail.next = node\n",
    "            node.prev = self.tail\n",
    "        self.tail = node\n",
    "            \n",
    "    def delete(self, node):\n",
    "        if node.prev:\n",
    "            node.prev.next = node.next\n",
    "        else:\n",
    "            self.head = node.next\n",
    "            \n",
    "        if node.next:\n",
    "            node.next.prev = node.prev\n",
    "        else:\n",
    "            self.tail = node.prev\n",
    "\n",
    "class LRUCache:\n",
    "    def __init__(self, capacity):\n",
    "        self.list = LinkedList()\n",
    "        self.dict = {}\n",
    "        self.capacity = capacity\n",
    "        \n",
    "    def _insert(self, key, val):\n",
    "        node = ListNode(key, val)\n",
    "        self.list.insert(node)\n",
    "        self.dict[key] = node\n",
    "\n",
    "    def get(self, key):\n",
    "        if key in self.dict:\n",
    "            val = self.dict[key].val\n",
    "            self.list.delete(self.dict[key])\n",
    "            self._insert(key, val)\n",
    "            return val\n",
    "        return -1\n",
    "\n",
    "    def set(self, key, val):\n",
    "        if key in self.dict:\n",
    "            self.list.delete(self.dict[key])\n",
    "        elif len(self.dict) == self.capacity:\n",
    "            del self.dict[self.list.head.key]\n",
    "            self.list.delete(self.list.head)\n",
    "        self._insert(key, val)\n",
    "\n",
    "lRUCache =  LRUCache(2)\n",
    "lRUCache.set(1, 1) # cache is {1=1}\n",
    "lRUCache.set(2, 2) # cache is {1=1, 2=2}\n",
    "\n",
    "print(lRUCache.get(1))    # return 1\n",
    "lRUCache.set(3, 3) # LRU key was 2, evicts key 2, cache is {1=1, 3=3}\n",
    "print(lRUCache.get(2) )   # returns -1 (not found)\n",
    "lRUCache.set(4, 4) # LRU key was 1, evicts key 1, cache is {4=4, 3=3}\n",
    "print(lRUCache.get(1))   # return -1 (not found)\n",
    "print(lRUCache.get(3))    # return 3\n",
    "print(lRUCache.get(4))   # return 4"
   ]
  },
  {
   "cell_type": "code",
   "execution_count": 3,
   "id": "15c3d504",
   "metadata": {},
   "outputs": [
    {
     "data": {
      "text/plain": [
       "['E', 'B', 'D', 'F', 'C', 'A', 'G']"
      ]
     },
     "execution_count": 3,
     "metadata": {},
     "output_type": "execute_result"
    }
   ],
   "source": [
    "dependencies = {\n",
    "    \"A\" : [\"B\",\"C\"],\n",
    "    \"B\" : [\"E\"],\n",
    "    \"C\" : [\"D\",\"E\",\"F\"],\n",
    "    \"D\" : [],\n",
    "    \"E\" : [],\n",
    "    \"F\" : [],\n",
    "    \"G\" : [\"C\"]\n",
    "}\n",
    "\n",
    "\n",
    "def packageDependencies( dependencies ):\n",
    "    def dfs(package):\n",
    "        if package in visit:\n",
    "            return True\n",
    "        if package in cycle:\n",
    "            return False\n",
    "\n",
    "        cycle.add(package)\n",
    "        for prereq in dependencies[package]:\n",
    "            if dfs(prereq) == False:\n",
    "                return False\n",
    "\n",
    "        output.append(package)\n",
    "        visit.add(package)\n",
    "        return True\n",
    "\n",
    "    output = []\n",
    "    visit = set()\n",
    "    cycle = set()\n",
    "\n",
    "    for package in dependencies:\n",
    "        if dfs(package) == False:\n",
    "            return []\n",
    "\n",
    "    return output\n",
    "\n",
    "\n",
    "packageDependencies( dependencies )"
   ]
  },
  {
   "cell_type": "code",
   "execution_count": 2,
   "id": "a30b92a6",
   "metadata": {},
   "outputs": [
    {
     "name": "stdout",
     "output_type": "stream",
     "text": [
      "[2, -1, 2]\n",
      "[2, 3, 4, -1, 4]\n"
     ]
    }
   ],
   "source": [
    "def improved(nums):\n",
    "    stack = []\n",
    "    output = [-1] * len(nums)\n",
    "    lnums = nums * 2\n",
    "    n = len(nums)\n",
    "    for i in range( len(lnums)):\n",
    "        while len(stack) > 0 and lnums[stack[-1]] < lnums[i]:\n",
    "            output[stack.pop()] = lnums[i]\n",
    "\n",
    "        if i < n:\n",
    "            stack.append(i)\n",
    "        \n",
    "    return output\n",
    "\n",
    " \n",
    "print( improved([1,2,1]) )\n",
    "print( improved([1,2,3,4,3]) )"
   ]
  },
  {
   "cell_type": "code",
   "execution_count": 26,
   "id": "321cc242",
   "metadata": {},
   "outputs": [
    {
     "name": "stdout",
     "output_type": "stream",
     "text": [
      "[-1, 3, -1]\n",
      "[3, -1]\n"
     ]
    }
   ],
   "source": [
    "def nextGreaterElement(nums1,nums2):\n",
    "    greatest = {}\n",
    "    stack = []\n",
    "    for num in nums2:\n",
    "        while stack and num > stack[-1]:\n",
    "            greatest[stack.pop()] = num\n",
    "\n",
    "        stack.append(num)\n",
    "\n",
    "    output = []\n",
    "    for num in nums1:\n",
    "        if num in greatest:\n",
    "            output.append(greatest[num])\n",
    "        else:\n",
    "            output.append(-1)\n",
    "    \n",
    "    return output\n",
    "\n",
    "print( nextGreaterElement([4,1,2],[1,3,4,2]) )\n",
    "print( nextGreaterElement([2,4],[1,2,3,4]) )"
   ]
  },
  {
   "cell_type": "code",
   "execution_count": 10,
   "id": "480b0cc7",
   "metadata": {},
   "outputs": [
    {
     "data": {
      "text/plain": [
       "[2, -1, 2]"
      ]
     },
     "execution_count": 10,
     "metadata": {},
     "output_type": "execute_result"
    }
   ],
   "source": [
    "def improved(nums):\n",
    "    stack = []\n",
    "    output = [-1 for i in range(len(nums))]\n",
    "    N = len(nums)\n",
    "    lnums = nums * 2\n",
    "\n",
    "    for i in range( len(lnums)):\n",
    "        while len(stack) > 0 and stack [-1][0] < lnums[i]:\n",
    "            val, pos = stack.pop()\n",
    "            output[pos] = lnums[i]\n",
    "        if i < N:\n",
    "            stack.append((lnums[i],i))\n",
    "        \n",
    "    return output\n",
    "\n",
    "improved([1,2,1])"
   ]
  },
  {
   "cell_type": "code",
   "execution_count": 11,
   "id": "01365fad",
   "metadata": {},
   "outputs": [
    {
     "data": {
      "text/plain": [
       "2"
      ]
     },
     "execution_count": 11,
     "metadata": {},
     "output_type": "execute_result"
    }
   ],
   "source": [
    "def numIslands( grid ):\n",
    "    if not grid:\n",
    "        return 0\n",
    "\n",
    "    def bfs(r,c):\n",
    "        queue = []\n",
    "        visit.add((r,c))\n",
    "        queue.append((r,c))\n",
    "        while queue:\n",
    "            row,col = queue.pop()\n",
    "            directions = [[1,0],[0,1],[-1,0],[0,-1]]\n",
    "            for dr,dc in directions:\n",
    "                r, c = row + dr, col + dc\n",
    "                if ( r in range(rows) and \n",
    "                     c in range(cols) and \n",
    "                     grid[r][c] == \"1\" and \n",
    "                     (r,c) not in visit):\n",
    "                        queue.append((r,c))\n",
    "                        visit.add((r,c))\n",
    "        return None\n",
    "\n",
    "    rows, cols = len(grid), len(grid[0])\n",
    "    visit = set()\n",
    "    islands = 0\n",
    "    max_area = 0 \n",
    "    for r in range(rows):\n",
    "        for c in range(cols):\n",
    "            if grid[r][c]== \"1\" and (r,c) not in visit:\n",
    "                bfs(r,c)\n",
    "                islands += 1\n",
    "\n",
    "    return islands\n",
    "\n",
    "\n",
    "grid = [\n",
    "  [\"1\",\"1\",\"0\",\"0\",\"0\"],\n",
    "  [\"1\",\"1\",\"1\",\"0\",\"0\"],\n",
    "  [\"0\",\"0\",\"1\",\"0\",\"0\"],\n",
    "  [\"0\",\"0\",\"0\",\"1\",\"1\"]\n",
    "]\n",
    "\n",
    "numIslands( grid )"
   ]
  },
  {
   "cell_type": "code",
   "execution_count": 10,
   "id": "c47b7ff4",
   "metadata": {},
   "outputs": [
    {
     "data": {
      "text/plain": [
       "range(0, 4)"
      ]
     },
     "execution_count": 10,
     "metadata": {},
     "output_type": "execute_result"
    }
   ],
   "source": []
  },
  {
   "cell_type": "code",
   "execution_count": 5,
   "id": "94928457",
   "metadata": {},
   "outputs": [
    {
     "data": {
      "text/plain": [
       "'hello'"
      ]
     },
     "execution_count": 5,
     "metadata": {},
     "output_type": "execute_result"
    }
   ],
   "source": [
    "class TrieNode(object):\n",
    "\n",
    "    def __init__(self):\n",
    "        self.is_file = False\n",
    "        self.children = {}\n",
    "        self.content = \"\"\n",
    "\n",
    "class FileSystem(object):\n",
    "\n",
    "    def __init__(self):\n",
    "        self.root = TrieNode()\n",
    "\n",
    "\n",
    "    def ls(self, path):\n",
    "        \"\"\"\n",
    "        :type path: str\n",
    "        :rtype: List[str]\n",
    "        \"\"\"\n",
    "        curr = self.__getNode(path)\n",
    "\n",
    "        if curr.is_file:\n",
    "            return [self.__split(path, '/')[-1]]\n",
    "\n",
    "        return sorted(curr.children.keys())\n",
    "\n",
    "\n",
    "    def mkdir(self, path):\n",
    "        \"\"\"\n",
    "        :type path: str\n",
    "        :rtype: void\n",
    "        \"\"\"\n",
    "        curr = self.__putNode(path)\n",
    "        curr.is_file = False\n",
    "\n",
    "\n",
    "    def addContentToFile(self, filePath, content):\n",
    "        \"\"\"\n",
    "        :type filePath: str\n",
    "        :type content: str\n",
    "        :rtype: void\n",
    "        \"\"\"\n",
    "        curr = self.__putNode(filePath)\n",
    "        curr.is_file = True\n",
    "        curr.content += content\n",
    "\n",
    "\n",
    "    def readContentFromFile(self, filePath):\n",
    "        \"\"\"\n",
    "        :type filePath: str\n",
    "        :rtype: str\n",
    "        \"\"\"\n",
    "        return self.__getNode(filePath).content\n",
    "\n",
    "    def __getNode(self, path):\n",
    "        curr = self.root\n",
    "        for s in self.__split(path, '/'):\n",
    "            curr = curr.children[s]\n",
    "        return curr\n",
    "\n",
    "\n",
    "    def __putNode(self, path):\n",
    "        curr = self.root\n",
    "        for s in self.__split(path, '/'):\n",
    "            if s not in curr.children:\n",
    "                curr.children[s] = TrieNode()\n",
    "            curr = curr.children[s]\n",
    "        return curr\n",
    "\n",
    "\n",
    "    def __split(self, path, delim):\n",
    "        if path == '/':\n",
    "            return []\n",
    "        return path.split('/')[1:]\n",
    "\n",
    "# Your FileSystem object will be instantiated and called as such:\n",
    "fs = FileSystem()\n",
    "param_1 = fs.ls(\"/\")\n",
    "fs.mkdir(\"/a/b/c\")\n",
    "fs.addContentToFile(\"/a/b/c/d\",\"hello\")\n",
    "fs.ls(\"/\")\n",
    "fs.readContentFromFile(\"/a/b/c/d\")"
   ]
  },
  {
   "cell_type": "code",
   "execution_count": 11,
   "id": "1ca5a1d2",
   "metadata": {},
   "outputs": [
    {
     "data": {
      "text/plain": [
       "1"
      ]
     },
     "execution_count": 11,
     "metadata": {},
     "output_type": "execute_result"
    }
   ],
   "source": [
    "class Node:\n",
    "    def __init__(self, value):\n",
    "        self.value = value\n",
    "        self.children = {} # route : Node\n",
    "    \n",
    "class FileSystem:\n",
    "    def __init__(self):\n",
    "        self.root = Node(None)\n",
    "\n",
    "    def createPath(self, path: str, value: int) -> bool:        \n",
    "        # Be careful! Python string split contains empty strings!\n",
    "        paths = path.split('/')\n",
    "        \n",
    "        n = self.root\n",
    "        for i, s in enumerate(paths):\n",
    "            if not s:\n",
    "                continue\n",
    "            if s in n.children:\n",
    "                if i == len(paths) - 1:\n",
    "                    # path already existed\n",
    "                    return False\n",
    "                else:\n",
    "                    n = n.children[s]\n",
    "            else:\n",
    "                if i == len(paths) - 1:\n",
    "                    n.children[s] = Node(value)\n",
    "                else:\n",
    "                    # parent path does not exist\n",
    "                    return False\n",
    "        return True\n",
    "            \n",
    "    def get(self, path: str) -> int:\n",
    "        n = self.root\n",
    "        paths = path.split('/')\n",
    "        for i, s in enumerate(paths):\n",
    "            if not s:\n",
    "                continue\n",
    "                \n",
    "            if s in n.children:\n",
    "                n = n.children[s]\n",
    "            else:\n",
    "                # path does not exist\n",
    "                return -1\n",
    "            \n",
    "        return n.value\n",
    "\n",
    "\n",
    "fileSystem =  FileSystem()\n",
    "\n",
    "fileSystem.createPath(\"/leet\", 1) # return true\n",
    "fileSystem.createPath(\"/leet/code\", 2) # return true\n",
    "fileSystem.get(\"/leet/code\") # return 2\n",
    "fileSystem.createPath(\"/c/d\", 1) # return false because the parent path \"/c\" doesn't exist.\n",
    "fileSystem.get(\"/c\")# return -1 because this path doesn't exist.\n"
   ]
  }
 ],
 "metadata": {
  "kernelspec": {
   "display_name": "Python 3.10.5 64-bit",
   "language": "python",
   "name": "python3"
  },
  "language_info": {
   "codemirror_mode": {
    "name": "ipython",
    "version": 3
   },
   "file_extension": ".py",
   "mimetype": "text/x-python",
   "name": "python",
   "nbconvert_exporter": "python",
   "pygments_lexer": "ipython3",
   "version": "3.10.5"
  },
  "vscode": {
   "interpreter": {
    "hash": "369f2c481f4da34e4445cda3fffd2e751bd1c4d706f27375911949ba6bb62e1c"
   }
  }
 },
 "nbformat": 4,
 "nbformat_minor": 5
}
