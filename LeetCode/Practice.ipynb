{
 "cells": [
  {
   "cell_type": "markdown",
   "id": "edb56c50",
   "metadata": {},
   "source": [
    "<h2>Top Amazon Leetcode</h2>\n",
    "Link : https://leetcode.com/problem-list/top-amazon-questions/\n"
   ]
  },
  {
   "cell_type": "code",
   "execution_count": 102,
   "id": "64c21465",
   "metadata": {},
   "outputs": [
    {
     "name": "stdout",
     "output_type": "stream",
     "text": [
      "7\n"
     ]
    }
   ],
   "source": [
    "\n",
    "## 2. Add Two Numbers\n",
    "class ListNode(object):\n",
    "    def __init__(self, val=0, next=None):\n",
    "        self.val = val\n",
    "        self.next = next\n",
    "\n",
    "node_1_3 = ListNode(3,None)\n",
    "node_1_2 = ListNode(4,node_1_3)\n",
    "node_1_1 = ListNode(2,node_1_2)\n",
    "\n",
    "node_2_3 = ListNode(4,None)\n",
    "node_2_2 = ListNode(6,node_2_3)\n",
    "node_2_1 = ListNode(5,node_2_2)\n",
    "\n",
    "\n",
    "def count_two_list(l1,l2):\n",
    "    head = ListNode()\n",
    "    curr = head\n",
    "    carry = 0 \n",
    "    while l1 or l2 or carry :\n",
    "        v1 = l1.val if l1 else 0\n",
    "        v2 = l2.val if l2 else 0\n",
    "\n",
    "        sum = v1 + v2 + carry\n",
    "        carry = sum // 10\n",
    "        sum = sum % 10\n",
    "\n",
    "        curr.next = ListNode(sum)\n",
    "        curr = curr.next\n",
    "\n",
    "        l1 = l1.next if l1 else 0\n",
    "        l2 = l2.next if l2 else 0\n",
    "\n",
    "\n",
    "    return head.next\n",
    "\n",
    "print( count_two_list(node_1_1,node_2_1).val )"
   ]
  },
  {
   "cell_type": "code",
   "execution_count": 106,
   "id": "e956b8b9",
   "metadata": {},
   "outputs": [
    {
     "data": {
      "text/plain": [
       "10"
      ]
     },
     "execution_count": 106,
     "metadata": {},
     "output_type": "execute_result"
    }
   ],
   "source": [
    "import collections\n",
    "class Node:\n",
    "    def __init__(self, val, next = None ):\n",
    "        self.val = val\n",
    "        self.next = next\n",
    "\n",
    "def reverse_linked_list(head):\n",
    "    prev = None\n",
    "    next = head\n",
    "    curr = head\n",
    "\n",
    "    while curr:\n",
    "        next = next.next\n",
    "        curr.next = prev\n",
    "        prev = curr\n",
    "        curr = next\n",
    "\n",
    "    return prev\n",
    "\n",
    "\n",
    "def calculate_max_pages(chapters):\n",
    "    soft = chapters\n",
    "    fast = chapters\n",
    "    while fast and fast.next:\n",
    "        soft = soft.next\n",
    "        fast = fast.next.next\n",
    "\n",
    "    soft = reverse_linked_list( soft )\n",
    "    curr =chapters\n",
    "    \n",
    "    maximum_sum = 0\n",
    "    while soft:\n",
    "        sum = soft.val + curr.val \n",
    "        maximum_sum = max( sum , maximum_sum)\n",
    "        soft= soft.next\n",
    "    return maximum_sum\n",
    "\n",
    "    \n",
    "\n",
    "chapters = Node(1)\n",
    "chapters.next = Node(2)\n",
    "chapters.next.next = Node(6)\n",
    "chapters.next.next.next = Node(3)\n",
    "chapters.next.next.next.next = Node(9)\n",
    "\n",
    "calculate_max_pages(chapters)"
   ]
  },
  {
   "cell_type": "code",
   "execution_count": 91,
   "id": "6830f0f4",
   "metadata": {},
   "outputs": [
    {
     "name": "stdout",
     "output_type": "stream",
     "text": [
      "5 4\n"
     ]
    },
    {
     "data": {
      "text/plain": [
       "1"
      ]
     },
     "execution_count": 91,
     "metadata": {},
     "output_type": "execute_result"
    }
   ],
   "source": [
    "\n",
    "\n",
    "\n",
    "def numswaps(binary):\n",
    "    \n",
    "            \n",
    "    return count\n",
    "\n",
    "\n",
    "\n",
    "numswaps('0100100') # 1\n",
    "# numswaps('00111000001')\n",
    "# numswaps('0100101') # 2\n",
    "# numswaps('1100011000010100')"
   ]
  },
  {
   "cell_type": "code",
   "execution_count": 93,
   "id": "14d51b0e",
   "metadata": {},
   "outputs": [
    {
     "data": {
      "text/plain": [
       "1"
      ]
     },
     "execution_count": 93,
     "metadata": {},
     "output_type": "execute_result"
    }
   ],
   "source": [
    "# Leetcode 926\n",
    "# s = \"001011\"\n",
    "s = \"001011\"\n",
    "def countflips(s):\n",
    " \n",
    "    return best\n",
    "\n",
    "countflips(s)"
   ]
  },
  {
   "cell_type": "code",
   "execution_count": 107,
   "id": "8c031ae6",
   "metadata": {},
   "outputs": [
    {
     "data": {
      "text/plain": [
       "27"
      ]
     },
     "execution_count": 107,
     "metadata": {},
     "output_type": "execute_result"
    }
   ],
   "source": [
    "# Restricted Piles Problem\n",
    "\n",
    "def findRestrictPiles( nums ):\n",
    "\n",
    "\n",
    "\n",
    "    return best\n",
    "\n",
    "\n",
    "\n",
    "# findRestrictPiles([2,9,4,7,5,2])\n",
    "# findRestrictPiles([2,5,6,7]) \n",
    "# findRestrictPiles([5,4,3,2,1]) # 7\n",
    "findRestrictPiles([8,9,10,4,5]) # 27\n",
    "# findRestrictPiles([7,4,5,2,6,5])"
   ]
  },
  {
   "cell_type": "code",
   "execution_count": 101,
   "id": "98e72e3b",
   "metadata": {},
   "outputs": [
    {
     "data": {
      "text/plain": [
       "4.0"
      ]
     },
     "execution_count": 101,
     "metadata": {},
     "output_type": "execute_result"
    }
   ],
   "source": [
    "# Decreasing Rating Problem\n",
    "# ratings = [4, 3, 5, 4, 5] # 7\n",
    "# ratings = [2,1,3] # 4\n",
    "ratings = [4,2,3,1] # 4\n",
    "\n",
    "def countDecreasingRatings(ratings):\n",
    "\n",
    "    return total_number\n",
    "\n",
    "countDecreasingRatings(ratings)"
   ]
  },
  {
   "cell_type": "code",
   "execution_count": 127,
   "id": "c7191bac",
   "metadata": {},
   "outputs": [
    {
     "name": "stdout",
     "output_type": "stream",
     "text": [
      "3\n"
     ]
    }
   ],
   "source": [
    "# Ranking Differences\n",
    "def solve(rank):\n",
    "    n = len(rank)\n",
    "     \n",
    "    left_boundary = [-1] * n\n",
    "    value_key = {}\n",
    "    for i in range(n):\n",
    "        boundary = rank[i] + 1\n",
    "        if boundary in value_key:\n",
    "            left_boundary[i] = value_key[boundary]\n",
    "        value_key[rank[i]]  =  i\n",
    "\n",
    "    right_boundary = [n] * n\n",
    "    value_key = {}\n",
    "    for i in reversed(range(n)):\n",
    "        boundary = rank[i] + 1\n",
    "        if boundary in value_key:\n",
    "            right_boundary[i] = value_key[boundary]\n",
    "        value_key[rank[i]]  =  i\n",
    "\n",
    "    greater_right = [-1] * n\n",
    "    stack = []\n",
    "    for i in reversed(range(n)):\n",
    "        while stack and rank[i] > rank[stack[-1]]:\n",
    "            greater_right[stack.pop()] = i\n",
    "        stack.append(i)\n",
    "\n",
    "    greater_left = [n] * n\n",
    "    stack = []\n",
    "    for i in range(n):\n",
    "        while stack and rank[i] > rank[stack[-1]]:\n",
    "            greater_left[stack.pop()] = i\n",
    "        stack.append(i)\n",
    "\n",
    "    res = 0\n",
    "    for i in range(n):\n",
    "        total_possible = (i - left_boundary[i]) * (right_boundary[i] - i)\n",
    "        smaller_sub_count =  (i - greater_left[i]) * (greater_right[i] - i)\n",
    "        res += (total_possible - smaller_sub_count)\n",
    "    return res\n",
    "\n",
    "# print(solve([4,1,3,2])) # 3\n",
    "# print(solve( [15,34,18,9,54,3,6])) #56\n",
    "# print(solve([3,9,1])) # 4 \n",
    "# print(solve([4,3,2,1])) # 0\n",
    "# print(solve([1,3,4,5])) # 3\n"
   ]
  }
 ],
 "metadata": {
  "kernelspec": {
   "display_name": "Python 3.10.5 64-bit",
   "language": "python",
   "name": "python3"
  },
  "language_info": {
   "codemirror_mode": {
    "name": "ipython",
    "version": 3
   },
   "file_extension": ".py",
   "mimetype": "text/x-python",
   "name": "python",
   "nbconvert_exporter": "python",
   "pygments_lexer": "ipython3",
   "version": "3.10.5"
  },
  "vscode": {
   "interpreter": {
    "hash": "369f2c481f4da34e4445cda3fffd2e751bd1c4d706f27375911949ba6bb62e1c"
   }
  }
 },
 "nbformat": 4,
 "nbformat_minor": 5
}
