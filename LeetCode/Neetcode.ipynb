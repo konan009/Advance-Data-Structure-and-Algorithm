{
 "cells": [
  {
   "cell_type": "markdown",
   "id": "edb56c50",
   "metadata": {},
   "source": [
    "<h2>Top Amazon Leetcode</h2>\n",
    "Link : https://leetcode.com/problem-list/top-amazon-questions/\n"
   ]
  },
  {
   "cell_type": "code",
   "execution_count": 42,
   "id": "0ceb25fa",
   "metadata": {},
   "outputs": [
    {
     "name": "stdout",
     "output_type": "stream",
     "text": [
      "9\n",
      "13\n",
      "17\n",
      "18\n",
      "22\n",
      "26\n"
     ]
    }
   ],
   "source": [
    "## 1. Two Sum\n",
    "nums = [2,7,11,15]\n",
    "target = 9\n",
    "\n",
    "for item,value in enumerate(nums) :\n",
    "    for i in nums[int(item)+1:]:\n",
    "        print(i+value )\n"
   ]
  },
  {
   "cell_type": "code",
   "execution_count": 59,
   "id": "9765ff38",
   "metadata": {},
   "outputs": [
    {
     "name": "stdout",
     "output_type": "stream",
     "text": [
      "not palindrome\n"
     ]
    }
   ],
   "source": [
    "## 9. Palindrome Number\n",
    "x = 10\n",
    "test = str(x)\n",
    "\n",
    "length = len(test)\n",
    "if(length%2==1):\n",
    "    length -= 1\n",
    "\n",
    "for item in range(length//2):\n",
    "    if(test[item]!=test[(length-1)-item]):\n",
    "        print(\"not palindrome\")"
   ]
  },
  {
   "cell_type": "code",
   "execution_count": 16,
   "id": "cc1d447d",
   "metadata": {},
   "outputs": [
    {
     "name": "stdout",
     "output_type": "stream",
     "text": [
      "Not Match\n"
     ]
    }
   ],
   "source": [
    "## 20. Valid Parentheses\n",
    "## Valid Parenthesis\n",
    "# s = \"()\"\n",
    "s = \"(]\"\n",
    "# s = \"()[]{}\"\n",
    "\n",
    "opening = ['(','[','{']\n",
    "partner = {'(':')','[':']','{':'}'}\n",
    "length = []\n",
    "\n",
    "for item in s:\n",
    "    if item in opening:\n",
    "        length.append(item)\n",
    "    else:\n",
    "        if(item != partner[length[-1]] ):\n",
    "            return false\n",
    "        else:\n",
    "            length.pop()\n",
    "return true\n",
    "\n",
    "\n"
   ]
  },
  {
   "cell_type": "code",
   "execution_count": 59,
   "id": "12219a44",
   "metadata": {},
   "outputs": [
    {
     "name": "stdout",
     "output_type": "stream",
     "text": [
      "[1, 1, 1, 1, 1, 3, 4, 6]\n"
     ]
    }
   ],
   "source": [
    "list1 = [1,1,1,1]\n",
    "list2 = [1,3,4,6]\n",
    "\n",
    "merge_list = list1 + list2\n",
    "\n",
    "for i in range(len(merge_list)):\n",
    "    for j in range(0, len(merge_list) - i - 1):\n",
    "        if merge_list[j] > merge_list[j + 1]:\n",
    "            temp = merge_list[j]\n",
    "            merge_list[j] = merge_list[j+1]\n",
    "            merge_list[j+1] = temp\n",
    "\n",
    "\n",
    "print(merge_list)\n"
   ]
  },
  {
   "cell_type": "code",
   "execution_count": 95,
   "id": "63c5301b",
   "metadata": {},
   "outputs": [
    {
     "data": {
      "text/plain": [
       "[0, 1, 2, 3, 4, 2, 2, 3, 3, 4]"
      ]
     },
     "execution_count": 95,
     "metadata": {},
     "output_type": "execute_result"
    }
   ],
   "source": [
    "## 26. Remove Duplicates from Sorted Array\n",
    "\n",
    "l = 1\n",
    "nums = [0,0,1,1,1,2,2,3,3,4]\n",
    "for r in range(1, len(nums)):\n",
    "    if nums[r] != nums[r-1]:\n",
    "        nums[l] = nums[r]\n",
    "        l +=1\n",
    "\n",
    "nums"
   ]
  },
  {
   "cell_type": "code",
   "execution_count": null,
   "id": "6db5aa3c",
   "metadata": {},
   "outputs": [],
   "source": [
    "# 27. Remove Element\n",
    "k = 0\n",
    "for i in range(len(nums)):\n",
    "    if nums[i] != val:\n",
    "        nums[k] = nums[i]\n",
    "        k += 1\n",
    "\n",
    "k    "
   ]
  },
  {
   "cell_type": "code",
   "execution_count": 101,
   "id": "97d8a5bc",
   "metadata": {},
   "outputs": [
    {
     "data": {
      "text/plain": [
       "'fl'"
      ]
     },
     "execution_count": 101,
     "metadata": {},
     "output_type": "execute_result"
    }
   ],
   "source": [
    "# 14. Longest Common Prefix\n",
    "strs = [\"flower\",\"flow\",\"flight\"]\n",
    "\n",
    "\n",
    "def longestCommonPrefix( strs):\n",
    "    res = \"\"\n",
    "\n",
    "    for i in range(len(strs[0])):\n",
    "        for s in strs:\n",
    "            if i == len(s) or s[i] != strs[0][i]:\n",
    "                return res\n",
    "        res += strs[0][i]\n",
    "\n",
    "    return res \n",
    "\n",
    "longestCommonPrefix( strs)"
   ]
  },
  {
   "cell_type": "code",
   "execution_count": 106,
   "id": "29e19b8b",
   "metadata": {},
   "outputs": [
    {
     "data": {
      "text/plain": [
       "0"
      ]
     },
     "execution_count": 106,
     "metadata": {},
     "output_type": "execute_result"
    }
   ],
   "source": [
    "haystack = \"hello\"\n",
    "\n",
    "needle = \"ll\"\n",
    "\n",
    "\n",
    "def strStr(haystack, needle):\n",
    "    index = 0\n",
    "    starting_index = 0 \n",
    "    for i in haystack:\n",
    "        if(len(needle)==index):\n",
    "            return starting_index\n",
    "        else:\n",
    "            if(needle[index]==i):\n",
    "                index +=1\n",
    "    \n",
    "strStr(haystack, needle)\n",
    "    "
   ]
  },
  {
   "cell_type": "code",
   "execution_count": 114,
   "id": "36c8cdf0",
   "metadata": {},
   "outputs": [],
   "source": [
    "class ListNode(object):\n",
    "    def __init__(self, val=0, next=None):\n",
    "        self.val = val\n",
    "        self.next = next\n",
    "\n",
    "node_1_3 = ListNode(3,None)\n",
    "node_1_2 = ListNode(4,node_1_3)\n",
    "node_1_1 = ListNode(2,node_1_2)\n",
    "\n",
    "node_2_3 = ListNode(4,None)\n",
    "node_2_2 = ListNode(6,node_2_3)\n",
    "node_2_1 = ListNode(5,node_2_2)"
   ]
  },
  {
   "cell_type": "code",
   "execution_count": 124,
   "id": "432dc0f4",
   "metadata": {},
   "outputs": [
    {
     "name": "stdout",
     "output_type": "stream",
     "text": [
      "7\n",
      "0\n",
      "8\n"
     ]
    }
   ],
   "source": [
    "def addTwoNumbers( l1, l2):\n",
    "    dummy = ListNode()\n",
    "    cur = dummy\n",
    "\n",
    "    carry = 0\n",
    "\n",
    "    while l1 or l2 or carry:\n",
    "        v1 = l1.val if l1 else 0\n",
    "        v2 = l2.val if l2 else 0\n",
    "\n",
    "        val = v1 + v2 + carry\n",
    "        carry = val //10\n",
    "        val = val % 10\n",
    "        print(val)\n",
    "        cur.next = ListNode(val)\n",
    "\n",
    "        cur = cur.next\n",
    "        l1 = l1.next if l1 else None\n",
    "        l2 = l2.next if l2 else None\n",
    "\n",
    "    return dummy.next\n",
    "\n",
    "test = addTwoNumbers( node_1_1, node_2_1)\n"
   ]
  },
  {
   "cell_type": "code",
   "execution_count": 20,
   "id": "b6cafe32",
   "metadata": {},
   "outputs": [
    {
     "data": {
      "text/plain": [
       "7.0"
      ]
     },
     "execution_count": 20,
     "metadata": {},
     "output_type": "execute_result"
    }
   ],
   "source": [
    "ratings = [4, 3, 5, 4, 5]\n",
    "# ratings = [2,1,3]\n",
    "\n",
    "def countDecreasingRatings(ratings):\n",
    "    count = 0 \n",
    "    total_number = len(ratings)\n",
    "\n",
    "    prev = ratings[0] \n",
    "    for item in range(1,total_number):\n",
    "        if(prev>ratings[item]):\n",
    "            count +=1\n",
    "            prev = ratings[item]\n",
    "        else:\n",
    "            total_number += (1/2)*count*(count+1)\n",
    "            count =0 \n",
    "            prev = ratings[item]\n",
    " \n",
    "    total_number += (1/2)*count*(count+1)\n",
    "    return total_number\n",
    "\n",
    "countDecreasingRatings(ratings)"
   ]
  },
  {
   "cell_type": "code",
   "execution_count": 63,
   "id": "94c4fdcd",
   "metadata": {},
   "outputs": [
    {
     "name": "stdout",
     "output_type": "stream",
     "text": [
      "7\n"
     ]
    }
   ],
   "source": [
    "numProduct = [7, 4, 5, 2, 6, 5]\n",
    "\n",
    "starting_index = 1\n",
    "ending_index = 1\n",
    "picked_products = numProduct[starting_index-1:ending_index]\n",
    "\n",
    "total = 0\n",
    "for item in range(1,len(picked_products)):\n",
    "    if(picked_products[item-1]>picked_products[item]):\n",
    "        picked_products[item-1] = picked_products[item] - 1\n",
    "    \n",
    "    total += picked_products[item-1]\n",
    "        \n",
    "total += picked_products[-1]\n",
    "\n",
    "print(total)"
   ]
  },
  {
   "cell_type": "code",
   "execution_count": null,
   "id": "ee6372ea",
   "metadata": {},
   "outputs": [],
   "source": [
    "import collections\n",
    "class Node:\n",
    "    def __init__(self, val, next=None):\n",
    "        self.val = val\n",
    "        self.next = next\n",
    "\n",
    "# TC: O(n)\n",
    "# SC: O(n)\n",
    "# Pretty self explanatory, create a queue with all the chapters, keep popping from the front and back and sum them up together to get the days, keep track of max.\n",
    "# Once you get to a point where there is only 1 chapter left, just pop the number and compare with max.\n",
    "# Tried to implement without a queue, got frustrated and just went with this approach.\n",
    "\n",
    "def maximumPages(chapters):\n",
    "    days = collections.deque()\n",
    "    maxCount = 0\n",
    "\n",
    "    while chapters:\n",
    "        days.append(chapters.val)\n",
    "        chapters = chapters.next\n",
    "\n",
    "    while days:\n",
    "        if len(days) >= 2:\n",
    "            maxCount = max(maxCount, days.pop() + days.popleft())\n",
    "        else:\n",
    "            maxCount = max(maxCount, days.pop())\n",
    "\n",
    "    return maxCount\n",
    "\n",
    "\n",
    "chapters = Node(1)\n",
    "chapters.next = Node(4)\n",
    "chapters.next.next = Node(3)\n",
    "chapters.next.next.next = Node(2)\n",
    "# chapters.next.next.next.next = Node(2)\n",
    "\n",
    "print(maximumPages(chapters))"
   ]
  },
  {
   "cell_type": "code",
   "execution_count": null,
   "id": "a5e7cff0",
   "metadata": {},
   "outputs": [],
   "source": [
    "s = '00111000001'"
   ]
  },
  {
   "cell_type": "code",
   "execution_count": 130,
   "id": "05bb6fe8",
   "metadata": {},
   "outputs": [
    {
     "name": "stdout",
     "output_type": "stream",
     "text": [
      "['10', '10', '01', '10'] [0, 1, 2, 3] 8\n"
     ]
    }
   ],
   "source": [
    "\n",
    "def numswaps(binary):\n",
    "    count = 0\n",
    "    n = len(binary)\n",
    "\n",
    "    combinations = []\n",
    "    indexes = []\n",
    "    for i in range(n // 2):\n",
    "        if binary[i] != binary[n - i - 1]:\n",
    "            combinations.append(binary[i]+ binary[n - i - 1])\n",
    "            indexes.append(i)\n",
    "\n",
    "    for i in range(1,len(combinations),2):\n",
    "        if( combinations[i] != combinations[i-1]):\n",
    "            count += indexes[i] - indexes[i-1]\n",
    "        else:\n",
    "            count += n - indexes[i-1] - indexes[i] - 1\n",
    "\n",
    "    \n",
    "    print(combinations,indexes,count)\n",
    "\n",
    "\n",
    "# numswaps('110000000')\n",
    "# numswaps('00111000001')\n",
    "numswaps('110100100')"
   ]
  }
 ],
 "metadata": {
  "kernelspec": {
   "display_name": "Python 3.10.5 64-bit",
   "language": "python",
   "name": "python3"
  },
  "language_info": {
   "codemirror_mode": {
    "name": "ipython",
    "version": 3
   },
   "file_extension": ".py",
   "mimetype": "text/x-python",
   "name": "python",
   "nbconvert_exporter": "python",
   "pygments_lexer": "ipython3",
   "version": "3.10.5"
  },
  "vscode": {
   "interpreter": {
    "hash": "369f2c481f4da34e4445cda3fffd2e751bd1c4d706f27375911949ba6bb62e1c"
   }
  }
 },
 "nbformat": 4,
 "nbformat_minor": 5
}
