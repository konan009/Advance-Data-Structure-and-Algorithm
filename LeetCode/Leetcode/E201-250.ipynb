{
 "cells": [
  {
   "cell_type": "code",
   "execution_count": 47,
   "id": "a63d7f65",
   "metadata": {},
   "outputs": [
    {
     "name": "stdout",
     "output_type": "stream",
     "text": [
      "{0: [], 1: [0], 2: [0], 3: [1, 2]}\n"
     ]
    },
    {
     "data": {
      "text/plain": [
       "[0, 1, 2, 3]"
      ]
     },
     "execution_count": 47,
     "metadata": {},
     "output_type": "execute_result"
    }
   ],
   "source": [
    "## Leetcode 210. Course Schedule II\n",
    "class Solution:\n",
    "    def findOrder(self, numCourses, prerequisites) :\n",
    "        prereq = { c: [] for c in range(numCourses) }\n",
    "\n",
    "        for crs, pre in prerequisites:\n",
    "            prereq[crs].append(pre)\n",
    "            \n",
    "        output = []\n",
    "        visit, cycle = set(), set()\n",
    "        def dfs(crs):\n",
    "            if crs in cycle:\n",
    "                return False\n",
    "            if crs in visit:\n",
    "                return True\n",
    "\n",
    "            cycle.add(crs)\n",
    "            for pre in prereq[crs]:\n",
    "                if dfs(pre) == False:\n",
    "                    return False\n",
    "\n",
    "            cycle.remove(crs)\n",
    "            visit.add(crs)\n",
    "            output.append(crs)\n",
    "            return True\n",
    "\n",
    "        for c in range(numCourses):\n",
    "            if dfs(c) == False:\n",
    "                return []\n",
    "\n",
    "        return output\n",
    "\n",
    "numCourses = 4\n",
    "prerequisites = [[1,0],[2,0],[3,1],[3,2]]\n",
    "solution = Solution()\n",
    "solution.findOrder(numCourses, prerequisites)"
   ]
  }
 ],
 "metadata": {
  "kernelspec": {
   "display_name": "Python 3.10.5 64-bit",
   "language": "python",
   "name": "python3"
  },
  "language_info": {
   "codemirror_mode": {
    "name": "ipython",
    "version": 3
   },
   "file_extension": ".py",
   "mimetype": "text/x-python",
   "name": "python",
   "nbconvert_exporter": "python",
   "pygments_lexer": "ipython3",
   "version": "3.10.7"
  },
  "vscode": {
   "interpreter": {
    "hash": "369f2c481f4da34e4445cda3fffd2e751bd1c4d706f27375911949ba6bb62e1c"
   }
  }
 },
 "nbformat": 4,
 "nbformat_minor": 5
}
