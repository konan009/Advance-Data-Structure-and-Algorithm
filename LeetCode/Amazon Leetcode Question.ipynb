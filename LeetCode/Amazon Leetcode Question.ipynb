{
 "cells": [
  {
   "cell_type": "code",
   "execution_count": 6,
   "id": "0f97c98d",
   "metadata": {},
   "outputs": [
    {
     "name": "stdout",
     "output_type": "stream",
     "text": [
      "1\n",
      "2\n",
      "3\n",
      "3\n",
      "4\n",
      "5\n",
      "6\n",
      "7\n",
      "13\n",
      "19\n"
     ]
    }
   ],
   "source": [
    "## Leetcode 23\n",
    "\n",
    "## LEETCODE 23\n",
    "class ListNode:\n",
    "    def __init__(self, val=0, next=None):\n",
    "        self.val = val\n",
    "        self.next = next\n",
    "\n",
    "class Solution:\n",
    "    def mergeKLists(self, lists):\n",
    "        lists_len = len(lists)\n",
    "        if lists_len == 1:\n",
    "            return lists[0]\n",
    "\n",
    "        if lists_len == 2:\n",
    "            return self.mergeSortedList(lists[0],lists[1])\n",
    "\n",
    "\n",
    "        mid = lists_len//2\n",
    "\n",
    "        left_lists = lists[:mid]\n",
    "        right_lists = lists[mid:]\n",
    "        left = self.mergeKLists(left_lists)\n",
    "        right = self.mergeKLists(right_lists)\n",
    "        return self.mergeSortedList(left,right)\n",
    "\n",
    "    def mergeSortedList(self,l1,l2):\n",
    "        dummy = ListNode(None)\n",
    "        curr = dummy \n",
    "\n",
    "        while l1 and l2:\n",
    "            if l1.val > l2.val:\n",
    "                curr.next = l2\n",
    "                l2 = l2.next\n",
    "            else:\n",
    "                curr.next = l1\n",
    "                l1 = l1.next\n",
    "\n",
    "            curr = curr.next \n",
    "\n",
    "        if l1:\n",
    "            curr.next = l1\n",
    "        if l2:\n",
    "            curr.next = l2\n",
    "\n",
    "        return dummy.next\n",
    "\n",
    "\n",
    "\n",
    "\n",
    "head1 = ListNode(1)\n",
    "head1.next = ListNode(4)\n",
    "head1.next.next = ListNode(5)\n",
    "\n",
    "head2 = ListNode(2)\n",
    "head2.next = ListNode(3)\n",
    "head2.next.next = ListNode(6)\n",
    "\n",
    "head4 = ListNode(7)\n",
    "head4.next = ListNode(13)\n",
    "\n",
    "head5 = ListNode(3)\n",
    "head5.next = ListNode(19)\n",
    "\n",
    "lists = [head1, head2, head4, head5]\n",
    "\n",
    "solution = Solution()\n",
    "head = solution.mergeKLists(lists)\n",
    "\n",
    "\n",
    "while head:\n",
    "    print( head.val )\n",
    "    head = head.next"
   ]
  },
  {
   "cell_type": "code",
   "execution_count": 8,
   "id": "3ca5e81d",
   "metadata": {},
   "outputs": [
    {
     "data": {
      "text/plain": [
       "[6, 2, 3]"
      ]
     },
     "execution_count": 8,
     "metadata": {},
     "output_type": "execute_result"
    }
   ],
   "source": [
    "## Leetcode 863\n",
    "class TreeNode:\n",
    "    def __init__(self, x, left = None, right = None):\n",
    "        self.val = x\n",
    "        self.left = left\n",
    "        self.right = right\n",
    "\n",
    "class Solution(object):\n",
    "    def distanceK(self, root, target, k):\n",
    "        parent_node = {}\n",
    "        result = []\n",
    "        seen = set()\n",
    "        def setParent(node, parent):\n",
    "            if not node :\n",
    "                return\n",
    "\n",
    "            parent_node[node] = parent\n",
    "\n",
    "            setParent(node.left, node)\n",
    "            setParent(node.right, node)\n",
    "\n",
    "        def getResult(node,cnt):\n",
    "            if not node or node in seen or cnt > k:\n",
    "                return\n",
    "\n",
    "            if cnt == k:\n",
    "                result.append(node.val)\n",
    "        \n",
    "            getResult(node.left,cnt + 1)\n",
    "            getResult(node.right,cnt + 1)\n",
    "            getResult(parent_node[node],cnt + 1)\n",
    "\n",
    "        setParent(root,None)\n",
    "        getResult(target,0)\n",
    "\n",
    "        return result\n",
    "\n",
    "node_7 = TreeNode(7)\n",
    "node_4 = TreeNode(4)\n",
    "\n",
    "node_2 = TreeNode(2,node_7,node_4)\n",
    "node_6 = TreeNode(6)\n",
    "\n",
    "node_5 = TreeNode(5,node_6,node_2)\n",
    "\n",
    "node_0 = TreeNode(0)\n",
    "node_8 = TreeNode(8)\n",
    "node_1 = TreeNode(1,node_0,node_8)\n",
    "\n",
    "node_3 = TreeNode(3,node_5,node_1)\n",
    "\n",
    "solution = Solution()\n",
    "solution.distanceK(node_3,node_5,1)"
   ]
  },
  {
   "cell_type": "code",
   "execution_count": 40,
   "id": "d334044d",
   "metadata": {},
   "outputs": [
    {
     "name": "stdout",
     "output_type": "stream",
     "text": [
      "Right  2 0    10 2\n",
      "Right  10 10    10 10\n"
     ]
    },
    {
     "data": {
      "text/plain": [
       "2"
      ]
     },
     "execution_count": 40,
     "metadata": {},
     "output_type": "execute_result"
    }
   ],
   "source": [
    "## Leetcode 42\n",
    "\n",
    "class Solution:\n",
    "    def trap(self, height):\n",
    "        if not height:\n",
    "            return 0\n",
    "\n",
    "        l, r = 0, len(height) - 1\n",
    "        leftMax, rightMax = height[l], height[r]\n",
    "        res = 0\n",
    "\n",
    "        while l < r:\n",
    "            if leftMax < rightMax:\n",
    "                l += 1\n",
    "                leftMax = max(leftMax, height[l])\n",
    "                print( \"Left  \",leftMax, height[l], \"  \",leftMax - height[l])\n",
    "                res += leftMax - height[l]\n",
    "            else:\n",
    "                r -= 1\n",
    "                rightMax = max(rightMax, height[r])\n",
    "                print( \"Right \",rightMax , height[r] , \"  \",leftMax, rightMax)\n",
    "                res += rightMax - height[r]\n",
    "\n",
    "        return res\n",
    "\n",
    "solution = Solution()\n",
    "# solution.trap([4,2,0,3,2,5])\n",
    "# solution.trap([0,1,0,2,1,0,1,3,2,1,2,1])\n",
    "solution.trap([10,0,2])\n"
   ]
  },
  {
   "cell_type": "code",
   "execution_count": 45,
   "id": "b92eb085",
   "metadata": {},
   "outputs": [
    {
     "data": {
      "text/plain": [
       "1"
      ]
     },
     "execution_count": 45,
     "metadata": {},
     "output_type": "execute_result"
    }
   ],
   "source": [
    "\n",
    "class Solution:\n",
    "    def numIslands(self, grid ):\n",
    "        cols, rows = len(grid[0]), len(grid)\n",
    "        visit = set()\n",
    "        islands = 0\n",
    "\n",
    "        def bfs(r,c):\n",
    "            queue = []\n",
    "            visit.add((r,c))\n",
    "            queue.append((r,c))\n",
    "            while queue:\n",
    "                row,col = queue.pop(0)\n",
    "                directions = [[1,0],[0,1],[-1,0],[0,-1]]\n",
    "                for dr,dc in directions:\n",
    "                    r, c = row + dr, col + dc\n",
    "                    if ( r in range(rows) and \n",
    "                         c in range(cols) and \n",
    "                         grid[r][c] == \"1\" and \n",
    "                         (r,c) not in visit):\n",
    "                            queue.append((r,c))\n",
    "                            visit.add((r,c))\n",
    "            return \n",
    "\n",
    "        for r in range(rows):\n",
    "            for c in range(cols):\n",
    "                if not (r,c) in visit and grid[r][c]== \"1\":\n",
    "                    bfs(r,c)\n",
    "                    islands += 1\n",
    "\n",
    "        return islands\n",
    "\n",
    "\n",
    "\n",
    "grid = [\n",
    "  [\"1\",\"1\",\"1\",\"1\",\"0\"],\n",
    "  [\"1\",\"1\",\"0\",\"1\",\"0\"],\n",
    "  [\"1\",\"1\",\"0\",\"0\",\"0\"],\n",
    "  [\"0\",\"0\",\"0\",\"0\",\"0\"]\n",
    "]\n",
    "solution = Solution()\n",
    "solution.numIslands(grid)\n"
   ]
  },
  {
   "cell_type": "code",
   "execution_count": 53,
   "id": "b974e76d",
   "metadata": {},
   "outputs": [
    {
     "data": {
      "text/plain": [
       "['ad', 'ae', 'af', 'bd', 'be', 'bf', 'cd', 'ce', 'cf']"
      ]
     },
     "execution_count": 53,
     "metadata": {},
     "output_type": "execute_result"
    }
   ],
   "source": [
    "class Solution:\n",
    "    def letterCombinations(self, digits):\n",
    "        res = []\n",
    "        digitToChar = {\n",
    "            \"2\" : \"abc\",\n",
    "            \"3\" : \"def\",\n",
    "            \"4\" : \"ghi\",\n",
    "            \"5\" : \"jkl\",\n",
    "            \"6\" : \"mno\",\n",
    "            \"7\" : \"qprs\",\n",
    "            \"8\" : \"tuv\",\n",
    "            \"9\" : \"wxyz\"\n",
    "        }\n",
    "\n",
    "        def backtrack(i, curStr):\n",
    "            if len(curStr) == len(digits):\n",
    "                res.append(curStr)\n",
    "                return\n",
    "\n",
    "            for c in digitToChar[digits[i]]:\n",
    "                backtrack(i + 1, curStr + c)\n",
    "        \n",
    "        if digits:\n",
    "            backtrack(0,\"\")\n",
    "        \n",
    "        return res\n",
    "\n",
    "\n",
    "digits = \"23\"\n",
    "solution = Solution()\n",
    "solution.letterCombinations(digits)"
   ]
  },
  {
   "cell_type": "code",
   "execution_count": 54,
   "id": "c562d4d0",
   "metadata": {},
   "outputs": [
    {
     "name": "stdout",
     "output_type": "stream",
     "text": [
      "True\n",
      "True\n",
      "False\n",
      "False\n",
      "True\n"
     ]
    }
   ],
   "source": [
    "class Solution:\n",
    "    def isPossible(self, string, mapping):\n",
    "        taken = [False] * len(mapping)\n",
    "        index = 0\n",
    "        return self.isPossibleUtil(index, string, taken, mapping)\n",
    "\n",
    "    def isPossibleUtil(self, index, string, taken, mapping):\n",
    "        if index >= len(string):\n",
    "            return True\n",
    "\n",
    "        result = True\n",
    "        for i in range(len(mapping)):\n",
    "            if not taken[i]:\n",
    "                if mapping[i][0] == string[index] or mapping[i][1] == string[index]:\n",
    "                    taken[i] = True\n",
    "                    result &= self.isPossibleUtil(index+1, string, taken, mapping)\n",
    "                    if result:\n",
    "                        return True\n",
    "                    taken[i] = False\n",
    "        return False\n",
    "\n",
    "solution = Solution()\n",
    "print(solution.isPossible(\"A\", [['A', 'B']]))\n",
    "print(solution.isPossible(\"BABY\", [['A','B'], ['B','A'], ['B','X'], ['Y','C']]))\n",
    "print(solution.isPossible(\"BABY\", [['A','B'], ['B','A'], ['L','E']]))\n",
    "print(solution.isPossible(\"ABLE\", [['A','B'], ['B','A'], ['L','E']]))\n",
    "print(solution.isPossible(\"ABLE\", [['A','B'], ['B','A'], ['L','E'], ['E','O']]))"
   ]
  },
  {
   "cell_type": "code",
   "execution_count": null,
   "id": "ca6e6dc5",
   "metadata": {},
   "outputs": [],
   "source": [
    "## 207. Course Schedule\n",
    "\n",
    "\n",
    "class Solution:\n",
    "    def canFinish(self, numCourses, prerequisites) :\n",
    "        prereq = {}\n",
    "        for course in range(numCourses):\n",
    "            prereq[course] = []\n",
    "\n",
    "        for course , pre in prerequisites:\n",
    "            prereq[course].append(pre)\n",
    "\n",
    "        visit, cycle = set(), set()\n",
    "        def dfs(crs):\n",
    "            if crs in cycle:\n",
    "                return False\n",
    "            if crs in visit:\n",
    "                return True\n",
    "\n",
    "            cycle.add(crs)\n",
    "            for pre in prereq[crs]:\n",
    "                if dfs(pre) == False:\n",
    "                    return False\n",
    "                    \n",
    "            cycle.remove(crs)\n",
    "            visit.add(crs)\n",
    "            return True\n",
    "\n",
    "        for c in range(numCourses):\n",
    "            if dfs(c) == False:\n",
    "                return False\n",
    "\n",
    "        return True"
   ]
  },
  {
   "cell_type": "code",
   "execution_count": 46,
   "id": "debd0d94",
   "metadata": {},
   "outputs": [
    {
     "name": "stdout",
     "output_type": "stream",
     "text": [
      "[10, 110]\n"
     ]
    },
    {
     "data": {
      "text/plain": [
       "1"
      ]
     },
     "execution_count": 46,
     "metadata": {},
     "output_type": "execute_result"
    }
   ],
   "source": [
    "class Solution(object):\n",
    "    def minRefuelStops(self, target, startFuel, stations):\n",
    "        dp = [startFuel] + [0] * len(stations)\n",
    "        for i, (location, fuel) in enumerate(stations):\n",
    "            for t in range(i, -1, -1):\n",
    "                if dp[t] >= location:\n",
    "                    dp[t+1] = max(dp[t+1], dp[t] + fuel)\n",
    "\n",
    "        print(dp)\n",
    "        for i, d in enumerate(dp):\n",
    "            if d >= target: \n",
    "                return i\n",
    "        return -1\n",
    "\n",
    "target = 100\n",
    "startFuel = 10\n",
    "stations = [[10,10],[20,20],[30,10],[40,10]]\n",
    "\n",
    "solution = Solution()\n",
    "solution.minRefuelStops(target,startFuel,stations)"
   ]
  },
  {
   "cell_type": "code",
   "execution_count": null,
   "id": "994c516a",
   "metadata": {},
   "outputs": [],
   "source": [
    "class Node:\n",
    "    def __init__(self, x: int, next: 'Node' = None, random: 'Node' = None):\n",
    "        self.val = int(x)\n",
    "        self.next = next\n",
    "        self.random = random\n",
    "\n",
    "class Solution:\n",
    "    def copyRandomList(self, head):\n",
    "        oldToCopy = { None : None}\n",
    "        cur = head\n",
    "        while cur:\n",
    "            copy = Node(cur.val)\n",
    "            oldToCopy[cur] = copy\n",
    "            cur = cur.next\n",
    "\n",
    "        cur = head\n",
    "        while cur:\n",
    "            oldToCopy[cur].next = oldToCopy[cur.next]\n",
    "            oldToCopy[cur].random = oldToCopy[cur.random]\n",
    "            cur = cur.next\n",
    "\n",
    "        return oldToCopy[head]"
   ]
  }
 ],
 "metadata": {
  "kernelspec": {
   "display_name": "Python 3.10.5 64-bit",
   "language": "python",
   "name": "python3"
  },
  "language_info": {
   "codemirror_mode": {
    "name": "ipython",
    "version": 3
   },
   "file_extension": ".py",
   "mimetype": "text/x-python",
   "name": "python",
   "nbconvert_exporter": "python",
   "pygments_lexer": "ipython3",
   "version": "3.10.7 (tags/v3.10.7:6cc6b13, Sep  5 2022, 14:08:36) [MSC v.1933 64 bit (AMD64)]"
  },
  "vscode": {
   "interpreter": {
    "hash": "369f2c481f4da34e4445cda3fffd2e751bd1c4d706f27375911949ba6bb62e1c"
   }
  }
 },
 "nbformat": 4,
 "nbformat_minor": 5
}
