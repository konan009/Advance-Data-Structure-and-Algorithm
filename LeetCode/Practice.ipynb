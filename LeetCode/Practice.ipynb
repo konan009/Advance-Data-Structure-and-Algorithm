{
 "cells": [
  {
   "cell_type": "markdown",
   "id": "edb56c50",
   "metadata": {},
   "source": [
    "<h2>Top Amazon Leetcode</h2>\n",
    "Link : https://leetcode.com/problem-list/top-amazon-questions/\n"
   ]
  },
  {
   "cell_type": "code",
   "execution_count": 13,
   "id": "64c21465",
   "metadata": {},
   "outputs": [
    {
     "name": "stdout",
     "output_type": "stream",
     "text": [
      "7\n"
     ]
    }
   ],
   "source": [
    "\n",
    "## 2. Add Two Numbers\n",
    "class ListNode(object):\n",
    "    def __init__(self, val=0, next=None):\n",
    "        self.val = val\n",
    "        self.next = next\n",
    "\n",
    "node_1_3 = ListNode(3,None)\n",
    "node_1_2 = ListNode(4,node_1_3)\n",
    "node_1_1 = ListNode(2,node_1_2)\n",
    "\n",
    "node_2_3 = ListNode(4,None)\n",
    "node_2_2 = ListNode(6,node_2_3)\n",
    "node_2_1 = ListNode(5,node_2_2)\n",
    "\n",
    "\n",
    "def count_two_list(l1,l2):\n",
    "    \n",
    "    return\n",
    "\n",
    "\n",
    "print( count_two_list(node_1_1,node_2_1).val )"
   ]
  },
  {
   "cell_type": "code",
   "execution_count": 30,
   "id": "e956b8b9",
   "metadata": {},
   "outputs": [
    {
     "name": "stdout",
     "output_type": "stream",
     "text": [
      "10 9 1\n",
      "5 3 2\n",
      "30 15 15\n"
     ]
    },
    {
     "data": {
      "text/plain": [
       "30"
      ]
     },
     "execution_count": 30,
     "metadata": {},
     "output_type": "execute_result"
    }
   ],
   "source": [
    "import collections\n",
    "class Node:\n",
    "    def __init__(self, val, next = None ):\n",
    "        self.val = val\n",
    "        self.next = next\n",
    "\n",
    "def reverse_linked_list(head):\n",
    "    curr = head\n",
    "    prev = None\n",
    "    next = head\n",
    "\n",
    "    while curr:\n",
    "        next = curr.next\n",
    "        curr.next = prev\n",
    "        prev = curr\n",
    "        curr = next\n",
    "\n",
    "    return prev\n",
    "\n",
    "\n",
    "def calculate_max_pages(chapters):\n",
    "    soft = chapters \n",
    "    fast = chapters\n",
    "    curr = chapters \n",
    "\n",
    "    while fast and fast.next:\n",
    "        soft =soft.next\n",
    "        fast = fast.next.next\n",
    "\n",
    "    soft = reverse_linked_list(soft)\n",
    "    \n",
    "    max_pages = 0\n",
    "    while soft:\n",
    "        sum = soft.val + curr.val \n",
    "       \n",
    "        soft = soft.next\n",
    "        curr = curr.next\n",
    "    \n",
    "    return max_pages\n",
    "\n",
    "    \n",
    "\n",
    "chapters = Node(1)\n",
    "chapters.next = Node(2)\n",
    "chapters.next.next = Node(15)\n",
    "chapters.next.next.next = Node(3)\n",
    "chapters.next.next.next.next = Node(9)\n",
    "calculate_max_pages(chapters)"
   ]
  }
 ],
 "metadata": {
  "kernelspec": {
   "display_name": "Python 3.10.5 64-bit",
   "language": "python",
   "name": "python3"
  },
  "language_info": {
   "codemirror_mode": {
    "name": "ipython",
    "version": 3
   },
   "file_extension": ".py",
   "mimetype": "text/x-python",
   "name": "python",
   "nbconvert_exporter": "python",
   "pygments_lexer": "ipython3",
   "version": "3.10.5"
  },
  "vscode": {
   "interpreter": {
    "hash": "369f2c481f4da34e4445cda3fffd2e751bd1c4d706f27375911949ba6bb62e1c"
   }
  }
 },
 "nbformat": 4,
 "nbformat_minor": 5
}
