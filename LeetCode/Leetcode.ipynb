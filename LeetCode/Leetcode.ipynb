{
 "cells": [
  {
   "cell_type": "code",
   "execution_count": 3,
   "id": "2499c270",
   "metadata": {},
   "outputs": [
    {
     "data": {
      "text/plain": [
       "2"
      ]
     },
     "execution_count": 3,
     "metadata": {},
     "output_type": "execute_result"
    }
   ],
   "source": [
    "# LEETCODE 4\n",
    "\n",
    "\n",
    "def findMedianSortedArrays(nums1, nums2) -> float:\n",
    "    final_list = []\n",
    "    i=0\n",
    "    j=0\n",
    "    while (i<len(nums1) and j<len(nums2)):\n",
    "        if nums1[i]<nums2[j]:\n",
    "            final_list.append(nums1[i])\n",
    "            i=i+1\n",
    "        else:\n",
    "            final_list.append(nums2[j])\n",
    "            j=j+1\n",
    "\n",
    "    while (i<len(nums1) or j<len(nums2)):\n",
    "        if i<len(nums1):\n",
    "            final_list.append(nums1[i])\n",
    "            i=i+1\n",
    "        else:\n",
    "            final_list.append(nums2[j])\n",
    "            j=j+1\n",
    "\n",
    "    length = len(final_list)\n",
    "\n",
    "    if length % 2 == 0:\n",
    "        temp = len(final_list)//2\n",
    "        median = (final_list[temp]+final_list[temp-1])/2\n",
    "    else:\n",
    "        temp = length//2\n",
    "        median = final_list[temp]\n",
    "        \n",
    "    return median\n",
    "\n",
    "\n",
    "nums1 = [1,3]\n",
    "nums2 = [2]\n",
    "findMedianSortedArrays(nums1, nums2)"
   ]
  },
  {
   "cell_type": "code",
   "execution_count": 5,
   "id": "e315e900",
   "metadata": {},
   "outputs": [
    {
     "data": {
      "text/plain": [
       "'aba'"
      ]
     },
     "execution_count": 5,
     "metadata": {},
     "output_type": "execute_result"
    }
   ],
   "source": [
    "class Solution(object):\n",
    "    def longestPalindrome(self, s):\n",
    "        \"\"\"\n",
    "        :type s: str\n",
    "        :rtype: str\n",
    "        \"\"\"\n",
    "\n",
    "        res = \"\"\n",
    "        for i in range(len(s)):\n",
    "            res = max(self.helper(s,i,i), self.helper(s,i,i+1), res, key=len)\n",
    "\n",
    "        return res\n",
    "       \n",
    "        \n",
    "    # get the longest palindrome, l, r are the middle indexes   \n",
    "    # from inner to outer\n",
    "    def helper(self,s,l,r):\n",
    "        \n",
    "        while 0<=l and r < len(s) and s[l]==s[r]:\n",
    "                l-=1; r+=1\n",
    "        return s[l+1:r]\n",
    "\n",
    "\n",
    "\n",
    "s = \"babad\"\n",
    "solution = Solution()\n",
    "solution.longestPalindrome(s)\n",
    "            "
   ]
  }
 ],
 "metadata": {
  "kernelspec": {
   "display_name": "Python 3.10.5 64-bit",
   "language": "python",
   "name": "python3"
  },
  "language_info": {
   "codemirror_mode": {
    "name": "ipython",
    "version": 3
   },
   "file_extension": ".py",
   "mimetype": "text/x-python",
   "name": "python",
   "nbconvert_exporter": "python",
   "pygments_lexer": "ipython3",
   "version": "3.10.5"
  },
  "vscode": {
   "interpreter": {
    "hash": "369f2c481f4da34e4445cda3fffd2e751bd1c4d706f27375911949ba6bb62e1c"
   }
  }
 },
 "nbformat": 4,
 "nbformat_minor": 5
}
