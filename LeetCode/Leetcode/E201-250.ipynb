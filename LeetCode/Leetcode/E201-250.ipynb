{
 "cells": [
  {
   "cell_type": "code",
   "execution_count": null,
   "id": "a63d7f65",
   "metadata": {},
   "outputs": [],
   "source": [
    "# Leetcode 202\n",
    "class Solution:\n",
    "    def isHappy(self, n):\n",
    "        visit = set()\n",
    "        while n not in visit:\n",
    "            visit.add(n)\n",
    "            n = self.sumOfSquares(n)\n",
    "\n",
    "            if n == 1:\n",
    "                return True\n",
    "        return False\n",
    "\n",
    "    def sumOfSquares(self,n):\n",
    "        output = 0\n",
    "        while n:\n",
    "            digit = n % 10\n",
    "            digit = digit ** 2\n",
    "            output += digit\n",
    "            n = n // 10\n",
    "        return output\n",
    "\n"
   ]
  },
  {
   "cell_type": "code",
   "execution_count": null,
   "id": "597e642a",
   "metadata": {},
   "outputs": [],
   "source": [
    "# Leetcode 203\n",
    "class ListNode:\n",
    "    def __init__(self, val=0, next=None):\n",
    "        self.val = val\n",
    "        self.next = next\n",
    "\n",
    "class Solution:\n",
    "    def removeElements(self, head, val):\n",
    "        dummy = ListNode(next=head)\n",
    "        prev, curr = dummy, head\n",
    "        while curr:\n",
    "            nxt = curr.nxt\n",
    "            if curr.val == val:\n",
    "                prev.next = nxt\n",
    "            else:\n",
    "                prev = curr\n",
    "            curr = nxt\n",
    "        return dummy.next\n"
   ]
  },
  {
   "cell_type": "code",
   "execution_count": null,
   "id": "71c8b521",
   "metadata": {},
   "outputs": [],
   "source": [
    "# Leetcode 205  \n",
    "class Solution:\n",
    "    def isIsomorphic(self, s, t):\n",
    "        mapST, mapTS = {}, {}\n",
    "        for c1, c2 in zip(s,t):\n",
    "            if ((c1 in mapST and mapST[c1] != c2) or\n",
    "                (c2 in mapTS and mapTS[c2] != c1)\n",
    "            ):\n",
    "                return False\n",
    "            mapST[c1] = c2\n",
    "            mapTS[c2] = c1\n",
    "        return True"
   ]
  },
  {
   "cell_type": "code",
   "execution_count": null,
   "id": "4387a458",
   "metadata": {},
   "outputs": [],
   "source": [
    "# Leetcode 206\n",
    "class ListNode:\n",
    "    def __init__(self, val=0, next=None):\n",
    "        self.val = val\n",
    "        self.next = next\n",
    "\n",
    "class Solution:\n",
    "    def reverseList(self, head):\n",
    "        prev = None\n",
    "        while head:\n",
    "            nxt = head.next\n",
    "            head.next = prev\n",
    "            prev = head\n",
    "            head = nxt\n",
    "        return prev\n",
    "\n"
   ]
  },
  {
   "cell_type": "code",
   "execution_count": 10,
   "id": "9156d4e4",
   "metadata": {},
   "outputs": [
    {
     "name": "stdout",
     "output_type": "stream",
     "text": [
      "{0: [], 1: [0], 2: [0], 3: [1, 2]}\n"
     ]
    },
    {
     "data": {
      "text/plain": [
       "True"
      ]
     },
     "execution_count": 10,
     "metadata": {},
     "output_type": "execute_result"
    }
   ],
   "source": [
    "## Leetcode 206\n",
    "class Solution:\n",
    "    def canFinish(self, numCourses, prerequisites) :\n",
    "        prereq = { c: [] for c in range(numCourses) }\n",
    "        for course, pre_req in prerequisites:\n",
    "            prereq[course].append(pre_req)\n",
    "        print(prereq)\n",
    "        visit, cycle = set(), set()\n",
    "        def dfs(crs):\n",
    "            if crs in cycle:\n",
    "                return False\n",
    "            if crs in visit:\n",
    "                return True\n",
    "\n",
    "            cycle.add(crs)\n",
    "            for pre in prereq[crs]:\n",
    "                if dfs(pre) == False:\n",
    "                    return False\n",
    "\n",
    "            cycle.remove(crs)\n",
    "            visit.add(crs)\n",
    "            return True\n",
    "\n",
    "        for c in range(numCourses):\n",
    "            if dfs(c) == False:\n",
    "                return False\n",
    "\n",
    "        return True\n",
    "\n",
    "numCourses = 4\n",
    "prerequisites = [[1,0],[2,0],[3,1],[3,2]]\n",
    "solution = Solution()\n",
    "solution.canFinish(numCourses, prerequisites)"
   ]
  },
  {
   "cell_type": "code",
   "execution_count": 1,
   "id": "5f3c10d5",
   "metadata": {},
   "outputs": [
    {
     "data": {
      "text/plain": [
       "[0, 1, 2, 3]"
      ]
     },
     "execution_count": 1,
     "metadata": {},
     "output_type": "execute_result"
    }
   ],
   "source": [
    "## Leetcode 210. Course Schedule II\n",
    "class Solution:\n",
    "    def findOrder(self, numCourses, prerequisites) :\n",
    "        prereq = { c: [] for c in range(numCourses) }\n",
    "\n",
    "        for crs, pre in prerequisites:\n",
    "            prereq[crs].append(pre)\n",
    "            \n",
    "        output = []\n",
    "        visit, cycle = set(), set()\n",
    "        def dfs(crs):\n",
    "            if crs in cycle:\n",
    "                return False\n",
    "            if crs in visit:\n",
    "                return True\n",
    "\n",
    "            cycle.add(crs)\n",
    "            for pre in prereq[crs]:\n",
    "                if dfs(pre) == False:\n",
    "                    return False\n",
    "\n",
    "            cycle.remove(crs)\n",
    "            visit.add(crs)\n",
    "            output.append(crs)\n",
    "            return True\n",
    "\n",
    "        for c in range(numCourses):\n",
    "            if dfs(c) == False:\n",
    "                return []\n",
    "\n",
    "        return output\n",
    "\n",
    "numCourses = 4\n",
    "prerequisites = [[1,0],[2,0],[3,1],[3,2]]\n",
    "solution = Solution()\n",
    "solution.findOrder(numCourses, prerequisites)"
   ]
  },
  {
   "cell_type": "code",
   "execution_count": null,
   "id": "cd0eef32",
   "metadata": {},
   "outputs": [],
   "source": [
    "# Leetcode 217\n",
    "class Solution:\n",
    "    def containsDuplicate(self, nums):\n",
    "        list = set()\n",
    "\n",
    "        for i in nums:\n",
    "            if i in list:\n",
    "                return True\n",
    "            list.add(i)\n",
    "\n",
    "        return False\n",
    "\n",
    "\n",
    "\n",
    "nums = [1,2,3,4]\n"
   ]
  },
  {
   "cell_type": "code",
   "execution_count": null,
   "id": "8f82c599",
   "metadata": {},
   "outputs": [],
   "source": [
    "# Leetcode 219\n",
    "class Solution:\n",
    "    def containsNearbyDuplicate(self, nums, k):\n",
    "        L = 0\n",
    "        window = set()\n",
    "        for R in range(len(nums)):\n",
    "            if (R - L) > k:\n",
    "                window.remove(nums[L])\n",
    "                L += 1\n",
    "            if nums[R] in window:\n",
    "                return True\n",
    "            \n",
    "            window.add(nums[R])\n",
    "        \n",
    "        return False\n",
    "\n"
   ]
  },
  {
   "cell_type": "code",
   "execution_count": null,
   "id": "d1dde63c",
   "metadata": {},
   "outputs": [],
   "source": [
    "## Leetcode 221\n",
    "class Solution:\n",
    "    def maximalSquare(self, matrix):\n",
    "        ROWS, COLS = len(matrix), len(matrix[0])\n",
    "        cache = {}\n",
    "\n",
    "        def helper(r, c):\n",
    "            if r >= ROWS or c >= COLS:\n",
    "                return 0\n",
    "\n",
    "            if (r, c) not in cache:\n",
    "                down = helper(r + 1, c)\n",
    "                right = helper(r , c + 1)\n",
    "                diag = helper(r + 1, c + 1)\n",
    "\n",
    "                cache[(r,c)] = 0\n",
    "                if matrix[r][c] == \"1\":\n",
    "                    cache[(r,c)] = 1 + min(down, right, diag)\n",
    "                \n",
    "            return cache[(r,c)]\n",
    "\n",
    "        helper(0,0)\n",
    "        return max(cache.values()) ** 2\n"
   ]
  },
  {
   "cell_type": "code",
   "execution_count": null,
   "id": "6c726f29",
   "metadata": {},
   "outputs": [],
   "source": [
    "# Leetcoe 226\n",
    "class Solution:\n",
    "    def invertTree(self, root):\n",
    "        queue = collections.deque([(root)])\n",
    "        while queue:\n",
    "            node = queue.popleft()\n",
    "            if node:\n",
    "                node.left, node.right = node.right, node.left\n",
    "                queue.append(node.left)\n",
    "                queue.append(node.right)\n",
    "        return root\n"
   ]
  },
  {
   "cell_type": "code",
   "execution_count": 6,
   "id": "21ba733e",
   "metadata": {},
   "outputs": [
    {
     "data": {
      "text/plain": [
       "True"
      ]
     },
     "execution_count": 6,
     "metadata": {},
     "output_type": "execute_result"
    }
   ],
   "source": [
    "from typing import Counter\n",
    "\n",
    "\n",
    "class Solution:\n",
    "    def isAnagram(self, s, t) :\n",
    "        if len(s) != len(t):\n",
    "            return False\n",
    "\n",
    "        s_hash = {}\n",
    "        t_hash = {}\n",
    "        for i in range(len(s)):\n",
    "            s_hash[s[i]] = 1 + s_hash.get(s[i], 0)\n",
    "            t_hash[t[i]] = 1 + t_hash.get(t[i], 0)\n",
    "\n",
    "        for i in range(len(s)):\n",
    "            if s_hash[s[i]] != t_hash.get(s[i],0):\n",
    "                return False\n",
    "\n",
    "        return True\n",
    "\n",
    "solution = Solution()\n",
    "s = \"anagram\"\n",
    "t = \"nagaram\"\n",
    "solution.isAnagram(s,t)"
   ]
  },
  {
   "cell_type": "code",
   "execution_count": null,
   "id": "3ff8a87a",
   "metadata": {},
   "outputs": [],
   "source": [
    "# Leetcode 230\n",
    "class Solution:\n",
    "    def kthSmallest(self, root, k):\n",
    "        n = 0\n",
    "        stack = []\n",
    "        cur = root\n",
    "\n",
    "        while cur or stack:\n",
    "            while cur:\n",
    "                stack.append(cur)\n",
    "                cur = cur.left\n",
    "\n",
    "            cur = stack.pop()\n",
    "            n += 1\n",
    "            if n == k:\n",
    "                return cur.val\n",
    "            cur = cur.right\n",
    "            "
   ]
  },
  {
   "cell_type": "code",
   "execution_count": null,
   "id": "647f4510",
   "metadata": {},
   "outputs": [],
   "source": [
    "# Leetcode 234\n",
    "# Definition for singly-linked list.\n",
    "class ListNode:\n",
    "    def __init__(self, val=0, next=None):\n",
    "        self.val = val\n",
    "        self.next = next\n",
    "\n",
    "class Solution:\n",
    "    def isPalindrome(self, head):\n",
    "        fast = head\n",
    "        slow = head\n",
    "\n",
    "        while fast and fast.next:\n",
    "            fast = fast.next.next\n",
    "            slow = slow.next\n",
    "\n",
    "        \n",
    "        prev = None\n",
    "        while slow:\n",
    "            tmp = slow.next\n",
    "            slow.next =prev\n",
    "            prev = slow\n",
    "            slow = tmp\n",
    "\n",
    "        left, right = head, prev\n",
    "        while right:\n",
    "            if left.val != right.val:\n",
    "                return False\n",
    "            left = left.next\n",
    "            right = right.next\n",
    "\n",
    "        return True\n",
    "\n",
    "        "
   ]
  },
  {
   "cell_type": "code",
   "execution_count": 98,
   "id": "ca913f35",
   "metadata": {},
   "outputs": [
    {
     "data": {
      "text/plain": [
       "[6, 2, 3]"
      ]
     },
     "execution_count": 98,
     "metadata": {},
     "output_type": "execute_result"
    }
   ],
   "source": [
    "## Leetcode 863\n",
    "class TreeNode:\n",
    "    def __init__(self, x, left = None, right = None):\n",
    "        self.val = x\n",
    "        self.left = left\n",
    "        self.right = right\n",
    "\n",
    "class Solution(object):\n",
    "    def distanceK(self, root: TreeNode, target: TreeNode, k: int):\n",
    "        \n",
    "        parent_map = {}\n",
    "        result = []\n",
    "        seen = set()\n",
    "        def setParent(node,parent):\n",
    "            if not node :\n",
    "                return\n",
    "\n",
    "            parent_map[node] = parent \n",
    "            setParent(node.left,node)\n",
    "            setParent(node.right,node)\n",
    "\n",
    "        def setResult(node,cnt):\n",
    "            if not node or node.val in seen or cnt > k:\n",
    "                return \n",
    "\n",
    "            seen.add(node.val)\n",
    "            if cnt == k:\n",
    "                result.append(node.val)\n",
    "\n",
    "            setResult(node.left,cnt + 1)\n",
    "            setResult(node.right,cnt + 1)\n",
    "            setResult(parent_map[node],cnt + 1)\n",
    "\n",
    "        \n",
    "\n",
    "        setParent(root,None)\n",
    "        setResult(target,0)\n",
    "        return result\n",
    "\n",
    "node_7 = TreeNode(7)\n",
    "node_4 = TreeNode(4)\n",
    "\n",
    "node_2 = TreeNode(2,node_7,node_4)\n",
    "node_6 = TreeNode(6)\n",
    "\n",
    "node_5 = TreeNode(5,node_6,node_2)\n",
    "\n",
    "node_0 = TreeNode(0)\n",
    "node_8 = TreeNode(8)\n",
    "node_1 = TreeNode(1,node_0,node_8)\n",
    "\n",
    "node_3 = TreeNode(3,node_5,node_1)\n",
    "\n",
    "solution = Solution()\n",
    "solution.distanceK(node_3,node_5,1)\n",
    "\n"
   ]
  },
  {
   "cell_type": "code",
   "execution_count": 41,
   "id": "23db0f6a",
   "metadata": {},
   "outputs": [
    {
     "data": {
      "text/plain": [
       "'ababacadadb'"
      ]
     },
     "execution_count": 41,
     "metadata": {},
     "output_type": "execute_result"
    }
   ],
   "source": [
    "# No Sort O(N):\n",
    "# count letter appearance and store in hash[i]\n",
    "# find the letter with largest occurence.\n",
    "# put the letter into even index numbe (0, 2, 4 ...) char array\n",
    "# put the rest into the array\n",
    "\n",
    "# 767. Reorganize String\n",
    "import collections\n",
    "\n",
    "class Solution:\n",
    "    def reorganizeString(self, S: str) -> str:\n",
    "        lenth = len(S)\n",
    "        dic = collections.Counter(S)\n",
    "\n",
    "        m, c0 = 0, ''\n",
    "        for c in dic:\n",
    "            if dic[c]>m:\n",
    "                m, c0 = dic[c], c\n",
    "\n",
    "        if m-1>lenth-m: \n",
    "            return ''\n",
    "            \n",
    "        res = ['']*lenth\n",
    "        l = 0\n",
    "        for i in range(dic[c0]):\n",
    "            res[l] = c0\n",
    "            l += 2\n",
    "        dic[c0] = 0\n",
    "        for c in dic:\n",
    "            for j in range(dic[c]):\n",
    "                if l >= lenth:\n",
    "                    l = 1\n",
    "                res[l] = c\n",
    "                l += 2\n",
    "        return ''.join(res)\n",
    "\n",
    "\n",
    "s = 'aaaaabbbcdd'\n",
    "solution = Solution()\n",
    "solution.reorganizeString(s)"
   ]
  },
  {
   "cell_type": "code",
   "execution_count": 92,
   "id": "376014e4",
   "metadata": {},
   "outputs": [
    {
     "name": "stdout",
     "output_type": "stream",
     "text": [
      "Word: ca\n",
      "c a\n",
      "\n",
      "Word: ea\n",
      "e a\n",
      "\n",
      "Word: t\n",
      "Word: caeat\n",
      "c aeat\n",
      "\n",
      "ca eat\n",
      "e at\n",
      "\n",
      "ea t\n",
      "1 eat\n",
      "2 caeat\n"
     ]
    },
    {
     "data": {
      "text/plain": [
       "['caeat']"
      ]
     },
     "execution_count": 92,
     "metadata": {},
     "output_type": "execute_result"
    }
   ],
   "source": [
    "# Leetcode 472\n",
    "class Solution:\n",
    "    def findAllConcatenatedWordsInADict(self, words):\n",
    "        dictionary = set(words)\n",
    "        memo = {}\n",
    "        def dfs(word):\n",
    "            if word in memo:\n",
    "                return memo[word]\n",
    "                \n",
    "            memo[word] = False\n",
    "            for i in range(1, len(word)):\n",
    "                prefix = word[:i]\n",
    "                suffix = word[i:]\n",
    "                if prefix in dictionary and suffix in dictionary:\n",
    "                    memo[word] = True \n",
    "                    break\n",
    "                elif prefix in dictionary and dfs(suffix):\n",
    "                    memo[word] = True \n",
    "                    break\n",
    "            return memo[word] \n",
    "\n",
    "        result = []\n",
    "\n",
    "        for word in words:\n",
    "            print(\"Word:\",word)\n",
    "            if dfs(word):\n",
    "                result.append(word)\n",
    "         \n",
    "\n",
    "        return result\n",
    "\n",
    "\n",
    "# words = [\"cat\",\"cats\",\"catsdogcats\",\"dog\",\"dogcatsdog\",\"hippopotamuses\",\"rat\",\"ratcatdogcat\"]\n",
    "words = [\"ca\",\"ea\",\"t\",\"caeat\"]\n",
    "solution = Solution()\n",
    "solution.findAllConcatenatedWordsInADict(words)"
   ]
  },
  {
   "cell_type": "code",
   "execution_count": 101,
   "id": "e10a6fdd",
   "metadata": {},
   "outputs": [],
   "source": [
    "## Leetcode 1383\n",
    "\n",
    "import heapq\n",
    "\n",
    "class Solution:\n",
    "    def maxPerformance(self, n, speed, efficiency, k) :\n",
    "        modulo = 10 ** 9 + 7\n",
    "\n",
    "        # build tuples of (efficiency, speed)\n",
    "        candidates = zip(efficiency, speed)\n",
    "        # sort the candidates by their efficiencies\n",
    "        candidates = sorted(candidates, key=lambda t:t[0], reverse=True)\n",
    "\n",
    "        speed_heap = []\n",
    "        speed_sum, perf = 0, 0\n",
    "        for curr_efficiency, curr_speed in candidates:\n",
    "            # maintain a heap for the fastest (k-1) speeds\n",
    "            if len(speed_heap) > k-1:\n",
    "                speed_sum -= heapq.heappop(speed_heap)\n",
    "            heapq.heappush(speed_heap, curr_speed)\n",
    "\n",
    "            # calculate the maximum performance with the current member as the least efficient one in the team\n",
    "            speed_sum += curr_speed\n",
    "            perf = max(perf, speed_sum * curr_efficiency)\n",
    "\n",
    "        return perf % modulo"
   ]
  },
  {
   "cell_type": "code",
   "execution_count": 40,
   "id": "c0b377b2",
   "metadata": {},
   "outputs": [
    {
     "name": "stdout",
     "output_type": "stream",
     "text": [
      "deque([0, 1])\n",
      "[8, -10000, -10000]\n",
      "deque([1, 2])\n",
      "[8, 7, -10000]\n",
      "deque([3])\n",
      "[8, 7, 9]\n"
     ]
    },
    {
     "data": {
      "text/plain": [
       "[8, 7, 9]"
      ]
     },
     "execution_count": 40,
     "metadata": {},
     "output_type": "execute_result"
    }
   ],
   "source": [
    "import collections\n",
    "class Solution(object):\n",
    "    def maxSlidingWindow(self, nums, k):\n",
    "        \"\"\"\n",
    "        :type nums: List[int]\n",
    "        :type k: int\n",
    "        :rtype: List[int]\n",
    "        \"\"\"\n",
    "        if k == 1:\n",
    "            return nums\n",
    "\n",
    "        slidingMax = [-10000] * (len(nums)-k+1)\n",
    "        dq = collections.deque([0]) # save the index of local maximum\n",
    "\n",
    "        for i in range(1, len(nums)):\n",
    "            while dq and nums[dq[-1]] < nums[i]:\n",
    "                dq.pop()\n",
    "            dq.append(i)\n",
    "            if i - dq[0] >=k:\n",
    "                dq.popleft()\n",
    "            if i >= k-1:\n",
    "                slidingMax[i-k+1] = nums[dq[0]]\n",
    "                print(slidingMax)\n",
    "        \n",
    "        return slidingMax\n",
    "\n",
    "solution = Solution()\n",
    "solution.maxSlidingWindow([8,7,6,9],2)"
   ]
  },
  {
   "cell_type": "code",
   "execution_count": 29,
   "id": "0ac8b3cf",
   "metadata": {},
   "outputs": [
    {
     "name": "stdout",
     "output_type": "stream",
     "text": [
      "defaultdict(<class 'list'>, {'*ot': ['hot', 'dot', 'lot'], 'h*t': ['hot', 'hit'], 'ho*': ['hot'], 'd*t': ['dot'], 'do*': ['dot', 'dog'], '*og': ['dog', 'log', 'cog'], 'd*g': ['dog'], 'l*t': ['lot'], 'lo*': ['lot', 'log'], 'l*g': ['log'], 'c*g': ['cog'], 'co*': ['cog'], '*it': ['hit'], 'hi*': ['hit']})\n"
     ]
    },
    {
     "data": {
      "text/plain": [
       "5"
      ]
     },
     "execution_count": 29,
     "metadata": {},
     "output_type": "execute_result"
    }
   ],
   "source": [
    "import collections\n",
    "class Solution:\n",
    "    def ladderLength(self, beginWord, endWord, wordList):\n",
    "        if endWord not in wordList:\n",
    "            return 0\n",
    "\n",
    "        nei = collections.defaultdict(list)\n",
    "        wordList.append(beginWord)\n",
    "        for word in wordList:\n",
    "            for j in range(len(word)):\n",
    "                pattern = word[:j] + \"*\" + word[j + 1:]\n",
    "                nei[pattern].append(word)\n",
    "        \n",
    "        print(nei)\n",
    "        visit = set([beginWord])\n",
    "        q = collections.deque([beginWord])\n",
    "        res = 1\n",
    "        while q:\n",
    "            for i in range(len(q)):\n",
    "                word = q.popleft()\n",
    "                if word == endWord:\n",
    "                    return res\n",
    "                for j in range(len(word)):\n",
    "                    pattern = word[:j] + \"*\" + word[j + 1 :]\n",
    "                    for neiWord in nei[pattern]:\n",
    "                        visit.add(neiWord)\n",
    "                        q.append(neiWord)\n",
    "            res += 1\n",
    "        return 0\n",
    "\n",
    "beginWord = \"hit\"\n",
    "endWord = \"cog\"\n",
    "wordList = [\"hot\",\"dot\",\"dog\",\"lot\",\"log\",\"cog\"]\n",
    "solution = Solution()\n",
    "solution.ladderLength(beginWord,endWord,wordList)"
   ]
  }
 ],
 "metadata": {
  "kernelspec": {
   "display_name": "Python 3.10.5 64-bit",
   "language": "python",
   "name": "python3"
  },
  "language_info": {
   "codemirror_mode": {
    "name": "ipython",
    "version": 3
   },
   "file_extension": ".py",
   "mimetype": "text/x-python",
   "name": "python",
   "nbconvert_exporter": "python",
   "pygments_lexer": "ipython3",
   "version": "3.10.7"
  },
  "vscode": {
   "interpreter": {
    "hash": "369f2c481f4da34e4445cda3fffd2e751bd1c4d706f27375911949ba6bb62e1c"
   }
  }
 },
 "nbformat": 4,
 "nbformat_minor": 5
}
