{
 "cells": [
  {
   "cell_type": "code",
   "execution_count": 4,
   "id": "e151373c",
   "metadata": {},
   "outputs": [
    {
     "name": "stdout",
     "output_type": "stream",
     "text": [
      "1\n",
      "-1\n",
      "3\n",
      "-1\n",
      "3\n",
      "4\n"
     ]
    }
   ],
   "source": [
    "import collections\n",
    "\n",
    "class ListNode:\n",
    "    def __init__(self, key, value):\n",
    "        self.key = key\n",
    "        self.val = value\n",
    "        self.freq = 1\n",
    "        \n",
    "class LFUCache:\n",
    "    def __init__(self, capacity: int):\n",
    "        self.capacity = capacity\n",
    "        self.cache = dict() \n",
    "        self.usage = collections.defaultdict(collections.OrderedDict)\n",
    "        self.LF = 0\n",
    "\n",
    "    def get(self, key: int) -> int:\n",
    "        if key not in self.cache:return -1\n",
    "        node = self.cache[key]\n",
    "\n",
    "        self.update(node, node.val)\n",
    "        return node.val\n",
    "        \n",
    "    def put(self, key: int, value: int) -> None:\n",
    "        if self.capacity == 0: return\n",
    "        if key not in self.cache: \n",
    "            if len(self.cache) >= self.capacity:\n",
    "                k, v = self.usage[self.LF].popitem(last=False)\n",
    "                self.cache.pop(k)\n",
    "            node = ListNode(key, value)\n",
    "            self.cache[key] = node\n",
    "            self.usage[1][key] = value\n",
    "            self.LF = 1\n",
    "        else: \n",
    "            node = self.cache[key]\n",
    "            node.val = value\n",
    "            self.update(node, value)\n",
    "            \n",
    "            \n",
    "    def update(self, node, newVal):\n",
    "        k, f = node.key, node.freq\n",
    "        self.usage[f].pop(k)\n",
    "        if not self.usage[f] and self.LF == f:\n",
    "            self.LF += 1\n",
    "        self.usage[f+1][k] = newVal\n",
    "        node.freq += 1\n",
    "\n",
    "lfu = LFUCache(2)\n",
    "lfu.put(1, 1)       # cache=[1,_], cnt(1)=1\n",
    "lfu.put(2, 2)       # cache=[2,1], cnt(2)=1, cnt(1)=1\n",
    "print(lfu.get(1))   # return 1\n",
    "                    # cache=[1,2], cnt(2)=1, cnt(1)=2\n",
    "lfu.put(3, 3)       # 2 is the LFU key because cnt(2)=1 is the smallest, invalidate 2.\n",
    "                    # cache=[3,1], cnt(3)=1, cnt(1)=2\n",
    "print(lfu.get(2))   # return -1 (not found)\n",
    "print(lfu.get(3))   # return 3\n",
    "                    # cache=[3,1], cnt(3)=2, cnt(1)=2\n",
    "lfu.put(4, 4)       # Both 1 and 3 have the same cnt, but 1 is LRU, invalidate 1.\n",
    "                    # cache=[4,3], cnt(4)=1, cnt(3)=2\n",
    "print(lfu.get(1))   # return -1 (not found)\n",
    "print(lfu.get(3))   # return 3\n",
    "                    # cache=[3,4], cnt(4)=1, cnt(3)=3\n",
    "print(lfu.get(4))   # return 4\n",
    "                    # cache=[4,3], cnt(4)=2, cnt(3)=3"
   ]
  },
  {
   "cell_type": "code",
   "execution_count": 5,
   "id": "707cfdfb",
   "metadata": {},
   "outputs": [],
   "source": [
    "class Node:\n",
    "    def __init__(self, key, val):\n",
    "        self.val = val\n",
    "        self.key = key\n",
    "        self.next = None\n",
    "        self.prev = None\n",
    "        \n",
    "class LinkedList:\n",
    "    def __init__(self):\n",
    "        self.head = None\n",
    "        self.tail = None\n",
    "    \n",
    "    def insert(self, node):\n",
    "        if self.head is None:\n",
    "            self.head = node\n",
    "        else:\n",
    "            self.tail.next = node\n",
    "            node.prev = self.tail\n",
    "        self.tail = node\n",
    "            \n",
    "    def delete(self, node):\n",
    "        if node.prev:\n",
    "            node.prev.next = node.next\n",
    "        else:\n",
    "            self.head = node.next\n",
    "            \n",
    "        if node.next:\n",
    "            node.next.prev = node.prev\n",
    "        else:\n",
    "            self.tail = node.prev\n",
    "\n",
    "class LRUCache:\n",
    "    def __init__(self, capacity):\n",
    "        self.list = LinkedList()\n",
    "        self.dict = {}\n",
    "        self.capacity = capacity\n",
    "        \n",
    "    def _insert(self, key, val):\n",
    "        node = Node(key, val)\n",
    "        self.list.insert(node)\n",
    "        self.dict[key] = node\n",
    "\n",
    "    def get(self, key):\n",
    "        if key in self.dict:\n",
    "            val = self.dict[key].val\n",
    "            self.list.delete(self.dict[key])\n",
    "            self._insert(key, val)\n",
    "            return val\n",
    "        return -1\n",
    "\n",
    "    def put(self, key, val):\n",
    "        if key in self.dict:\n",
    "            self.list.delete(self.dict[key])\n",
    "        elif len(self.dict) == self.capacity:\n",
    "            del self.dict[self.list.head.key]\n",
    "            self.list.delete(self.list.head)\n",
    "        self._insert(key, val)"
   ]
  },
  {
   "cell_type": "code",
   "execution_count": 6,
   "id": "01e60756",
   "metadata": {},
   "outputs": [
    {
     "data": {
      "text/plain": [
       "4"
      ]
     },
     "execution_count": 6,
     "metadata": {},
     "output_type": "execute_result"
    }
   ],
   "source": [
    "lRUCache = LRUCache(2)\n",
    "lRUCache.put(1, 1)  # cache is {1=1}\n",
    "lRUCache.put(2, 2)  # cache is {1=1, 2=2}\n",
    "lRUCache.get(1)     # return 1\n",
    "lRUCache.put(3, 3)  # LRU key was 2, evicts key 2, cache is {1=1, 3=3}\n",
    "lRUCache.get(2)     # returns -1 (not found)\n",
    "lRUCache.put(4, 4)  # LRU key was 1, evicts key 1, cache is {4=4, 3=3}\n",
    "lRUCache.get(1)     # return -1 (not found)\n",
    "lRUCache.get(3)     # return 3\n",
    "lRUCache.get(4)     # return 4"
   ]
  },
  {
   "cell_type": "code",
   "execution_count": 5,
   "id": "8ade4b29",
   "metadata": {},
   "outputs": [
    {
     "data": {
      "text/plain": [
       "tensor([1.3000])"
      ]
     },
     "execution_count": 5,
     "metadata": {},
     "output_type": "execute_result"
    }
   ],
   "source": [
    "import torch\n",
    "\n",
    "x = torch.Tensor([0.6])\n",
    "y = torch.Tensor([0.7])\n",
    "\n",
    "x + y"
   ]
  },
  {
   "cell_type": "code",
   "execution_count": 6,
   "id": "1a70881c",
   "metadata": {},
   "outputs": [
    {
     "data": {
      "text/plain": [
       "1.2999999999999998"
      ]
     },
     "execution_count": 6,
     "metadata": {},
     "output_type": "execute_result"
    }
   ],
   "source": [
    "x = 0.6\n",
    "y = 0.7\n",
    "\n",
    "x+y"
   ]
  },
  {
   "cell_type": "code",
   "execution_count": 7,
   "id": "f5b38a20",
   "metadata": {},
   "outputs": [
    {
     "data": {
      "text/plain": [
       "0.30000000000000004"
      ]
     },
     "execution_count": 7,
     "metadata": {},
     "output_type": "execute_result"
    }
   ],
   "source": [
    "0.2 + 0.1"
   ]
  },
  {
   "cell_type": "code",
   "execution_count": 10,
   "id": "bf5db217",
   "metadata": {},
   "outputs": [
    {
     "data": {
      "text/plain": [
       "tensor([[0.4963, 0.7682],\n",
       "        [0.0885, 0.1320],\n",
       "        [0.3074, 0.6341],\n",
       "        [0.4901, 0.8964],\n",
       "        [0.4556, 0.6323],\n",
       "        [0.3489, 0.4017],\n",
       "        [0.0223, 0.1689],\n",
       "        [0.2939, 0.5185],\n",
       "        [0.6977, 0.8000],\n",
       "        [0.1610, 0.2823]])"
      ]
     },
     "execution_count": 10,
     "metadata": {},
     "output_type": "execute_result"
    }
   ],
   "source": [
    "import torch \n",
    "\n",
    "torch.manual_seed(0)\n",
    "x = torch.rand((10,2))\n",
    "x"
   ]
  },
  {
   "cell_type": "code",
   "execution_count": 9,
   "id": "8b9a7462",
   "metadata": {},
   "outputs": [
    {
     "data": {
      "text/plain": [
       "tensor([[0.4963, 0.7682, 0.0885, 0.1320],\n",
       "        [0.3074, 0.6341, 0.4901, 0.8964],\n",
       "        [0.4556, 0.6323, 0.3489, 0.4017],\n",
       "        [0.0223, 0.1689, 0.2939, 0.5185],\n",
       "        [0.6977, 0.8000, 0.1610, 0.2823]])"
      ]
     },
     "execution_count": 9,
     "metadata": {},
     "output_type": "execute_result"
    }
   ],
   "source": [
    "x.view(-1,4)"
   ]
  }
 ],
 "metadata": {
  "kernelspec": {
   "display_name": "Python 3.10.5 64-bit",
   "language": "python",
   "name": "python3"
  },
  "language_info": {
   "codemirror_mode": {
    "name": "ipython",
    "version": 3
   },
   "file_extension": ".py",
   "mimetype": "text/x-python",
   "name": "python",
   "nbconvert_exporter": "python",
   "pygments_lexer": "ipython3",
   "version": "3.8.18"
  },
  "vscode": {
   "interpreter": {
    "hash": "369f2c481f4da34e4445cda3fffd2e751bd1c4d706f27375911949ba6bb62e1c"
   }
  }
 },
 "nbformat": 4,
 "nbformat_minor": 5
}
