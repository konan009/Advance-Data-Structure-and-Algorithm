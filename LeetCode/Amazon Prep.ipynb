{
 "cells": [
  {
   "cell_type": "markdown",
   "id": "edb56c50",
   "metadata": {},
   "source": [
    "<h2>Top Amazon Leetcode</h2>\n",
    "Link : https://leetcode.com/problem-list/top-amazon-queueuestions/\n"
   ]
  },
  {
   "cell_type": "code",
   "execution_count": 31,
   "id": "0ceb25fa",
   "metadata": {},
   "outputs": [
    {
     "name": "stdout",
     "output_type": "stream",
     "text": [
      "[1, 2]\n"
     ]
    }
   ],
   "source": [
    "## 1. Two Sum\n",
    "nums = [2,7,11,15]\n",
    "target = 9\n",
    "\n",
    "\n",
    "nums =  [3,2,4]\n",
    "target = 6\n",
    "\n",
    "for index1,value in enumerate(nums) :\n",
    "    for index2,value2 in enumerate(nums[int(index1)+1:]):\n",
    "        if(target == value + value2):\n",
    "            print( [index1, index1 + index2 + 1] )\n"
   ]
  },
  {
   "cell_type": "code",
   "execution_count": 35,
   "id": "9830cdf1",
   "metadata": {},
   "outputs": [
    {
     "data": {
      "text/plain": [
       "[[15, 13, 2, 5], [14, 3, 4, 1], [12, 6, 8, 9], [16, 7, 10, 11]]"
      ]
     },
     "execution_count": 35,
     "metadata": {},
     "output_type": "execute_result"
    }
   ],
   "source": [
    "## 48. Rotate Image\n",
    "matrix = [[5,1,9,11],[2,4,8,10],[13,3,6,7],[15,14,12,16]]\n",
    "\n",
    "l, r = 0, len(matrix) - 1\n",
    "\n",
    "while l < r:\n",
    "    \n",
    "    for i in range( r - l ):\n",
    "        top, bottom = l, r\n",
    "        topLeft = matrix[ top ][ l + i ]\n",
    "\n",
    "        # bottom left to top left \n",
    "        matrix[ top ][ l + i ] = matrix[ bottom - i ][ l ]\n",
    "\n",
    "        # bottom right to bottom left\n",
    "        matrix[ bottom-i ][ l ] = matrix[ bottom ][ r - i ]\n",
    "\n",
    "        # top right bottom right \n",
    "        matrix[ bottom ][ r - i ] = matrix[ top + i ][ r ]\n",
    "\n",
    "        # top left to top right\n",
    "        matrix[ top + i ][ r ] = topLeft\n",
    "\n",
    "    r -= 1\n",
    "    l += 1\n",
    "matrix\n"
   ]
  },
  {
   "cell_type": "code",
   "execution_count": 17,
   "id": "c200400f",
   "metadata": {},
   "outputs": [
    {
     "name": "stdout",
     "output_type": "stream",
     "text": [
      "10\n"
     ]
    },
    {
     "data": {
      "text/plain": [
       "1"
      ]
     },
     "execution_count": 17,
     "metadata": {},
     "output_type": "execute_result"
    }
   ],
   "source": [
    "\n",
    "def numIslands( grid ):\n",
    "    if not grid:\n",
    "        return 0\n",
    "\n",
    "    def bfs(r,c):\n",
    "        queue = []\n",
    "        visit.add((r,c))\n",
    "        queue.append((r,c))\n",
    "        area = 1\n",
    "        while queue:\n",
    "            row,col = queue.pop(0)\n",
    "            directions = [[1,0],[0,1],[-1,0],[0,-1]]\n",
    "            for dr,dc in directions:\n",
    "                r, c = row + dr, col + dc\n",
    "                if ( r in range(rows) and \n",
    "                     c in range(cols) and \n",
    "                     grid[r][c] == \"1\" and \n",
    "                     (r,c) not in visit):\n",
    "                        area += 1\n",
    "                        queue.append((r,c))\n",
    "                        visit.add((r,c))\n",
    "\n",
    "        return area\n",
    "\n",
    "    rows, cols = len(grid), len(grid[0])\n",
    "    visit = set()\n",
    "    islands = 0\n",
    "    max_area = 0 \n",
    "    for r in range(rows):\n",
    "        for c in range(cols):\n",
    "            if grid[r][c]== \"1\" and (r,c) not in visit:\n",
    "                max_area = max( bfs(r,c), max_area ) \n",
    "                islands += 1\n",
    "\n",
    "    return islands\n",
    "\n",
    "grid = [\n",
    "  [\"1\",\"1\",\"1\",\"1\",\"1\"],\n",
    "  [\"1\",\"1\",\"0\",\"1\",\"0\"],\n",
    "  [\"1\",\"1\",\"0\",\"0\",\"0\"],\n",
    "  [\"0\",\"0\",\"0\",\"0\",\"0\"]\n",
    "] \n",
    "\n",
    "# grid = [\n",
    "#   [\"1\",\"1\",\"0\",\"0\",\"0\"],\n",
    "#   [\"1\",\"1\",\"0\",\"0\",\"0\"],\n",
    "#   [\"0\",\"0\",\"1\",\"0\",\"0\"],\n",
    "#   [\"0\",\"0\",\"0\",\"1\",\"1\"]\n",
    "# ]\n",
    "\n",
    "numIslands( grid )"
   ]
  },
  {
   "cell_type": "code",
   "execution_count": 2,
   "id": "75ea0e23",
   "metadata": {},
   "outputs": [
    {
     "data": {
      "text/plain": [
       "3"
      ]
     },
     "execution_count": 2,
     "metadata": {},
     "output_type": "execute_result"
    }
   ],
   "source": [
    "def numIslands( grid ):\n",
    "    if not grid:\n",
    "        return 0\n",
    "\n",
    "    def bfs(r,c):\n",
    "        queue = []\n",
    "        visit.add((r,c))\n",
    "        queue.append((r,c))\n",
    "        area = 1\n",
    "        while queue:\n",
    "            row,col = queue.pop(0)\n",
    "            directions = [[1,0],[0,1],[-1,0],[0,-1]]\n",
    "            for dr,dc in directions:\n",
    "                r, c = row + dr, col + dc\n",
    "                if ( r in range(rows) and \n",
    "                     c in range(cols) and \n",
    "                     grid[r][c] == \"1\" and \n",
    "                     (r,c) not in visit):\n",
    "                        area += 1\n",
    "                        queue.append((r,c))\n",
    "                        visit.add((r,c))\n",
    "\n",
    "        return area\n",
    "\n",
    "    rows, cols = len(grid), len(grid[0])\n",
    "    visit = set()\n",
    "    islands = 0\n",
    "    max_area = 0 \n",
    "    for r in range(rows):\n",
    "        for c in range(cols):\n",
    "            if grid[r][c]== \"1\" and (r,c) not in visit:\n",
    "                max_area = max( bfs(r,c), max_area ) \n",
    "                islands += 1\n",
    "\n",
    "    return islands\n",
    "\n",
    "\n",
    "grid = [\n",
    "  [\"1\",\"1\",\"0\",\"0\",\"0\"],\n",
    "  [\"1\",\"1\",\"0\",\"0\",\"0\"],\n",
    "  [\"0\",\"0\",\"1\",\"0\",\"0\"],\n",
    "  [\"0\",\"0\",\"0\",\"1\",\"1\"]\n",
    "]\n",
    "\n",
    "numIslands( grid )"
   ]
  },
  {
   "cell_type": "code",
   "execution_count": 101,
   "id": "97d8a5bc",
   "metadata": {},
   "outputs": [
    {
     "data": {
      "text/plain": [
       "'fl'"
      ]
     },
     "execution_count": 101,
     "metadata": {},
     "output_type": "execute_result"
    }
   ],
   "source": [
    "# 14. Longest Common Prefix\n",
    "strs = [\"flower\",\"flow\",\"flight\"]\n",
    "\n",
    "\n",
    "def longestCommonPrefix( strs):\n",
    "    res = \"\"\n",
    "\n",
    "    for i in range(len(strs[0])):\n",
    "        for s in strs:\n",
    "            if i == len(s) or s[i] != strs[0][i]:\n",
    "                return res\n",
    "        res += strs[0][i]\n",
    "\n",
    "    return res \n",
    "\n",
    "longestCommonPrefix( strs)"
   ]
  },
  {
   "cell_type": "code",
   "execution_count": 106,
   "id": "29e19b8b",
   "metadata": {},
   "outputs": [
    {
     "data": {
      "text/plain": [
       "0"
      ]
     },
     "execution_count": 106,
     "metadata": {},
     "output_type": "execute_result"
    }
   ],
   "source": [
    "haycomb_queueueue = \"hello\"\n",
    "needle = \"ll\"\n",
    "\n",
    "\n",
    "def strStr(haycomb_queueueue, needle):\n",
    "    index = 0\n",
    "    starting_index = 0 \n",
    "    for i in haycomb_queueueue:\n",
    "        if(len(needle)==index):\n",
    "            return starting_index\n",
    "        else:\n",
    "            if(needle[index]==i):\n",
    "                index +=1\n",
    "    \n",
    "strStr(haycomb_queueueue, needle)\n",
    "    "
   ]
  },
  {
   "cell_type": "code",
   "execution_count": 2,
   "id": "432dc0f4",
   "metadata": {},
   "outputs": [
    {
     "data": {
      "text/plain": [
       "7"
      ]
     },
     "execution_count": 2,
     "metadata": {},
     "output_type": "execute_result"
    }
   ],
   "source": [
    "## 2. Add Two Numbers\n",
    "class ListNode(object):\n",
    "    def __init__(self, val=0, next=None):\n",
    "        self.val = val\n",
    "        self.next = next\n",
    "\n",
    "def addTwoNumbers( l1, l2):\n",
    "\n",
    "    return \n",
    "\n",
    "node_1_3 = ListNode(3,None)\n",
    "node_1_2 = ListNode(4,node_1_3)\n",
    "node_1_1 = ListNode(2,node_1_2)\n",
    "\n",
    "node_2_3 = ListNode(4,None)\n",
    "node_2_2 = ListNode(6,node_2_3)\n",
    "node_2_1 = ListNode(5,node_2_2)\n",
    "\n",
    "addTwoNumbers( node_1_1, node_2_1).val\n"
   ]
  },
  {
   "cell_type": "code",
   "execution_count": 3,
   "id": "4593533d",
   "metadata": {},
   "outputs": [
    {
     "data": {
      "text/plain": [
       "7"
      ]
     },
     "execution_count": 3,
     "metadata": {},
     "output_type": "execute_result"
    }
   ],
   "source": [
    "node_1_3 = ListNode(3,None)\n",
    "node_1_2 = ListNode(4,node_1_3)\n",
    "node_1_1 = ListNode(2,node_1_2)\n",
    "\n",
    "node_2_3 = ListNode(4,None)\n",
    "node_2_2 = ListNode(6,node_2_3)\n",
    "node_2_1 = ListNode(5,node_2_2)\n",
    "\n",
    "def addTwoNumbers2( l1, l2 ):\n",
    "\n",
    "    return dummy.next\n",
    "\n",
    "addTwoNumbers2( node_1_1, node_2_1).val\n"
   ]
  },
  {
   "cell_type": "code",
   "execution_count": 3,
   "id": "97f6b4e0",
   "metadata": {},
   "outputs": [
    {
     "data": {
      "text/plain": [
       "dict_values([['eat', 'tea', 'ate'], ['tan', 'nat'], ['bat']])"
      ]
     },
     "execution_count": 3,
     "metadata": {},
     "output_type": "execute_result"
    }
   ],
   "source": [
    "## 49. Group Anagrams\n",
    "strs = [\"eat\",\"tea\",\"tan\",\"ate\",\"nat\",\"bat\"]\n",
    "from collections import defaultdict\n",
    "\n",
    "def groupAnagrams( strs ):\n",
    "    res = defaultdict(list)\n",
    "\n",
    "    for s in strs:\n",
    "        count = [0] * 26\n",
    "        for c in s:\n",
    "            count[ord(c) - ord(\"a\")] += 1\n",
    "        res[tuple(count)].append(s)\n",
    "        \n",
    "    return res.values()\n",
    "\n",
    "groupAnagrams( strs )"
   ]
  },
  {
   "cell_type": "code",
   "execution_count": 8,
   "id": "72fec032",
   "metadata": {},
   "outputs": [
    {
     "data": {
      "text/plain": [
       "3"
      ]
     },
     "execution_count": 8,
     "metadata": {},
     "output_type": "execute_result"
    }
   ],
   "source": [
    "\n",
    "def lengthOflongestSubstring( s ):\n",
    "    charSet = set()\n",
    "    l = 0 \n",
    "    res = 0 \n",
    "\n",
    "    for r in range(len(s)):\n",
    "        while s[r] in charSet:\n",
    "            charSet.remove(s[l])\n",
    "            l += 1\n",
    "\n",
    "        charSet.add(s[r])\n",
    "        res = max(res, r - l  + 1)\n",
    "\n",
    "    return res\n",
    "\n",
    "s = \"abcabcbb\"\n",
    "lengthOflongestSubstring( s )"
   ]
  },
  {
   "cell_type": "code",
   "execution_count": 62,
   "id": "b6cafe32",
   "metadata": {},
   "outputs": [
    {
     "data": {
      "text/plain": [
       "4"
      ]
     },
     "execution_count": 62,
     "metadata": {},
     "output_type": "execute_result"
    }
   ],
   "source": [
    "# Decreasing Rating Problem\n",
    "ratings = [4, 3, 5, 4, 3]\n",
    "ratings = [2, 1, 3]\n",
    "def countDecreasingRatings(ratings):\n",
    "\n",
    "    \n",
    "    return \n",
    "\n",
    "countDecreasingRatings(ratings)"
   ]
  },
  {
   "cell_type": "code",
   "execution_count": 92,
   "id": "ee6372ea",
   "metadata": {},
   "outputs": [
    {
     "name": "stdout",
     "output_type": "stream",
     "text": [
      "10\n"
     ]
    }
   ],
   "source": [
    "import collections\n",
    "class Node:\n",
    "    def __init__(self, val, next = None ):\n",
    "        self.val = val\n",
    "        self.next = next\n",
    "\n",
    "def maxPairList(head):\n",
    "    fast = head\n",
    "    slow = head\n",
    "    current = head\n",
    "\n",
    "    while(fast and fast.next ):\n",
    "        slow = slow.next\n",
    "        fast = fast.next.next\n",
    "    \n",
    "    slow = reverse(slow)\n",
    "    max = 0\n",
    "    while (slow ) :\n",
    "        sum = slow.val + current.val\n",
    "        if (max < sum):\n",
    "            max = sum\n",
    "        slow = slow.next\n",
    "        current = current.next\n",
    "    \n",
    "    return max\n",
    "\n",
    "\n",
    "def reverse( head) :\n",
    "    prev = None\n",
    "    next = head\n",
    "    current = head\n",
    "    \n",
    "    while(current):\n",
    "        next = next.next\n",
    "        current.next = prev\n",
    "        prev = current\n",
    "        current = next\n",
    "\n",
    "    return prev\n",
    "\n",
    "# chapters = Node(1)\n",
    "# chapters.next = Node(4)\n",
    "# chapters.next.next = Node(3)\n",
    "# chapters.next.next.next = Node(2)\n",
    "\n",
    "chapters = Node(1)\n",
    "chapters.next = Node(2)\n",
    "chapters.next.next = Node(1)\n",
    "chapters.next.next.next = Node(3)\n",
    "chapters.next.next.next.next = Node(9)\n",
    "\n",
    "\n",
    "# example: [1,2,3,4,9,11]\n",
    "print(maxPairList(chapters))"
   ]
  },
  {
   "cell_type": "code",
   "execution_count": 24,
   "id": "05bb6fe8",
   "metadata": {},
   "outputs": [
    {
     "name": "stdout",
     "output_type": "stream",
     "text": [
      "7\n",
      "5\n",
      "0\n",
      "0\n",
      "2\n"
     ]
    }
   ],
   "source": [
    "## O( N )\n",
    "def numswaps(binary):\n",
    "    count = 0\n",
    "    n = len(binary)\n",
    "\n",
    "    combinations = []\n",
    "    indexes = []\n",
    "    for i in range(n // 2):\n",
    "        if binary[i] != binary[n - i - 1]:\n",
    "            combinations.append(binary[i]+ binary[n - i - 1])\n",
    "            indexes.append(i)\n",
    "\n",
    "  \n",
    "    if(len(combinations)<1):\n",
    "        return 0\n",
    "\n",
    "    comb_stack = []\n",
    "    index_stack = []\n",
    "    comb_stack.append( combinations[0] )\n",
    "    index_stack.append( indexes[0] )\n",
    "    \n",
    "    for i in range(1,len(combinations)):\n",
    "        comb_stack.append(combinations[i])\n",
    "        index_stack.append(indexes[i])\n",
    "        \n",
    "        if( comb_stack[0] != comb_stack[-1]):\n",
    "            count += ( n - index_stack[0] - 1 )- (n - index_stack[-1] - 1)\n",
    "            comb_stack = comb_stack[1:-1]\n",
    "            index_stack = index_stack[1:-1]\n",
    "\n",
    "    if(len(index_stack)>0):\n",
    "        if( len(index_stack) == 1 ):\n",
    "            count +=  (n // 2 ) - index_stack[0]\n",
    "        else:\n",
    "            count += ( n - index_stack[0] - 1 )- ( index_stack[-1] )\n",
    "    \n",
    "    return count\n",
    "\n",
    "\n",
    "print(numswaps('110000000'))\n",
    "print(numswaps('00111000001'))\n",
    "print(numswaps('1001001'))\n",
    "print(numswaps('100010001'))\n",
    "print(numswaps('0100101'))\n"
   ]
  },
  {
   "cell_type": "code",
   "execution_count": 1,
   "id": "2d281582",
   "metadata": {},
   "outputs": [
    {
     "data": {
      "text/plain": [
       "[['N/A'],\n",
       " ['UIAHSIHGFG', 'RGSRTWR', 'EYJTRJYEYTJ'],\n",
       " ['N/A'],\n",
       " ['QERGFSFDS', 'QERGFSFDS2', 'QERGFSFDS3']]"
      ]
     },
     "execution_count": 1,
     "metadata": {},
     "output_type": "execute_result"
    }
   ],
   "source": [
    "# insert_and_ship_orders = [['INSERT','GT23513413'], ['INSERT', 'TqueueC2451340'], ['SHIP','-'], ['INSERT','VYP8561991'], ['INSERT','TEST'], ['SHIP','-']]\n",
    "# insert_and_ship_orders = [[\"INSERT\", \"UIAHSIHGFG\"] , [\"INSERT\", \"RGSRTWR\"] , [\"SHIP\", \"-\"] , [\"INSERT\", \"EYJTRJYEYTJ\"] , [\"INSERT\", \"queueERGFSFDS\"], [\"SHIP\", \"-\"]]\n",
    "insert_and_ship_orders = [[\"INSERT\", \"UIAHSIHGFG\"] , [\"INSERT\", \"RGSRTWR\"] , [\"SHIP\", \"-\"] , [\"INSERT\", \"EYJTRJYEYTJ\"] , [\"INSERT\", \"queueERGFSFDS\"], [\"SHIP\", \"-\"], [\"INSERT\", \"queueERGFSFDS2\"], [\"SHIP\", \"-\"], [\"INSERT\", \"queueERGFSFDS3\"], [\"SHIP\", \"-\"]]\n",
    "\n",
    "def createFunction( orders):\n",
    "    queueueue = []\n",
    "    batch = []\n",
    "    for index in range(len(orders)):\n",
    "        order_type , code = orders[index]\n",
    "        if order_type == 'INSERT':\n",
    "            queueueue.append(code)\n",
    "        else:\n",
    "            if len(queueueue) < 3:\n",
    "                batch.append(['N/A'])\n",
    "            else:\n",
    "                batch.append(queueueue[0:3])\n",
    "                queueueue = queueueue[3:]\n",
    "    return batch\n",
    "\n",
    "createFunction( insert_and_ship_orders)"
   ]
  },
  {
   "cell_type": "code",
   "execution_count": 6,
   "id": "d0619cc0",
   "metadata": {},
   "outputs": [
    {
     "name": "stdout",
     "output_type": "stream",
     "text": [
      "2\n",
      "1\n",
      "1\n",
      "2\n",
      "2\n"
     ]
    }
   ],
   "source": [
    "# Flip binary to monotonic increasing\n",
    "s = \"100011\"\n",
    "\n",
    "def countflips(s):\n",
    "    n = len(s)\n",
    "    ones = s.count('1')\n",
    "    zeroes = 0\n",
    "    best = ones \n",
    "    \n",
    "    for i in reversed(range(n)):\n",
    "        if s[i]== \"0\":\n",
    "            zeroes += 1\n",
    "        else:\n",
    "            ones -= 1\n",
    "\n",
    "        best = min(zeroes + ones, best)\n",
    "\n",
    "    return best\n",
    "\n",
    "countflips(s)\n"
   ]
  },
  {
   "cell_type": "code",
   "execution_count": 9,
   "id": "bf3954a4",
   "metadata": {},
   "outputs": [
    {
     "name": "stdout",
     "output_type": "stream",
     "text": [
      "44\n",
      "27\n",
      "59\n"
     ]
    }
   ],
   "source": [
    "def totalStrength(strength):\n",
    "    n = len(strength)\n",
    "    \n",
    "    stack = [] \n",
    "    min_prev = [-1] * n\n",
    "    for index in range(n):\n",
    "        while stack and strength[index] < strength[stack[-1]] :\n",
    "            stack.pop()\n",
    "\n",
    "        if(stack):\n",
    "            min_prev[index] = stack[-1]\n",
    "\n",
    "        stack.append(index)\n",
    "\n",
    "    stack = [] \n",
    "    min_next = [n] * n \n",
    "    for index in reversed(range(n)):\n",
    "        while stack and   strength[index] <= strength[stack[-1]]:\n",
    "            stack.pop()\n",
    "\n",
    "        if(stack):\n",
    "            min_next[index] = stack[-1]\n",
    "\n",
    "        stack.append(index)\n",
    "\n",
    "    pref = [0] * (n+2)\n",
    "    for j in range(1,n+1):\n",
    "        pref[j] = (pref[j-1] + strength[j-1]) \n",
    "    \n",
    "\n",
    "    pref_pref = [0] * (n+2)\n",
    "    for j in range(1,n+1):\n",
    "        pref_pref[j] = (pref_pref[j-1] + pref[j]) \n",
    "        \n",
    "    ans = 0\n",
    "    for i in range(1,n+1):\n",
    "        p = min_prev[i-1] + 1\n",
    "        n = min_next[i-1] + 1\n",
    "\n",
    "        minus = pref_pref[i-1] -( pref_pref[p-1] if p > 0 else 0)\n",
    "        plus = pref_pref[n-1] - pref_pref[i-1] \n",
    "\n",
    "        before = i - p\n",
    "        after = n - i\n",
    "        \n",
    "        total = (plus * before)  - (minus * after)\n",
    "        ans = (ans + (total * strength[i-1]) ) \n",
    "    \n",
    "    return ans\n",
    "    \n",
    "print( totalStrength([1,3,1,2]) )\n",
    "print( totalStrength([2,1,3]) )\n",
    "print( totalStrength([1,3,4]) )"
   ]
  },
  {
   "cell_type": "code",
   "execution_count": 11,
   "id": "72630b6c",
   "metadata": {},
   "outputs": [
    {
     "name": "stdout",
     "output_type": "stream",
     "text": [
      "([-1, 0, 0, 2], [4, 2, 4, 4])\n"
     ]
    }
   ],
   "source": [
    "def solve(rank):\n",
    "    n = len(rank)\n",
    "\n",
    "    left_boundary = [-1] * n\n",
    "    rank_and_index = {}\n",
    "    for i in range(n):\n",
    "        boundary = rank[i] + 1\n",
    "        if boundary in rank_and_index:\n",
    "            left_boundary[i] = rank_and_index[boundary]\n",
    "        rank_and_index[rank[i]] = i\n",
    "\n",
    "    right_boundary = [n] * n\n",
    "    rank_and_index = {}\n",
    "    for i in reversed(range(n)):\n",
    "        boundary = rank[i] + 1\n",
    "        if boundary in rank_and_index:\n",
    "            right_boundary[i] = rank_and_index[boundary]\n",
    "        rank_and_index[rank[i]] = i\n",
    "    \n",
    "    greater_right = [n] * n\n",
    "    stack = []\n",
    "    for i in range(n):\n",
    "        while stack and rank[i] > rank[stack[-1]]:  \n",
    "            greater_right[stack.pop()] = i\n",
    "        stack.append(i)\n",
    "    \n",
    "    greater_left = [-1] * n\n",
    "    stack = []\n",
    "    for i in reversed(range(n)):\n",
    "        while stack and rank[i] > rank[stack[-1]]:\n",
    "            greater_left[stack.pop()] = i\n",
    "        stack.append(i)\n",
    "        \n",
    "    res = 0\n",
    "    for i in range(n):\n",
    "        total_possible = (i - left_boundary[i]) * (right_boundary[i] - i)\n",
    "        smaller_sub_count = (i - greater_left[i]) * (greater_right[i] - i)\n",
    "        res += (total_possible - smaller_sub_count)\n",
    "\n",
    "    return res\n",
    "\n",
    "print(solve([4,1,3,2])) \n",
    "# print(solve([1,3,1]))"
   ]
  },
  {
   "cell_type": "code",
   "execution_count": 4,
   "id": "bfd9fc99",
   "metadata": {},
   "outputs": [
    {
     "data": {
      "text/plain": [
       "1"
      ]
     },
     "execution_count": 4,
     "metadata": {},
     "output_type": "execute_result"
    }
   ],
   "source": [
    "\n",
    "def findMaximumSustainableClusterSize(processingPower,  bootingPower, powerMax):\n",
    "    n = len(processingPower)\n",
    "    i = 0\n",
    "    j = 0\n",
    "    \n",
    "    queue = []\n",
    "    sum = 0\n",
    "    ans = 0\n",
    "\n",
    "    while j < n :\n",
    "        sum += processingPower[j]\n",
    "\n",
    "        while( queue and bootingPower[j] >= bootingPower[queue[-1]]):\n",
    "            queue.pop()\n",
    "        queue.append(j)\n",
    "        \n",
    "        while(i <= j and bootingPower[queue[0]] + sum*(j-i+1) > powerMax):\n",
    "            if (queue[0] == i):\n",
    "                queue.pop(0)\n",
    "\n",
    "            sum -= processingPower[i]\n",
    "            i += 1\n",
    "        \n",
    "        ans = max(ans, j-i+1)\n",
    "        j+= 1\n",
    "        \n",
    "    return ans\n",
    "\n",
    "## ANS = 3\n",
    "# bootingPower =    [8,8,10,9,12]\n",
    "# processingPower = [4,1,4,5,3]\n",
    "# p_max = 33\n",
    "\n",
    "## ANS = 0\n",
    "# boot =    [11,12,19]\n",
    "# process = [10,8,7]\n",
    "# p_max = 6\n",
    "\n",
    "## ANS = 3\n",
    "boot =    [33,82,61,12,33,4]\n",
    "process = [22,33,13,33,43,5]\n",
    "p_max = 30\n",
    "\n",
    "findMaximumSustainableClusterSize(process,  boot, p_max)"
   ]
  },
  {
   "cell_type": "code",
   "execution_count": 34,
   "id": "0be9897c",
   "metadata": {},
   "outputs": [
    {
     "name": "stdout",
     "output_type": "stream",
     "text": [
      "9\n",
      "10\n"
     ]
    }
   ],
   "source": [
    "# Password strength problem\n",
    "\n",
    "def getPasswordStrength(s):\n",
    "    n = len(s)\n",
    "    count = [0] * 26\n",
    "    pref_sum = [0] * (n + 1)\n",
    "    for c in range(n):\n",
    "        count[ord(s[c]) - ord(\"a\")] = 1\n",
    "        pref_sum[c + 1] = sum(count)\n",
    "\n",
    "    pref_pref_sum = [0] * (n + 1)\n",
    "    for i in range(1,n+1):\n",
    "        pref_pref_sum[i] = (pref_pref_sum[i-1] + pref_sum[i]) \n",
    "\n",
    "    total = 0\n",
    "    for i in range(1,n+1):\n",
    "        total += pref_pref_sum[i]\n",
    "\n",
    "    return total\n",
    "\n",
    "print( getPasswordStrength('aba'))\n",
    "print( getPasswordStrength('abc'))\n",
    "\n",
    "\n"
   ]
  },
  {
   "cell_type": "code",
   "execution_count": 4,
   "id": "e618911c",
   "metadata": {},
   "outputs": [
    {
     "name": "stdout",
     "output_type": "stream",
     "text": [
      "4\n",
      "3\n",
      "0\n"
     ]
    }
   ],
   "source": [
    "# Amazon Kindle Store problem\n",
    "\n",
    "def waysToSelect3( s):\n",
    "    n = len(s)\n",
    "    \n",
    "    pref_sum_zeroes = [0] * n\n",
    "    pref_sum_ones = [0] * n\n",
    "\n",
    "    count0 = 0\n",
    "    count1 = 0\n",
    "    for i in range(n):\n",
    "        pref_sum_zeroes[i] = count0\n",
    "        pref_sum_ones[i] = count1\n",
    "        if(s[i]=='1'):\n",
    "            count1 += 1\n",
    "        if(s[i]=='0'):\n",
    "            count0 += 1\n",
    "\n",
    "    ans=0\n",
    "    for i in range(n):\n",
    "        if(s[i]=='1'):\n",
    "            m = pref_sum_zeroes[i]\n",
    "            n = count0-m\n",
    "            ans += m*n\n",
    "        elif(s[i]=='0'):\n",
    "            m = pref_sum_ones[i]\n",
    "            n = count1-m\n",
    "            ans += m*n\n",
    "\n",
    "    return ans\n",
    "\n",
    "print( waysToSelect3(\"01001\") ) # 4\n",
    "print( waysToSelect3(\"10111\") ) # 3\n",
    "print( waysToSelect3(\"0001\") ) # 0\n",
    "\n"
   ]
  },
  {
   "cell_type": "code",
   "execution_count": 26,
   "id": "80688ae1",
   "metadata": {},
   "outputs": [
    {
     "name": "stdout",
     "output_type": "stream",
     "text": [
      "[1, 1]\n",
      "[1, 0]\n",
      "[1, 0]\n"
     ]
    }
   ],
   "source": [
    "# Amazon annual sale problem\n",
    "# Valid Coupon Codes Problem\n",
    "def find_valid_codes(discounts):\n",
    "    output = []\n",
    "    for discount in discounts:\n",
    "        if not discount:\n",
    "            output.append(1)\n",
    "        else:\n",
    "            if len(discount) % 2 != 0:\n",
    "                output.append(0)\n",
    "            else:\n",
    "                stack = []\n",
    "                for char in discount:\n",
    "                    if not stack or stack[-1] != char:\n",
    "                        stack.append(char)\n",
    "                    else:\n",
    "                        stack.pop()\n",
    "                if stack:\n",
    "                    output.append(0)\n",
    "                else:\n",
    "                    output.append(1)\n",
    "\n",
    "    return output\n",
    "\n",
    "\n",
    "print( find_valid_codes([\"\",\"caac\"]) )\n",
    "print( find_valid_codes([\"daabbd\",\"abc\"]) )\n",
    "print( find_valid_codes([\"abba\",\"abca\"]) )"
   ]
  },
  {
   "cell_type": "code",
   "execution_count": 40,
   "id": "7bdd6c60",
   "metadata": {},
   "outputs": [
    {
     "name": "stdout",
     "output_type": "stream",
     "text": [
      "0 0\n",
      "1 0\n",
      "2 0\n",
      "3 2\n",
      "4 2\n",
      "3\n"
     ]
    }
   ],
   "source": [
    "# Amazon Router Problem\n",
    "def getServedBuilding(buildingCount, routeLocation,routerRange):\n",
    "    n_route = len(routeLocation)\n",
    "    n_building = len(buildingCount)\n",
    "\n",
    "    for i in range(n_route):\n",
    "        building = routeLocation[i]\n",
    "        rangeLeftIndex  =   max(building - routerRange[i],0)\n",
    "        rangeRightIndex =   min(building + routerRange[i],n_building)\n",
    "\n",
    "        for j in range(rangeLeftIndex,rangeRightIndex):\n",
    "            if( j > 0 ):\n",
    "                buildingCount[j-1] -= 1\n",
    "\n",
    "    res = 0\n",
    "    \n",
    "    for i in range(n_building):\n",
    "        if(buildingCount[i]==0):\n",
    "            res += 1\n",
    "\n",
    "    return res\n",
    "\n",
    "print( getServedBuilding([1,2,1,2,2], [3,1],[1,2]) ) "
   ]
  },
  {
   "cell_type": "code",
   "execution_count": 27,
   "id": "85d9981d",
   "metadata": {},
   "outputs": [
    {
     "name": "stdout",
     "output_type": "stream",
     "text": [
      "x is =  5\n"
     ]
    }
   ],
   "source": [
    "# Find the maximum aggregate temperature changed evaluated among all the days.\n",
    "\n",
    "arr = [-1,2,3]\n",
    "n = len(arr)\n",
    "pre_sum = [0] * n\n",
    "pre_sum[0] = arr[0]\n",
    "\n",
    "for i in range(1,n):\n",
    "    pre_sum[i] = arr[i] + pre_sum[i-1]\n",
    "\n",
    "max_agg = pre_sum[n-1]\n",
    "for i in range(1,n):\n",
    "    tmp = max(pre_sum[i], pre_sum[n-1] -pre_sum[i-1])\n",
    "    max_agg = max(tmp, max_agg)\n",
    "\n",
    "print(\"x is = \" , max_agg)"
   ]
  },
  {
   "cell_type": "code",
   "execution_count": 50,
   "id": "ba18cf95",
   "metadata": {},
   "outputs": [
    {
     "data": {
      "text/plain": [
       "5"
      ]
     },
     "execution_count": 50,
     "metadata": {},
     "output_type": "execute_result"
    }
   ],
   "source": [
    "# Amazon warehouse has a group of n items of various weights lined up in a row.\n",
    "#  A segment of contiguously placed items can be shipped ogether if only if the difference betweeen the weihts of the heaviest and lightest item differs by at most k to avoid load imbalance.\n",
    "\n",
    "def getNumberOfSegments( k, weights) :\n",
    "    n = len(weights)\n",
    "\n",
    "    min = []\n",
    "    max = []\n",
    "    j = 0\n",
    "    count = 0\n",
    "    for i in range(n):\n",
    "        while (min and weights[i] <= weights[min[-1]]):\n",
    "            min.pop()\n",
    "        while (max and weights[i] >=  weights[min[-1]]):\n",
    "            max.pop()\n",
    "\n",
    "        min.append(i)\n",
    "        max.append(i)\n",
    "\n",
    "        while (weights[max[0]] - weights[min[0]] > k) :\n",
    "            if (max[0] <= j):\n",
    "                max.pop(0)\n",
    "            if (min[0] <= j):\n",
    "                min.pop(0)\n",
    "\n",
    "            j += 1\n",
    "        \n",
    "        count += i - j + 1\n",
    "\n",
    "    return count\n",
    "\n",
    "getNumberOfSegments( 3, [1,3,6])\n"
   ]
  },
  {
   "cell_type": "code",
   "execution_count": 4,
   "id": "5c3068a2",
   "metadata": {},
   "outputs": [
    {
     "name": "stdout",
     "output_type": "stream",
     "text": [
      "8\n",
      "7\n"
     ]
    }
   ],
   "source": [
    "# Maximum Quality sent via channel\n",
    "\n",
    "import math\n",
    "def maximumQuality(packets, channels):\n",
    "        n = len(packets)\n",
    "        answer = 0\n",
    "\n",
    "        if(n == channels):\n",
    "            for i in range(n):\n",
    "                answer += packets[i]\n",
    "            return answer\n",
    "        \n",
    "        packets.sort()\n",
    "        \n",
    "        for i in range((n-channels+1),n):\n",
    "            answer += packets[i]\n",
    "        \n",
    "        n = n-channels\n",
    "        if(n%2 == 0) :\n",
    "            answer += packets[n//2]\n",
    "        \n",
    "        else:\n",
    "            value = packets[n//2] + packets[n//2 + 1]\n",
    "            answer += value/2\n",
    "        \n",
    "        return math.ceil(answer)\n",
    "\n",
    "\n",
    "print(maximumQuality([1, 2, 3, 4, 5], 2))\n",
    "print(maximumQuality([5, 2, 2, 1, 5, 3], 2))"
   ]
  },
  {
   "cell_type": "code",
   "execution_count": 6,
   "id": "dcbb1fe3",
   "metadata": {},
   "outputs": [
    {
     "name": "stdout",
     "output_type": "stream",
     "text": [
      "3\n",
      "1\n",
      "1\n",
      "0\n",
      "6\n"
     ]
    }
   ],
   "source": [
    "def findMinSwaps(nums):\n",
    "    zeroLeftMove = 0\n",
    "    oneLeftMove = 0\n",
    "    zeroIdx = 0\n",
    "    oneIdx = 0\n",
    "    for i in range(len(nums)):\n",
    "        if(nums[i] == 0):\n",
    "            zeroLeftMove += i - zeroIdx\n",
    "            zeroIdx += 1\n",
    "        else:\n",
    "            oneLeftMove += i - oneIdx\n",
    "            oneIdx += 1\n",
    "    return min(zeroLeftMove, oneLeftMove)\n",
    "\n",
    "\n",
    "print(findMinSwaps([0, 0, 1, 0, 1, 0, 1, 1])) # 3\n",
    "print(findMinSwaps([0, 1, 0, 1])) # 1\n",
    "print(findMinSwaps([1, 1 , 1, 0, 1])) # 1\n",
    "print(findMinSwaps([1, 1, 1, 0, 0])) # 0\n",
    "print(findMinSwaps([1, 0, 1, 0, 0, 0, 0, 1])) # 6"
   ]
  },
  {
   "cell_type": "code",
   "execution_count": 30,
   "id": "48273e06",
   "metadata": {},
   "outputs": [
    {
     "data": {
      "text/plain": [
       "16"
      ]
     },
     "execution_count": 30,
     "metadata": {},
     "output_type": "execute_result"
    }
   ],
   "source": [
    "# Max Profit\n",
    "# Max Profit\n",
    "def effHarvest(arr, k):\n",
    "    n = len(arr)\n",
    "    rotate = n // 2\n",
    "    windowSum = 0\n",
    "    iterator = 0\n",
    "    prefixSum = [0] * (2 * n + 1)\n",
    "\n",
    "    for i in range(n):\n",
    "        prefixSum[i + 1] = prefixSum[i] + arr[i]\n",
    "    for i in range(n):\n",
    "        prefixSum[i + n + 1] = prefixSum[i + n] + arr[i]\n",
    "\n",
    "    while iterator <= (len(arr) // 2) - 1:\n",
    "        currSum = (prefixSum[iterator + k] - prefixSum[iterator]) + (prefixSum[iterator + rotate + k] - prefixSum[iterator + rotate])\n",
    "        windowSum = max(windowSum, currSum)\n",
    "        iterator += 1\n",
    "\n",
    "    return windowSum\n",
    "\n",
    "\n",
    "effHarvest( [1,5,1,3,7,-3], 2)"
   ]
  },
  {
   "cell_type": "code",
   "execution_count": null,
   "id": "4a5637fd",
   "metadata": {},
   "outputs": [],
   "source": [
    "# Maximum Teams\n",
    "def countMaximumTeams(skill, teamSize, maxDiff):\n",
    "    teams = 0\n",
    "    n = len(skill)\n",
    "\n",
    "    if n < teamSize:\n",
    "        return teams\n",
    "    \n",
    "    skill.sort()\n",
    "    for i in range(n):\n",
    "        if i + teamSize - 1 < n:\n",
    "            diff = skill[i + teamSize - 1] - skill[i]\n",
    "            if diff <= maxDiff:\n",
    "                teams += 1\n",
    "\n",
    "    return teams\n",
    "\n",
    "\n"
   ]
  },
  {
   "cell_type": "code",
   "execution_count": null,
   "id": "052d474e",
   "metadata": {},
   "outputs": [],
   "source": [
    "# Optimizing box weight problem \n",
    "# URL : https://leetcode.com/discuss/interview-question/1184534/amazon-oa-sde2-optimizing-box-weight-gift-grouping\n",
    "def minimalHeaviestSetA(arr):\n",
    "    arr = sorted(arr)\n",
    "    n = len(arr)\n",
    "    target = sum(arr)//2\n",
    "    \n",
    "    # Get the first two greatest number for set A\n",
    "    i = n - 2\n",
    "    A_sum = sum(arr[i:])\n",
    "    \n",
    "    while A_sum <= target:\n",
    "        min_steps = max(1, (target - A_sum) // max(1,arr[i]) )\n",
    "        A_sum += sum(arr[i-min_steps:i])\n",
    "        i -= min_steps\n",
    "        \n",
    "    return arr[i:]"
   ]
  },
  {
   "cell_type": "code",
   "execution_count": 26,
   "id": "5e71373d",
   "metadata": {},
   "outputs": [
    {
     "data": {
      "text/plain": [
       "[0]"
      ]
     },
     "execution_count": 26,
     "metadata": {},
     "output_type": "execute_result"
    }
   ],
   "source": [
    "def numberOfItems(s, startIndices, endIndices):\n",
    "    n = len(s)\n",
    "    \n",
    "    pref = [-1] * n\n",
    "    suf = [-1] * n\n",
    "    counts = [0] * n\n",
    "    \n",
    "    counts[0] = 0 if s[0] == '*' else 1\n",
    "    pref[0] = -1 if s[0] == '*' else 0\n",
    "    for i in range(1,n):\n",
    "        pref[i] = i if s[i] == '|' else pref[i-1]\n",
    "        counts[i] = counts[i-1] + 1 if s[i] == '|' else counts[i-1]\n",
    "    \n",
    "    suf[-1] = n -1 if s[-1] == '|' else n\n",
    "    for i in reversed(range(n-2,-1,-1)):\n",
    "        suf[i] = i if s[i] == '|' else suf[i+1]\n",
    "        \n",
    "    items = []\n",
    "    for i in range(len(startIndices)):\n",
    "        items.append( [startIndices[i]-1,endIndices[i]-1] )\n",
    "   \n",
    "    \n",
    "    result = []\n",
    "    for item in items:\n",
    "        f_index = suf[item[0]]\n",
    "        l_index = pref[item[1]]\n",
    "        \n",
    "        if f_index > item[1]:\n",
    "            no_item = 0\n",
    "        else:\n",
    "            no_item = max( (l_index-f_index-1) - (counts[l_index] - counts[f_index]-1),0) \n",
    "            \n",
    "        result.append(no_item)\n",
    "        \n",
    "    return result\n",
    "numberOfItems('*|*|*|', [1], [6])"
   ]
  },
  {
   "cell_type": "code",
   "execution_count": 6,
   "id": "1e0374a1",
   "metadata": {},
   "outputs": [
    {
     "data": {
      "text/plain": [
       "[2]"
      ]
     },
     "execution_count": 6,
     "metadata": {},
     "output_type": "execute_result"
    }
   ],
   "source": [
    "def numberOfItems( s, startIndices, endIndices):\n",
    "    n = len(s)\n",
    "    pref = [-1] * n\n",
    "    suf = [-1] * n\n",
    "    counts = [0] * n\n",
    "\n",
    "    counts[0] = 0 if s[0] == '*' else 1\n",
    "    pref[0] = -1 if s[0] == '*' else 0\n",
    "    suf[-1] = len(s) - 1 if s[-1] == '|' else len(s)\n",
    "    \n",
    "    for i in range(1, len(s)):\n",
    "        pref[i] = i if s[i] == '|' else pref[i-1]\n",
    "        counts[i] = counts[i-1] + 1 if s[i] == '|' else counts[i-1]\n",
    "    for i in range(len(s)-2, -1, -1):\n",
    "        suf[i] = i if s[i] == '|' else suf[i+1]\n",
    "    \n",
    "    items = []\n",
    "    for i in range(len(startIndices)):\n",
    "        items.append( [startIndices[i]-1,endIndices[i]-1] )\n",
    "\n",
    "    result = []\n",
    "    for query in items:\n",
    "        f_index = suf[query[0]]\n",
    "        l_index = pref[query[1]]\n",
    "        if f_index > query[1]:\n",
    "            plates = 0\n",
    "        else: \n",
    "            plates = max((l_index - f_index - 1)-(counts[l_index]-counts[f_index]-1),  0)\n",
    "        result.append(plates)\n",
    "    return result\n",
    "\n",
    "numberOfItems('*|*|*|', [1],[6])"
   ]
  },
  {
   "cell_type": "code",
   "execution_count": 22,
   "id": "b29ca052",
   "metadata": {},
   "outputs": [
    {
     "name": "stdout",
     "output_type": "stream",
     "text": [
      "2\n"
     ]
    }
   ],
   "source": [
    "def findCircleNum( isConnected) -> int:\n",
    "\n",
    "#-------------DISJOINT SETS APPROACH-----------#\n",
    "    arr = [-1]*len(isConnected)\n",
    "    def find_parent(idx):\n",
    "        if arr[idx] == -1:\n",
    "            return idx\n",
    "        return find_parent(arr[idx])\n",
    "    \n",
    "    def union(i, j):\n",
    "        pj = find_parent(j)\n",
    "        pi = find_parent(i)\n",
    "        # only change if both have different parents\n",
    "        if pj != pi:\n",
    "            arr[pj] = pi\n",
    "\n",
    "    # iterate through only the upper triangle of the matrix\n",
    "    for i in range(len(isConnected)):\n",
    "        for j in range(i, len(isConnected)):\n",
    "            if i == j:\n",
    "                continue                \n",
    "            if isConnected[i][j] == 1:\n",
    "                union(i, j)\n",
    "\n",
    "    # return the number of distinct groups\n",
    "    return arr.count(-1)\n",
    "        \n",
    "    \n",
    "# ----------- DFS------------------- #\n",
    "    # visited = set()\n",
    "\n",
    "    # def convertToArray(s):\n",
    "    #     result = []\n",
    "    #     for char in s:\n",
    "    #         result.append([int(x) for x in char])\n",
    "    #     return result  \n",
    "        \n",
    "    # isConnected = convertToArray(isConnected)\n",
    "\n",
    "    # def dfs(i):\n",
    "    #     for j in range(len(isConnected)):\n",
    "    #         if isConnected[i][j] == 1:\n",
    "    #             if j not in visited:\n",
    "    #                 visited.add(j)\n",
    "    #                 dfs(j)\n",
    "                \n",
    "    # count = 0\n",
    "    # for i in range(len(isConnected)):\n",
    "    #     if i not in visited:\n",
    "    #         visited.add(i)\n",
    "    #         dfs(i)\n",
    "    #         count += 1\n",
    "            \n",
    "    # return count\n",
    "\n",
    "print( findCircleNum([[1,1,0], [0,1,0], [0,0,1]]) ) # 2 \n",
    "# print( findCircleNum([[1,1,0,0], [1,1,1,0], [0,1,1,0], [0,0,0,1]]) ) # 2 \n",
    "# print( findCircleNum([[1,1,0], [1,1,1], [0,1,1]]) ) # 1\n",
    "# print( findCircleNum([[1,0,0,0,0], [0,1,0,0,0], [0,0,1,0,0], [0,0,0,1,0], [0,0,0,0,1]]) ) # 5\n",
    "# print( findCircleNum([[1,1,0,0], [1,1,0,1], [0,0,1,0], [0,0,0,1]]) ) # 2\n",
    "\n",
    "# print( findCircleNum([\"1100\", \"1110\", \"0110\", \"0001\"]) ) # 2 \n",
    "# print( findCircleNum([\"110\", \"111\", \"011\"]) ) # 3\n",
    "# print( findCircleNum([\"10000\", \"01000\", \"00100\", \"00010\", \"00001\"]) ) # 5\n",
    "# print( findCircleNum([\"1100\", \"1101\", \"0010\", \"0001\"]) ) # 5\n",
    "\n"
   ]
  },
  {
   "cell_type": "code",
   "execution_count": 13,
   "id": "5521a6b5",
   "metadata": {},
   "outputs": [
    {
     "name": "stdout",
     "output_type": "stream",
     "text": [
      "1 [1]\n",
      "2 [1, 1]\n",
      "3 [1, 1, 1]\n",
      "4 [1, 1, 1, 1]\n",
      "5 [1, 1, 1, 1, 1]\n",
      "5 [1, 1, 1, 2]\n",
      "4 [1, 1, 2]\n",
      "5 [1, 1, 3]\n",
      "3 [1, 2]\n",
      "5 [1, 2, 2]\n",
      "4 [1, 3]\n",
      "5 [1, 4]\n",
      "2 [2]\n",
      "4 [2, 2]\n",
      "5 [2, 3]\n",
      "3 [3]\n",
      "4 [4]\n",
      "[[], [], [], [], [], []]\n"
     ]
    }
   ],
   "source": [
    "import copy\n",
    "\n",
    "def print_all_sum_rec(target, current_sum, start, output, result):\n",
    "    if current_sum == target:\n",
    "        output.append(copy.copy(result))\n",
    "\n",
    "    for i in range(start,target):\n",
    "        temp_sum = current_sum + i\n",
    "        if temp_sum <= target:\n",
    "            result.append(i)\n",
    "            print(temp_sum,result)\n",
    "            print_all_sum_rec(target,temp_sum,i,output,result)\n",
    "            result.pop()\n",
    "        else:\n",
    "            return\n",
    "\n",
    "def print_all_sum(target):\n",
    "    output = []\n",
    "    result = []\n",
    "    print_all_sum_rec(target,0,1,output,result)\n",
    "    return output \n",
    "\n",
    "n = 5\n",
    "res = print_all_sum(n)\n",
    "print(res)"
   ]
  },
  {
   "cell_type": "code",
   "execution_count": null,
   "id": "6fd49bc7",
   "metadata": {},
   "outputs": [],
   "source": [
    "# Min and Max subbarray sum problem\n",
    "\n",
    "def subArrayRanges(nums):\n",
    "    sum = 0\n",
    "    n = len(nums)\n",
    "\n",
    "    min_prev= [-1] * n\n",
    "    stack = []\n",
    "    for i in range(n):\n",
    "        while( stack and  nums[i] < nums[stack[-1]]):\n",
    "            stack.pop()\n",
    "        if(stack):\n",
    "            min_prev[i] = stack[-1]\n",
    "        stack.append(i)\n",
    "    \n",
    "    min_next= [n] * n\n",
    "    stack = []\n",
    "    for i in reversed( range(n)) :\n",
    "        while( stack and nums[i] <= nums[stack[-1]]):\n",
    "            stack.pop()\n",
    "        if(stack):\n",
    "            min_next[i] = stack[-1]\n",
    "        stack.append(i)\n",
    "    \n",
    "    max_prev= [-1] * n\n",
    "    stack = []\n",
    "    for i in range(n):\n",
    "        while( stack and nums[i] > nums[stack[-1]]):\n",
    "            stack.pop()\n",
    "        if(stack):\n",
    "            max_prev[i] = stack[-1]\n",
    "        stack.append(i)\n",
    "    \n",
    "    max_next= [n] * n\n",
    "    stack = []\n",
    "    for i in reversed( range(n) ) :\n",
    "        while( stack and nums[i] >= nums[stack[-1]] ):\n",
    "            stack.pop()\n",
    "        if(stack):\n",
    "            max_next[i] = stack[-1]\n",
    "        stack.append(i)\n",
    "\n",
    "    for i in range(n):\n",
    "        min = ( i - min_prev[i] ) * ( min_next[i]-i)\n",
    "        max = ( i - max_prev[i] ) * ( max_next[i]-i )\n",
    "        sum += (max - min) * nums[i]\n",
    "    \n",
    "    return sum\n",
    "\n",
    "\n",
    "subArrayRanges([1,2,3])"
   ]
  },
  {
   "cell_type": "code",
   "execution_count": null,
   "id": "134453af",
   "metadata": {},
   "outputs": [],
   "source": [
    "# Restricted Piles Problem\n",
    "def findRestrictPiles( nums ):\n",
    "    n = len(nums)\n",
    "    out = 0\n",
    "    for i in reversed( range( n) ):\n",
    "        cur = nums[i]\n",
    "        j = i\n",
    "        sm = cur\n",
    "        while cur - 1 >= 0 and j - 1 >= 0:\n",
    "            cur -= 1\n",
    "            j   -= 1\n",
    "            if nums[j] < cur:\n",
    "                cur = nums[j]\n",
    "            sm += cur\n",
    "        out = max(out, sm)\n",
    "    return out\n",
    "\n",
    "# findRestrictPiles([2,9,4,7,5,2])\n",
    "# findRestrictPiles([2,5,6,7])\n",
    "findRestrictPiles([7,4,5,2,6,5])"
   ]
  },
  {
   "cell_type": "code",
   "execution_count": 16,
   "id": "703eeccb",
   "metadata": {},
   "outputs": [
    {
     "name": "stdout",
     "output_type": "stream",
     "text": [
      "5\n"
     ]
    }
   ],
   "source": [
    "# Rank Difference Problem\n",
    "def solve(rank):\n",
    "    n = len(rank)\n",
    "     \n",
    "    left_boundary = [-1] * n\n",
    "    value_key = {}\n",
    "    for i in range(n):\n",
    "        boundary = rank[i] + 1\n",
    "        if boundary in value_key:\n",
    "            left_boundary[i] = value_key[boundary]\n",
    "        value_key[rank[i]]  =  i\n",
    "\n",
    "    right_boundary = [n] * n\n",
    "    value_key = {}\n",
    "    for i in reversed(range(n)):\n",
    "        boundary = rank[i] + 1\n",
    "        if boundary in value_key:\n",
    "            right_boundary[i] = value_key[boundary]\n",
    "        value_key[rank[i]]  =  i\n",
    "\n",
    "\n",
    "    greater_left = [n] * n\n",
    "    stack = []\n",
    "    for i in range(n):\n",
    "        while stack and rank[i] > rank[stack[-1]]:\n",
    "            greater_left[stack.pop()] = i\n",
    "    \n",
    "        stack.append(i)\n",
    "\n",
    "    greater_right = [-1] * n\n",
    "    stack = []\n",
    "    for i in reversed(range(n)):\n",
    "        while stack and rank[i] > rank[stack[-1]]:\n",
    "            greater_right[stack.pop()] = i\n",
    "        stack.append(i)\n",
    "\n",
    "    res = 0\n",
    "    for i in range(n):\n",
    "        total_possible = (i - left_boundary[i]) * (right_boundary[i] - i)\n",
    "        smaller_sub_count =  (i - greater_left[i]) * (greater_right[i] - i)\n",
    "        res += (total_possible - smaller_sub_count)\n",
    "\n",
    "    return res\n",
    "\n",
    "# print(solve([4,1,3,2])) # 3\n",
    "print(solve([3,1,4,2])) # 3\n",
    "# print(solve( [15,34,18,9,54,3,6])) #56\n",
    "# print(solve([3,9,1])) # 4 \n",
    "# print(solve([4,3,2,1])) # 0\n",
    "# print(solve([1,3,4,5])) # 3"
   ]
  },
  {
   "cell_type": "code",
   "execution_count": 21,
   "id": "1300fccb",
   "metadata": {},
   "outputs": [
    {
     "data": {
      "text/plain": [
       "1"
      ]
     },
     "execution_count": 21,
     "metadata": {},
     "output_type": "execute_result"
    }
   ],
   "source": [
    "def getMinMoves(plates):\n",
    "    # Write your code here\n",
    "    n = len(plates)\n",
    "    min_swap = 0\n",
    "    \n",
    "    greatest = 0 \n",
    "    for i in range(1,n):\n",
    "        if(plates[i] > plates[greatest] ):\n",
    "            greatest =i\n",
    " \n",
    "    less = 0 \n",
    "    for i in range(1,n):\n",
    "        if(plates[i] < plates[less] ):\n",
    "            less = i\n",
    "\n",
    "\n",
    "    if(greatest<n-1):\n",
    "        min_swap += (n - greatest - 1)\n",
    "\n",
    "    if(less>0):\n",
    "        min_swap += less\n",
    "\n",
    "    if(greatest<less):\n",
    "        min_swap -= 1\n",
    "        \n",
    "    return min_swap\n",
    "    \n",
    "getMinMoves([7, 4])\n",
    "    "
   ]
  },
  {
   "cell_type": "code",
   "execution_count": null,
   "id": "2159329c",
   "metadata": {},
   "outputs": [],
   "source": [
    "def getMinMoves(plates):\n",
    "    # Write your code here\n",
    "    n = len(plates)\n",
    "    min_swap = 0\n",
    "    \n",
    "    greatest = 0 \n",
    "    for i in range(1,n):\n",
    "        if(plates[i] > plates[greatest] ):\n",
    "            greatest =i\n",
    " \n",
    "    less = 0 \n",
    "    for i in range(1,n):\n",
    "        if(plates[i] < plates[less] ):\n",
    "            less = i\n",
    "\n",
    "\n",
    "    if(greatest<n-1):\n",
    "        min_swap += (n - greatest - 1)\n",
    "\n",
    "    if(less>0):\n",
    "        min_swap += less\n",
    "\n",
    "    if(greatest<less):\n",
    "        min_swap -= 1\n",
    "        \n",
    "    return min_swap\n",
    "    "
   ]
  }
 ],
 "metadata": {
  "kernelspec": {
   "display_name": "Python 3.10.5 64-bit",
   "language": "python",
   "name": "python3"
  },
  "language_info": {
   "codemirror_mode": {
    "name": "ipython",
    "version": 3
   },
   "file_extension": ".py",
   "mimetype": "text/x-python",
   "name": "python",
   "nbconvert_exporter": "python",
   "pygments_lexer": "ipython3",
   "version": "3.10.7 (tags/v3.10.7:6cc6b13, Sep  5 2022, 14:08:36) [MSC v.1933 64 bit (AMD64)]"
  },
  "vscode": {
   "interpreter": {
    "hash": "369f2c481f4da34e4445cda3fffd2e751bd1c4d706f27375911949ba6bb62e1c"
   }
  }
 },
 "nbformat": 4,
 "nbformat_minor": 5
}
