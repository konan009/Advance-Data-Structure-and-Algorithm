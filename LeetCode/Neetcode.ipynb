{
 "cells": [
  {
   "cell_type": "markdown",
   "id": "edb56c50",
   "metadata": {},
   "source": [
    "<h2>Top Amazon Leetcode</h2>\n",
    "Link : https://leetcode.com/problem-list/top-amazon-questions/\n"
   ]
  },
  {
   "cell_type": "code",
   "execution_count": 31,
   "id": "0ceb25fa",
   "metadata": {},
   "outputs": [
    {
     "name": "stdout",
     "output_type": "stream",
     "text": [
      "[1, 2]\n"
     ]
    }
   ],
   "source": [
    "## 1. Two Sum\n",
    "nums = [2,7,11,15]\n",
    "target = 9\n",
    "\n",
    "\n",
    "nums =  [3,2,4]\n",
    "target = 6\n",
    "\n",
    "for index1,value in enumerate(nums) :\n",
    "    for index2,value2 in enumerate(nums[int(index1)+1:]):\n",
    "        if(target == value + value2):\n",
    "            print( [index1, index1 + index2 + 1] )\n"
   ]
  },
  {
   "cell_type": "code",
   "execution_count": 35,
   "id": "9830cdf1",
   "metadata": {},
   "outputs": [
    {
     "data": {
      "text/plain": [
       "[[15, 13, 2, 5], [14, 3, 4, 1], [12, 6, 8, 9], [16, 7, 10, 11]]"
      ]
     },
     "execution_count": 35,
     "metadata": {},
     "output_type": "execute_result"
    }
   ],
   "source": [
    "## 48. Rotate Image\n",
    "matrix = [[5,1,9,11],[2,4,8,10],[13,3,6,7],[15,14,12,16]]\n",
    "\n",
    "l, r = 0, len(matrix) - 1\n",
    "\n",
    "while l < r:\n",
    "    \n",
    "    for i in range( r - l ):\n",
    "        top, bottom = l, r\n",
    "        topLeft = matrix[ top ][ l + i ]\n",
    "\n",
    "        # bottom left to top left \n",
    "        matrix[ top ][ l + i ] = matrix[ bottom - i ][ l ]\n",
    "\n",
    "        # bottom right to bottom left\n",
    "        matrix[ bottom-i ][ l ] = matrix[ bottom ][ r - i ]\n",
    "\n",
    "        # top right bottom right \n",
    "        matrix[ bottom ][ r - i ] = matrix[ top + i ][ r ]\n",
    "\n",
    "        # top left to top right\n",
    "        matrix[ top + i ][ r ] = topLeft\n",
    "\n",
    "    r -= 1\n",
    "    l += 1\n",
    "matrix\n"
   ]
  },
  {
   "cell_type": "code",
   "execution_count": 41,
   "id": "c200400f",
   "metadata": {},
   "outputs": [
    {
     "data": {
      "text/plain": [
       "3"
      ]
     },
     "execution_count": 41,
     "metadata": {},
     "output_type": "execute_result"
    }
   ],
   "source": [
    "import collections\n",
    "def numIslands( grid ):\n",
    "    if not grid:\n",
    "        return 0\n",
    "\n",
    "    rows, cols = len(grid), len(grid[0])\n",
    "    visit = set()\n",
    "    islands = 0\n",
    "\n",
    "    def bfs(r,c):\n",
    "        q = collections.deque()\n",
    "        visit.add((r,c))\n",
    "        q.append((r,c))\n",
    "        while q:\n",
    "            row,col = q.pop()\n",
    "            directions = [[1,0],[-1,0],[0,1],[0,-1]]\n",
    "            for dr,dc in directions:\n",
    "                r, c = row + dr, col + dc\n",
    "                if ( r in range(rows) and \n",
    "                     c in range(cols) and \n",
    "                     grid[r][c] == \"1\" and \n",
    "                     (r,c) not in visit):\n",
    "                        q.append((r,c))\n",
    "                        visit.add((r,c))\n",
    "\n",
    "    for r in range(rows):\n",
    "        for c in range(cols):\n",
    "            if grid[r][c]== \"1\" and (r,c) not in visit:\n",
    "                bfs(r,c)\n",
    "                islands += 1\n",
    "\n",
    "    return islands\n",
    "\n",
    "grid = [\n",
    "  [\"1\",\"1\",\"1\",\"1\",\"0\"],\n",
    "  [\"1\",\"1\",\"0\",\"1\",\"0\"],\n",
    "  [\"1\",\"1\",\"0\",\"0\",\"0\"],\n",
    "  [\"0\",\"0\",\"0\",\"0\",\"0\"]\n",
    "] \n",
    "\n",
    "grid = [\n",
    "  [\"1\",\"1\",\"0\",\"0\",\"0\"],\n",
    "  [\"1\",\"1\",\"0\",\"0\",\"0\"],\n",
    "  [\"0\",\"0\",\"1\",\"0\",\"0\"],\n",
    "  [\"0\",\"0\",\"0\",\"1\",\"1\"]\n",
    "]\n",
    "\n",
    "numIslands( grid )"
   ]
  },
  {
   "cell_type": "code",
   "execution_count": 59,
   "id": "9765ff38",
   "metadata": {},
   "outputs": [
    {
     "name": "stdout",
     "output_type": "stream",
     "text": [
      "not palindrome\n"
     ]
    }
   ],
   "source": [
    "## 9. Palindrome Number\n",
    "x = 10\n",
    "test = str(x)\n",
    "\n",
    "length = len(test)\n",
    "if(length%2==1):\n",
    "    length -= 1\n",
    "\n",
    "for item in range(length//2):\n",
    "    if(test[item]!=test[(length-1)-item]):\n",
    "        print(\"not palindrome\")"
   ]
  },
  {
   "cell_type": "code",
   "execution_count": 16,
   "id": "cc1d447d",
   "metadata": {},
   "outputs": [
    {
     "name": "stdout",
     "output_type": "stream",
     "text": [
      "Not Match\n"
     ]
    }
   ],
   "source": [
    "## 20. Valid Parentheses\n",
    "## Valid Parenthesis\n",
    "# s = \"()\"\n",
    "s = \"(]\"\n",
    "# s = \"()[]{}\"\n",
    "\n",
    "opening = ['(','[','{']\n",
    "partner = {'(':')','[':']','{':'}'}\n",
    "length = []\n",
    "\n",
    "for item in s:\n",
    "    if item in opening:\n",
    "        length.append(item)\n",
    "    else:\n",
    "        if(item != partner[length[-1]] ):\n",
    "            return false\n",
    "        else:\n",
    "            length.pop()\n",
    "return true\n",
    "\n",
    "\n"
   ]
  },
  {
   "cell_type": "code",
   "execution_count": 59,
   "id": "12219a44",
   "metadata": {},
   "outputs": [
    {
     "name": "stdout",
     "output_type": "stream",
     "text": [
      "[1, 1, 1, 1, 1, 3, 4, 6]\n"
     ]
    }
   ],
   "source": [
    "list1 = [1,1,1,1]\n",
    "list2 = [1,3,4,6]\n",
    "\n",
    "merge_list = list1 + list2\n",
    "\n",
    "for i in range(len(merge_list)):\n",
    "    for j in range(0, len(merge_list) - i - 1):\n",
    "        if merge_list[j] > merge_list[j + 1]:\n",
    "            temp = merge_list[j]\n",
    "            merge_list[j] = merge_list[j+1]\n",
    "            merge_list[j+1] = temp\n",
    "\n",
    "\n",
    "print(merge_list)\n"
   ]
  },
  {
   "cell_type": "code",
   "execution_count": 95,
   "id": "63c5301b",
   "metadata": {},
   "outputs": [
    {
     "data": {
      "text/plain": [
       "[0, 1, 2, 3, 4, 2, 2, 3, 3, 4]"
      ]
     },
     "execution_count": 95,
     "metadata": {},
     "output_type": "execute_result"
    }
   ],
   "source": [
    "## 26. Remove Duplicates from Sorted Array\n",
    "\n",
    "l = 1\n",
    "nums = [0,0,1,1,1,2,2,3,3,4]\n",
    "for r in range(1, len(nums)):\n",
    "    if nums[r] != nums[r-1]:\n",
    "        nums[l] = nums[r]\n",
    "        l +=1\n",
    "\n",
    "nums"
   ]
  },
  {
   "cell_type": "code",
   "execution_count": null,
   "id": "6db5aa3c",
   "metadata": {},
   "outputs": [],
   "source": [
    "# 27. Remove Element\n",
    "k = 0\n",
    "for i in range(len(nums)):\n",
    "    if nums[i] != val:\n",
    "        nums[k] = nums[i]\n",
    "        k += 1\n",
    "\n",
    "k    "
   ]
  },
  {
   "cell_type": "code",
   "execution_count": 101,
   "id": "97d8a5bc",
   "metadata": {},
   "outputs": [
    {
     "data": {
      "text/plain": [
       "'fl'"
      ]
     },
     "execution_count": 101,
     "metadata": {},
     "output_type": "execute_result"
    }
   ],
   "source": [
    "# 14. Longest Common Prefix\n",
    "strs = [\"flower\",\"flow\",\"flight\"]\n",
    "\n",
    "\n",
    "def longestCommonPrefix( strs):\n",
    "    res = \"\"\n",
    "\n",
    "    for i in range(len(strs[0])):\n",
    "        for s in strs:\n",
    "            if i == len(s) or s[i] != strs[0][i]:\n",
    "                return res\n",
    "        res += strs[0][i]\n",
    "\n",
    "    return res \n",
    "\n",
    "longestCommonPrefix( strs)"
   ]
  },
  {
   "cell_type": "code",
   "execution_count": 106,
   "id": "29e19b8b",
   "metadata": {},
   "outputs": [
    {
     "data": {
      "text/plain": [
       "0"
      ]
     },
     "execution_count": 106,
     "metadata": {},
     "output_type": "execute_result"
    }
   ],
   "source": [
    "haycomb_queue = \"hello\"\n",
    "needle = \"ll\"\n",
    "\n",
    "\n",
    "def strStr(haycomb_queue, needle):\n",
    "    index = 0\n",
    "    starting_index = 0 \n",
    "    for i in haycomb_queue:\n",
    "        if(len(needle)==index):\n",
    "            return starting_index\n",
    "        else:\n",
    "            if(needle[index]==i):\n",
    "                index +=1\n",
    "    \n",
    "strStr(haycomb_queue, needle)\n",
    "    "
   ]
  },
  {
   "cell_type": "code",
   "execution_count": 147,
   "id": "432dc0f4",
   "metadata": {},
   "outputs": [
    {
     "data": {
      "text/plain": [
       "7"
      ]
     },
     "execution_count": 147,
     "metadata": {},
     "output_type": "execute_result"
    }
   ],
   "source": [
    "## 2. Add Two Numbers\n",
    "class ListNode(object):\n",
    "    def __init__(self, val=0, next=None):\n",
    "        self.val = val\n",
    "        self.next = next\n",
    "\n",
    "def addTwoNumbers( l1, l2):\n",
    "    dummy = ListNode()\n",
    "    cur = dummy\n",
    "    carry = 0\n",
    "\n",
    "    while l1 or l2 or carry:\n",
    "        v1 = l1.val if l1 else 0\n",
    "        v2 = l2.val if l2 else 0\n",
    "\n",
    "        val = v1 + v2 + carry\n",
    "        carry = val //10\n",
    "        val = val %  10\n",
    "        \n",
    "        cur.next = ListNode(val)\n",
    "        cur = cur.next\n",
    "\n",
    "        l1 = l1.next if l1 else None\n",
    "        l2 = l2.next if l2 else None\n",
    "\n",
    "    return dummy.next\n",
    "\n",
    "node_1_3 = ListNode(3,None)\n",
    "node_1_2 = ListNode(4,node_1_3)\n",
    "node_1_1 = ListNode(2,node_1_2)\n",
    "\n",
    "node_2_3 = ListNode(4,None)\n",
    "node_2_2 = ListNode(6,node_2_3)\n",
    "node_2_1 = ListNode(5,node_2_2)\n",
    "\n",
    "addTwoNumbers( node_1_1, node_2_1).val\n"
   ]
  },
  {
   "cell_type": "code",
   "execution_count": 154,
   "id": "4593533d",
   "metadata": {},
   "outputs": [
    {
     "data": {
      "text/plain": [
       "7"
      ]
     },
     "execution_count": 154,
     "metadata": {},
     "output_type": "execute_result"
    }
   ],
   "source": [
    "node_1_3 = ListNode(3,None)\n",
    "node_1_2 = ListNode(4,node_1_3)\n",
    "node_1_1 = ListNode(2,node_1_2)\n",
    "\n",
    "node_2_3 = ListNode(4,None)\n",
    "node_2_2 = ListNode(6,node_2_3)\n",
    "node_2_1 = ListNode(5,node_2_2)\n",
    "\n",
    "def addTwoNumbers2( l1, l2 ):\n",
    "    returning_node = ListNode()\n",
    "    cur = returning_node\n",
    "    carry = 0\n",
    "\n",
    "    while l1 or l2 or carry:\n",
    "        value1 = l1.val if l1 else 0\n",
    "        value2 = l2.val if l2 else 0\n",
    "\n",
    "        val = value1 + value2 + carry\n",
    "        carry = val // 10\n",
    "        val = val % 10\n",
    "        \n",
    "        cur.next = ListNode( val )\n",
    "        cur = cur.next\n",
    "\n",
    "        l1 = l1.next if l1 else None\n",
    "        l2 = l2.next if l2 else None\n",
    "    \n",
    "    return returning_node.next\n",
    "\n",
    "addTwoNumbers2( node_1_1, node_2_1).val\n"
   ]
  },
  {
   "cell_type": "code",
   "execution_count": 3,
   "id": "97f6b4e0",
   "metadata": {},
   "outputs": [
    {
     "data": {
      "text/plain": [
       "dict_values([['eat', 'tea', 'ate'], ['tan', 'nat'], ['bat']])"
      ]
     },
     "execution_count": 3,
     "metadata": {},
     "output_type": "execute_result"
    }
   ],
   "source": [
    "## 49. Group Anagrams\n",
    "strs = [\"eat\",\"tea\",\"tan\",\"ate\",\"nat\",\"bat\"]\n",
    "from collections import defaultdict\n",
    "\n",
    "def groupAnagrams( strs ):\n",
    "    res = defaultdict(list)\n",
    "\n",
    "    for s in strs:\n",
    "        count = [0] * 26\n",
    "        for c in s:\n",
    "            count[ord(c) - ord(\"a\")] += 1\n",
    "\n",
    "        res[tuple(count)].append(s)\n",
    "    return res.values()\n",
    "\n",
    "groupAnagrams( strs )"
   ]
  },
  {
   "cell_type": "code",
   "execution_count": null,
   "id": "6acad7a5",
   "metadata": {},
   "outputs": [],
   "source": []
  },
  {
   "cell_type": "code",
   "execution_count": 8,
   "id": "72fec032",
   "metadata": {},
   "outputs": [
    {
     "data": {
      "text/plain": [
       "3"
      ]
     },
     "execution_count": 8,
     "metadata": {},
     "output_type": "execute_result"
    }
   ],
   "source": [
    "\n",
    "def lengthOflongestSubstring( s ):\n",
    "    charSet = set()\n",
    "    l = 0 \n",
    "    res = 0 \n",
    "\n",
    "    for r in range(len(s)):\n",
    "        while s[r] in charSet:\n",
    "            charSet.remove(s[l])\n",
    "            l += 1\n",
    "\n",
    "        charSet.add(s[r])\n",
    "        res = max(res, r - l  + 1)\n",
    "\n",
    "    return res\n",
    "\n",
    "s = \"abcabcbb\"\n",
    "lengthOflongestSubstring( s )"
   ]
  },
  {
   "cell_type": "code",
   "execution_count": 20,
   "id": "b6cafe32",
   "metadata": {},
   "outputs": [
    {
     "data": {
      "text/plain": [
       "4"
      ]
     },
     "execution_count": 20,
     "metadata": {},
     "output_type": "execute_result"
    }
   ],
   "source": [
    "# Decreasing Rating Problem\n",
    "# ratings = [4, 3, 5, 4, 5] # 7\n",
    "# ratings = [2,1,3] # 4\n",
    "ratings = [4,2,3,1] # 4\n",
    "\n",
    "# O( N )\n",
    "def countDecreasingRatings(ratings):\n",
    "    count = 0 \n",
    "    total_number = len(ratings)\n",
    "\n",
    "    def decreasingratingsequenceformula(n):\n",
    "        return (n/2)*(n+1)\n",
    "\n",
    "    prev = ratings[0] \n",
    "    for item in range(1,total_number):\n",
    "        if((prev - 1)==ratings[item]):\n",
    "            count +=1\n",
    "            prev = ratings[item]\n",
    "        else:\n",
    "            total_number += decreasingratingsequenceformula(count)\n",
    "            count =0 \n",
    "            prev = ratings[item]\n",
    " \n",
    "    total_number += decreasingratingsequenceformula(count)\n",
    "    \n",
    "    return int(total_number)\n",
    "\n",
    "countDecreasingRatings(ratings)"
   ]
  },
  {
   "cell_type": "code",
   "execution_count": null,
   "id": "a5e7cff0",
   "metadata": {},
   "outputs": [],
   "source": [
    "s = '00111000001'"
   ]
  },
  {
   "cell_type": "code",
   "execution_count": 7,
   "id": "05bb6fe8",
   "metadata": {},
   "outputs": [
    {
     "ename": "IndexError",
     "evalue": "list index out of range",
     "output_type": "error",
     "traceback": [
      "\u001b[1;31m---------------------------------------------------------------------------\u001b[0m",
      "\u001b[1;31mIndexError\u001b[0m                                Traceback (most recent call last)",
      "\u001b[1;32mc:\\Users\\user\\Desktop\\GithubRepositories\\Advance-Data-Structure-and-Algorithm\\LeetCode\\Neetcode.ipynb Cell 19\u001b[0m in \u001b[0;36m<cell line: 34>\u001b[1;34m()\u001b[0m\n\u001b[0;32m     <a href='vscode-notebook-cell:/c%3A/Users/user/Desktop/GithubRepositories/Advance-Data-Structure-and-Algorithm/LeetCode/Neetcode.ipynb#ch0000018?line=29'>30</a>\u001b[0m             count \u001b[39m+\u001b[39m\u001b[39m=\u001b[39m ( n \u001b[39m-\u001b[39m index_queue[\u001b[39m0\u001b[39m] \u001b[39m-\u001b[39m \u001b[39m1\u001b[39m )\u001b[39m-\u001b[39m ( index_queue[\u001b[39m-\u001b[39m\u001b[39m1\u001b[39m] )\n\u001b[0;32m     <a href='vscode-notebook-cell:/c%3A/Users/user/Desktop/GithubRepositories/Advance-Data-Structure-and-Algorithm/LeetCode/Neetcode.ipynb#ch0000018?line=31'>32</a>\u001b[0m     \u001b[39mreturn\u001b[39;00m count\n\u001b[1;32m---> <a href='vscode-notebook-cell:/c%3A/Users/user/Desktop/GithubRepositories/Advance-Data-Structure-and-Algorithm/LeetCode/Neetcode.ipynb#ch0000018?line=33'>34</a>\u001b[0m numswaps(\u001b[39m'\u001b[39;49m\u001b[39m110000011\u001b[39;49m\u001b[39m'\u001b[39;49m)\n",
      "\u001b[1;32mc:\\Users\\user\\Desktop\\GithubRepositories\\Advance-Data-Structure-and-Algorithm\\LeetCode\\Neetcode.ipynb Cell 19\u001b[0m in \u001b[0;36mnumswaps\u001b[1;34m(binary)\u001b[0m\n\u001b[0;32m     <a href='vscode-notebook-cell:/c%3A/Users/user/Desktop/GithubRepositories/Advance-Data-Structure-and-Algorithm/LeetCode/Neetcode.ipynb#ch0000018?line=12'>13</a>\u001b[0m comb_queue \u001b[39m=\u001b[39m []\n\u001b[0;32m     <a href='vscode-notebook-cell:/c%3A/Users/user/Desktop/GithubRepositories/Advance-Data-Structure-and-Algorithm/LeetCode/Neetcode.ipynb#ch0000018?line=13'>14</a>\u001b[0m index_queue \u001b[39m=\u001b[39m []\n\u001b[1;32m---> <a href='vscode-notebook-cell:/c%3A/Users/user/Desktop/GithubRepositories/Advance-Data-Structure-and-Algorithm/LeetCode/Neetcode.ipynb#ch0000018?line=14'>15</a>\u001b[0m comb_queue\u001b[39m.\u001b[39mappend( combinations[\u001b[39m0\u001b[39;49m] )\n\u001b[0;32m     <a href='vscode-notebook-cell:/c%3A/Users/user/Desktop/GithubRepositories/Advance-Data-Structure-and-Algorithm/LeetCode/Neetcode.ipynb#ch0000018?line=15'>16</a>\u001b[0m index_queue\u001b[39m.\u001b[39mappend( indexes[\u001b[39m0\u001b[39m] )\n\u001b[0;32m     <a href='vscode-notebook-cell:/c%3A/Users/user/Desktop/GithubRepositories/Advance-Data-Structure-and-Algorithm/LeetCode/Neetcode.ipynb#ch0000018?line=16'>17</a>\u001b[0m \u001b[39mfor\u001b[39;00m i \u001b[39min\u001b[39;00m \u001b[39mrange\u001b[39m(\u001b[39m1\u001b[39m,\u001b[39mlen\u001b[39m(combinations)):\n",
      "\u001b[1;31mIndexError\u001b[0m: list index out of range"
     ]
    }
   ],
   "source": [
    "## O( N )\n",
    "def numswaps(binary):\n",
    "    count = 0\n",
    "    n = len(binary)\n",
    "\n",
    "    combinations = []\n",
    "    indexes = []\n",
    "    for i in range(n // 2):\n",
    "        if binary[i] != binary[n - i - 1]:\n",
    "            combinations.append(binary[i]+ binary[n - i - 1])\n",
    "            indexes.append(i)\n",
    "\n",
    "    comb_queue = []\n",
    "    index_queue = []\n",
    "    comb_queue.append( combinations[0] )\n",
    "    index_queue.append( indexes[0] )\n",
    "    for i in range(1,len(combinations)):\n",
    "        comb_queue.append(combinations[i])\n",
    "        index_queue.append(indexes[i])\n",
    "        \n",
    "        if( comb_queue[0] != comb_queue[-1]):\n",
    "            count += ( n - index_queue[0] - 1 )- (n - index_queue[-1] - 1)\n",
    "            comb_queue = comb_queue[1:-1]\n",
    "            index_queue = index_queue[1:-1]\n",
    "\n",
    "    if(len(index_queue)>0):\n",
    "        if( len(index_queue) == 1 ):\n",
    "            count +=  (n // 2 ) - index_queue[0]\n",
    "        else:\n",
    "            count += ( n - index_queue[0] - 1 )- ( index_queue[-1] )\n",
    "\n",
    "    return count\n",
    "\n",
    "numswaps('110000011')\n",
    "# numswaps('00111000001')\n",
    "# numswaps('0100101')\n",
    "# numswaps('1100011000010100')"
   ]
  },
  {
   "cell_type": "code",
   "execution_count": 5,
   "id": "26ca532f",
   "metadata": {},
   "outputs": [
    {
     "name": "stdout",
     "output_type": "stream",
     "text": [
      "defaultdict(<class 'int'>, {})\n",
      "defaultdict(<class 'int'>, {'a': 1})\n",
      " \n",
      "defaultdict(<class 'int'>, {'a': 1})\n",
      "defaultdict(<class 'int'>, {'a': 1, 'b': 2})\n",
      " \n",
      "defaultdict(<class 'int'>, {'a': 1, 'b': 2})\n",
      "defaultdict(<class 'int'>, {'a': 3, 'b': 2})\n",
      " \n",
      "9\n"
     ]
    }
   ],
   "source": [
    "import collections\n",
    "def solve(s):\n",
    "    ans = 0\n",
    "    curr = 0\n",
    "    counts = collections.defaultdict(int)\n",
    "    \n",
    "    for i in range(len(s)):\n",
    "        print(counts)\n",
    "\n",
    "        curr = curr + i + 1 - counts[s[i]]\n",
    "        ans += curr\n",
    "        counts[s[i]] = i + 1\n",
    "\n",
    "        print(counts)\n",
    "        print( \" \")\n",
    "    return ans\n",
    "\n",
    "print(solve(\"aba\"))\n",
    "# print(solve(\"ABA\"))\n",
    "# print(solve(\"AAA\"))\n",
    "\n",
    " "
   ]
  },
  {
   "cell_type": "code",
   "execution_count": 3,
   "id": "7ba64ca1",
   "metadata": {},
   "outputs": [
    {
     "name": "stdout",
     "output_type": "stream",
     "text": [
      "9\n"
     ]
    }
   ],
   "source": [
    "import collections\n",
    "\n",
    "def solve(s):\n",
    "    ans = 0\n",
    "    dictionary = collections.defaultdict(int)\n",
    "    curr = 0\n",
    "\n",
    "    for index in range(len(s)):\n",
    "        curr =  curr + index + 1 - dictionary[s[index]]\n",
    "        ans += curr\n",
    "        dictionary[s[index]] = index + 1\n",
    "        \n",
    "    return ans\n",
    "\n",
    "print(solve(\"aba\"))"
   ]
  },
  {
   "cell_type": "code",
   "execution_count": 76,
   "id": "09a61217",
   "metadata": {},
   "outputs": [
    {
     "data": {
      "text/plain": [
       "35"
      ]
     },
     "execution_count": 76,
     "metadata": {},
     "output_type": "execute_result"
    }
   ],
   "source": [
    "def distinctCharactersSubstring(string):\n",
    "    result = 0\n",
    "    temp = 0\n",
    "    dictionary = defaultdict(int)\n",
    "\n",
    "    for index in range(len(string)):\n",
    "        temp = temp + index + 1 - dictionary[string[index]]\n",
    "        result += temp\n",
    "        dictionary[string[index]] = index + 1\n",
    "\n",
    "    return result\n",
    "\n",
    "string = 'abcde'\n",
    "distinctCharactersSubstring(string)"
   ]
  },
  {
   "cell_type": "code",
   "execution_count": 122,
   "id": "2d281582",
   "metadata": {},
   "outputs": [
    {
     "data": {
      "text/plain": [
       "[['N/A'],\n",
       " ['UIAHSIHGFG', 'RGSRTWR', 'EYJTRJYEYTJ'],\n",
       " ['N/A'],\n",
       " ['QERGFSFDS', 'QERGFSFDS2', 'QERGFSFDS3']]"
      ]
     },
     "execution_count": 122,
     "metadata": {},
     "output_type": "execute_result"
    }
   ],
   "source": [
    "# insert_and_ship_orders = [['INSERT','GT23513413'], ['INSERT', 'TQC2451340'], ['SHIP','-'], ['INSERT','VYP8561991'], ['INSERT','TEST'], ['SHIP','-']]\n",
    "# insert_and_ship_orders = [[\"INSERT\", \"UIAHSIHGFG\"] , [\"INSERT\", \"RGSRTWR\"] , [\"SHIP\", \"-\"] , [\"INSERT\", \"EYJTRJYEYTJ\"] , [\"INSERT\", \"QERGFSFDS\"], [\"SHIP\", \"-\"]]\n",
    "insert_and_ship_orders = [[\"INSERT\", \"UIAHSIHGFG\"] , [\"INSERT\", \"RGSRTWR\"] , [\"SHIP\", \"-\"] , [\"INSERT\", \"EYJTRJYEYTJ\"] , [\"INSERT\", \"QERGFSFDS\"], [\"SHIP\", \"-\"], [\"INSERT\", \"QERGFSFDS2\"], [\"SHIP\", \"-\"], [\"INSERT\", \"QERGFSFDS3\"], [\"SHIP\", \"-\"]]\n",
    "\n",
    "def createFunction( orders):\n",
    "    queue = []\n",
    "    batch = []\n",
    "    for index in range(len(orders)):\n",
    "        order_type , code = orders[index]\n",
    "        if order_type == 'INSERT':\n",
    "            queue.append(code)\n",
    "        else:\n",
    "            if len(queue) < 3:\n",
    "                batch.append(['N/A'])\n",
    "            else:\n",
    "                batch.append(queue[0:3])\n",
    "                queue = queue[3:]\n",
    "\n",
    "    return batch\n",
    "\n",
    "\n",
    "\n",
    "createFunction( insert_and_ship_orders)"
   ]
  },
  {
   "cell_type": "code",
   "execution_count": 1,
   "id": "8568f562",
   "metadata": {},
   "outputs": [
    {
     "data": {
      "text/plain": [
       "3"
      ]
     },
     "execution_count": 1,
     "metadata": {},
     "output_type": "execute_result"
    }
   ],
   "source": [
    "# Leetcode 926\n",
    "s = \"101100\"\n",
    "# s = \"HHTHTT\"\n",
    "def countflips(s):\n",
    "    string_len = len(s)\n",
    "    ones = s.count(\"1\")\n",
    "    zeroes = 0\n",
    "    \n",
    "    best = ones\n",
    "    for i in range( string_len - 1, -1, -1):\n",
    "        if s[i]== \"0\":\n",
    "            zeroes += 1\n",
    "        else:\n",
    "            ones -= 1\n",
    "\n",
    "        best = min(zeroes + ones, best)\n",
    "\n",
    "    return best\n",
    "\n",
    "countflips(s)"
   ]
  },
  {
   "cell_type": "code",
   "execution_count": 4,
   "id": "bf3954a4",
   "metadata": {},
   "outputs": [
    {
     "data": {
      "text/plain": [
       "44"
      ]
     },
     "execution_count": 4,
     "metadata": {},
     "output_type": "execute_result"
    }
   ],
   "source": [
    "def totalStrength(strength):\n",
    "    n = len(strength)\n",
    "    \n",
    "    stack = [] \n",
    "    min_prev = [-1] * n\n",
    "    for i in range(n):\n",
    "        while stack and strength[i] < strength[stack[-1]]:\n",
    "            stack.pop()\n",
    "\n",
    "        if(stack):\n",
    "            min_prev[i] = stack[-1]\n",
    "\n",
    "        stack.append(i)\n",
    "\n",
    "    stack = [] \n",
    "    min_next = [n] * n \n",
    "    for i in reversed(range(n)):\n",
    "        while stack and strength[i] <= strength[stack[-1]]:\n",
    "            stack.pop()\n",
    "\n",
    "        if(stack):\n",
    "            min_next[i] = stack[-1]\n",
    "\n",
    "        stack.append(i)\n",
    "\n",
    "\n",
    "    pref = [0] * (n+2)\n",
    "    for j in range(1,n+1):\n",
    "        pref[j] = (pref[j-1] + strength[j-1]) \n",
    "    \n",
    "\n",
    "    pref_pref = [0] * (n+2)\n",
    "    for j in range(1,n+1):\n",
    "        pref_pref[j] = (pref_pref[j-1] + pref[j]) \n",
    "        \n",
    "    ans = 0\n",
    "    for i in range(1,n+1):\n",
    "        p = min_prev[i-1] + 1\n",
    "        n = min_next[i-1] + 1\n",
    "\n",
    "        minus = pref_pref[i-1] -(0 if p == 0 else pref_pref[p-1])\n",
    "        plus = pref_pref[n-1] - pref_pref[i-1] \n",
    "\n",
    "        before = i - p\n",
    "        after = n - i\n",
    "        \n",
    "        total = (plus * before)  - (minus * after)\n",
    "        ans = (ans + (total * strength[i-1]) ) \n",
    "    \n",
    "    return ans\n",
    "    \n",
    "strength = [1,3,1,2]\n",
    "totalStrength(strength)"
   ]
  },
  {
   "cell_type": "code",
   "execution_count": 53,
   "id": "28f17349",
   "metadata": {},
   "outputs": [
    {
     "name": "stdout",
     "output_type": "stream",
     "text": [
      "\t\tRank: [4, 1, 3, 2]\n",
      "\tLeft Boundary: [-1, -1, 0, 2] \t Greater Left: [4, 2, 4, 4]\n",
      "\tRight Boundary: [4, 3, 4, 4] \t Greater Right: [-1, 0, 0, 2]\n",
      " \n",
      "Total Imbalance: 0 \tTotal: 4 \t Smaller Sub: 4 \t Greater Left: 4 \t Greater Right: 1\n",
      "Total Imbalance: 3 \tTotal: 4 \t Smaller Sub: 1 \t Greater Left: 1 \t Greater Right: 1\n",
      "Total Imbalance: 0 \tTotal: 4 \t Smaller Sub: 4 \t Greater Left: 2 \t Greater Right: 2\n",
      "Total Imbalance: 0 \tTotal: 1 \t Smaller Sub: 1 \t Greater Left: 1 \t Greater Right: 1\n",
      " \n",
      "3\n"
     ]
    }
   ],
   "source": [
    "def solve(rank):\n",
    "    n = len(rank)\n",
    "     \n",
    "    left_boundary = [-1] * n\n",
    "    value_key = {}\n",
    "    for i in range(n):\n",
    "        boundary = rank[i] + 1\n",
    "        if boundary in value_key:\n",
    "            left_boundary[i] = value_key[boundary]\n",
    "        value_key[rank[i]]  =  i\n",
    "\n",
    "    right_boundary = [n] * n\n",
    "    value_key = {}\n",
    "    for i in reversed(range(n)):\n",
    "        boundary = rank[i] + 1\n",
    "        if boundary in value_key:\n",
    "            right_boundary[i] = value_key[boundary]\n",
    "        value_key[rank[i]]  =  i\n",
    "\n",
    "    greater_right = [-1] * n\n",
    "    stack = []\n",
    "    for i in reversed(range(n)):\n",
    "        while stack and rank[i] > rank[stack[-1]]:\n",
    "            greater_right[stack.pop()] = i\n",
    "        stack.append(i)\n",
    "\n",
    "    greater_left = [n] * n\n",
    "    stack = []\n",
    "    for i in range(n):\n",
    "        while stack and rank[i] > rank[stack[-1]]:\n",
    "            greater_left[stack.pop()] = i\n",
    "        stack.append(i)\n",
    "\n",
    "    print(\"\\t\\tRank:\",rank)\n",
    "    print(\"\\tLeft Boundary:\",left_boundary,\"\\t Greater Left:\",greater_left)\n",
    "    print(\"\\tRight Boundary:\",right_boundary,\"\\t Greater Right:\",greater_right)\n",
    "    print(\" \")\n",
    "    # calculate possibility of how the i-th number can contribute as a[i-1]\n",
    "    res = 0\n",
    "    for i in range(n):\n",
    "        # possible start value of the sub-array\n",
    "        total_possible = (i - left_boundary[i]) * (right_boundary[i] - i)\n",
    "        smaller_sub_count =  (greater_left[i] - i) * (i - greater_right[i] )\n",
    "        print(\"Total Imbalance:\",total_possible - smaller_sub_count,\"\\tTotal:\",total_possible,\"\\t Smaller Sub:\",smaller_sub_count,\"\\t Greater Left:\",( greater_left[i] - i),\"\\t Greater Right:\",( i - greater_right[i] ))\n",
    "        # print(\"Total Imbalance:\",total_possible - smaller_sub_count,\"\\tLeft Boundary:\",(i - left_boundary[i]),\"\\t Right Boundary:\", (right_boundary[i] - i))\n",
    "        res += (total_possible - smaller_sub_count)\n",
    "\n",
    "    print(\" \")\n",
    "    return res\n",
    "\n",
    "print(solve([4,1,3,2])) # 3\n",
    "# print(solve([4,1,3,2])) # 3\n",
    "# print(solve( [15,34,18,9,54,3,6])) #56\n",
    "# print(solve([3,9,1])) # 4 \n",
    "# print(solve([4,3,2,1])) # 0\n",
    "# print(solve([1,3,4,5])) # 3\n"
   ]
  },
  {
   "cell_type": "code",
   "execution_count": 66,
   "metadata": {},
   "outputs": [
    {
     "name": "stdout",
     "output_type": "stream",
     "text": [
      "[4, 2, 4, 4] [-1, 0, 0, 2]\n",
      "3\n"
     ]
    }
   ],
   "source": []
  },
  {
   "cell_type": "code",
   "execution_count": 4,
   "id": "6e795950",
   "metadata": {},
   "outputs": [
    {
     "data": {
      "text/plain": [
       "12"
      ]
     },
     "execution_count": 4,
     "metadata": {},
     "output_type": "execute_result"
    }
   ],
   "source": []
  },
  {
   "cell_type": "code",
   "execution_count": 70,
   "id": "970f7378",
   "metadata": {},
   "outputs": [
    {
     "data": {
      "text/plain": [
       "4"
      ]
     },
     "execution_count": 70,
     "metadata": {},
     "output_type": "execute_result"
    }
   ],
   "source": []
  }
 ],
 "metadata": {
  "kernelspec": {
   "display_name": "Python 3.10.5 64-bit",
   "language": "python",
   "name": "python3"
  },
  "language_info": {
   "codemirror_mode": {
    "name": "ipython",
    "version": 3
   },
   "file_extension": ".py",
   "mimetype": "text/x-python",
   "name": "python",
   "nbconvert_exporter": "python",
   "pygments_lexer": "ipython3",
   "version": "3.10.7"
  },
  "vscode": {
   "interpreter": {
    "hash": "369f2c481f4da34e4445cda3fffd2e751bd1c4d706f27375911949ba6bb62e1c"
   }
  }
 },
 "nbformat": 4,
 "nbformat_minor": 5
}
