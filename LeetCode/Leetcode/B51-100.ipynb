{
 "cells": [
  {
   "cell_type": "code",
   "execution_count": 3,
   "id": "a7d44d94",
   "metadata": {},
   "outputs": [
    {
     "name": "stdout",
     "output_type": "stream",
     "text": [
      "[['.', '.', '.', '.'], ['.', '.', '.', '.'], ['.', '.', '.', '.'], ['.', '.', '.', '.']]\n"
     ]
    },
    {
     "data": {
      "text/plain": [
       "[['.Q..', '...Q', 'Q...', '..Q.'], ['..Q.', 'Q...', '...Q', '.Q..']]"
      ]
     },
     "execution_count": 3,
     "metadata": {},
     "output_type": "execute_result"
    }
   ],
   "source": [
    "# LEETCODE 51\n",
    "\n",
    "class Solution:\n",
    "    def solveNQueens(self,n):\n",
    "        col = set()\n",
    "        posDiag = set()\n",
    "        negDiag = set()\n",
    "\n",
    "        res = []\n",
    "        board = [[\".\"] * n for i in range(n)]\n",
    "        def backtrack(r):\n",
    "            if r == n:\n",
    "                copy = [\"\".join(row) for row in board]\n",
    "                res.append(copy)\n",
    "                return\n",
    "            \n",
    "            for c in range(n):\n",
    "                if c in col or (r + c) in posDiag or (r - c) in negDiag:\n",
    "                    continue\n",
    "\n",
    "                col.add(c)\n",
    "                posDiag.add(r + c)\n",
    "                negDiag.add(r - c)\n",
    "                board[r][c] = \"Q\"\n",
    "\n",
    "                backtrack(r + 1)\n",
    "\n",
    "                col.remove(c)\n",
    "                posDiag.remove(r + c)\n",
    "                negDiag.remove(r - c)\n",
    "                board[r][c] = \".\"\n",
    "\n",
    "        backtrack(0)\n",
    "        return res\n",
    "\n",
    "solution = Solution()\n",
    "n = 4\n",
    "solution.solveNQueens(n)"
   ]
  },
  {
   "cell_type": "code",
   "execution_count": null,
   "id": "5d9985ea",
   "metadata": {},
   "outputs": [],
   "source": [
    "# LEETCODE 52\n",
    "\n",
    "class Solution:\n",
    "    def solveNQueens(self,n):\n",
    "        col = set()\n",
    "        posDiag = set()\n",
    "        negDiag = set()\n",
    "\n",
    "        res = 0\n",
    "        def backtrack(r):\n",
    "            if r == n:\n",
    "                nonlocal res\n",
    "                res += 1\n",
    "                return\n",
    "            \n",
    "            for c in range(n):\n",
    "                if c in col or (r + c) in posDiag or (r - c) in negDiag:\n",
    "                    continue\n",
    "\n",
    "                col.add(c)\n",
    "                posDiag.add(r + c)\n",
    "                negDiag.add(r - c)\n",
    "\n",
    "                backtrack(r + 1)\n",
    "\n",
    "                col.remove(c)\n",
    "                posDiag.remove(r + c)\n",
    "                negDiag.remove(r - c)\n",
    "        backtrack(0)\n",
    "        return res\n",
    "\n",
    "solution = Solution()\n",
    "n = 4\n",
    "solution.solveNQueens(n)"
   ]
  },
  {
   "cell_type": "code",
   "execution_count": null,
   "id": "7e22fbd0",
   "metadata": {},
   "outputs": [],
   "source": [
    "# LEETCODE 53\n",
    "class Solution:\n",
    "    def MaxSubArray(self, nums):\n",
    "        maxSub = nums[0]\n",
    "        curSum = 0\n",
    "\n",
    "        for n in nums:\n",
    "            if curSum < 0:\n",
    "                curSum = 0\n",
    "            curSum += n\n",
    "            maxSub = max(maxSub, curSum)\n",
    "        return maxSub\n",
    "        "
   ]
  },
  {
   "cell_type": "code",
   "execution_count": null,
   "id": "f09533d7",
   "metadata": {},
   "outputs": [],
   "source": [
    "class Solution:\n",
    "    def spiralOrder( self, matrix ):\n",
    "        res = []\n",
    "        left, right = 0 , len(matrix[0])\n",
    "        top, bottom = 0, len(matrix)\n",
    "\n",
    "        while left < right and top < bottom:\n",
    "            for i in range(left,right):\n",
    "                res.append(matrix[top][i])\n",
    "            top += 1\n",
    "\n",
    "            for i in range(top, bottom):\n",
    "                res.append(matrix[i][right - 1])\n",
    "            right -= 1\n",
    "\n",
    "            if not ( left < right and top < bottom):\n",
    "                break\n",
    "\n",
    "            for i in range(right -1, left - 1, -1):\n",
    "                res.append(matrix[bottom - 1][i])\n",
    "            bottom -= 1\n",
    "\n",
    "            for i in range(bottom -1, top -1, -1):\n",
    "                res.append(matrix[i][left])\n",
    "            left += 1\n",
    "\n",
    "        return res\n",
    "\n"
   ]
  },
  {
   "cell_type": "code",
   "execution_count": 1,
   "id": "e3ec65a4",
   "metadata": {},
   "outputs": [
    {
     "name": "stdout",
     "output_type": "stream",
     "text": [
      "[[1, 5], [6, 9]]\n",
      "[[1, 2], [3, 10], [12, 16]]\n"
     ]
    }
   ],
   "source": [
    "## LEETCODE 57\n",
    "\n",
    "class Solution:\n",
    "    def insert(self, intervals, newInterval):\n",
    "        res = []\n",
    "        \n",
    "        for i in range(len(intervals)):\n",
    "            if newInterval[1]< intervals[i][0]:\n",
    "                res.append(newInterval)\n",
    "                return res + intervals[i:]\n",
    "            elif newInterval[0] > intervals[i][1]:\n",
    "                res.append(intervals[i])\n",
    "            else:\n",
    "                newInterval = [min(newInterval[0], intervals[i][0]),max(newInterval[1], intervals[i][1])]\n",
    "                \n",
    "        res.append(newInterval)\n",
    "        return res\n",
    "\n",
    "intervals = [[1,3],[6,9]]\n",
    "newInterval = [2,5]\n",
    "\n",
    "\n",
    "solution = Solution()\n",
    "print(solution.insert(intervals,newInterval))\n",
    "\n",
    "intervals = [[1,2],[3,5],[6,7],[8,10],[12,16]]\n",
    "newInterval = [4,8]\n",
    "solution = Solution()\n",
    "print(solution.insert(intervals,newInterval))\n",
    "        "
   ]
  },
  {
   "cell_type": "code",
   "execution_count": 24,
   "id": "5246ba05",
   "metadata": {},
   "outputs": [
    {
     "data": {
      "text/plain": [
       "[[1, 2, 3], [8, 9, 4], [7, 6, 5]]"
      ]
     },
     "execution_count": 24,
     "metadata": {},
     "output_type": "execute_result"
    }
   ],
   "source": [
    "## LEETCODE 59. Spiral Matrix II\n",
    "class Solution(object):\n",
    "    def generateMatrix(self, n):\n",
    "        r1 = 0\n",
    "        r2 = n -1 \n",
    "        c1 = 0\n",
    "        c2 = n -1\n",
    "        \n",
    "        res = [[0] * n for i in range(n)]\n",
    "        k = 1\n",
    "\n",
    "        while(r1<=r2 and c1 <= c2):\n",
    "            for i in range(r1,r2+1):\n",
    "                res[r1][i] = k\n",
    "                k+=1\n",
    "\n",
    "            for i in range(c1+1,c2+1):\n",
    "                res[i][c2]=k\n",
    "                k+=1\n",
    "\n",
    "            for i in range(r2-1,r1-1,-1):\n",
    "                res[c2][i] = k\n",
    "                k+=1\n",
    "\n",
    "            for i in range(c2-1,c1,-1):\n",
    "                res[i][c1] = k\n",
    "                k+=1\n",
    "\n",
    "            r1+=1\n",
    "            c1+=1\n",
    "            c2-=1\n",
    "            r2-=1\n",
    "            \n",
    "        return res\n",
    "\n",
    "\n",
    "n = 3\n",
    "solution = Solution()\n",
    "solution.generateMatrix(n)"
   ]
  },
  {
   "cell_type": "code",
   "execution_count": 53,
   "id": "77f0d6ef",
   "metadata": {},
   "outputs": [
    {
     "data": {
      "text/plain": [
       "2"
      ]
     },
     "execution_count": 53,
     "metadata": {},
     "output_type": "execute_result"
    }
   ],
   "source": [
    "# Leetcode 61\n",
    "\n",
    "class ListNode:\n",
    "    def __init__(self, val=0, next=None):\n",
    "        self.val = val\n",
    "        self.next = next\n",
    "\n",
    "class Solution:\n",
    "    def rotateRight(self, head, k: int):\n",
    "        if not head:\n",
    "            return head\n",
    "        count = 1\n",
    "        tail = head\n",
    "        while tail.next:\n",
    "            count += 1 \n",
    "            tail = tail.next\n",
    "\n",
    "        if k % count == 0:\n",
    "            return head\n",
    "            \n",
    "        k = k % count\n",
    "        r = count - k \n",
    "        \n",
    "        temp = head\n",
    "        for _ in range(r-1):\n",
    "            temp = temp.next\n",
    "        tail.next = head\n",
    "        head = temp.next\n",
    "        temp.next = None\n",
    "        return head\n",
    "\n",
    "k = 4\n",
    "\n",
    "\n",
    "node_3 = ListNode(2)\n",
    "node_2 = ListNode(1,node_3)\n",
    "node_1 = ListNode(0,node_2)\n",
    "solution = Solution()\n",
    "\n",
    "solution.rotateRight(node_1,k).val"
   ]
  },
  {
   "cell_type": "code",
   "execution_count": 41,
   "id": "418d5e97",
   "metadata": {},
   "outputs": [
    {
     "name": "stdout",
     "output_type": "stream",
     "text": [
      "[1, 1, 1, 1, 1, 1, 1] [7, 6, 5, 4, 3, 2, 1]\n",
      "[7, 6, 5, 4, 3, 2, 1] [28, 21, 15, 10, 6, 3, 1]\n"
     ]
    },
    {
     "data": {
      "text/plain": [
       "28"
      ]
     },
     "execution_count": 41,
     "metadata": {},
     "output_type": "execute_result"
    }
   ],
   "source": [
    "# Leetcode 62\n",
    "\n",
    "class Solution:\n",
    "    def uniquePaths(self, m, n):\n",
    "        row = [1] * n\n",
    "        for i in range( m - 1):\n",
    "            newRow = [1] * n\n",
    "            for j in range(n - 2, -1, -1):\n",
    "                newRow[j] = newRow[j+1] + row[j]\n",
    "            print(row,newRow)\n",
    "            row = newRow\n",
    "        return row[0]\n",
    "\n",
    "m = 3\n",
    "n = 7\n",
    "solution = Solution()\n",
    "solution.uniquePaths(m,n)\n"
   ]
  },
  {
   "cell_type": "code",
   "execution_count": 44,
   "id": "33039901",
   "metadata": {},
   "outputs": [
    {
     "data": {
      "text/plain": [
       "5"
      ]
     },
     "execution_count": 44,
     "metadata": {},
     "output_type": "execute_result"
    }
   ],
   "source": [
    "# Leetcode 63\n",
    "\n",
    "class Solution:\n",
    "    def uniquePathsWithObstacles(self, obstacleGrid):\n",
    "        # create a dp grid with 0s of the same size as obstacleGrid\n",
    "        dp =[[0] * len(obstacleGrid[0]) for i in range(len(obstacleGrid))]\n",
    "\t\t# Consider only the first row and calculate the number of paths.\n",
    "        for j in range(len(obstacleGrid[0])):\n",
    "            if obstacleGrid[0][j]==0:\n",
    "                dp[0][j] = 1  # Since its a single row , there is only one path.\n",
    "            else:\n",
    "                break  # if there is obstacle in between then we cannot go any further\n",
    "        \n",
    "\t\t # Consider only the first row and calculate the number of paths.\n",
    "        for i in range(len(obstacleGrid)):\n",
    "            if obstacleGrid[i][0]==0:\n",
    "                dp[i][0] = 1    # Since its a single column , there is only one path.\n",
    "            else:\n",
    "                break # if there is obstacle in between then we cannot go any further\n",
    "        \n",
    "\t\t# now use dp to expand to subsequent rows and columns\n",
    "        for i in range(1,len(obstacleGrid)):\n",
    "            for j in range(1,len(obstacleGrid[0])):\n",
    "                if obstacleGrid[i][j]==0:   # a path exists only if there is no obstacle.\n",
    "                    dp[i][j] = dp[i-1][j] + dp[i][j-1]  \n",
    "\n",
    "        return dp[-1][-1]  # the last cell will have the total number of paths\n",
    "\n",
    "\n",
    "solution = Solution()\n",
    "obstacleGrid = [[0,0,0,0],[0,1,0,0],[0,1,0,0],[0,0,0,0]]\n",
    "solution.uniquePathsWithObstacles(obstacleGrid)\n",
    "\n",
    "# obstacleGrid = [[0,1],[0,0]]\n",
    "# solution.uniquePathsWithObstacles(obstacleGrid)\n"
   ]
  },
  {
   "cell_type": "code",
   "execution_count": 82,
   "id": "fd6bc1ca",
   "metadata": {},
   "outputs": [
    {
     "data": {
      "text/plain": [
       "7"
      ]
     },
     "execution_count": 82,
     "metadata": {},
     "output_type": "execute_result"
    }
   ],
   "source": [
    "## Leecode 64\n",
    "class Solution(object):\n",
    "    def minPathSum(self, grid):\n",
    "        \"\"\"\n",
    "        :type grid: List[List[int]]\n",
    "        :rtype: int\n",
    "        \"\"\"\n",
    "        M, N = len(grid), len(grid[0])\n",
    "        for i in range(M):\n",
    "            grid[i][0] = grid[i][0] + grid[i-1][0] if i > 0 else grid[i][0]\n",
    "            for j in range(1,N):\n",
    "                grid[i][j] = min(grid[i-1][j], grid[i][j-1]) + grid[i][j] if i > 0 else grid[i][j-1]+grid[i][j]\n",
    "        return grid[-1][-1]\n",
    "\n",
    "\n",
    "grid = [[1,3,1],[1,5,1],[4,2,1]]\n",
    "solution = Solution()\n",
    "solution.minPathSum(grid)"
   ]
  },
  {
   "cell_type": "code",
   "execution_count": 31,
   "metadata": {},
   "outputs": [
    {
     "name": "stdout",
     "output_type": "stream",
     "text": [
      "/home\n"
     ]
    }
   ],
   "source": [
    "# Leetcode 71\n",
    "class Solution:\n",
    "    def simplifyPath(self, path):\n",
    "        stack = []\n",
    "        cur = \"\"\n",
    "\n",
    "        for c in path + \"/\":\n",
    "            if c == \"/\":\n",
    "                if cur == \"..\":\n",
    "                    if stack:\n",
    "                        stack.pop()\n",
    "                elif cur != \"\" and cur != \".\" :\n",
    "                    stack.append(cur)\n",
    "                cur = \"\"\n",
    "            else:\n",
    "                cur += c\n",
    "\n",
    "        return \"/\" + \"/\".join(stack)\n",
    "\n",
    "solution = Solution()\n",
    "\n",
    "path = \"/home/\"\n",
    "print(solution.simplifyPath(path))\n",
    "\n",
    "# path = \"/home//foo/\"\n",
    "# print(solution.simplifyPath(path))\n",
    "\n",
    "# path = \"/../\"\n",
    "# print(solution.simplifyPath(path))"
   ]
  },
  {
   "cell_type": "code",
   "execution_count": 34,
   "id": "c0102517",
   "metadata": {},
   "outputs": [
    {
     "data": {
      "text/plain": [
       "[[0, 0, 0, 0], [0, 4, 5, 0], [0, 3, 1, 0]]"
      ]
     },
     "execution_count": 34,
     "metadata": {},
     "output_type": "execute_result"
    }
   ],
   "source": [
    "# Leetcode 73\n",
    "class Solution:\n",
    "    def setZeroes(self, matrix):\n",
    "        ROWS, COLS = len(matrix), len(matrix[0])\n",
    "        rowZero = False\n",
    "\n",
    "        for r in range(ROWS):\n",
    "            for c in range(COLS):\n",
    "                if matrix[r][c] == 0:\n",
    "                    matrix[0][c] = 0\n",
    "                    if r > 0:\n",
    "                        matrix[r][0] = 0\n",
    "                    else:\n",
    "                        rowZero = True\n",
    "        \n",
    "        for r in range(1, ROWS):\n",
    "            for c in range(1, COLS):\n",
    "                if matrix[0][c] == 0 or matrix[r][0] == 0:\n",
    "                    matrix[r][c] = 0\n",
    "\n",
    "        if matrix[0][0] == 0:\n",
    "            for r in range(ROWS):\n",
    "                matrix[r][0] = 0\n",
    "\n",
    "        if rowZero:\n",
    "            for c in range(COLS):\n",
    "                matrix[0][c] = 0\n",
    "        \n",
    "        return matrix\n",
    "\n",
    "solution = Solution()\n",
    "matrix = [[0,1,2,0],[3,4,5,2],[1,3,1,5]]\n",
    "solution.setZeroes(matrix)\n"
   ]
  },
  {
   "cell_type": "code",
   "execution_count": 36,
   "id": "a7e465c9",
   "metadata": {},
   "outputs": [
    {
     "name": "stdout",
     "output_type": "stream",
     "text": [
      "True\n",
      "False\n"
     ]
    }
   ],
   "source": [
    "# Leetcode 74\n",
    "class Solution:\n",
    "    def searchMatrix(self, matrix, target) :\n",
    "        ROWS, COLS = len(matrix), len(matrix[0])\n",
    "\n",
    "        top, bot = 0, ROWS - 1\n",
    "        while top <= bot:\n",
    "            row = (top + bot) // 2\n",
    "            if target > matrix[row][-1]:\n",
    "                top = row + 1\n",
    "            elif target < matrix[row][0]:\n",
    "                bot = row - 1\n",
    "            else:\n",
    "                break\n",
    "\n",
    "        if not (top <= bot):\n",
    "            return False\n",
    "            \n",
    "        row = (top + bot) // 2\n",
    "        l, r = 0, COLS - 1\n",
    "        while l <= r:\n",
    "            m = (l + r)// 2\n",
    "            if target > matrix[row][m]:\n",
    "                l = m + 1\n",
    "            elif target < matrix[row][m]:\n",
    "                r = m - 1\n",
    "            else:\n",
    "                return True\n",
    "        return False\n",
    "\n",
    "solution = Solution()\n",
    "\n",
    "matrix = [[1,3,5,7],[10,11,16,20],[23,30,34,60]]\n",
    "target = 3\n",
    "print(solution.searchMatrix(matrix,target))\n",
    "matrix = [[1,3,5,7],[10,11,16,20],[23,30,34,60]]\n",
    "target = 13\n",
    "print(solution.searchMatrix(matrix,target))\n"
   ]
  },
  {
   "cell_type": "code",
   "execution_count": null,
   "id": "57272279",
   "metadata": {},
   "outputs": [],
   "source": [
    "# Leetcode 77\n",
    "class Solution:\n",
    "    def combine(self, n, k):\n",
    "        res = []\n",
    "\n",
    "        def backtrack(start, comb):\n",
    "            if len(comb)  == k :\n",
    "                res.append(comb.copy())\n",
    "                return\n",
    "\n",
    "            for i in range(start, n + 1):\n",
    "                comb.append(i)\n",
    "                backtrack(i + 1, comb)\n",
    "                comb.pop()\n",
    "\n",
    "        backtrack(1,[])\n",
    "        return res"
   ]
  },
  {
   "cell_type": "code",
   "execution_count": null,
   "id": "a724c669",
   "metadata": {},
   "outputs": [],
   "source": [
    "# Leetcode 78\n",
    "class Solution:\n",
    "    def subsets(self, nums):\n",
    "        res = []\n",
    "        subset = []\n",
    "\n",
    "        def dfs(i):\n",
    "            if i >= len(nums):\n",
    "                res.append(subset.copy())\n",
    "                return\n",
    "\n",
    "            subset.append(nums[i])\n",
    "            dfs(i + 1)\n",
    "\n",
    "            subset.pop()\n",
    "            dfs(i + 1)\n",
    "\n",
    "        dfs(0)\n",
    "        return res"
   ]
  },
  {
   "cell_type": "code",
   "execution_count": null,
   "id": "93c39c2e",
   "metadata": {},
   "outputs": [],
   "source": [
    "# Leetcode 79\n",
    "class Solution:\n",
    "    def exist(self, board, word):\n",
    "        ROWS, COLS = len(board), len(board[0])\n",
    "        path = set()\n",
    "\n",
    "        def dfs(r, c, i):\n",
    "            if i == len(word):\n",
    "                return True\n",
    "            if r < 0 or c < 0 or r >= ROWS or c >= COLS or word[i] != board[r][c] or(r,c) in path:\n",
    "                return False\n",
    "\n",
    "            path.add((r,c))\n",
    "            res = (\n",
    "                dfs(r + 1, c, i + 1) or\n",
    "                dfs(r - 1, c, i + 1) or\n",
    "                dfs(r , c + 1, i + 1) or \n",
    "                dfs(r , c - 1, i + 1)\n",
    "            )\n",
    "            path.remove((r,c))\n",
    "            return res\n",
    "\n",
    "        for r in range(ROWS):\n",
    "            for c in range(COLS):\n",
    "                if dfs(r,c,0): return True\n",
    "        return False"
   ]
  },
  {
   "cell_type": "code",
   "execution_count": 39,
   "id": "b69ef34c",
   "metadata": {},
   "outputs": [
    {
     "name": "stdout",
     "output_type": "stream",
     "text": [
      "[0, 0, 1, 1, 2, 2]\n"
     ]
    }
   ],
   "source": [
    "class Solution:\n",
    "    def sortColors(self, nums):\n",
    "        \"\"\"\n",
    "        Do not return anything, modify nums in-place instead.\n",
    "        \"\"\"\n",
    "        l, r = 0, len(nums) - 1\n",
    "        i = 0\n",
    "\n",
    "        def swap(i, j):\n",
    "            tmp = nums[i]\n",
    "            nums[i] = nums[j]\n",
    "            nums[j] = tmp\n",
    "        \n",
    "        while i <= r:\n",
    "            if nums[i] == 0:\n",
    "                swap(l,i)\n",
    "                l += 1\n",
    "            elif nums[i] == 2:\n",
    "                swap(i,r)\n",
    "                r -= 1\n",
    "                i -= 1\n",
    "            i += 1\n",
    "    \n",
    "        return nums\n",
    "\n",
    "solution = Solution()\n",
    "nums = [2,0,2,1,1,0]\n",
    "print(solution.sortColors(nums))"
   ]
  },
  {
   "cell_type": "code",
   "execution_count": 44,
   "id": "ad530c3c",
   "metadata": {},
   "outputs": [
    {
     "name": "stdout",
     "output_type": "stream",
     "text": [
      "[[1, 2], [1, 3], [1, 4], [2, 3], [2, 4], [3, 4]]\n"
     ]
    }
   ],
   "source": [
    "# Leetcode 78\n",
    "class Solution:\n",
    "    def combine(self, n: int, k: int):\n",
    "        res = []\n",
    "\n",
    "        def backtrack(start, comb):\n",
    "            if len(comb) == k:\n",
    "                res.append(comb.copy())\n",
    "\n",
    "            for i in range(start, n + 1):\n",
    "                comb.append(i)\n",
    "                backtrack(i + 1, comb)\n",
    "                comb.pop()\n",
    "\n",
    "        backtrack(1,[])\n",
    "        return res\n",
    "\n",
    "\n",
    "n = 4\n",
    "k = 2\n",
    "solution = Solution()\n",
    "print(solution.combine(n,k))"
   ]
  },
  {
   "cell_type": "code",
   "execution_count": 16,
   "id": "831022c9",
   "metadata": {},
   "outputs": [
    {
     "name": "stdout",
     "output_type": "stream",
     "text": [
      "[0, 0, 1, 1, 2, 3, 3, 3, 3]\n",
      "7\n"
     ]
    }
   ],
   "source": [
    "# Leetcode 80\n",
    "class Solution:\n",
    "    def removeDuplicates(self, nums) -> int:\n",
    "        count=0\n",
    "        prev=None\n",
    "        pos=0\n",
    "        last=len(nums)\n",
    "        for i in range(len(nums)):\n",
    "            if count==0:\n",
    "                prev=nums[i]\n",
    "                count += 1\n",
    "                nums[pos]=nums[i]\n",
    "                pos += 1\n",
    "            elif count==1:\n",
    "                if prev==nums[i]:\n",
    "                    count += 1\n",
    "                    nums[pos]=nums[i]\n",
    "                    pos += 1\n",
    "                else:\n",
    "                    count = 1\n",
    "                    prev=nums[i]\n",
    "                    nums[pos]=nums[i]\n",
    "                    pos += 1\n",
    "            elif count==2:\n",
    "                if prev==nums[i]:\n",
    "                    continue\n",
    "                else:\n",
    "                    count = 1\n",
    "                    prev=nums[i]\n",
    "                    nums[pos]=nums[i]\n",
    "                    pos += 1\n",
    "\n",
    "        print(nums)\n",
    "        return pos\n",
    "\n",
    "\n",
    "solution = Solution()\n",
    "# nums = [1,1,1,2,2,3]\n",
    "# # EXPECTED = [1,1,2,2,3]\n",
    "# print(solution.removeDuplicates(nums))\n",
    "\n",
    "\n",
    "\n",
    "\n",
    "nums = [0,0,1,1,1,1,2,3,3]\n",
    "# EXPECTED = [0,0,1,1,2,3,3]\n",
    "print(solution.removeDuplicates(nums))\n",
    "\n",
    "# nums = [0,0,1,1,1,1,2,3,3]\n",
    "# print(solution.removeDuplicates(nums))\n",
    "\n",
    "\n"
   ]
  },
  {
   "cell_type": "code",
   "execution_count": null,
   "id": "7d8f1916",
   "metadata": {},
   "outputs": [],
   "source": [
    "# Leetcode 83\n",
    "class Solution:\n",
    "    def deleteDuplicates(self, head):\n",
    "        cur = head\n",
    "        \n",
    "        while cur:\n",
    "            while cur.next and cur.next.val == cur.val:\n",
    "                cur.next = cur.next.next\n",
    "            cur = cur.next\n",
    "            \n",
    "        return head"
   ]
  },
  {
   "cell_type": "code",
   "execution_count": 16,
   "id": "42fc5e0e",
   "metadata": {},
   "outputs": [
    {
     "name": "stdout",
     "output_type": "stream",
     "text": [
      "4\n",
      "-1\n"
     ]
    }
   ],
   "source": [
    "# leetcode 33 \n",
    "class Solution:\n",
    "    def search(self, nums, target):\n",
    "        l, r = 0, len(nums) - 1\n",
    "\n",
    "        while l <= r:\n",
    "            mid = (l + r) // 2\n",
    "            if target == nums[mid]:\n",
    "                return mid\n",
    "\n",
    "            if nums[l] <= nums[mid]:\n",
    "                if target > nums[mid] or target < nums[l]:\n",
    "                    l = mid + 1\n",
    "                else:\n",
    "                    r = mid - 1\n",
    "            else:\n",
    "                if target < nums[mid] or target > nums[r]:\n",
    "                    r = mid - 1\n",
    "                else:\n",
    "                    l = mid + 1\n",
    "\n",
    "        return -1\n",
    "\n",
    "solution = Solution()\n",
    "nums = [4,5,6,7,0,1,2]\n",
    "target = 0\n",
    "print(solution.search(nums,target))\n",
    "\n",
    "nums = [4,5,6,7,0,1,2]\n",
    "target = 3\n",
    "print(solution.search(nums,target))"
   ]
  },
  {
   "cell_type": "code",
   "execution_count": null,
   "id": "c9ea9c5c",
   "metadata": {},
   "outputs": [],
   "source": [
    "## Leetcode 75\n",
    "\n",
    "class Solution:\n",
    "    def sortColors(self, nums):\n",
    "        l, r = 0, len(nums) - 1\n",
    "        i = 0\n",
    "\n",
    "        def swap(i,j):\n",
    "            tmp = nums[i]\n",
    "            nums[i] = nums[j]\n",
    "            nums[j] = tmp\n",
    "\n",
    "        while i <= r:\n",
    "            if nums[i] == 0:\n",
    "                swap(l,i)\n",
    "                l += 1\n",
    "            elif nums[i] == 2:\n",
    "                swap(i,r)\n",
    "                r -= 1\n",
    "                i -= 1\n",
    "            i += 1"
   ]
  },
  {
   "cell_type": "code",
   "execution_count": 19,
   "id": "47662372",
   "metadata": {},
   "outputs": [
    {
     "name": "stdout",
     "output_type": "stream",
     "text": [
      "0 3 6\n",
      "0 1 2\n",
      "2 2 2\n"
     ]
    },
    {
     "data": {
      "text/plain": [
       "True"
      ]
     },
     "execution_count": 19,
     "metadata": {},
     "output_type": "execute_result"
    }
   ],
   "source": [
    "# Leetcode 81\n",
    "\n",
    "class Solution:\n",
    "    def search(self, nums, target):\n",
    "        if len(nums)==1 :\n",
    "            if nums[0] != target:\n",
    "                return False\n",
    "            else:\n",
    "                return True\n",
    "\n",
    "        left = 0\n",
    "        right = len(nums)-1\n",
    "        while( left <= right ):\n",
    "            # REMOVE THE REPEATING NUMBERS FROM LEFT AND RIGHT\n",
    "            while left<right and nums[left] == nums[left+1]:\n",
    "                left += 1\n",
    "            while left<right and nums[right] == nums[right-1]:\n",
    "                right -= 1\n",
    "            \n",
    "            mid=(left+right)//2\n",
    "\n",
    "            #step 2\n",
    "            if nums[mid]==target:\n",
    "                return True\n",
    "\n",
    "            #step 3\n",
    "            elif nums[left] <= nums[mid]:\n",
    "                if nums[mid] >= target and nums[left] <= target:\n",
    "                    right=mid-1\n",
    "                else:\n",
    "                    left=mid+1\n",
    "\n",
    "            # step 4\n",
    "            else:\n",
    "                if target >= nums[mid] and target <= nums[right]:\n",
    "                    left=mid+1\n",
    "                else:\n",
    "                    right=mid-1\n",
    "\n",
    "        # step 5\n",
    "        return False\n",
    "\n",
    "nums = [7,10,0,1,2,5,6]\n",
    "target = 0\n",
    "solution = Solution()\n",
    "solution.search(nums,target)"
   ]
  },
  {
   "cell_type": "code",
   "execution_count": 4,
   "id": "e400aae1",
   "metadata": {},
   "outputs": [
    {
     "name": "stdout",
     "output_type": "stream",
     "text": [
      "2\n",
      "3\n"
     ]
    }
   ],
   "source": [
    "# Leetcode 82\n",
    "\n",
    "class ListNode:\n",
    "    def __init__(self, val=0, next=None):\n",
    "        self.val = val\n",
    "        self.next = next\n",
    "\n",
    "class Solution:\n",
    "    def deleteDuplicates(self, head) :\n",
    "        dummy = ListNode(None, head)\n",
    "        temp = dummy\n",
    "        curr = head\n",
    "\n",
    "        while curr and curr.next:\n",
    "            if curr.val == curr.next.val:\n",
    "                while curr.next and curr.val == curr.next.val:\n",
    "                    curr.next = curr.next.next\n",
    "                    \n",
    "                temp.next = curr.next\n",
    "                curr = curr.next\n",
    "            else:                \n",
    "                temp.next = curr    \n",
    "                temp = curr\n",
    "                curr = curr.next\n",
    "                \n",
    "        return dummy.next\n",
    "\n",
    "# node_3      = ListNode(3)\n",
    "# node_2      = ListNode(2,node_3)\n",
    "# node_1_c    = ListNode(1,node_2)\n",
    "# node_1_b    = ListNode(1,node_1_c)\n",
    "# node_1_a    = ListNode(1,node_1_b)\n",
    "\n",
    "# solution = Solution()\n",
    "# print(solution.deleteDuplicates(node_1_a).val)\n",
    "\n",
    "\n",
    "\n",
    "node_1_c    = ListNode(1)\n",
    "node_1_b    = ListNode(1,node_1_c)\n",
    "node_1_a    = ListNode(1,node_1_b)\n",
    "node_3      = ListNode(3,node_1_a)\n",
    "node_2      = ListNode(2,node_3)\n",
    "\n",
    "solution = Solution()\n",
    "# print(solution.deleteDuplicates(node_2).val)\n",
    "\n",
    "head = solution.deleteDuplicates(node_2)\n",
    "while head:\n",
    "    print(head.val)\n",
    "    head = head.next\n"
   ]
  },
  {
   "cell_type": "code",
   "execution_count": 24,
   "id": "8c27d7e8",
   "metadata": {},
   "outputs": [
    {
     "name": "stdout",
     "output_type": "stream",
     "text": [
      "1\n",
      "2\n",
      "2\n",
      "4\n",
      "3\n",
      "5\n"
     ]
    }
   ],
   "source": [
    "# Leetcode 82\n",
    "\n",
    "class ListNode:\n",
    "    def __init__(self, val=0, next=None):\n",
    "        self.val = val\n",
    "        self.next = next\n",
    "\n",
    "class Solution:\n",
    "    def partition(self,  head, x):\n",
    "        left, right = ListNode(), ListNode()\n",
    "        ltail, rtail = left, right\n",
    "\n",
    "        while head:\n",
    "            if head.val < x:\n",
    "                ltail.next = head\n",
    "                ltail = ltail.next\n",
    "            else:\n",
    "                rtail.next = head\n",
    "                rtail = rtail.next\n",
    "            head = head.next\n",
    "\n",
    "        ltail.next = right.next\n",
    "        rtail.next = None\n",
    "        return left.next\n",
    "\n",
    "# [1,4,3,2,5,2]\n",
    "\n",
    "x = 3\n",
    "node_6    = ListNode(2)\n",
    "node_5    = ListNode(5,node_6)\n",
    "node_4    = ListNode(2,node_5)\n",
    "node_3    = ListNode(3,node_4)\n",
    "node_2    = ListNode(4,node_3)\n",
    "node_1    = ListNode(1,node_2)\n",
    "solution = Solution()\n",
    "head = solution.partition(node_1,x)\n",
    "while head:\n",
    "    print(head.val)\n",
    "    head = head.next\n"
   ]
  },
  {
   "cell_type": "code",
   "execution_count": null,
   "id": "fff028b2",
   "metadata": {},
   "outputs": [],
   "source": [
    "# Leetcode 88\n",
    "class Solution:\n",
    "    def merge(self, nums1: List[int], m: int, nums2: List[int], n: int) -> None:\n",
    "        \"\"\"\n",
    "        Do not return anything, modify nums1 in-place instead.\n",
    "        \"\"\"\n",
    "        last = m + n - 1\n",
    "        while m > 0 and n > 0:\n",
    "            if nums1[m - 1] > nums2[n - 1]:\n",
    "                nums1[last] = nums1[m - 1]\n",
    "                m -= 1\n",
    "            else:\n",
    "                nums1[last] = nums2[n - 1]\n",
    "                n -= 1\n",
    "            last -= 1\n",
    "            \n",
    "        while n > 0:\n",
    "            nums1[last] = nums2[n  - 1]\n",
    "            n, last = n - 1, last - 1"
   ]
  },
  {
   "cell_type": "code",
   "execution_count": 38,
   "id": "a258c362",
   "metadata": {},
   "outputs": [
    {
     "name": "stdout",
     "output_type": "stream",
     "text": [
      "[1, 2, 2] 3\n",
      "[1, 2] 2\n",
      "[1] 1\n",
      "[1, 2] 3\n",
      "[1] 2\n",
      "[1] 3\n",
      "[] 0\n",
      "[2, 2] 3\n",
      "[2] 2\n",
      "[] 1\n",
      "[2] 3\n",
      "[] 2\n",
      "[] 3\n"
     ]
    },
    {
     "data": {
      "text/plain": [
       "[[1, 2, 2, 3],\n",
       " [1, 2, 2],\n",
       " [1, 2, 3],\n",
       " [1, 2],\n",
       " [1, 3],\n",
       " [1],\n",
       " [2, 2, 3],\n",
       " [2, 2],\n",
       " [2, 3],\n",
       " [2],\n",
       " [3],\n",
       " []]"
      ]
     },
     "execution_count": 38,
     "metadata": {},
     "output_type": "execute_result"
    }
   ],
   "source": [
    "## https://leetcode.com/problems/subsets-ii/discuss/353087/Python-Solution-No-need-to-sort\n",
    "## Leetcode 90\n",
    "class Solution:\n",
    "    def subsetsWithDup(self, nums):\n",
    "            if not nums:\n",
    "                return []\n",
    "            self.ans = []\n",
    "            self.dfs(nums, 0, [])\n",
    "            return self.ans\n",
    "        \n",
    "    def dfs(self, nums, level, path):\n",
    "        if level == len(nums):\n",
    "            self.ans.append(path)\n",
    "            return\n",
    "\n",
    "        # when you got a nums[level], you have 2 options.\n",
    "        # Here, nums[level] is in the answer\n",
    "        self.dfs(nums, level + 1, path + [nums[level]])\n",
    "        # Here, nums[level] is not in the answer\n",
    "        # In order to avoid duplicates, if nums[i] is already in the path, you can't choose to not add nums[i] in the answer\n",
    "        print(path,level)\n",
    "        if not path or nums[level] not in path:\n",
    "            self.dfs(nums, level + 1, path)\n",
    "\n",
    "\n",
    "nums = [1,2,2,3]\n",
    "solution = Solution()\n",
    "solution.subsetsWithDup(nums)"
   ]
  },
  {
   "cell_type": "code",
   "execution_count": 15,
   "id": "d63e15e0",
   "metadata": {},
   "outputs": [
    {
     "name": "stdout",
     "output_type": "stream",
     "text": [
      "2\n"
     ]
    }
   ],
   "source": [
    "## Leetcode 92\n",
    "\n",
    "class ListNode:\n",
    "    def __init__(self, val=0, next=None):\n",
    "        self.val = val\n",
    "        self.next = next\n",
    "\n",
    "\n",
    "class Solution:\n",
    "    def reverseBetween(self, head, left, right):\n",
    "        dummy = ListNode(0, head)\n",
    "        \n",
    "        leftPrev, cur = dummy, head\n",
    "        for i in range(left - 1):\n",
    "            leftPrev, cur = cur, cur.next\n",
    "            \n",
    "        prev = None\n",
    "        for i in range(right - left + 1):\n",
    "            tmpNext = cur.next\n",
    "            cur.next = prev\n",
    "            prev, cur = cur, tmpNext\n",
    "\n",
    "        leftPrev.next.next = cur\n",
    "        leftPrev.next = prev\n",
    "    \n",
    "        return dummy.next\n",
    "\n",
    "node_5    = ListNode(5)\n",
    "node_4    = ListNode(4,node_5)\n",
    "node_3    = ListNode(3,node_4)\n",
    "node_2    = ListNode(2,node_3)\n",
    "node_1    = ListNode(1,node_2)\n",
    "left = 2\n",
    "right = 4\n",
    "solution = Solution()\n",
    "head = solution.reverseBetween(node_1,left,right)\n",
    "\n",
    "# while head:\n",
    "#     print(head.val)\n",
    "#     head = head.next\n"
   ]
  },
  {
   "cell_type": "code",
   "execution_count": 2,
   "id": "cf3123ad",
   "metadata": {},
   "outputs": [
    {
     "data": {
      "text/plain": [
       "14"
      ]
     },
     "execution_count": 2,
     "metadata": {},
     "output_type": "execute_result"
    }
   ],
   "source": [
    "## Leetcode 96\n",
    "\n",
    "class Solution:\n",
    "    def numTrees(self, int):\n",
    "        numTree = [1] * (n + 1)\n",
    "        for nodes in range(2, n + 1):\n",
    "            total = 0\n",
    "            for root in range(1,nodes +1):\n",
    "                left = root - 1\n",
    "                right = nodes - root\n",
    "                total += numTree[left] * numTree[right]\n",
    "            numTree[nodes] = total\n",
    "        return numTree[n]\n",
    "\n",
    "\n",
    "n = 4\n",
    "solution = Solution()\n",
    "solution.numTrees(n)\n"
   ]
  },
  {
   "cell_type": "code",
   "execution_count": 3,
   "id": "6511c943",
   "metadata": {},
   "outputs": [],
   "source": [
    "## Leetcode 98\n",
    "\n",
    "class Solution:\n",
    "    def isValidBST(self, root):\n",
    "        def valid(node, left, right):\n",
    "            if not node:\n",
    "                return True\n",
    "            elif not ( node.val < right and node.val > left):\n",
    "                return False\n",
    "\n",
    "            return ( valid(node.left,left,node.val) and valid(node.right, node.val, right) )\n",
    "        \n",
    "        return valid(root, float(\"-inf\"), float(\"inf\"))"
   ]
  },
  {
   "cell_type": "code",
   "execution_count": 32,
   "metadata": {},
   "outputs": [
    {
     "name": "stdout",
     "output_type": "stream",
     "text": [
      "3 2\n"
     ]
    }
   ],
   "source": [
    "## Leetcode 99\n",
    "\n",
    "\n",
    "class TreeNode:\n",
    "    def __init__(self, val=0, left=None, right=None):\n",
    "        self.val = val\n",
    "        self.left = left\n",
    "        self.right = right\n",
    "\n",
    "class Solution:\n",
    "    def inorder(self, root):\n",
    "        if root == None:\n",
    "            return\n",
    "        self.inorder(root.left)\n",
    "        \n",
    "        if self.prev != None and self.prev.val > root.val:\n",
    "            if self.first == None:\n",
    "                self.first = self.prev\n",
    "                self.middle = root\n",
    "                print(self.first.val, self.middle.val)\n",
    "            else:\n",
    "                self.last = root\n",
    "\n",
    "        self.prev = root\n",
    "        self.inorder(root.right)\n",
    "                    \n",
    "    \n",
    "    def fun(self, root):\n",
    "        self.prev = TreeNode(float('-inf'))\n",
    "        self.first = None\n",
    "        self.middle = None\n",
    "        self.last = None\n",
    "        \n",
    "        self.inorder(root)\n",
    "        \n",
    "        if self.first and self.last:\n",
    "            self.first.val, self.last.val = self.last.val, self.first.val\n",
    "        elif self.first and self.middle:\n",
    "            self.first.val, self.middle.val = self.middle.val, self.first.val\n",
    "            \n",
    "\n",
    "        \n",
    "\n",
    "    def recoverTree(self, root) -> None:\n",
    "        \"\"\"\n",
    "        Do not return anything, modify root in-place instead.\n",
    "        \"\"\"\n",
    "        self.fun(root)\n",
    "\n",
    "solution = Solution()\n",
    "\n",
    "# node_2 = TreeNode(2,None,None)\n",
    "# node_1 = TreeNode(1,None,None)\n",
    "# node_3 = TreeNode(3,node_2,node_2)\n",
    "# head = solution.recoverTree(node_3)\n",
    "\n",
    "node_2 = TreeNode(2,None,None)\n",
    "node_4 = TreeNode(4,node_2,None)\n",
    "node_1 = TreeNode(1,None,None)\n",
    "node_3 = TreeNode(3,node_1,node_4)\n",
    "head = solution.recoverTree(node_3)"
   ]
  }
 ],
 "metadata": {
  "kernelspec": {
   "display_name": "Python 3.10.5 64-bit",
   "language": "python",
   "name": "python3"
  },
  "language_info": {
   "codemirror_mode": {
    "name": "ipython",
    "version": 3
   },
   "file_extension": ".py",
   "mimetype": "text/x-python",
   "name": "python",
   "nbconvert_exporter": "python",
   "pygments_lexer": "ipython3",
   "version": "3.10.7"
  },
  "vscode": {
   "interpreter": {
    "hash": "369f2c481f4da34e4445cda3fffd2e751bd1c4d706f27375911949ba6bb62e1c"
   }
  }
 },
 "nbformat": 4,
 "nbformat_minor": 5
}
