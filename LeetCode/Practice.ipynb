{
 "cells": [
  {
   "cell_type": "markdown",
   "id": "edb56c50",
   "metadata": {},
   "source": [
    "<h2>Top Amazon Leetcode</h2>\n",
    "Link : https://leetcode.com/problem-list/top-amazon-questions/\n"
   ]
  },
  {
   "cell_type": "code",
   "execution_count": 63,
   "id": "64c21465",
   "metadata": {},
   "outputs": [
    {
     "name": "stdout",
     "output_type": "stream",
     "text": [
      "7\n"
     ]
    }
   ],
   "source": [
    "\n",
    "## 2. Add Two Numbers\n",
    "class ListNode(object):\n",
    "    def __init__(self, val=0, next=None):\n",
    "        self.val = val\n",
    "        self.next = next\n",
    "\n",
    "node_1_3 = ListNode(3,None)\n",
    "node_1_2 = ListNode(4,node_1_3)\n",
    "node_1_1 = ListNode(2,node_1_2)\n",
    "\n",
    "node_2_3 = ListNode(4,None)\n",
    "node_2_2 = ListNode(6,node_2_3)\n",
    "node_2_1 = ListNode(5,node_2_2)\n",
    "\n",
    "\n",
    "def count_two_list(l1,l2):\n",
    "    head = ListNode()\n",
    "    carry = 0\n",
    "    curr = head\n",
    "\n",
    "    while l1 or l2 or carry:\n",
    "        v1 = l1.val if l1 else 0\n",
    "        v2  = l2.val if l2 else 0\n",
    "\n",
    "        sum = v1 + v2 + carry\n",
    "        carry = sum // 10\n",
    "        val = sum % 10\n",
    "\n",
    "        curr.next = ListNode(val)\n",
    "        curr = curr.next\n",
    "\n",
    "        l1 = l1.next if l1 else 0\n",
    "        l2 = l2.next if l2 else 0\n",
    "\n",
    "    return head.next \n",
    "\n",
    "print( count_two_list(node_1_1,node_2_1).val )"
   ]
  },
  {
   "cell_type": "code",
   "execution_count": 71,
   "id": "e956b8b9",
   "metadata": {},
   "outputs": [
    {
     "data": {
      "text/plain": [
       "10"
      ]
     },
     "execution_count": 71,
     "metadata": {},
     "output_type": "execute_result"
    }
   ],
   "source": [
    "import collections\n",
    "class Node:\n",
    "    def __init__(self, val, next = None ):\n",
    "        self.val = val\n",
    "        self.next = next\n",
    "\n",
    "def reverse_linked_list(head):\n",
    "    prev = None\n",
    "    curr = head\n",
    "    next = head \n",
    "    while curr:\n",
    "        next = next.next\n",
    "        curr.next = prev\n",
    "        prev = curr\n",
    "        curr = next\n",
    "    return prev\n",
    "\n",
    "\n",
    "def calculate_max_pages(chapters):\n",
    "    soft = chapters\n",
    "    fast = chapters\n",
    "    \n",
    "    while fast and fast.next:\n",
    "        soft = soft.next\n",
    "        fast = fast.next.next\n",
    "\n",
    "    soft = reverse_linked_list(soft)\n",
    "    curr = chapters\n",
    "\n",
    "    best = 0\n",
    "    while soft:\n",
    "        sum = soft.val + curr.val\n",
    "        best = max( sum, best)\n",
    "\n",
    "        soft = soft.next\n",
    "        curr = curr.next\n",
    "    return best\n",
    "\n",
    "    \n",
    "\n",
    "chapters = Node(1)\n",
    "chapters.next = Node(2)\n",
    "chapters.next.next = Node(2)\n",
    "chapters.next.next.next = Node(3)\n",
    "chapters.next.next.next.next = Node(9)\n",
    "\n",
    "calculate_max_pages(chapters)"
   ]
  },
  {
   "cell_type": "code",
   "execution_count": 91,
   "id": "6830f0f4",
   "metadata": {},
   "outputs": [
    {
     "name": "stdout",
     "output_type": "stream",
     "text": [
      "5 4\n"
     ]
    },
    {
     "data": {
      "text/plain": [
       "1"
      ]
     },
     "execution_count": 91,
     "metadata": {},
     "output_type": "execute_result"
    }
   ],
   "source": [
    "\n",
    "\n",
    "\n",
    "def numswaps(binary):\n",
    "    \n",
    "            \n",
    "    return count\n",
    "\n",
    "\n",
    "\n",
    "numswaps('0100100') # 1\n",
    "# numswaps('00111000001')\n",
    "# numswaps('0100101') # 2\n",
    "# numswaps('1100011000010100')"
   ]
  },
  {
   "cell_type": "code",
   "execution_count": 73,
   "id": "14d51b0e",
   "metadata": {},
   "outputs": [
    {
     "data": {
      "text/plain": [
       "1"
      ]
     },
     "execution_count": 73,
     "metadata": {},
     "output_type": "execute_result"
    }
   ],
   "source": [
    "# Leetcode 926\n",
    "# s = \"001011\"\n",
    "s = \"001011\"\n",
    "def countflips(s):\n",
    "  \n",
    "    return \n",
    "\n",
    "countflips(s)"
   ]
  },
  {
   "cell_type": "code",
   "execution_count": 65,
   "id": "8c031ae6",
   "metadata": {},
   "outputs": [
    {
     "data": {
      "text/plain": [
       "7"
      ]
     },
     "execution_count": 65,
     "metadata": {},
     "output_type": "execute_result"
    }
   ],
   "source": [
    "# Restricted Piles Problem\n",
    "\n",
    "def findRestrictPiles( nums ):\n",
    "\n",
    "    return \n",
    "\n",
    "\n",
    "\n",
    "# findRestrictPiles([2,9,4,7,5,2])\n",
    "# findRestrictPiles([2,5,6,7]) \n",
    "# findRestrictPiles([5,4,3,2,1]) # 7\n",
    "# findRestrictPiles([8,9,10,4,5]) # 27\n",
    "# findRestrictPiles([7,4,5,2,6,5])"
   ]
  },
  {
   "cell_type": "code",
   "execution_count": 101,
   "id": "98e72e3b",
   "metadata": {},
   "outputs": [
    {
     "data": {
      "text/plain": [
       "4.0"
      ]
     },
     "execution_count": 101,
     "metadata": {},
     "output_type": "execute_result"
    }
   ],
   "source": [
    "# Decreasing Rating Problem\n",
    "# ratings = [4, 3, 5, 4, 5] # 7\n",
    "# ratings = [2,1,3] # 4\n",
    "ratings = [4,2,3,1] # 4\n",
    "\n",
    "def countDecreasingRatings(ratings):\n",
    "    \n",
    "    return \n",
    "\n",
    "countDecreasingRatings(ratings)"
   ]
  },
  {
   "cell_type": "code",
   "execution_count": 67,
   "id": "85947f55",
   "metadata": {},
   "outputs": [
    {
     "data": {
      "text/plain": [
       "213"
      ]
     },
     "execution_count": 67,
     "metadata": {},
     "output_type": "execute_result"
    }
   ],
   "source": [
    "def totalStrength(strength):\n",
    "    n = len(strength)\n",
    "\n",
    "    min_prev = [-1] * n\n",
    "    stack = []\n",
    "    for i in range(n):\n",
    "        while stack and strength[i] < strength[stack[-1]]:\n",
    "            stack.pop()\n",
    "        if stack:\n",
    "            min_prev[i] = stack[-1]\n",
    "        stack.append(i)\n",
    "\n",
    "    min_next = [n] * n\n",
    "    stack = []\n",
    "    for i in reversed(range(n)):\n",
    "        while stack and strength[i] <= strength[stack[-1]]:\n",
    "            stack.pop()\n",
    "        if stack:\n",
    "            min_next[i] = stack[-1]\n",
    "        stack.append(i)\n",
    "\n",
    "    pref_sum = [0] * ( n + 2 )\n",
    "    for i in range(1,n+1):\n",
    "        pref_sum[i] = pref_sum[i-1] + strength[i-1]\n",
    "\n",
    "    pref_pref_sum = [0] * ( n + 2 )\n",
    "    for i in range(1,n+1):\n",
    "        pref_pref_sum[i] = pref_pref_sum[i-1] + pref_sum[i]\n",
    "\n",
    "    sum = 0\n",
    "    for i in range(1,n+1):\n",
    "        prev = min_prev[i-1] + 1\n",
    "        nxt = min_next[i-1] + 1\n",
    "\n",
    "        plus = pref_pref_sum[nxt-1] - pref_pref_sum[i-1]\n",
    "        minus = pref_pref_sum[i-1] - (pref_pref_sum[prev-1] if prev > 0 else 0)\n",
    "\n",
    "        before = i - prev\n",
    "        after = nxt - i\n",
    "        sum += ((plus * before) - (minus * after)) * strength[i-1]\n",
    "\n",
    "    return sum\n",
    "    \n",
    "strength = [1,3,1,2] # 44\n",
    "strength = [5,4,6] # 213\n",
    "totalStrength(strength)\n",
    "\n"
   ]
  },
  {
   "cell_type": "code",
   "execution_count": 13,
   "id": "c7191bac",
   "metadata": {},
   "outputs": [
    {
     "name": "stdout",
     "output_type": "stream",
     "text": [
      "3\n"
     ]
    }
   ],
   "source": [
    "# Ranking Differences\n",
    "def solve(rank):\n",
    "    \n",
    "    return rank_differences\n",
    "\n",
    "print(solve([4,1,3,2])) # 3\n",
    "# print(solve( [15,34,18,9,54,3,6])) #56\n",
    "# print(solve([3,9,1])) # 4 \n",
    "# print(solve([4,3,2,1])) # 0\n",
    "# print(solve([1,3,4,5])) # 3\n"
   ]
  },
  {
   "cell_type": "code",
   "execution_count": 3,
   "id": "7a08517c",
   "metadata": {},
   "outputs": [
    {
     "data": {
      "text/plain": [
       "4"
      ]
     },
     "execution_count": 3,
     "metadata": {},
     "output_type": "execute_result"
    }
   ],
   "source": [
    "\n",
    "def subArrayRanges(nums):\n",
    "\n",
    "    return sum\n",
    "\n",
    "subArrayRanges([1,2,3])"
   ]
  },
  {
   "cell_type": "code",
   "execution_count": null,
   "id": "3521a653",
   "metadata": {},
   "outputs": [],
   "source": []
  }
 ],
 "metadata": {
  "kernelspec": {
   "display_name": "Python 3.10.5 64-bit",
   "language": "python",
   "name": "python3"
  },
  "language_info": {
   "codemirror_mode": {
    "name": "ipython",
    "version": 3
   },
   "file_extension": ".py",
   "mimetype": "text/x-python",
   "name": "python",
   "nbconvert_exporter": "python",
   "pygments_lexer": "ipython3",
   "version": "3.10.7"
  },
  "vscode": {
   "interpreter": {
    "hash": "369f2c481f4da34e4445cda3fffd2e751bd1c4d706f27375911949ba6bb62e1c"
   }
  }
 },
 "nbformat": 4,
 "nbformat_minor": 5
}
