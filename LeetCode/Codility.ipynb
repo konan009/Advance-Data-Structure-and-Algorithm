{
 "cells": [
  {
   "cell_type": "code",
   "execution_count": 120,
   "id": "41665cf4",
   "metadata": {},
   "outputs": [
    {
     "data": {
      "text/plain": [
       "5"
      ]
     },
     "execution_count": 120,
     "metadata": {},
     "output_type": "execute_result"
    }
   ],
   "source": [
    "\n",
    "# BINARY GAP\n",
    "MAXINT = 2147483647\n",
    "\n",
    "def solution(N : int) -> int:\n",
    "    if N < 1:\n",
    "        raise ValueError(\"Input must be a positive integer\")\n",
    "    if N > MAXINT:\n",
    "        raise ValueError(\"Input must be a positive integer less than 2,147,483,647\")\n",
    "\n",
    "    cnt = 0\n",
    "    result = 0\n",
    "    found_one = False\n",
    "    i = N\n",
    "\n",
    "    while i:\n",
    "        if i & 1 == 1:\n",
    "            if (found_one is False):\n",
    "                found_one = True\n",
    "            else:\n",
    "                result = max(result, cnt)\n",
    "            cnt = 0\n",
    "        else:\n",
    "            cnt += 1\n",
    "        i //= 2\n",
    "    return result\n",
    "\n",
    "solution(1041)"
   ]
  },
  {
   "cell_type": "code",
   "execution_count": 145,
   "metadata": {},
   "outputs": [
    {
     "name": "stdout",
     "output_type": "stream",
     "text": [
      "0\n"
     ]
    },
    {
     "data": {
      "text/plain": [
       "[]"
      ]
     },
     "execution_count": 145,
     "metadata": {},
     "output_type": "execute_result"
    }
   ],
   "source": [
    "# CYCLIC ROTATION\n",
    "\n",
    "A = [3, 8, 9, 7, 6]\n",
    "K = 1\n",
    "\n",
    "MAX_LENGTH = 1000000\n",
    "MAX_NUMBER = 1000\n",
    "MIN_NUMBER = -1000\n",
    "\n",
    "\n",
    "def solution(A : list, K: int ) -> list:\n",
    "    if 1 > len(A) :\n",
    "        return []\n",
    "\n",
    "    ARRAY_LENGTH = len(A) \n",
    "\n",
    "    if ARRAY_LENGTH > MAX_LENGTH:\n",
    "        raise ValueError(\"Invalid number of items\")\n",
    "        \n",
    "    K = K % ARRAY_LENGTH\n",
    "    return A[ARRAY_LENGTH-K:ARRAY_LENGTH] + A[0:ARRAY_LENGTH-K]  \n"
   ]
  },
  {
   "cell_type": "code",
   "execution_count": 147,
   "id": "4cddada8",
   "metadata": {},
   "outputs": [
    {
     "data": {
      "text/plain": [
       "7"
      ]
     },
     "execution_count": 147,
     "metadata": {},
     "output_type": "execute_result"
    }
   ],
   "source": [
    "# ODD CURRENCES IN ARRAY\n",
    "\n",
    "MAX_LENGTH = 1000000\n",
    "MAX_NUMBER = 1000000000\n",
    "MIN_NUMBER = 1\n",
    "\n",
    "def solution(A):\n",
    "    n = len(A)\n",
    "    if A is None or n == 0:\n",
    "        return 0\n",
    "    if n == 1:\n",
    "        return A[0]\n",
    "    result = 0\n",
    "    for i in range(0, n):\n",
    "        result ^= A[i]\n",
    "    return result\n",
    "\n",
    "arr = [9, 3, 9, 3, 9, 7, 9]\n",
    "solution(arr)\n",
    "\n"
   ]
  },
  {
   "cell_type": "code",
   "execution_count": 139,
   "id": "17c184fb",
   "metadata": {},
   "outputs": [
    {
     "data": {
      "text/plain": [
       "15"
      ]
     },
     "execution_count": 139,
     "metadata": {},
     "output_type": "execute_result"
    }
   ],
   "source": [
    "# FROG JMP\n",
    "\n",
    "MAX_NUMBER = 1000000000\n",
    "MIN_NUMBER = 1\n",
    "\n",
    "X = 10\n",
    "Y = 85\n",
    "D = 30\n",
    "\n",
    "def solution( X :int , Y: int , D:int) -> int:\n",
    "    if( X > Y ):\n",
    "        raise ValueError(\"Invalid Number Input\")\n",
    "\n",
    "    if MIN_NUMBER > X > MAX_NUMBER and MIN_NUMBER > Y > MAX_NUMBER and MIN_NUMBER > D > MAX_NUMBER :\n",
    "        raise ValueError(\"Invalid Number Passed\")\n",
    "\n",
    "    difference = Y - X\n",
    "    difference //= D\n",
    "    \n",
    "    if X + difference * D < Y:\n",
    "        difference +=1\n",
    "\n",
    "    return difference\n",
    "\n",
    "solution(10,85,5)\n"
   ]
  },
  {
   "cell_type": "code",
   "execution_count": 79,
   "id": "92dd523e",
   "metadata": {},
   "outputs": [
    {
     "data": {
      "text/plain": [
       "1"
      ]
     },
     "execution_count": 79,
     "metadata": {},
     "output_type": "execute_result"
    }
   ],
   "source": [
    "# PermMissingElem\n",
    "def solution(A):\n",
    "    if len(A) == 0:\n",
    "        return 1\n",
    "        \n",
    "    # ASSUMPTION 3 = each element of array A is an integer within the range [1..(N + 1)]\n",
    "    for x in range(0,len(A)):\n",
    "        if( A[x] > len(A)+2):\n",
    "            A[x] = 0\n",
    "\n",
    "    len_plus_one = sum(range(1, len(A)+2))\n",
    "    sum_of_items = sum(A)\n",
    "\n",
    "    return  len_plus_one - sum_of_items\n",
    "\n",
    "A= [2, 3, 4, 5]\n",
    "solution(A)"
   ]
  },
  {
   "cell_type": "code",
   "execution_count": null,
   "id": "b1537ba7",
   "metadata": {},
   "outputs": [],
   "source": [
    "\n",
    "# TapeEquilibrium\n",
    "def solution(nums):\n",
    "    lefts, rights = sum(nums[:1]), sum(nums[1:])\n",
    "    minval = abs(lefts - rights)\n",
    "    for i in range(1, len(nums) - 1):\n",
    "        lefts += nums[i]\n",
    "        rights -= nums[i]\n",
    "        minval = min(minval, abs(lefts - rights))\n",
    "    return minval"
   ]
  },
  {
   "cell_type": "code",
   "execution_count": 80,
   "id": "debdece8",
   "metadata": {},
   "outputs": [],
   "source": [
    "# FrogRiverOne\n",
    "def solution(X, A):\n",
    "    if len(A) == 1 and A[0] and X == 1:\n",
    "        return 0\n",
    "    \n",
    "    if len(A) < X:\n",
    "        return -1\n",
    "    \n",
    "    positions = set(range(1, X + 1))\n",
    "    for minute, pos in enumerate(A):\n",
    "        if pos in positions:\n",
    "            positions.remove(pos)\n",
    "            if not positions:\n",
    "                return minute\n",
    "    return -1"
   ]
  },
  {
   "cell_type": "code",
   "execution_count": null,
   "id": "e54d7e06",
   "metadata": {},
   "outputs": [],
   "source": [
    "# PermCheck\n",
    "def solution(nums):\n",
    "    if not nums:\n",
    "        return 0\n",
    "    seen = set()\n",
    "    for num in nums:\n",
    "        if num < 1 or num > len(nums) or num in seen:\n",
    "            return 0\n",
    "        seen.add(num)\n",
    "    return 1"
   ]
  },
  {
   "cell_type": "code",
   "execution_count": 3,
   "id": "664a656e",
   "metadata": {},
   "outputs": [],
   "source": [
    "# MaxCounters\n",
    "def solution(N : int , A : list) -> list:\n",
    "    n = N + 1\n",
    "    count = [0] * n\n",
    "    oldcmax = cmax = 0\n",
    "\n",
    "    for item in A:\n",
    "        if item >= N + 1:\n",
    "            oldcmax = cmax\n",
    "        else:\n",
    "            if count[item] < oldcmax:\n",
    "                count[item] = oldcmax\n",
    "            count[item] += 1\n",
    "            if count[item] > cmax:\n",
    "                cmax = count[item]\n",
    "                \n",
    "    return [max(num, oldcmax) for num in count[1:]]"
   ]
  },
  {
   "cell_type": "code",
   "execution_count": 2,
   "id": "f556516e",
   "metadata": {},
   "outputs": [
    {
     "data": {
      "text/plain": [
       "5"
      ]
     },
     "execution_count": 2,
     "metadata": {},
     "output_type": "execute_result"
    }
   ],
   "source": [
    "# MissingInteger\n",
    "\n",
    "MAX_NO_ELEMENT = 100000\n",
    "MIN_VAL = -1000000\n",
    "MAX_VAL = 1000000\n",
    "\n",
    "def solution(A : list )-> int:\n",
    "    array_len = len(A)\n",
    "    if( array_len < 0 or array_len > MAX_NO_ELEMENT):\n",
    "        raise ValueError(\"Invalid No of Elements\")\n",
    "\n",
    "    counter = [0] * array_len\n",
    "    for i in range(0, array_len):\n",
    "        if ( A[i] < MIN_VAL or A[i] > MAX_VAL):\n",
    "            raise ValueError(\"Invalid Element\")\n",
    "\n",
    "        if (A[i] > 0) and (A[i] <= array_len):\n",
    "            counter[A[i] - 1] += 1\n",
    "\n",
    "    for i in range(0, len(counter)):\n",
    "        if (counter[i] == 0):\n",
    "            return i + 1\n",
    "\n",
    "    return array_len + 1\n",
    "\n",
    "A= [1, 3, 6, 4, 1, 2]\n",
    "solution(A)"
   ]
  },
  {
   "cell_type": "code",
   "execution_count": 89,
   "id": "77eba5ec",
   "metadata": {},
   "outputs": [
    {
     "name": "stdout",
     "output_type": "stream",
     "text": [
      "5\n"
     ]
    },
    {
     "data": {
      "text/plain": [
       "0"
      ]
     },
     "execution_count": 89,
     "metadata": {},
     "output_type": "execute_result"
    }
   ],
   "source": [
    "def solution(A : list )-> int:\n",
    "    count = [0] * len(A)\n",
    "    test = 0\n",
    "    number = 0\n",
    "    \n",
    "    for index, item in  enumerate(A):\n",
    "        if item == 0:\n",
    "            test += 1\n",
    "\n",
    "        count[index] = test\n",
    "        if item == 1:\n",
    "            number += count[index]\n",
    "\n",
    "        if number > 1000000000:\n",
    "            return -1\n",
    "\n",
    "    return number\n",
    "    \n",
    "A= [0,1,0,1,1]\n",
    "solution(A)"
   ]
  }
 ],
 "metadata": {
  "interpreter": {
   "hash": "ad2bdc8ecc057115af97d19610ffacc2b4e99fae6737bb82f5d7fb13d2f2c186"
  },
  "kernelspec": {
   "display_name": "Python 3.7.4 ('base')",
   "language": "python",
   "name": "python3"
  },
  "language_info": {
   "codemirror_mode": {
    "name": "ipython",
    "version": 3
   },
   "file_extension": ".py",
   "mimetype": "text/x-python",
   "name": "python",
   "nbconvert_exporter": "python",
   "pygments_lexer": "ipython3",
   "version": "3.7.4"
  }
 },
 "nbformat": 4,
 "nbformat_minor": 5
}
