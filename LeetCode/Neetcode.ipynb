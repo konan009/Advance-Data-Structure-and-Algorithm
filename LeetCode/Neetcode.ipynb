{
 "cells": [
  {
   "cell_type": "markdown",
   "id": "edb56c50",
   "metadata": {},
   "source": [
    "<h2>Top Amazon Leetcode</h2>\n",
    "Link : https://leetcode.com/problem-list/top-amazon-questions/\n"
   ]
  },
  {
   "cell_type": "code",
   "execution_count": 31,
   "id": "0ceb25fa",
   "metadata": {},
   "outputs": [
    {
     "name": "stdout",
     "output_type": "stream",
     "text": [
      "[1, 2]\n"
     ]
    }
   ],
   "source": [
    "## 1. Two Sum\n",
    "nums = [2,7,11,15]\n",
    "target = 9\n",
    "\n",
    "\n",
    "nums =  [3,2,4]\n",
    "target = 6\n",
    "\n",
    "for index1,value in enumerate(nums) :\n",
    "    for index2,value2 in enumerate(nums[int(index1)+1:]):\n",
    "        if(target == value + value2):\n",
    "            print( [index1, index1 + index2 + 1] )\n"
   ]
  },
  {
   "cell_type": "code",
   "execution_count": 35,
   "id": "9830cdf1",
   "metadata": {},
   "outputs": [
    {
     "data": {
      "text/plain": [
       "[[15, 13, 2, 5], [14, 3, 4, 1], [12, 6, 8, 9], [16, 7, 10, 11]]"
      ]
     },
     "execution_count": 35,
     "metadata": {},
     "output_type": "execute_result"
    }
   ],
   "source": [
    "## 48. Rotate Image\n",
    "matrix = [[5,1,9,11],[2,4,8,10],[13,3,6,7],[15,14,12,16]]\n",
    "\n",
    "l, r = 0, len(matrix) - 1\n",
    "\n",
    "while l < r:\n",
    "    \n",
    "    for i in range( r - l ):\n",
    "        top, bottom = l, r\n",
    "        topLeft = matrix[ top ][ l + i ]\n",
    "\n",
    "        # bottom left to top left \n",
    "        matrix[ top ][ l + i ] = matrix[ bottom - i ][ l ]\n",
    "\n",
    "        # bottom right to bottom left\n",
    "        matrix[ bottom-i ][ l ] = matrix[ bottom ][ r - i ]\n",
    "\n",
    "        # top right bottom right \n",
    "        matrix[ bottom ][ r - i ] = matrix[ top + i ][ r ]\n",
    "\n",
    "        # top left to top right\n",
    "        matrix[ top + i ][ r ] = topLeft\n",
    "\n",
    "    r -= 1\n",
    "    l += 1\n",
    "matrix\n"
   ]
  },
  {
   "cell_type": "code",
   "execution_count": 41,
   "id": "c200400f",
   "metadata": {},
   "outputs": [
    {
     "data": {
      "text/plain": [
       "3"
      ]
     },
     "execution_count": 41,
     "metadata": {},
     "output_type": "execute_result"
    }
   ],
   "source": [
    "import collections\n",
    "def numIslands( grid ):\n",
    "    if not grid:\n",
    "        return 0\n",
    "\n",
    "    rows, cols = len(grid), len(grid[0])\n",
    "    visit = set()\n",
    "    islands = 0\n",
    "\n",
    "    def bfs(r,c):\n",
    "        q = collections.deque()\n",
    "        visit.add((r,c))\n",
    "        q.append((r,c))\n",
    "        while q:\n",
    "            row,col = q.pop()\n",
    "            directions = [[1,0],[-1,0],[0,1],[0,-1]]\n",
    "            for dr,dc in directions:\n",
    "                r, c = row + dr, col + dc\n",
    "                if ( r in range(rows) and \n",
    "                     c in range(cols) and \n",
    "                     grid[r][c] == \"1\" and \n",
    "                     (r,c) not in visit):\n",
    "                        q.append((r,c))\n",
    "                        visit.add((r,c))\n",
    "\n",
    "    for r in range(rows):\n",
    "        for c in range(cols):\n",
    "            if grid[r][c]== \"1\" and (r,c) not in visit:\n",
    "                bfs(r,c)\n",
    "                islands += 1\n",
    "\n",
    "    return islands\n",
    "\n",
    "grid = [\n",
    "  [\"1\",\"1\",\"1\",\"1\",\"0\"],\n",
    "  [\"1\",\"1\",\"0\",\"1\",\"0\"],\n",
    "  [\"1\",\"1\",\"0\",\"0\",\"0\"],\n",
    "  [\"0\",\"0\",\"0\",\"0\",\"0\"]\n",
    "] \n",
    "\n",
    "grid = [\n",
    "  [\"1\",\"1\",\"0\",\"0\",\"0\"],\n",
    "  [\"1\",\"1\",\"0\",\"0\",\"0\"],\n",
    "  [\"0\",\"0\",\"1\",\"0\",\"0\"],\n",
    "  [\"0\",\"0\",\"0\",\"1\",\"1\"]\n",
    "]\n",
    "\n",
    "numIslands( grid )"
   ]
  },
  {
   "cell_type": "code",
   "execution_count": 59,
   "id": "9765ff38",
   "metadata": {},
   "outputs": [
    {
     "name": "stdout",
     "output_type": "stream",
     "text": [
      "not palindrome\n"
     ]
    }
   ],
   "source": [
    "## 9. Palindrome Number\n",
    "x = 10\n",
    "test = str(x)\n",
    "\n",
    "length = len(test)\n",
    "if(length%2==1):\n",
    "    length -= 1\n",
    "\n",
    "for item in range(length//2):\n",
    "    if(test[item]!=test[(length-1)-item]):\n",
    "        print(\"not palindrome\")"
   ]
  },
  {
   "cell_type": "code",
   "execution_count": 16,
   "id": "cc1d447d",
   "metadata": {},
   "outputs": [
    {
     "name": "stdout",
     "output_type": "stream",
     "text": [
      "Not Match\n"
     ]
    }
   ],
   "source": [
    "## 20. Valid Parentheses\n",
    "## Valid Parenthesis\n",
    "# s = \"()\"\n",
    "s = \"(]\"\n",
    "# s = \"()[]{}\"\n",
    "\n",
    "opening = ['(','[','{']\n",
    "partner = {'(':')','[':']','{':'}'}\n",
    "length = []\n",
    "\n",
    "for item in s:\n",
    "    if item in opening:\n",
    "        length.append(item)\n",
    "    else:\n",
    "        if(item != partner[length[-1]] ):\n",
    "            return false\n",
    "        else:\n",
    "            length.pop()\n",
    "return true\n",
    "\n",
    "\n"
   ]
  },
  {
   "cell_type": "code",
   "execution_count": 59,
   "id": "12219a44",
   "metadata": {},
   "outputs": [
    {
     "name": "stdout",
     "output_type": "stream",
     "text": [
      "[1, 1, 1, 1, 1, 3, 4, 6]\n"
     ]
    }
   ],
   "source": [
    "list1 = [1,1,1,1]\n",
    "list2 = [1,3,4,6]\n",
    "\n",
    "merge_list = list1 + list2\n",
    "\n",
    "for i in range(len(merge_list)):\n",
    "    for j in range(0, len(merge_list) - i - 1):\n",
    "        if merge_list[j] > merge_list[j + 1]:\n",
    "            temp = merge_list[j]\n",
    "            merge_list[j] = merge_list[j+1]\n",
    "            merge_list[j+1] = temp\n",
    "\n",
    "\n",
    "print(merge_list)\n"
   ]
  },
  {
   "cell_type": "code",
   "execution_count": 95,
   "id": "63c5301b",
   "metadata": {},
   "outputs": [
    {
     "data": {
      "text/plain": [
       "[0, 1, 2, 3, 4, 2, 2, 3, 3, 4]"
      ]
     },
     "execution_count": 95,
     "metadata": {},
     "output_type": "execute_result"
    }
   ],
   "source": [
    "## 26. Remove Duplicates from Sorted Array\n",
    "\n",
    "l = 1\n",
    "nums = [0,0,1,1,1,2,2,3,3,4]\n",
    "for r in range(1, len(nums)):\n",
    "    if nums[r] != nums[r-1]:\n",
    "        nums[l] = nums[r]\n",
    "        l +=1\n",
    "\n",
    "nums"
   ]
  },
  {
   "cell_type": "code",
   "execution_count": null,
   "id": "6db5aa3c",
   "metadata": {},
   "outputs": [],
   "source": [
    "# 27. Remove Element\n",
    "k = 0\n",
    "for i in range(len(nums)):\n",
    "    if nums[i] != val:\n",
    "        nums[k] = nums[i]\n",
    "        k += 1\n",
    "\n",
    "k    "
   ]
  },
  {
   "cell_type": "code",
   "execution_count": 101,
   "id": "97d8a5bc",
   "metadata": {},
   "outputs": [
    {
     "data": {
      "text/plain": [
       "'fl'"
      ]
     },
     "execution_count": 101,
     "metadata": {},
     "output_type": "execute_result"
    }
   ],
   "source": [
    "# 14. Longest Common Prefix\n",
    "strs = [\"flower\",\"flow\",\"flight\"]\n",
    "\n",
    "\n",
    "def longestCommonPrefix( strs):\n",
    "    res = \"\"\n",
    "\n",
    "    for i in range(len(strs[0])):\n",
    "        for s in strs:\n",
    "            if i == len(s) or s[i] != strs[0][i]:\n",
    "                return res\n",
    "        res += strs[0][i]\n",
    "\n",
    "    return res \n",
    "\n",
    "longestCommonPrefix( strs)"
   ]
  },
  {
   "cell_type": "code",
   "execution_count": 106,
   "id": "29e19b8b",
   "metadata": {},
   "outputs": [
    {
     "data": {
      "text/plain": [
       "0"
      ]
     },
     "execution_count": 106,
     "metadata": {},
     "output_type": "execute_result"
    }
   ],
   "source": [
    "haycomb_queue = \"hello\"\n",
    "needle = \"ll\"\n",
    "\n",
    "\n",
    "def strStr(haycomb_queue, needle):\n",
    "    index = 0\n",
    "    starting_index = 0 \n",
    "    for i in haycomb_queue:\n",
    "        if(len(needle)==index):\n",
    "            return starting_index\n",
    "        else:\n",
    "            if(needle[index]==i):\n",
    "                index +=1\n",
    "    \n",
    "strStr(haycomb_queue, needle)\n",
    "    "
   ]
  },
  {
   "cell_type": "code",
   "execution_count": 147,
   "id": "432dc0f4",
   "metadata": {},
   "outputs": [
    {
     "data": {
      "text/plain": [
       "7"
      ]
     },
     "execution_count": 147,
     "metadata": {},
     "output_type": "execute_result"
    }
   ],
   "source": [
    "## 2. Add Two Numbers\n",
    "class ListNode(object):\n",
    "    def __init__(self, val=0, next=None):\n",
    "        self.val = val\n",
    "        self.next = next\n",
    "\n",
    "def addTwoNumbers( l1, l2):\n",
    "    dummy = ListNode()\n",
    "    cur = dummy\n",
    "    carry = 0\n",
    "\n",
    "    while l1 or l2 or carry:\n",
    "        v1 = l1.val if l1 else 0\n",
    "        v2 = l2.val if l2 else 0\n",
    "\n",
    "        val = v1 + v2 + carry\n",
    "        carry = val //10\n",
    "        val = val %  10\n",
    "        \n",
    "        cur.next = ListNode(val)\n",
    "        cur = cur.next\n",
    "\n",
    "        l1 = l1.next if l1 else None\n",
    "        l2 = l2.next if l2 else None\n",
    "\n",
    "    return dummy.next\n",
    "\n",
    "node_1_3 = ListNode(3,None)\n",
    "node_1_2 = ListNode(4,node_1_3)\n",
    "node_1_1 = ListNode(2,node_1_2)\n",
    "\n",
    "node_2_3 = ListNode(4,None)\n",
    "node_2_2 = ListNode(6,node_2_3)\n",
    "node_2_1 = ListNode(5,node_2_2)\n",
    "\n",
    "addTwoNumbers( node_1_1, node_2_1).val\n"
   ]
  },
  {
   "cell_type": "code",
   "execution_count": 154,
   "id": "4593533d",
   "metadata": {},
   "outputs": [
    {
     "data": {
      "text/plain": [
       "7"
      ]
     },
     "execution_count": 154,
     "metadata": {},
     "output_type": "execute_result"
    }
   ],
   "source": [
    "node_1_3 = ListNode(3,None)\n",
    "node_1_2 = ListNode(4,node_1_3)\n",
    "node_1_1 = ListNode(2,node_1_2)\n",
    "\n",
    "node_2_3 = ListNode(4,None)\n",
    "node_2_2 = ListNode(6,node_2_3)\n",
    "node_2_1 = ListNode(5,node_2_2)\n",
    "\n",
    "def addTwoNumbers2( l1, l2 ):\n",
    "    returning_node = ListNode()\n",
    "    cur = returning_node\n",
    "    carry = 0\n",
    "\n",
    "    while l1 or l2 or carry:\n",
    "        value1 = l1.val if l1 else 0\n",
    "        value2 = l2.val if l2 else 0\n",
    "\n",
    "        val = value1 + value2 + carry\n",
    "        carry = val // 10\n",
    "        val = val % 10\n",
    "        \n",
    "        cur.next = ListNode( val )\n",
    "        cur = cur.next\n",
    "\n",
    "        l1 = l1.next if l1 else None\n",
    "        l2 = l2.next if l2 else None\n",
    "    \n",
    "    return returning_node.next\n",
    "\n",
    "addTwoNumbers2( node_1_1, node_2_1).val\n"
   ]
  },
  {
   "cell_type": "code",
   "execution_count": 3,
   "id": "97f6b4e0",
   "metadata": {},
   "outputs": [
    {
     "data": {
      "text/plain": [
       "dict_values([['eat', 'tea', 'ate'], ['tan', 'nat'], ['bat']])"
      ]
     },
     "execution_count": 3,
     "metadata": {},
     "output_type": "execute_result"
    }
   ],
   "source": [
    "## 49. Group Anagrams\n",
    "strs = [\"eat\",\"tea\",\"tan\",\"ate\",\"nat\",\"bat\"]\n",
    "from collections import defaultdict\n",
    "\n",
    "def groupAnagrams( strs ):\n",
    "    res = defaultdict(list)\n",
    "\n",
    "    for s in strs:\n",
    "        count = [0] * 26\n",
    "        for c in s:\n",
    "            count[ord(c) - ord(\"a\")] += 1\n",
    "\n",
    "        res[tuple(count)].append(s)\n",
    "    return res.values()\n",
    "\n",
    "groupAnagrams( strs )"
   ]
  },
  {
   "cell_type": "code",
   "execution_count": null,
   "id": "6acad7a5",
   "metadata": {},
   "outputs": [],
   "source": []
  },
  {
   "cell_type": "code",
   "execution_count": 8,
   "id": "72fec032",
   "metadata": {},
   "outputs": [
    {
     "data": {
      "text/plain": [
       "3"
      ]
     },
     "execution_count": 8,
     "metadata": {},
     "output_type": "execute_result"
    }
   ],
   "source": [
    "\n",
    "def lengthOflongestSubstring( s ):\n",
    "    charSet = set()\n",
    "    l = 0 \n",
    "    res = 0 \n",
    "\n",
    "    for r in range(len(s)):\n",
    "        while s[r] in charSet:\n",
    "            charSet.remove(s[l])\n",
    "            l += 1\n",
    "\n",
    "        charSet.add(s[r])\n",
    "        res = max(res, r - l  + 1)\n",
    "\n",
    "    return res\n",
    "\n",
    "s = \"abcabcbb\"\n",
    "lengthOflongestSubstring( s )"
   ]
  },
  {
   "cell_type": "code",
   "execution_count": 2,
   "id": "b6cafe32",
   "metadata": {},
   "outputs": [
    {
     "data": {
      "text/plain": [
       "7"
      ]
     },
     "execution_count": 2,
     "metadata": {},
     "output_type": "execute_result"
    }
   ],
   "source": [
    "# Decreasing Rating Problem\n",
    "ratings = [4, 3, 5, 4, 5]\n",
    "\n",
    "def countDecreasingRatings(ratings):\n",
    "    count = 0 \n",
    "    total_number = len(ratings)\n",
    "\n",
    "    def decreasingratingsequenceformula(n):\n",
    "        return (n/2)*(n+1)\n",
    "\n",
    "    prev = ratings[0] \n",
    "    for item in range(1,total_number):\n",
    "        if(prev>ratings[item]):\n",
    "            count +=1\n",
    "            prev = ratings[item]\n",
    "        else:\n",
    "            total_number += decreasingratingsequenceformula(count)\n",
    "            count =0 \n",
    "            prev = ratings[item]\n",
    " \n",
    "    total_number += decreasingratingsequenceformula(count)\n",
    "    \n",
    "    return int(total_number)\n",
    "\n",
    "countDecreasingRatings(ratings)"
   ]
  },
  {
   "cell_type": "code",
   "execution_count": 104,
   "id": "94c4fdcd",
   "metadata": {},
   "outputs": [
    {
     "name": "stdout",
     "output_type": "stream",
     "text": [
      "7\n"
     ]
    }
   ],
   "source": [
    "# Amazon Fresh Problem\n",
    "numProduct = [7, 4, 5, 2, 6, 5]\n",
    "\n",
    "starting_index = 1\n",
    "ending_index = 2\n",
    "picked_products = numProduct[starting_index-1:ending_index]\n",
    "\n",
    "total = 0\n",
    "for item in range(1,len(picked_products)):\n",
    "    if(picked_products[item-1]>picked_products[item]):\n",
    "        picked_products[item-1] = picked_products[item] - 1\n",
    "    \n",
    "    total += picked_products[item-1]\n",
    "        \n",
    "total += picked_products[-1]\n",
    "\n",
    "print(total)"
   ]
  },
  {
   "cell_type": "code",
   "execution_count": null,
   "id": "ee6372ea",
   "metadata": {},
   "outputs": [],
   "source": [
    "import collections\n",
    "class Node:\n",
    "    def __init__(self, val, next=None):\n",
    "        self.val = val\n",
    "        self.next = next\n",
    "\n",
    "# TC: O(n)\n",
    "# SC: O(n)\n",
    "# Pretty self explanatory, create a queue with all the chapters, keep popping from the front and back and sum them up together to get the days, keep track of max.\n",
    "# Once you get to a point where there is only 1 chapter left, just pop the number and compare with max.\n",
    "# Tried to implement without a queue, got frustrated and just went with this approach.\n",
    "\n",
    "def maximumPages(chapters):\n",
    "    days = collections.deque()\n",
    "    maxCount = 0\n",
    "\n",
    "    while chapters:\n",
    "        days.append(chapters.val)\n",
    "        chapters = chapters.next\n",
    "\n",
    "    while days:\n",
    "        if len(days) >= 2:\n",
    "            maxCount = max(maxCount, days.pop() + days.popleft())\n",
    "        else:\n",
    "            maxCount = max(maxCount, days.pop())\n",
    "\n",
    "    return maxCount\n",
    "\n",
    "\n",
    "chapters = Node(1)\n",
    "chapters.next = Node(4)\n",
    "chapters.next.next = Node(3)\n",
    "chapters.next.next.next = Node(2)\n",
    "# chapters.next.next.next.next = Node(2)\n",
    "\n",
    "print(maximumPages(chapters))"
   ]
  },
  {
   "cell_type": "code",
   "execution_count": null,
   "id": "a5e7cff0",
   "metadata": {},
   "outputs": [],
   "source": [
    "s = '00111000001'"
   ]
  },
  {
   "cell_type": "code",
   "execution_count": 6,
   "id": "05bb6fe8",
   "metadata": {},
   "outputs": [
    {
     "data": {
      "text/plain": [
       "7"
      ]
     },
     "execution_count": 6,
     "metadata": {},
     "output_type": "execute_result"
    }
   ],
   "source": [
    "## O( N + N )\n",
    "def numswaps(binary):\n",
    "    count = 0\n",
    "    n = len(binary)\n",
    "\n",
    "    combinations = []\n",
    "    indexes = []\n",
    "    for i in range(n // 2):\n",
    "        if binary[i] != binary[n - i - 1]:\n",
    "            combinations.append(binary[i]+ binary[n - i - 1])\n",
    "            indexes.append(i)\n",
    "\n",
    "    comb_queue = []\n",
    "    index_queue = []\n",
    "    comb_queue.append( combinations[0] )\n",
    "    index_queue.append( indexes[0] )\n",
    "    for i in range(1,len(combinations)):\n",
    "        comb_queue.append(combinations[i])\n",
    "        index_queue.append(indexes[i])\n",
    "        \n",
    "        if( comb_queue[0] != comb_queue[-1]):\n",
    "            comb_queue = comb_queue[1:-1]\n",
    "            count += ( n - index_queue[0] - 1 )- (n - index_queue[-1] - 1)\n",
    "            index_queue = index_queue[1:-1]\n",
    "\n",
    "    if(len(index_queue)>0):\n",
    "        if( len(index_queue) == 1 ):\n",
    "            count +=  (n // 2 ) - index_queue[0]\n",
    "        else:\n",
    "            count += ( n - index_queue[0] - 1 )- ( index_queue[-1] )\n",
    "\n",
    "    return count\n",
    "\n",
    "numswaps('110000000')\n",
    "# numswaps('00111000001')\n",
    "# numswaps('0100101')\n",
    "# numswaps('1100011000010100')"
   ]
  },
  {
   "cell_type": "code",
   "execution_count": 28,
   "id": "082518b6",
   "metadata": {},
   "outputs": [
    {
     "name": "stdout",
     "output_type": "stream",
     "text": [
      "LEFT: [-1, -1, 0, 2]   RIGHT: [4, 3, 4, 4]\n",
      "NG LEFT: [-1, 0, 0, 2]   NG RIGHT: [4, 2, 4, 4]\n",
      " \n",
      "(0, '-', -1) 1 \t (4, '-', 0) 4\n",
      "(0, '-', -1) \t (4, '-', 0)\n",
      "4 4\n",
      "\n",
      "(1, '-', -1) 2 \t (3, '-', 1) 2\n",
      "(1, '-', 0) \t (2, '-', 1)\n",
      "4 1\n",
      "\n",
      "(2, '-', 0) 2 \t (4, '-', 2) 2\n",
      "(2, '-', 0) \t (4, '-', 2)\n",
      "4 4\n",
      "\n",
      "(3, '-', 2) 1 \t (4, '-', 3) 1\n",
      "(3, '-', 2) \t (4, '-', 3)\n",
      "1 1\n",
      "\n",
      "\n",
      "3\n"
     ]
    }
   ],
   "source": [
    "def next_great_element_right(arr):\n",
    "    n = len(arr)\n",
    "    res = [n] * n\n",
    "    # keep non-increasing monotonic array, like 4, 1, 3, 2\n",
    "    stack = []\n",
    "    for i in range(n):\n",
    "        while stack and arr[i] > arr[stack[-1]]:\n",
    "            res[stack.pop()] = i\n",
    "        stack.append(i)\n",
    "    return res\n",
    "\n",
    "\n",
    "def next_great_element_left(arr):\n",
    "    n = len(arr)\n",
    "    res = [-1] * n\n",
    "    stack = []\n",
    "    for i in range(n - 1, -1, -1):\n",
    "        while stack and arr[i] > arr[stack[-1]]:\n",
    "            res[stack.pop()] = i\n",
    "        stack.append(i)\n",
    "    return res\n",
    "\n",
    "\n",
    "def solve(rank):\n",
    "    n = len(rank)\n",
    "    # exclusive boundary\n",
    "    left_boundary = [-1] * n\n",
    "    right_boundary = [n] * n\n",
    "    mp = {}\n",
    "    # calculate left boundary\n",
    "    for i in range(n):\n",
    "        if rank[i] + 1 in mp:\n",
    "            left_boundary[i] = mp[rank[i] + 1]\n",
    "        mp[rank[i]] = i\n",
    "\n",
    "    # calculate right boundary\n",
    "    mp = {}\n",
    "    for i in range(n - 1, -1, -1):\n",
    "        if rank[i] + 1 in mp:\n",
    "            right_boundary[i] = mp[rank[i] + 1]\n",
    "        mp[rank[i]] = i\n",
    "\n",
    "    greater_right = next_great_element_right(rank)\n",
    "    greater_left = next_great_element_left(rank)\n",
    "\n",
    "    # calculate possibility of how the i-th number can contribute as a[i-1]\n",
    "    res = 0\n",
    "    print(\"LEFT:\",left_boundary, \" \",\"RIGHT:\",right_boundary)\n",
    "    print(\"NG LEFT:\",greater_left, \" \",\"NG RIGHT:\",greater_right)\n",
    "    print(\" \")\n",
    "    for i in range(n):\n",
    "        # possible start value of the sub-array\n",
    "        count_of_start = i - left_boundary[i]\n",
    "        count_of_end = right_boundary[i] - i\n",
    "        print( (i, \"-\" , left_boundary[i]) ,count_of_start,\"\\t\" ,(right_boundary[i], \"-\" , i) ,count_of_end)\n",
    "        total_possible = count_of_start * count_of_end\n",
    "        smaller_sub_count = (i - greater_left[i]) * (greater_right[i] - i)\n",
    "        print( (i ,\"-\" ,greater_left[i]),\"\\t\",(greater_right[i] ,\"-\", i) )\n",
    "        print( total_possible, smaller_sub_count)\n",
    "        # print( total_possible , smaller_sub_count)\n",
    "        res += (total_possible - smaller_sub_count)\n",
    "        print(\"\")\n",
    "        \n",
    "    print(\"\")\n",
    "    return res\n",
    "\n",
    "print(solve([4, 1, 3, 2]))\n",
    "\n",
    "# print(solve([1, 5, 4]))\n",
    "\n",
    "# findTotalImbalance( [1, 4, 5])"
   ]
  },
  {
   "cell_type": "code",
   "execution_count": 8,
   "metadata": {},
   "outputs": [
    {
     "name": "stdout",
     "output_type": "stream",
     "text": [
      "5 {} [-1, -1, -1, -1]\n",
      "5 {4: 0} [-1, -1, -1, -1]\n",
      " \n",
      "2 {4: 0} [-1, -1, -1, -1]\n",
      "2 {4: 0, 1: 1} [-1, -1, -1, -1]\n",
      " \n",
      "4 {4: 0, 1: 1} [-1, -1, -1, -1]\n",
      "4 {4: 0, 1: 1, 3: 2} [-1, -1, 0, -1]\n",
      " \n",
      "3 {4: 0, 1: 1, 3: 2} [-1, -1, 0, -1]\n",
      "3 {4: 0, 1: 1, 3: 2, 2: 3} [-1, -1, 0, 2]\n",
      " \n",
      "[-1, -1, 0, 2]\n"
     ]
    },
    {
     "ename": "NameError",
     "evalue": "name 'die' is not defined",
     "output_type": "error",
     "traceback": [
      "\u001b[1;31m---------------------------------------------------------------------------\u001b[0m",
      "\u001b[1;31mNameError\u001b[0m                                 Traceback (most recent call last)",
      "\u001b[1;32mc:\\Users\\user\\Desktop\\GithubRepositories\\Advance-Data-Structure-and-Algorithm\\LeetCode\\Neetcode.ipynb Cell 23\u001b[0m in \u001b[0;36m<cell line: 42>\u001b[1;34m()\u001b[0m\n\u001b[0;32m     <a href='vscode-notebook-cell:/c%3A/Users/user/Desktop/GithubRepositories/Advance-Data-Structure-and-Algorithm/LeetCode/Neetcode.ipynb#ch0000022?line=34'>35</a>\u001b[0m     \u001b[39mprint\u001b[39m(right_boundary)\n\u001b[0;32m     <a href='vscode-notebook-cell:/c%3A/Users/user/Desktop/GithubRepositories/Advance-Data-Structure-and-Algorithm/LeetCode/Neetcode.ipynb#ch0000022?line=35'>36</a>\u001b[0m     die\n\u001b[1;32m---> <a href='vscode-notebook-cell:/c%3A/Users/user/Desktop/GithubRepositories/Advance-Data-Structure-and-Algorithm/LeetCode/Neetcode.ipynb#ch0000022?line=41'>42</a>\u001b[0m \u001b[39mprint\u001b[39m(solve([\u001b[39m4\u001b[39;49m, \u001b[39m1\u001b[39;49m, \u001b[39m3\u001b[39;49m, \u001b[39m2\u001b[39;49m]))\n",
      "\u001b[1;32mc:\\Users\\user\\Desktop\\GithubRepositories\\Advance-Data-Structure-and-Algorithm\\LeetCode\\Neetcode.ipynb Cell 23\u001b[0m in \u001b[0;36msolve\u001b[1;34m(rank)\u001b[0m\n\u001b[0;32m     <a href='vscode-notebook-cell:/c%3A/Users/user/Desktop/GithubRepositories/Advance-Data-Structure-and-Algorithm/LeetCode/Neetcode.ipynb#ch0000022?line=16'>17</a>\u001b[0m     \u001b[39mprint\u001b[39m(\u001b[39m\"\u001b[39m\u001b[39m \u001b[39m\u001b[39m\"\u001b[39m)\n\u001b[0;32m     <a href='vscode-notebook-cell:/c%3A/Users/user/Desktop/GithubRepositories/Advance-Data-Structure-and-Algorithm/LeetCode/Neetcode.ipynb#ch0000022?line=18'>19</a>\u001b[0m \u001b[39mprint\u001b[39m(left_boundary)\n\u001b[1;32m---> <a href='vscode-notebook-cell:/c%3A/Users/user/Desktop/GithubRepositories/Advance-Data-Structure-and-Algorithm/LeetCode/Neetcode.ipynb#ch0000022?line=19'>20</a>\u001b[0m die\n\u001b[0;32m     <a href='vscode-notebook-cell:/c%3A/Users/user/Desktop/GithubRepositories/Advance-Data-Structure-and-Algorithm/LeetCode/Neetcode.ipynb#ch0000022?line=22'>23</a>\u001b[0m \u001b[39m# calculate right boundary\u001b[39;00m\n\u001b[0;32m     <a href='vscode-notebook-cell:/c%3A/Users/user/Desktop/GithubRepositories/Advance-Data-Structure-and-Algorithm/LeetCode/Neetcode.ipynb#ch0000022?line=23'>24</a>\u001b[0m mp \u001b[39m=\u001b[39m {}\n",
      "\u001b[1;31mNameError\u001b[0m: name 'die' is not defined"
     ]
    }
   ],
   "source": [
    "def solve(rank):\n",
    "    n = len(rank)\n",
    "    # exclusive boundary\n",
    "    left_boundary = [-1] * n\n",
    "    right_boundary = [n] * n\n",
    "\n",
    "    mp = {}\n",
    "    # calculate left boundary\n",
    "    for i in range(n):\n",
    "        print(rank[i] + 1, mp, left_boundary)\n",
    "        \n",
    "        if rank[i] + 1 in mp:\n",
    "            left_boundary[i] = mp[rank[i] + 1]\n",
    "        mp[rank[i]] = i\n",
    "        print(rank[i] + 1, mp, left_boundary)\n",
    "        \n",
    "        print(\" \")\n",
    "\n",
    "    print(left_boundary)\n",
    "    die\n",
    "\n",
    "    \n",
    "    # calculate right boundary\n",
    "    mp = {}\n",
    "    # for i in range(n - 1, -1, -1):\n",
    "    #     print(rank[i] + 1, mp, right_boundary)\n",
    "    #     if rank[i] + 1 in mp:\n",
    "    #         right_boundary[i] = mp[rank[i] + 1]\n",
    "    #     mp[rank[i]] = i\n",
    "    #     print(rank[i] + 1, mp, right_boundary)\n",
    "    #     print(\" \")\n",
    "\n",
    "    print(right_boundary)\n",
    "    die\n",
    "\n",
    "\n",
    "\n",
    "\n",
    "\n",
    "print(solve([4, 1, 3, 2]))"
   ]
  },
  {
   "cell_type": "code",
   "execution_count": 5,
   "id": "26ca532f",
   "metadata": {},
   "outputs": [
    {
     "name": "stdout",
     "output_type": "stream",
     "text": [
      "defaultdict(<class 'int'>, {})\n",
      "defaultdict(<class 'int'>, {'a': 1})\n",
      " \n",
      "defaultdict(<class 'int'>, {'a': 1})\n",
      "defaultdict(<class 'int'>, {'a': 1, 'b': 2})\n",
      " \n",
      "defaultdict(<class 'int'>, {'a': 1, 'b': 2})\n",
      "defaultdict(<class 'int'>, {'a': 3, 'b': 2})\n",
      " \n",
      "9\n"
     ]
    }
   ],
   "source": [
    "import collections\n",
    "def solve(s):\n",
    "    ans = 0\n",
    "    curr = 0\n",
    "    counts = collections.defaultdict(int)\n",
    "    \n",
    "    for i in range(len(s)):\n",
    "        print(counts)\n",
    "\n",
    "        curr = curr + i + 1 - counts[s[i]]\n",
    "        ans += curr\n",
    "        counts[s[i]] = i + 1\n",
    "\n",
    "        print(counts)\n",
    "        print( \" \")\n",
    "    return ans\n",
    "\n",
    "print(solve(\"aba\"))\n",
    "# print(solve(\"ABA\"))\n",
    "# print(solve(\"AAA\"))\n",
    "\n",
    " "
   ]
  },
  {
   "cell_type": "code",
   "execution_count": 3,
   "id": "7ba64ca1",
   "metadata": {},
   "outputs": [
    {
     "name": "stdout",
     "output_type": "stream",
     "text": [
      "9\n"
     ]
    }
   ],
   "source": [
    "import collections\n",
    "\n",
    "def solve(s):\n",
    "    ans = 0\n",
    "    dictionary = collections.defaultdict(int)\n",
    "    curr = 0\n",
    "\n",
    "    for index in range(len(s)):\n",
    "        curr =  curr + index + 1 - dictionary[s[index]]\n",
    "        ans += curr\n",
    "        dictionary[s[index]] = index + 1\n",
    "        \n",
    "    return ans\n",
    "\n",
    "print(solve(\"aba\"))"
   ]
  },
  {
   "cell_type": "code",
   "execution_count": 76,
   "id": "09a61217",
   "metadata": {},
   "outputs": [
    {
     "data": {
      "text/plain": [
       "35"
      ]
     },
     "execution_count": 76,
     "metadata": {},
     "output_type": "execute_result"
    }
   ],
   "source": [
    "def distinctCharactersSubstring(string):\n",
    "    result = 0\n",
    "    temp = 0\n",
    "    dictionary = defaultdict(int)\n",
    "\n",
    "    for index in range(len(string)):\n",
    "        temp = temp + index + 1 - dictionary[string[index]]\n",
    "        result += temp\n",
    "        dictionary[string[index]] = index + 1\n",
    "\n",
    "    return result\n",
    "\n",
    "string = 'abcde'\n",
    "distinctCharactersSubstring(string)"
   ]
  },
  {
   "cell_type": "code",
   "execution_count": 122,
   "id": "2d281582",
   "metadata": {},
   "outputs": [
    {
     "data": {
      "text/plain": [
       "[['N/A'],\n",
       " ['UIAHSIHGFG', 'RGSRTWR', 'EYJTRJYEYTJ'],\n",
       " ['N/A'],\n",
       " ['QERGFSFDS', 'QERGFSFDS2', 'QERGFSFDS3']]"
      ]
     },
     "execution_count": 122,
     "metadata": {},
     "output_type": "execute_result"
    }
   ],
   "source": [
    "# insert_and_ship_orders = [['INSERT','GT23513413'], ['INSERT', 'TQC2451340'], ['SHIP','-'], ['INSERT','VYP8561991'], ['INSERT','TEST'], ['SHIP','-']]\n",
    "# insert_and_ship_orders = [[\"INSERT\", \"UIAHSIHGFG\"] , [\"INSERT\", \"RGSRTWR\"] , [\"SHIP\", \"-\"] , [\"INSERT\", \"EYJTRJYEYTJ\"] , [\"INSERT\", \"QERGFSFDS\"], [\"SHIP\", \"-\"]]\n",
    "insert_and_ship_orders = [[\"INSERT\", \"UIAHSIHGFG\"] , [\"INSERT\", \"RGSRTWR\"] , [\"SHIP\", \"-\"] , [\"INSERT\", \"EYJTRJYEYTJ\"] , [\"INSERT\", \"QERGFSFDS\"], [\"SHIP\", \"-\"], [\"INSERT\", \"QERGFSFDS2\"], [\"SHIP\", \"-\"], [\"INSERT\", \"QERGFSFDS3\"], [\"SHIP\", \"-\"]]\n",
    "\n",
    "def createFunction( orders):\n",
    "    queue = []\n",
    "    batch = []\n",
    "    for index in range(len(orders)):\n",
    "        order_type , code = orders[index]\n",
    "        if order_type == 'INSERT':\n",
    "            queue.append(code)\n",
    "        else:\n",
    "            if len(queue) < 3:\n",
    "                batch.append(['N/A'])\n",
    "            else:\n",
    "                batch.append(queue[0:3])\n",
    "                queue = queue[3:]\n",
    "\n",
    "    return batch\n",
    "\n",
    "\n",
    "\n",
    "createFunction( insert_and_ship_orders)"
   ]
  },
  {
   "cell_type": "code",
   "execution_count": 146,
   "id": "8568f562",
   "metadata": {},
   "outputs": [
    {
     "data": {
      "text/plain": [
       "1"
      ]
     },
     "execution_count": 146,
     "metadata": {},
     "output_type": "execute_result"
    }
   ],
   "source": [
    "# Leetcode 926\n",
    "# s = \"001011\"\n",
    "s = \"HHTHTT\"\n",
    "def countflips(s):\n",
    "    string_len = len(s)\n",
    "    ones = s.count(\"T\")\n",
    "    zeroes = 0\n",
    "    \n",
    "    best = ones\n",
    "    for i in range( string_len - 1, -1, -1):\n",
    "        if s[i]== \"H\":\n",
    "            zeroes += 1\n",
    "        else:\n",
    "            ones -= 1\n",
    "\n",
    "        best = min(zeroes + ones, best)\n",
    "\n",
    "    return best\n",
    "\n",
    "countflips(s)"
   ]
  },
  {
   "cell_type": "code",
   "execution_count": 29,
   "id": "229aa8ef",
   "metadata": {},
   "outputs": [
    {
     "name": "stdout",
     "output_type": "stream",
     "text": [
      "[2] [3] 3 2 5\n",
      "[1] [6] 6 1 7\n",
      "[3] [1] 1 3 4\n",
      "[4] [3] 3 4 7\n",
      "[10] [10] 10 10 20\n",
      "[2, 1] [3, 6] 9 2 12\n",
      "[1, 3] [6, 1] 7 3 14\n",
      "[3, 4] [1, 3] 4 4 17\n",
      "[4, 10] [3, 10] 13 10 38\n",
      "[2, 1, 3] [3, 6, 1] 10 3 24\n",
      "[1, 3, 4] [6, 1, 3] 10 4 30\n",
      "[3, 4, 10] [1, 3, 10] 14 10 61\n",
      "[2, 1, 3, 4] [3, 6, 1, 3] 13 4 46\n",
      "[1, 3, 4, 10] [6, 1, 3, 10] 20 10 82\n",
      "[2, 1, 3, 4, 10] [3, 6, 1, 3, 10] 23 10 110\n"
     ]
    }
   ],
   "source": [
    "bootingPower    = [ 3, 6, 1, 3, 10]\n",
    "processingPower = [ 2, 1, 3, 4, 10]\n",
    "powerMax = 33\n",
    "\n",
    "array_len = len(bootingPower)\n",
    "k = 1\n",
    "for index1 in range(len(bootingPower)):\n",
    "    for index2 in range(array_len):\n",
    "        power = max(  bootingPower[index2:index2+k] ) + sum(processingPower[index2:index2+k]) * k\n",
    "        print( processingPower[index2:index2+k] ,  bootingPower[index2:index2+k],sum(  bootingPower[index2:index2+k] ), max(processingPower[index2:index2+k]), power)\n",
    "\n",
    "\n",
    "    array_len -= 1\n",
    "    k += 1\n",
    "\n",
    "\n"
   ]
  },
  {
   "cell_type": "code",
   "execution_count": 5,
   "metadata": {},
   "outputs": [
    {
     "name": "stdout",
     "output_type": "stream",
     "text": [
      "32\n"
     ]
    }
   ],
   "source": [
    "arr = [2,4]\n",
    "\n",
    "array_len = len(arr)\n",
    "\n",
    "k = 1\n",
    "power = 0\n",
    "for index1 in range(len(arr)):\n",
    "    for index2 in range(array_len):\n",
    "        power += min( arr[index2:index2+k]) * sum( arr[index2:index2+k])\n",
    "    array_len -=1\n",
    "    k += 1\n",
    "\n",
    "print(power)"
   ]
  },
  {
   "cell_type": "code",
   "execution_count": 33,
   "id": "68cf5538",
   "metadata": {},
   "outputs": [
    {
     "data": {
      "text/plain": [
       "59"
      ]
     },
     "execution_count": 33,
     "metadata": {},
     "output_type": "execute_result"
    }
   ],
   "source": [
    "import itertools\n",
    "def totalStrength( A):\n",
    "    mod = 10 ** 9 + 7\n",
    "    n = len(A)\n",
    "\n",
    "    right = [n] * n\n",
    "    left = [-1] * n\n",
    "    st = []\n",
    "    for i in range(n):\n",
    "        while st and A[st[-1]] >= A[i]:\n",
    "            right[st.pop()] = i\n",
    "        if st:\n",
    "            left[i] = st[-1]\n",
    "        st.append(i)\n",
    "\n",
    "    res = 0\n",
    "    acc = list(itertools.accumulate(itertools.accumulate(A), initial = 0))\n",
    "    for i in range(n):\n",
    "        l, r = left[i], right[i]\n",
    "        lacc = acc[i] - acc[max(l, 0)]\n",
    "        racc = acc[r] - acc[i]\n",
    "        ln, rn = i - l, r - i\n",
    "        res += A[i] * (racc * ln - lacc * rn) \n",
    "    return res \n",
    "\n",
    "totalStrength( [1,3,4])"
   ]
  },
  {
   "cell_type": "code",
   "execution_count": 14,
   "id": "75f336f7",
   "metadata": {},
   "outputs": [
    {
     "name": "stdout",
     "output_type": "stream",
     "text": [
      "Prefix: [3, 5, 6]  Double Prefix: [3, 8, 14] strength: [3, 2, 1]\n",
      " \n",
      " \n",
      "  Prefix [9, 20, 0]\n",
      " 2 Prefix [9, 14, 0]\n",
      " \n",
      "  Prefix [9, 14, 18]\n",
      " 2 Prefix [9, 14, 10]\n",
      " \n"
     ]
    },
    {
     "data": {
      "text/plain": [
       "[9, 14, 10]"
      ]
     },
     "execution_count": 14,
     "metadata": {},
     "output_type": "execute_result"
    }
   ],
   "source": [
    "\n",
    "def totalStrength(strength) -> int:\n",
    "    n = len(strength)\n",
    "    \n",
    "    prefix = [0] * n\n",
    "    for i in range(n):\n",
    "        prefix[i] = prefix[i - 1] + strength[i]\n",
    "        \n",
    "    prefix_of_prefix = [0] * n\n",
    "    for i in range(n):\n",
    "        prefix_of_prefix[i] = (prefix_of_prefix[i - 1] + prefix[i]) \n",
    "    \n",
    "    print(\"Prefix:\",prefix,\" Double Prefix:\",prefix_of_prefix, \"strength:\",strength)\n",
    "    print(\" \")\n",
    "    min_sum = [0] * n\n",
    "    score = [0] * n\n",
    "    stack = []\n",
    "    \n",
    "    for i in range(n):\n",
    "        # Monotonic Stack \n",
    "        while stack and strength[stack[-1]] >= strength[i]:\n",
    "            stack.pop()\n",
    "\n",
    "        # CASE 1: strength[i] is minimum across all subarrays which end at it \n",
    "        if len(stack) == 0:\n",
    "            min_sum[i] = ((i + 1) * strength[i]) \n",
    "            \n",
    "            score[i] = (strength[i] * (i + 1) * prefix[i]) \n",
    "            if i > 0: \n",
    "                print(\"  Prefix\",score)\n",
    "                score[i] = (score[i] - strength[i] * prefix_of_prefix[i - 1]) \n",
    "                print(\" 2 Prefix\",score)\n",
    "        \n",
    "        # CASE 2: s(i) is minimum across [j+1, i], ..., [i, i], but nothing before\n",
    "        else:\n",
    "            j = stack[-1]\n",
    "            min_sum[i] = (min_sum[j] + (i - j) * strength[i]) \n",
    "            # subarrays [j+1, i], ..., [i, i]\n",
    "            score[i] = (strength[i] * (i - j) * prefix[i]) \n",
    "\n",
    "            score[i] = (score[i] - strength[i] * prefix_of_prefix[i - 1]) \n",
    "            if j > 0:\n",
    "                score[i] = (score[i] + strength[i] * prefix_of_prefix[j - 1]) \n",
    "            \n",
    "            # subarrays [0, i], ..., [j, i]\n",
    "            score[i] = (score[i] + score[j] + min_sum[j] * (prefix[i] - prefix[j])) \n",
    "\n",
    "        print(\" \")\n",
    "\n",
    "        # finally, add the new element to our monotone increasing stack\n",
    "        stack.append(i)\n",
    "\n",
    "    return (score) \n",
    "\n",
    "\n",
    "totalStrength( [3,2,1] )\n"
   ]
  },
  {
   "cell_type": "code",
   "execution_count": 173,
   "id": "40fa9cee",
   "metadata": {},
   "outputs": [
    {
     "name": "stdout",
     "output_type": "stream",
     "text": [
      "1\n",
      "2\n",
      "2 1 3\n"
     ]
    },
    {
     "data": {
      "text/plain": [
       "[2, 2, 5]"
      ]
     },
     "execution_count": 173,
     "metadata": {},
     "output_type": "execute_result"
    }
   ],
   "source": [
    "\n",
    "def getMinSum(strength) -> int:\n",
    "    n = len(strength)\n",
    "    min_sum = [0] * n\n",
    "    stack = []\n",
    "    \n",
    "    for i in range(n):\n",
    "        # Monotonic Stack \n",
    "        while stack and strength[stack[-1]] >= strength[i]:\n",
    "            stack.pop()\n",
    "\n",
    "        # CASE 1: strength[i] is minimum across all subarrays which end at it \n",
    "        if len(stack) == 0:\n",
    "            min_sum[i] = ((i + 1) * strength[i])    \n",
    "            print((i + 1))\n",
    "       \n",
    "        else:\n",
    "            j = stack[-1]\n",
    "            min_sum[i] = (min_sum[j] + (i - j) * strength[i]) \n",
    "            print(min_sum[j] , (i - j) , strength[i] )\n",
    "            \n",
    "        # finally, add the new element to our monotone increasing stack\n",
    "        stack.append(i)\n",
    "\n",
    "    return min_sum\n",
    "\n",
    "getMinSum( [2,1,3] )"
   ]
  },
  {
   "cell_type": "code",
   "execution_count": 54,
   "id": "2d854dbd",
   "metadata": {},
   "outputs": [
    {
     "data": {
      "text/plain": [
       "[5, 9, 18]"
      ]
     },
     "execution_count": 54,
     "metadata": {},
     "output_type": "execute_result"
    }
   ],
   "source": [
    "def getMaxSum(strength) -> int:\n",
    "    n = len(strength)\n",
    "    min_sum = [0] * n\n",
    "    stack = []\n",
    "    \n",
    "    for i in range(n):\n",
    "        # Monotonic Stack \n",
    "        while stack and strength[stack[-1]] <= strength[i]:\n",
    "            stack.pop()\n",
    "\n",
    "        # CASE 1: strength[i] is minimum across all subarrays which end at it \n",
    "        if len(stack) == 0:\n",
    "            min_sum[i] = ((i + 1) * strength[i]) \n",
    "       \n",
    "        else:\n",
    "            j = stack[-1]\n",
    "            min_sum[i] = (min_sum[j] + (i - j) * strength[i]) \n",
    "\n",
    "        # finally, add the new element to our monotone increasing stack\n",
    "        stack.append(i)\n",
    "\n",
    "    return min_sum\n",
    "\n",
    "getMaxSum( [5,4,6] )\n"
   ]
  },
  {
   "cell_type": "code",
   "execution_count": 9,
   "id": "207c29c5",
   "metadata": {},
   "outputs": [
    {
     "name": "stdout",
     "output_type": "stream",
     "text": [
      "[0, 5, 6, 8, 9] [0, 5, 7, 13, 17]\n",
      "[9, 4, 3, 1, 0] [28, 8, 5, 1, 0]\n",
      "0 1\n",
      "2 3\n",
      "1 3\n",
      "3 4\n"
     ]
    },
    {
     "data": {
      "text/plain": [
       "64"
      ]
     },
     "execution_count": 9,
     "metadata": {},
     "output_type": "execute_result"
    }
   ],
   "source": [
    "def totalStrength( strength) -> int:\n",
    "\n",
    "    result = 0\n",
    "    n = len(strength)\n",
    "    mod = (10 ** 9) + 7\n",
    "\n",
    "    # prefix sum and prefix mul from the left\n",
    "    left_prefix_sum = [0] * (n + 1)\n",
    "    left_prefix_mul = [0] * (n + 1)    \n",
    "    \n",
    "    # prefix sum and prefix mul from the right\n",
    "    right_prefix_sum = [0] * (n + 1)\n",
    "    right_prefix_mul = [0] * (n + 1)    \n",
    "    \n",
    "    stack = []\n",
    "    # monotonic stack (increasing)\n",
    "    for i in range(n):\n",
    "        left_prefix_sum[i + 1] = (left_prefix_sum[i] + strength[i]) \n",
    "        left_prefix_mul[i + 1] = (left_prefix_mul[i] + ((i + 1) * strength[i])) \n",
    "\n",
    "    \n",
    "    for i in reversed(range(n)):\n",
    "        right_prefix_sum[i] = (right_prefix_sum[i + 1] + strength[i])\n",
    "        right_prefix_mul[i] = (right_prefix_mul[i + 1] + ((n - i) * strength[i])) \n",
    "\n",
    "    print(left_prefix_sum, left_prefix_mul)\n",
    "    print(right_prefix_sum ,  right_prefix_mul)\n",
    "\n",
    "    for right in range(n + 1):\n",
    "        while stack and (right == len(strength) or strength[right] <= strength[stack[-1]]):\n",
    "            pivot = stack.pop()\n",
    "            print(pivot,right)\n",
    "            left = stack[-1] + 1 if stack else 0\n",
    "            left_sum  = (left_prefix_mul[pivot + 1] - left_prefix_mul[left] - left * (left_prefix_sum[pivot + 1] - left_prefix_sum[left])) \n",
    "            right_sum = (right_prefix_mul[pivot + 1] - right_prefix_mul[right] - (n - right) * (right_prefix_sum[pivot + 1] - right_prefix_sum[right])) \n",
    "            all_sum = ((right_sum * (pivot - left + 1)) + (left_sum * (right - pivot)))      \n",
    "\n",
    "            result = (result + all_sum * strength[pivot])\n",
    "        stack.append(right)\n",
    "\n",
    "    return result\n",
    "\n",
    "totalStrength( [5,1,2,1] )"
   ]
  },
  {
   "cell_type": "code",
   "execution_count": 53,
   "id": "01c92ba4",
   "metadata": {},
   "outputs": [
    {
     "name": "stdout",
     "output_type": "stream",
     "text": [
      "[12, 8, 6, 3, 1, 0] [0, 4, 6, 9, 11, 12]\n",
      "[4, 2, 3, 2, 1] [0, 0, 1, 0, 0] [1, 4, 3, 4, 5]\n"
     ]
    },
    {
     "data": {
      "text/plain": [
       "0"
      ]
     },
     "execution_count": 53,
     "metadata": {},
     "output_type": "execute_result"
    }
   ],
   "source": [
    "def totalStrength( strength) -> int:\n",
    "\n",
    "    result = 0\n",
    "    n = len(strength)\n",
    "\n",
    "    # Prepare The Array for Prefix sum\n",
    "    left_prefix_sum = [0] * (n + 1)\n",
    "    right_prefix_sum = [0] * (n + 1)\n",
    "    \n",
    "    # prefix sum\n",
    "    for i in range(n):\n",
    "        left_prefix_sum[i + 1] = (left_prefix_sum[i] + strength[i]) \n",
    "        rev_i = n- i -1\n",
    "        right_prefix_sum[rev_i] = (right_prefix_sum[rev_i + 1] + strength[rev_i])\n",
    "\n",
    "    # monotonic stack\n",
    "    next_less = [0] * n \n",
    "    stack = [] \n",
    "    for index in range(n):\n",
    "        while stack and strength[stack[-1]] >= strength[index]:\n",
    "            stack.pop()\n",
    "\n",
    "        next_less[index] = stack[-1] if len(stack) > 0 else 0\n",
    "        stack.append(index)\n",
    "\n",
    "    prev_less = [n] * n \n",
    "    stack = [] \n",
    "    for index in reversed(range(n)):\n",
    "        while stack and strength[stack[-1]] >= strength[index]:\n",
    "            stack.pop()\n",
    "\n",
    "        prev_less[index] = stack[-1] if len(stack) > 0 else n\n",
    "        stack.append(index)\n",
    "\n",
    "    print( right_prefix_sum, left_prefix_sum )\n",
    "    print( strength, next_less, prev_less )\n",
    "\n",
    "    # for right in range(n + 1):\n",
    "    #     while stack and (right == len(strength) or strength[right] <= strength[stack[-1]]):\n",
    "    #         pivot = stack.pop()\n",
    "    #         print(pivot,right)\n",
    "    #         left = stack[-1] + 1 if stack else 0\n",
    "    #         left_sum  = (left_prefix_mul[pivot + 1] - left_prefix_mul[left] - left * (left_prefix_sum[pivot + 1] - left_prefix_sum[left])) \n",
    "    #         right_sum = (right_prefix_mul[pivot + 1] - right_prefix_mul[right] - (n - right) * (right_prefix_sum[pivot + 1] - right_prefix_sum[right])) \n",
    "    #         all_sum = ((right_sum * (pivot - left + 1)) + (left_sum * (right - pivot)))      \n",
    "\n",
    "    #         result = (result + all_sum * strength[pivot])\n",
    "    #     stack.append(right)\n",
    "\n",
    "    return result\n",
    "\n",
    "totalStrength( [4,2,3,2,1] )"
   ]
  },
  {
   "cell_type": "code",
   "execution_count": 147,
   "id": "bf3954a4",
   "metadata": {},
   "outputs": [
    {
     "name": "stdout",
     "output_type": "stream",
     "text": [
      "1   1  -->  0   5 :  17   0   17\n",
      "2   3  -->  1   3 :  3   1   4\n",
      "3   1  -->  1   5 :  14   5   12\n",
      "4   2  -->  3   5 :  2   5   7\n"
     ]
    },
    {
     "data": {
      "text/plain": [
       "44"
      ]
     },
     "execution_count": 147,
     "metadata": {},
     "output_type": "execute_result"
    }
   ],
   "source": [
    "def totalStrength(strength):\n",
    "    n = len(strength)\n",
    "    \n",
    "    stack = [] \n",
    "    next_less = [-1] * n\n",
    "    for index in range(n):\n",
    "        while stack and strength[stack[-1]] > strength[index]:\n",
    "            stack.pop()\n",
    "\n",
    "        prev_less[index] = stack[-1] if len(stack) > 0 else -1\n",
    "        stack.append(index)\n",
    "\n",
    "    stack = [] \n",
    "    prev_less = [n] * n \n",
    "    for index in reversed(range(n)):\n",
    "        while stack and strength[stack[-1]] >= strength[index]:\n",
    "            stack.pop()\n",
    "        next_less[index] = stack[-1] if len(stack) > 0 else n\n",
    "        stack.append(index)\n",
    "\n",
    "    pref = [0] * (n+2)\n",
    "    for j in range(1,n+1):\n",
    "        pref[j] = (pref[j-1] + strength[j-1]) \n",
    "    \n",
    "\n",
    "    pref_pref = [0] * (n+2)\n",
    "    for j in range(1,n+1):\n",
    "        pref_pref[j] = (pref_pref[j-1] + pref[j]) \n",
    "    ans = 0\n",
    "    for j in range(1,n+1):\n",
    "        prv = prev_less[j-1]+1\n",
    "        nxt = next_less[j-1]+1\n",
    "        minus = pref_pref[j-1] -(0 if prv == 0 else pref_pref[prv-1])\n",
    "        plus = (pref_pref[nxt-1] - pref_pref[j-1] ) \n",
    "        before = j - prv\n",
    "        after = nxt - j\n",
    "        total = (plus * before)  - (minus * after)\n",
    "        print( j , \" \" , strength[j-1] , \" --> \" , prv , \" \" , nxt, \": \" ,total ,\" \" ,minus ,\" \" ,plus )\n",
    "        \n",
    "        ans = (ans + (total * strength[j-1]) ) \n",
    "    \n",
    "    return ans\n",
    "    \n",
    "strength = [1,3,1,2]\n",
    "totalStrength(strength)"
   ]
  },
  {
   "cell_type": "code",
   "execution_count": 133,
   "id": "28f17349",
   "metadata": {},
   "outputs": [
    {
     "name": "stdout",
     "output_type": "stream",
     "text": [
      "\tLeft Boundary: [-1, -1, 0, 2] \t NG Left: [-1, 0, 0, 2]\n",
      "\tRight Boundary: [4, 3, 4, 4] \t NG Right: [4, 2, 4, 4]\n",
      " \n",
      "Total Imbalance: 0 \tTotal: 4 \t Smaller Sub: 4\n",
      "Total Imbalance: 3 \tTotal: 4 \t Smaller Sub: 1\n",
      "Total Imbalance: 0 \tTotal: 4 \t Smaller Sub: 4\n",
      "Total Imbalance: 0 \tTotal: 1 \t Smaller Sub: 1\n",
      " \n",
      "3\n"
     ]
    }
   ],
   "source": [
    "def solve(rank):\n",
    "    n = len(rank)\n",
    "    # calculate left boundary\n",
    "    left_boundary = [-1] * n\n",
    "    rank_and_index = {}\n",
    "    for i in range(n):\n",
    "        if rank[i] + 1 in rank_and_index:\n",
    "            left_boundary[i] = rank_and_index[rank[i] + 1]\n",
    "        rank_and_index[rank[i]] = i\n",
    "\n",
    "    # calculate right boundary\n",
    "    rank_and_index = {}\n",
    "    right_boundary = [n] * n\n",
    "    for i in range(n - 1, -1, -1):\n",
    "        # print(rank[i] + 1,rank_and_index)\n",
    "        if rank[i] + 1 in rank_and_index:\n",
    "            right_boundary[i] = rank_and_index[rank[i] + 1]\n",
    "        rank_and_index[rank[i]] = i\n",
    "\n",
    "    \n",
    "    greater_right = [n] * n\n",
    "    stack = []\n",
    "    for i in range(n):\n",
    "        while stack and rank[i] > rank[stack[-1]]:\n",
    "            greater_right[stack.pop()] = i\n",
    "        stack.append(i)\n",
    "    \n",
    "    greater_left = [-1] * n\n",
    "    stack = []\n",
    "    for i in range(n - 1, -1, -1):\n",
    "        while stack and rank[i] > rank[stack[-1]]:\n",
    "            greater_left[stack.pop()] = i\n",
    "        stack.append(i)\n",
    "\n",
    "\n",
    "    print(\"\\tLeft Boundary:\",left_boundary,\"\\t NG Left:\",greater_left)\n",
    "    print(\"\\tRight Boundary:\",right_boundary,\"\\t NG Right:\",greater_right)\n",
    "    print(\" \")\n",
    "    # calculate possibility of how the i-th number can contribute as a[i-1]\n",
    "    res = 0\n",
    "    for i in range(n):\n",
    "        # possible start value of the sub-array\n",
    "        total_possible = (i - left_boundary[i]) * (right_boundary[i] - i)\n",
    "        smaller_sub_count = (i - greater_left[i]) * (greater_right[i] - i)\n",
    "        print(\"Total Imbalance:\",total_possible - smaller_sub_count,\"\\tTotal:\",total_possible,\"\\t Smaller Sub:\",smaller_sub_count)\n",
    "        res += (total_possible - smaller_sub_count)\n",
    "\n",
    "    print(\" \")\n",
    "    return res\n",
    "\n",
    "print(solve([4,1,3,2])) \n",
    "# print(solve([1,3,1]))"
   ]
  },
  {
   "cell_type": "code",
   "execution_count": 132,
   "metadata": {},
   "outputs": [
    {
     "name": "stdout",
     "output_type": "stream",
     "text": [
      "\tLeft Boundary: [-1, -1, 0, 2] \t NG Left: [-1, 0, 0, 2]\n",
      "\tRight Boundary: [4, 3, 4, 4] \t NG Right: [4, 2, 4, 4]\n",
      " \n",
      "Total Imbalance: 0 \tTotal: 4 \t Smaller Sub: 4\n",
      "Total Imbalance: 3 \tTotal: 4 \t Smaller Sub: 1\n",
      "Total Imbalance: 0 \tTotal: 4 \t Smaller Sub: 4\n",
      "Total Imbalance: 0 \tTotal: 1 \t Smaller Sub: 1\n",
      " \n",
      "3\n"
     ]
    }
   ],
   "source": [
    "def solve(rank):\n",
    "    n = len(rank)\n",
    "\n",
    "    left_boundary = [-1] * n\n",
    "    rank_and_index = {}\n",
    "    for i in range(n):\n",
    "        if rank[i] + 1 in rank_and_index:\n",
    "            left_boundary[i] = rank_and_index[rank[i] + 1]\n",
    "        rank_and_index[rank[i]] = i\n",
    "\n",
    "    right_boundary = [n] * n\n",
    "    rank_and_index = {}\n",
    "    for i in range(n - 1, -1, -1):\n",
    "        if rank[i] + 1 in rank_and_index:\n",
    "            right_boundary[i] = rank_and_index[rank[i] + 1]\n",
    "        rank_and_index[rank[i]] = i\n",
    "    \n",
    "    greater_right = [n] * n\n",
    "    stack = []\n",
    "    for i in range(n):\n",
    "        while stack and rank[i] > rank[stack[-1]]:\n",
    "            greater_right[stack.pop()] = i\n",
    "        stack.append(i)\n",
    "    \n",
    "    greater_left = [-1] * n\n",
    "    stack = []\n",
    "    for i in range(n - 1, -1, -1):\n",
    "        while stack and rank[i] > rank[stack[-1]]:\n",
    "            greater_left[stack.pop()] = i\n",
    "        stack.append(i)\n",
    "\n",
    "    res = 0\n",
    "    for i in range(n):\n",
    "        total_possible = (i - left_boundary[i]) * (right_boundary[i] - i)\n",
    "        smaller_sub_count = (i - greater_left[i]) * (greater_right[i] - i)\n",
    "        res += (total_possible - smaller_sub_count)\n",
    "\n",
    "    return res\n",
    "\n",
    "print(solve([4,1,3,2])) \n",
    "# print(solve([1,3,1]))"
   ]
  },
  {
   "cell_type": "code",
   "execution_count": 10,
   "id": "6e795950",
   "metadata": {},
   "outputs": [
    {
     "data": {
      "text/plain": [
       "16"
      ]
     },
     "execution_count": 10,
     "metadata": {},
     "output_type": "execute_result"
    }
   ],
   "source": [
    "def findRestrictPiles( nums ):\n",
    "    n = len(nums)\n",
    "    out = 0\n",
    "    for i in range( n-1, -1, -1):\n",
    "        cur = nums[i]\n",
    "        j = i\n",
    "        sm = cur\n",
    "        while cur - 1 >= 0 and j - 1 >= 0:\n",
    "            cur -= 1\n",
    "            j   -= 1\n",
    "            if nums[j] < cur:\n",
    "                cur = nums[j]\n",
    "            sm += cur\n",
    "        out = max(out, sm)\n",
    "    return out\n",
    "\n",
    "\n",
    "findRestrictPiles([2,9,4,7,5,2])\n",
    "# findRestrictPiles([2,5,6,7])\n",
    "# findRestrictPiles([7,4,5,2,6,5])"
   ]
  }
 ],
 "metadata": {
  "kernelspec": {
   "display_name": "Python 3.10.5 64-bit",
   "language": "python",
   "name": "python3"
  },
  "language_info": {
   "codemirror_mode": {
    "name": "ipython",
    "version": 3
   },
   "file_extension": ".py",
   "mimetype": "text/x-python",
   "name": "python",
   "nbconvert_exporter": "python",
   "pygments_lexer": "ipython3",
   "version": "3.10.5"
  },
  "vscode": {
   "interpreter": {
    "hash": "369f2c481f4da34e4445cda3fffd2e751bd1c4d706f27375911949ba6bb62e1c"
   }
  }
 },
 "nbformat": 4,
 "nbformat_minor": 5
}
