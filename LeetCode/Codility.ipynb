{
 "cells": [
  {
   "cell_type": "code",
   "execution_count": 120,
   "id": "41665cf4",
   "metadata": {},
   "outputs": [
    {
     "data": {
      "text/plain": [
       "5"
      ]
     },
     "execution_count": 120,
     "metadata": {},
     "output_type": "execute_result"
    }
   ],
   "source": [
    "\n",
    "# BINARY GAP\n",
    "MAXINT = 2147483647\n",
    "\n",
    "def solution(N : int) -> int:\n",
    "    if N < 1:\n",
    "        raise ValueError(\"Input must be a positive integer\")\n",
    "    if N > MAXINT:\n",
    "        raise ValueError(\"Input must be a positive integer less than 2,147,483,647\")\n",
    "\n",
    "    cnt = 0\n",
    "    result = 0\n",
    "    found_one = False\n",
    "    i = N\n",
    "\n",
    "    while i:\n",
    "        if i & 1 == 1:\n",
    "            if (found_one is False):\n",
    "                found_one = True\n",
    "            else:\n",
    "                result = max(result, cnt)\n",
    "            cnt = 0\n",
    "        else:\n",
    "            cnt += 1\n",
    "        i //= 2\n",
    "    return result\n",
    "\n",
    "solution(1041)"
   ]
  },
  {
   "cell_type": "code",
   "execution_count": 145,
   "metadata": {},
   "outputs": [
    {
     "name": "stdout",
     "output_type": "stream",
     "text": [
      "0\n"
     ]
    },
    {
     "data": {
      "text/plain": [
       "[]"
      ]
     },
     "execution_count": 145,
     "metadata": {},
     "output_type": "execute_result"
    }
   ],
   "source": [
    "# CYCLIC ROTATION\n",
    "\n",
    "A = [3, 8, 9, 7, 6]\n",
    "K = 1\n",
    "\n",
    "MAX_LENGTH = 1000000\n",
    "MAX_NUMBER = 1000\n",
    "MIN_NUMBER = -1000\n",
    "\n",
    "\n",
    "def solution(A : list, K: int ) -> list:\n",
    "    if 1 > len(A) :\n",
    "        return []\n",
    "\n",
    "    ARRAY_LENGTH = len(A) \n",
    "\n",
    "    if ARRAY_LENGTH > MAX_LENGTH:\n",
    "        raise ValueError(\"Invalid number of items\")\n",
    "        \n",
    "    K = K % ARRAY_LENGTH\n",
    "    return A[ARRAY_LENGTH-K:ARRAY_LENGTH] + A[0:ARRAY_LENGTH-K]  \n"
   ]
  },
  {
   "cell_type": "code",
   "execution_count": 147,
   "id": "4cddada8",
   "metadata": {},
   "outputs": [
    {
     "data": {
      "text/plain": [
       "7"
      ]
     },
     "execution_count": 147,
     "metadata": {},
     "output_type": "execute_result"
    }
   ],
   "source": [
    "# ODD CURRENCES IN ARRAY\n",
    "\n",
    "MAX_LENGTH = 1000000\n",
    "MAX_NUMBER = 1000000000\n",
    "MIN_NUMBER = 1\n",
    "\n",
    "def solution(A):\n",
    "    n = len(A)\n",
    "    if A is None or n == 0:\n",
    "        return 0\n",
    "    if n == 1:\n",
    "        return A[0]\n",
    "    result = 0\n",
    "    for i in range(0, n):\n",
    "        result ^= A[i]\n",
    "    return result\n",
    "\n",
    "arr = [9, 3, 9, 3, 9, 7, 9]\n",
    "solution(arr)\n",
    "\n"
   ]
  },
  {
   "cell_type": "code",
   "execution_count": 1,
   "id": "17c184fb",
   "metadata": {},
   "outputs": [
    {
     "data": {
      "text/plain": [
       "15"
      ]
     },
     "execution_count": 1,
     "metadata": {},
     "output_type": "execute_result"
    }
   ],
   "source": [
    "# FrogJmp\n",
    "\n",
    "MAX_NUMBER = 1000000000\n",
    "MIN_NUMBER = 1\n",
    "\n",
    "X = 10\n",
    "Y = 85\n",
    "D = 30\n",
    "\n",
    "def solution( X :int , Y: int , D:int) -> int:\n",
    "    difference = Y - X\n",
    "    difference //= D\n",
    "    \n",
    "    if X + difference * D < Y:\n",
    "        difference +=1\n",
    "\n",
    "    return difference\n",
    "\n",
    "solution(10,85,5)\n"
   ]
  },
  {
   "cell_type": "code",
   "execution_count": 79,
   "id": "92dd523e",
   "metadata": {},
   "outputs": [
    {
     "data": {
      "text/plain": [
       "1"
      ]
     },
     "execution_count": 79,
     "metadata": {},
     "output_type": "execute_result"
    }
   ],
   "source": [
    "# PermMissingElem\n",
    "def solution(A):\n",
    "    if len(A) == 0:\n",
    "        return 1\n",
    "\n",
    "    len_plus_one = sum(range(1, len(A)+2))\n",
    "    sum_of_items = sum(A)\n",
    "\n",
    "    return  len_plus_one - sum_of_items\n",
    "\n",
    "A= [2, 3, 4, 5]\n",
    "solution(A)"
   ]
  },
  {
   "cell_type": "code",
   "execution_count": null,
   "id": "b1537ba7",
   "metadata": {},
   "outputs": [],
   "source": [
    "\n",
    "# TapeEquilibrium\n",
    "def solution(nums):\n",
    "    lefts, rights = sum(nums[:1]), sum(nums[1:])\n",
    "    minval = abs(lefts - rights)\n",
    "    for i in range(1, len(nums) - 1):\n",
    "        lefts += nums[i]\n",
    "        rights -= nums[i]\n",
    "        minval = min(minval, abs(lefts - rights))\n",
    "    return minval"
   ]
  },
  {
   "cell_type": "code",
   "execution_count": 80,
   "id": "debdece8",
   "metadata": {},
   "outputs": [],
   "source": [
    "# FrogRiverOne\n",
    "def solution(X, A):\n",
    "    if len(A) == 1 and A[0] and X == 1:\n",
    "        return 0\n",
    "    \n",
    "    if len(A) < X:\n",
    "        return -1\n",
    "    \n",
    "    positions = set(range(1, X + 1))\n",
    "    for minute, pos in enumerate(A):\n",
    "        if pos in positions:\n",
    "            positions.remove(pos)\n",
    "            if not positions:\n",
    "                return minute\n",
    "    return -1"
   ]
  },
  {
   "cell_type": "code",
   "execution_count": null,
   "id": "e54d7e06",
   "metadata": {},
   "outputs": [],
   "source": [
    "# PermCheck\n",
    "def solution(nums):\n",
    "    if not nums:\n",
    "        return 0\n",
    "    seen = set()\n",
    "    for num in nums:\n",
    "        if num < 1 or num > len(nums) or num in seen:\n",
    "            return 0\n",
    "        seen.add(num)\n",
    "    return 1"
   ]
  },
  {
   "cell_type": "code",
   "execution_count": 3,
   "id": "664a656e",
   "metadata": {},
   "outputs": [],
   "source": [
    "# MaxCounters\n",
    "def solution(N : int , A : list) -> list:\n",
    "    n = N + 1\n",
    "    count = [0] * n\n",
    "    oldcmax = cmax = 0\n",
    "\n",
    "    for item in A:\n",
    "        if item >= N + 1:\n",
    "            oldcmax = cmax\n",
    "        else:\n",
    "            if count[item] < oldcmax:\n",
    "                count[item] = oldcmax\n",
    "            count[item] += 1\n",
    "            if count[item] > cmax:\n",
    "                cmax = count[item]\n",
    "                \n",
    "    return [max(num, oldcmax) for num in count[1:]]"
   ]
  },
  {
   "cell_type": "code",
   "execution_count": 2,
   "id": "f556516e",
   "metadata": {},
   "outputs": [
    {
     "data": {
      "text/plain": [
       "5"
      ]
     },
     "execution_count": 2,
     "metadata": {},
     "output_type": "execute_result"
    }
   ],
   "source": [
    "# MissingInteger\n",
    "\n",
    "MAX_NO_ELEMENT = 100000\n",
    "MIN_VAL = -1000000\n",
    "MAX_VAL = 1000000\n",
    "\n",
    "def solution(A : list )-> int:\n",
    "    array_len = len(A)\n",
    "    if( array_len < 0 or array_len > MAX_NO_ELEMENT):\n",
    "        raise ValueError(\"Invalid No of Elements\")\n",
    "\n",
    "    counter = [0] * array_len\n",
    "    for i in range(0, array_len):\n",
    "        if ( A[i] < MIN_VAL or A[i] > MAX_VAL):\n",
    "            raise ValueError(\"Invalid Element\")\n",
    "\n",
    "        if (A[i] > 0) and (A[i] <= array_len):\n",
    "            counter[A[i] - 1] += 1\n",
    "\n",
    "    for i in range(0, len(counter)):\n",
    "        if (counter[i] == 0):\n",
    "            return i + 1\n",
    "\n",
    "    return array_len + 1\n",
    "\n",
    "A= [1, 3, 6, 4, 1, 2]\n",
    "solution(A)"
   ]
  },
  {
   "cell_type": "code",
   "execution_count": 89,
   "id": "77eba5ec",
   "metadata": {},
   "outputs": [
    {
     "name": "stdout",
     "output_type": "stream",
     "text": [
      "5\n"
     ]
    },
    {
     "data": {
      "text/plain": [
       "0"
      ]
     },
     "execution_count": 89,
     "metadata": {},
     "output_type": "execute_result"
    }
   ],
   "source": [
    "\n",
    "def solution(A : list )-> int:\n",
    "    count = [0] * len(A)\n",
    "    test = 0\n",
    "    number = 0\n",
    "    \n",
    "    for index, item in  enumerate(A):\n",
    "        if item == 0:\n",
    "            test += 1\n",
    "\n",
    "        count[index] = test\n",
    "        if item == 1:\n",
    "            number += count[index]\n",
    "\n",
    "        if number > 1000000000:\n",
    "            return -1\n",
    "\n",
    "    return number\n",
    "    \n",
    "A= [0,1,0,1,1]\n",
    "solution(A)"
   ]
  },
  {
   "cell_type": "code",
   "execution_count": 4,
   "id": "9baaeb68",
   "metadata": {},
   "outputs": [
    {
     "data": {
      "text/plain": [
       "2.5"
      ]
     },
     "execution_count": 4,
     "metadata": {},
     "output_type": "execute_result"
    }
   ],
   "source": [
    "def solution(A, B, K):\n",
    "    return (B // K) - (-(A // -K)) + 1"
   ]
  },
  {
   "cell_type": "code",
   "execution_count": 22,
   "id": "41a0bd80",
   "metadata": {},
   "outputs": [
    {
     "name": "stdout",
     "output_type": "stream",
     "text": [
      "[0, 0, 0, 0, 0, 1, 1]\n",
      "0 0 4 2\n",
      "1 1 5 5\n",
      "1 0 6 0\n"
     ]
    },
    {
     "data": {
      "text/plain": [
       "[2, 0, 1]"
      ]
     },
     "execution_count": 22,
     "metadata": {},
     "output_type": "execute_result"
    }
   ],
   "source": [
    "S = 'CAGCCTA'\n",
    "P = [2,5,0]\n",
    "Q = [4,5,6]\n",
    "dict_letter = { 'A' : 0 ,'C':1 ,'G':2 ,'T':3}\n",
    "\n",
    "def solution(S, P, Q):\n",
    "    N = len(S)\n",
    "    M = len(P)\n",
    "    result = [0] * M\n",
    "    rows, cols = (4, 7)\n",
    "    transformed_scored = [[0 for i in range(cols)] for j in range(rows)]\n",
    "    result = [0]* 3\n",
    "    \n",
    "    for i in range(0, N):\n",
    "        transformed_scored[dict_letter[S[i]]][i] = 1\n",
    "\n",
    "    for i in range(1, N ):\n",
    "        transformed_scored[dict_letter['A']][i] += transformed_scored[dict_letter['A']][i - 1]\n",
    "        transformed_scored[dict_letter['C']][i] += transformed_scored[dict_letter['C']][i - 1]\n",
    "        transformed_scored[dict_letter['G']][i] += transformed_scored[dict_letter['G']][i - 1]\n",
    "        transformed_scored[dict_letter['T']][i] += transformed_scored[dict_letter['T']][i - 1]\n",
    "\n",
    "    print(transformed_scored[dict_letter['T']] )\n",
    "    for i in range(0, M):\n",
    "        if ((transformed_scored[dict_letter['A']][Q[i]] - transformed_scored[dict_letter['A']][P[i]]) != 0):\n",
    "            result[i] = dict_letter['A'] + 1\n",
    "        elif ((transformed_scored[dict_letter['C']][Q[i]] - transformed_scored[dict_letter['C']][P[i]]) != 0):\n",
    "            result[i] = dict_letter['C'] + 1\n",
    "        elif ((transformed_scored[dict_letter['G']][Q[i]] - transformed_scored[dict_letter['G']][P[i]]) != 0):\n",
    "            result[i] = dict_letter['G'] + 1\n",
    "        elif ((transformed_scored[dict_letter['T']][Q[i]] - transformed_scored[dict_letter['T']][P[i]]) != 0):\n",
    "            result[i] = dict_letter['T'] + 1\n",
    "    return result\n",
    "\n",
    "solution(S, P, Q)"
   ]
  },
  {
   "cell_type": "code",
   "execution_count": 23,
   "id": "079a4ef6",
   "metadata": {},
   "outputs": [
    {
     "name": "stdout",
     "output_type": "stream",
     "text": [
      "[0, 0, 0, 0, 0, 0, 1, 1]\n",
      "1 1 5 2\n",
      "1 1 6 5\n",
      "2 0 7 0\n"
     ]
    },
    {
     "data": {
      "text/plain": [
       "[2, 4, 1]"
      ]
     },
     "execution_count": 23,
     "metadata": {},
     "output_type": "execute_result"
    }
   ],
   "source": [
    "def solution(S, P, Q):\n",
    "    N = len(S)\n",
    "    M = len(P)\n",
    "    result = [0] * M\n",
    "    pos_of_a = [0] * (N + 1)\n",
    "    pos_of_c = [0] * (N + 1)\n",
    "    pos_of_g = [0] * (N + 1)\n",
    "    pos_of_t = [0] * (N + 1)\n",
    "    for i in range(0, N):\n",
    "        if (S[i] == 'A'):\n",
    "            pos_of_a[i + 1] = 1\n",
    "        if (S[i] == 'C'):\n",
    "            pos_of_c[i + 1] = 1\n",
    "        if (S[i] == 'G'):\n",
    "            pos_of_g[i + 1] = 1\n",
    "        if (S[i] == 'T'):\n",
    "            pos_of_t[i + 1] = 1\n",
    "\n",
    "\n",
    "    for i in range(1, N + 1):\n",
    "        pos_of_a[i] += pos_of_a[i - 1]\n",
    "        pos_of_c[i] += pos_of_c[i - 1]\n",
    "        pos_of_g[i] += pos_of_g[i - 1]\n",
    "        pos_of_t[i] += pos_of_t[i - 1]\n",
    "\n",
    "    print(pos_of_t)\n",
    "\n",
    "    for i in range(0, M):\n",
    "        print( pos_of_a[Q[i] + 1] , pos_of_a[P[i]] , Q[i] + 1 , P[i] )\n",
    "        if ((pos_of_a[Q[i] + 1] - pos_of_a[P[i]]) != 0):\n",
    "            result[i] = 1\n",
    "        elif ((pos_of_c[Q[i] + 1] - pos_of_c[P[i]]) != 0):\n",
    "            result[i] = 2\n",
    "        elif ((pos_of_g[Q[i] + 1] - pos_of_g[P[i]]) != 0):\n",
    "            result[i] = 3\n",
    "        elif ((pos_of_t[Q[i] + 1] - pos_of_t[P[i]]) != 0):\n",
    "            result[i] = 4\n",
    "\n",
    "    return result\n",
    "\n",
    "\n",
    "S = 'CAGCCTA'\n",
    "P = [2,5,0]\n",
    "Q = [4,5,6]\n",
    "solution(S, P, Q)"
   ]
  },
  {
   "cell_type": "code",
   "execution_count": 55,
   "id": "ff294dff",
   "metadata": {},
   "outputs": [
    {
     "data": {
      "text/plain": [
       "1"
      ]
     },
     "execution_count": 55,
     "metadata": {},
     "output_type": "execute_result"
    }
   ],
   "source": [
    "# MinAvgTwoSlice\n",
    "def solution( A ):\n",
    "    min_number = 3*9+1\n",
    "    min_number_index = 0\n",
    "\n",
    "    for i in range(0,len(A)-2):\n",
    "        ave_1 = (A[i]+A[i+1]+A[i+2])/3\n",
    "        ave_2 = (A[i]+A[i+1])/2\n",
    "        if min_number>ave_1 or min_number>ave_2:\n",
    "            min_number=min(ave_1,ave_2)\n",
    "            min_number_index=i\n",
    "\n",
    "    if min_number > (A[-1]+A[-2])/2:\n",
    "        return len(A)-2\n",
    "    \n",
    "    return min_number_index\n",
    "\n",
    "\n",
    "A= [4,2,2,5,1,5,8]\n",
    "solution( A )\n",
    "    \n"
   ]
  },
  {
   "cell_type": "code",
   "execution_count": 9,
   "id": "d552e686",
   "metadata": {},
   "outputs": [
    {
     "data": {
      "text/plain": [
       "3"
      ]
     },
     "execution_count": 9,
     "metadata": {},
     "output_type": "execute_result"
    }
   ],
   "source": [
    "# Distinct\n",
    "A= [2,2,1,3,1,1]\n",
    "\n",
    "def solution( A ):\n",
    "    number_dictionary = {}\n",
    "    count = 0\n",
    "    for i in range(0,len(A)):\n",
    "        if A[i] not in number_dictionary:\n",
    "            number_dictionary[A[i]] = i\n",
    "            count += 1\n",
    "    \n",
    "    return count\n",
    "\n",
    "solution( A )\n",
    "\n"
   ]
  },
  {
   "cell_type": "code",
   "execution_count": 24,
   "id": "6a12d4e2",
   "metadata": {},
   "outputs": [
    {
     "data": {
      "text/plain": [
       "60"
      ]
     },
     "execution_count": 24,
     "metadata": {},
     "output_type": "execute_result"
    }
   ],
   "source": [
    "A= [-3,1,2,-2,5,6]\n",
    "\n",
    "def solution( A ):\n",
    "    A.sort()\n",
    "    \n",
    "\n",
    "    result = A[-1]*A[-2]*A[-3]\n",
    "\n",
    "    if(A[0] < 0 and A[1] < 0):\n",
    "        other = A[-1]*A[0]*A[1]\n",
    "        if( other > result):\n",
    "            return other\n",
    "    return result\n",
    "\n",
    "solution( A )"
   ]
  },
  {
   "cell_type": "code",
   "execution_count": 26,
   "id": "b76fcd98",
   "metadata": {},
   "outputs": [
    {
     "data": {
      "text/plain": [
       "0"
      ]
     },
     "execution_count": 26,
     "metadata": {},
     "output_type": "execute_result"
    }
   ],
   "source": [
    "def solution( A ):\n",
    "    A.sort()\n",
    "    for i in range(0,len(A)-2):\n",
    "        if A[i]+A[i+1]> A[i+2]:\n",
    "            return 1\n",
    "    return 0\n",
    "\n",
    "\n",
    "A= [10,50,5,1]\n",
    "solution( A )\n"
   ]
  },
  {
   "cell_type": "code",
   "execution_count": 27,
   "id": "5f24f373",
   "metadata": {},
   "outputs": [
    {
     "data": {
      "text/plain": [
       "11"
      ]
     },
     "execution_count": 27,
     "metadata": {},
     "output_type": "execute_result"
    }
   ],
   "source": [
    "A= [1, 5, 2, 1, 4, 0]\n",
    "\n",
    "MAX_RESULT = 10 ** 7\n",
    "\n",
    "\n",
    "def solution(A):\n",
    "    n = len(A)\n",
    "    starts = [0] * n\n",
    "    ends = [0] * n\n",
    "\n",
    "    # prepare helper arrays\n",
    "    for i, r in enumerate(A):\n",
    "        starts[max(i - r, 0)] += 1\n",
    "        ends[min(i + r, n - 1)] += 1\n",
    "\n",
    "    active = 0\n",
    "    intersections = 0\n",
    "\n",
    "    # sweep away!\n",
    "    for i, r in enumerate(A):\n",
    "        started = starts[i]\n",
    "        ended = ends[i]\n",
    "        current = active * started + (started * (started - 1) // 2)\n",
    "        intersections += current\n",
    "        if intersections > MAX_RESULT:\n",
    "            return -1\n",
    "        active += started - ended\n",
    "    return intersections\n",
    "\n",
    "solution( A )"
   ]
  }
 ],
 "metadata": {
  "interpreter": {
   "hash": "ad2bdc8ecc057115af97d19610ffacc2b4e99fae6737bb82f5d7fb13d2f2c186"
  },
  "kernelspec": {
   "display_name": "Python 3.7.4 ('base')",
   "language": "python",
   "name": "python3"
  },
  "language_info": {
   "codemirror_mode": {
    "name": "ipython",
    "version": 3
   },
   "file_extension": ".py",
   "mimetype": "text/x-python",
   "name": "python",
   "nbconvert_exporter": "python",
   "pygments_lexer": "ipython3",
   "version": "3.7.4"
  }
 },
 "nbformat": 4,
 "nbformat_minor": 5
}
