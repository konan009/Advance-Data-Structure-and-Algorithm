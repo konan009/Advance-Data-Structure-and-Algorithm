{
 "cells": [
  {
   "cell_type": "markdown",
   "id": "edb56c50",
   "metadata": {},
   "source": [
    "<h2>Top Amazon Leetcode</h2>\n",
    "Link : https://leetcode.com/problem-list/top-amazon-questions/\n"
   ]
  },
  {
   "cell_type": "code",
   "execution_count": 31,
   "id": "0ceb25fa",
   "metadata": {},
   "outputs": [
    {
     "name": "stdout",
     "output_type": "stream",
     "text": [
      "[1, 2]\n"
     ]
    }
   ],
   "source": [
    "## 1. Two Sum\n",
    "nums = [2,7,11,15]\n",
    "target = 9\n",
    "\n",
    "\n",
    "nums =  [3,2,4]\n",
    "target = 6\n",
    "\n",
    "for index1,value in enumerate(nums) :\n",
    "    for index2,value2 in enumerate(nums[int(index1)+1:]):\n",
    "        if(target == value + value2):\n",
    "            print( [index1, index1 + index2 + 1] )\n"
   ]
  },
  {
   "cell_type": "code",
   "execution_count": 35,
   "id": "9830cdf1",
   "metadata": {},
   "outputs": [
    {
     "data": {
      "text/plain": [
       "[[15, 13, 2, 5], [14, 3, 4, 1], [12, 6, 8, 9], [16, 7, 10, 11]]"
      ]
     },
     "execution_count": 35,
     "metadata": {},
     "output_type": "execute_result"
    }
   ],
   "source": [
    "## 48. Rotate Image\n",
    "matrix = [[5,1,9,11],[2,4,8,10],[13,3,6,7],[15,14,12,16]]\n",
    "\n",
    "l, r = 0, len(matrix) - 1\n",
    "\n",
    "while l < r:\n",
    "    \n",
    "    for i in range( r - l ):\n",
    "        top, bottom = l, r\n",
    "        topLeft = matrix[ top ][ l + i ]\n",
    "\n",
    "        # bottom left to top left \n",
    "        matrix[ top ][ l + i ] = matrix[ bottom - i ][ l ]\n",
    "\n",
    "        # bottom right to bottom left\n",
    "        matrix[ bottom-i ][ l ] = matrix[ bottom ][ r - i ]\n",
    "\n",
    "        # top right bottom right \n",
    "        matrix[ bottom ][ r - i ] = matrix[ top + i ][ r ]\n",
    "\n",
    "        # top left to top right\n",
    "        matrix[ top + i ][ r ] = topLeft\n",
    "\n",
    "    r -= 1\n",
    "    l += 1\n",
    "matrix\n"
   ]
  },
  {
   "cell_type": "code",
   "execution_count": 295,
   "id": "c200400f",
   "metadata": {},
   "outputs": [
    {
     "data": {
      "text/plain": [
       "3"
      ]
     },
     "execution_count": 295,
     "metadata": {},
     "output_type": "execute_result"
    }
   ],
   "source": [
    "import collections\n",
    "def numIslands( grid ):\n",
    "    if not grid:\n",
    "        return 0\n",
    "\n",
    "    rows, cols = len(grid), len(grid[0])\n",
    "    visit = set()\n",
    "    islands = 0\n",
    "\n",
    "    def bfs(r,c):\n",
    "        q = collections.deque()\n",
    "        visit.add((r,c))\n",
    "        q.append((r,c))\n",
    "        while q:\n",
    "            row,col = q.pop()\n",
    "            directions = [[1,0],[-1,0],[0,1],[0,-1]]\n",
    "            for dr,dc in directions:\n",
    "                r, c = row + dr, col + dc\n",
    "                if ( r in range(rows) and \n",
    "                     c in range(cols) and \n",
    "                     grid[r][c] == \"1\" and \n",
    "                     (r,c) not in visit):\n",
    "                        q.append((r,c))\n",
    "                        visit.add((r,c))\n",
    "\n",
    "    for r in range(rows):\n",
    "        for c in range(cols):\n",
    "            if grid[r][c]== \"1\" and (r,c) not in visit:\n",
    "                bfs(r,c)\n",
    "                islands += 1\n",
    "\n",
    "    return islands\n",
    "\n",
    "grid = [\n",
    "  [\"1\",\"1\",\"1\",\"1\",\"0\"],\n",
    "  [\"1\",\"1\",\"0\",\"1\",\"0\"],\n",
    "  [\"1\",\"1\",\"0\",\"0\",\"0\"],\n",
    "  [\"0\",\"0\",\"0\",\"0\",\"0\"]\n",
    "] \n",
    "\n",
    "grid = [\n",
    "  [\"1\",\"1\",\"0\",\"0\",\"0\"],\n",
    "  [\"1\",\"1\",\"0\",\"0\",\"0\"],\n",
    "  [\"0\",\"0\",\"1\",\"0\",\"0\"],\n",
    "  [\"0\",\"0\",\"0\",\"1\",\"1\"]\n",
    "]\n",
    "\n",
    "numIslands( grid )"
   ]
  },
  {
   "cell_type": "code",
   "execution_count": 101,
   "id": "97d8a5bc",
   "metadata": {},
   "outputs": [
    {
     "data": {
      "text/plain": [
       "'fl'"
      ]
     },
     "execution_count": 101,
     "metadata": {},
     "output_type": "execute_result"
    }
   ],
   "source": [
    "# 14. Longest Common Prefix\n",
    "strs = [\"flower\",\"flow\",\"flight\"]\n",
    "\n",
    "\n",
    "def longestCommonPrefix( strs):\n",
    "    res = \"\"\n",
    "\n",
    "    for i in range(len(strs[0])):\n",
    "        for s in strs:\n",
    "            if i == len(s) or s[i] != strs[0][i]:\n",
    "                return res\n",
    "        res += strs[0][i]\n",
    "\n",
    "    return res \n",
    "\n",
    "longestCommonPrefix( strs)"
   ]
  },
  {
   "cell_type": "code",
   "execution_count": 106,
   "id": "29e19b8b",
   "metadata": {},
   "outputs": [
    {
     "data": {
      "text/plain": [
       "0"
      ]
     },
     "execution_count": 106,
     "metadata": {},
     "output_type": "execute_result"
    }
   ],
   "source": [
    "haycomb_queue = \"hello\"\n",
    "needle = \"ll\"\n",
    "\n",
    "\n",
    "def strStr(haycomb_queue, needle):\n",
    "    index = 0\n",
    "    starting_index = 0 \n",
    "    for i in haycomb_queue:\n",
    "        if(len(needle)==index):\n",
    "            return starting_index\n",
    "        else:\n",
    "            if(needle[index]==i):\n",
    "                index +=1\n",
    "    \n",
    "strStr(haycomb_queue, needle)\n",
    "    "
   ]
  },
  {
   "cell_type": "code",
   "execution_count": 74,
   "id": "432dc0f4",
   "metadata": {},
   "outputs": [
    {
     "data": {
      "text/plain": [
       "7"
      ]
     },
     "execution_count": 74,
     "metadata": {},
     "output_type": "execute_result"
    }
   ],
   "source": [
    "## 2. Add Two Numbers\n",
    "class ListNode(object):\n",
    "    def __init__(self, val=0, next=None):\n",
    "        self.val = val\n",
    "        self.next = next\n",
    "\n",
    "def addTwoNumbers( l1, l2):\n",
    "    dummy = ListNode()\n",
    "    cur = dummy\n",
    "    carry = 0\n",
    "\n",
    "    while l1 or l2 or carry:\n",
    "        v1 = l1.val if l1 else 0\n",
    "        v2 = l2.val if l2 else 0\n",
    "\n",
    "        val = v1 + v2 + carry\n",
    "        carry = val //10\n",
    "        val = val %  10\n",
    "        \n",
    "        cur.next = ListNode(val)\n",
    "        cur = cur.next\n",
    "\n",
    "        l1 = l1.next if l1 else None\n",
    "        l2 = l2.next if l2 else None\n",
    "\n",
    "    return dummy.next\n",
    "\n",
    "node_1_3 = ListNode(3,None)\n",
    "node_1_2 = ListNode(4,node_1_3)\n",
    "node_1_1 = ListNode(2,node_1_2)\n",
    "\n",
    "node_2_3 = ListNode(4,None)\n",
    "node_2_2 = ListNode(6,node_2_3)\n",
    "node_2_1 = ListNode(5,node_2_2)\n",
    "\n",
    "addTwoNumbers( node_1_1, node_2_1).val\n"
   ]
  },
  {
   "cell_type": "code",
   "execution_count": 76,
   "id": "4593533d",
   "metadata": {},
   "outputs": [
    {
     "data": {
      "text/plain": [
       "7"
      ]
     },
     "execution_count": 76,
     "metadata": {},
     "output_type": "execute_result"
    }
   ],
   "source": [
    "node_1_3 = ListNode(3,None)\n",
    "node_1_2 = ListNode(4,node_1_3)\n",
    "node_1_1 = ListNode(2,node_1_2)\n",
    "\n",
    "node_2_3 = ListNode(4,None)\n",
    "node_2_2 = ListNode(6,node_2_3)\n",
    "node_2_1 = ListNode(5,node_2_2)\n",
    "\n",
    "def addTwoNumbers2( l1, l2 ):\n",
    "    dummy = ListNode()\n",
    "    curr = dummy\n",
    "    carry = 0\n",
    "    \n",
    "    while l1 or l2 or carry:\n",
    "        value_1 = l1.val if l1 else 0\n",
    "        value_2 = l2.val if l2 else 0\n",
    "        sum = value_1 + value_2 + carry\n",
    "        carry = sum//10\n",
    "        sum  = sum % 10\n",
    "\n",
    "        curr.next = ListNode(sum)\n",
    "        curr = curr.next\n",
    "\n",
    "        l1 = l1.next if l1 else 0\n",
    "        l2 = l2.next if l2 else 0 \n",
    "\n",
    "    return dummy.next\n",
    "\n",
    "addTwoNumbers2( node_1_1, node_2_1).val\n"
   ]
  },
  {
   "cell_type": "code",
   "execution_count": 3,
   "id": "97f6b4e0",
   "metadata": {},
   "outputs": [
    {
     "data": {
      "text/plain": [
       "dict_values([['eat', 'tea', 'ate'], ['tan', 'nat'], ['bat']])"
      ]
     },
     "execution_count": 3,
     "metadata": {},
     "output_type": "execute_result"
    }
   ],
   "source": [
    "## 49. Group Anagrams\n",
    "strs = [\"eat\",\"tea\",\"tan\",\"ate\",\"nat\",\"bat\"]\n",
    "from collections import defaultdict\n",
    "\n",
    "def groupAnagrams( strs ):\n",
    "    res = defaultdict(list)\n",
    "\n",
    "    for s in strs:\n",
    "        count = [0] * 26\n",
    "        for c in s:\n",
    "            count[ord(c) - ord(\"a\")] += 1\n",
    "        res[tuple(count)].append(s)\n",
    "        \n",
    "    return res.values()\n",
    "\n",
    "groupAnagrams( strs )"
   ]
  },
  {
   "cell_type": "code",
   "execution_count": 8,
   "id": "72fec032",
   "metadata": {},
   "outputs": [
    {
     "data": {
      "text/plain": [
       "3"
      ]
     },
     "execution_count": 8,
     "metadata": {},
     "output_type": "execute_result"
    }
   ],
   "source": [
    "\n",
    "def lengthOflongestSubstring( s ):\n",
    "    charSet = set()\n",
    "    l = 0 \n",
    "    res = 0 \n",
    "\n",
    "    for r in range(len(s)):\n",
    "        while s[r] in charSet:\n",
    "            charSet.remove(s[l])\n",
    "            l += 1\n",
    "\n",
    "        charSet.add(s[r])\n",
    "        res = max(res, r - l  + 1)\n",
    "\n",
    "    return res\n",
    "\n",
    "s = \"abcabcbb\"\n",
    "lengthOflongestSubstring( s )"
   ]
  },
  {
   "cell_type": "code",
   "execution_count": 62,
   "id": "b6cafe32",
   "metadata": {},
   "outputs": [
    {
     "data": {
      "text/plain": [
       "4"
      ]
     },
     "execution_count": 62,
     "metadata": {},
     "output_type": "execute_result"
    }
   ],
   "source": [
    "# Decreasing Rating Problem\n",
    "ratings = [4, 3, 5, 4, 3]\n",
    "ratings = [2, 1, 3]\n",
    "def countDecreasingRatings(ratings):\n",
    "    count = 0 \n",
    "    total_number = len(ratings)\n",
    "\n",
    "    def decreasingratingsequenceformula(n):\n",
    "        return (n/2)*(n+1)\n",
    "\n",
    "    prev = ratings[0] \n",
    "    for item in range(1,total_number):\n",
    "        if(prev>ratings[item]):\n",
    "            count +=1\n",
    "            prev = ratings[item]\n",
    "        else:\n",
    "            total_number += decreasingratingsequenceformula(count)\n",
    "            count =0 \n",
    "            prev = ratings[item]\n",
    " \n",
    "    total_number += decreasingratingsequenceformula(count)\n",
    "    \n",
    "    return int(total_number)\n",
    "\n",
    "countDecreasingRatings(ratings)"
   ]
  },
  {
   "cell_type": "code",
   "execution_count": 23,
   "id": "ee6372ea",
   "metadata": {},
   "outputs": [
    {
     "name": "stdout",
     "output_type": "stream",
     "text": [
      "10\n"
     ]
    }
   ],
   "source": [
    "import collections\n",
    "class Node:\n",
    "    def __init__(self, val, next = None ):\n",
    "        self.val = val\n",
    "        self.next = next\n",
    "\n",
    "def maxPairList(head):\n",
    "    fast = head\n",
    "    slow = head\n",
    "    current = head\n",
    "\n",
    "    while(fast and fast.next ):\n",
    "        slow = slow.next\n",
    "        fast = fast.next.next\n",
    "    \n",
    "    slow = reverse(slow)\n",
    "    max = 0\n",
    "    while (slow ) :\n",
    "        sum = slow.val + current.val\n",
    "        if (max < sum):\n",
    "            max = sum\n",
    "        slow = slow.next\n",
    "        current = current.next\n",
    "    \n",
    "    return max\n",
    "\n",
    "\n",
    "def reverse( head) :\n",
    "    prev = None\n",
    "    next = head\n",
    "    current = head\n",
    "    \n",
    "    while(current):\n",
    "        next = next.next\n",
    "        current.next = prev\n",
    "        prev = current\n",
    "        current = next\n",
    "\n",
    "    return prev\n",
    "\n",
    "# chapters = Node(1)\n",
    "# chapters.next = Node(4)\n",
    "# chapters.next.next = Node(3)\n",
    "# chapters.next.next.next = Node(2)\n",
    "\n",
    "chapters = Node(1)\n",
    "chapters.next = Node(2)\n",
    "chapters.next = Node(1)\n",
    "chapters.next.next = Node(3)\n",
    "chapters.next.next.next = Node(9)\n",
    "\n",
    "\n",
    "# example: [1,2,3,4,9,11]\n",
    "print(maxPairList(chapters))"
   ]
  },
  {
   "cell_type": "code",
   "execution_count": 22,
   "metadata": {},
   "outputs": [
    {
     "name": "stdout",
     "output_type": "stream",
     "text": [
      " \n",
      " \n"
     ]
    },
    {
     "data": {
      "text/plain": [
       "10"
      ]
     },
     "execution_count": 22,
     "metadata": {},
     "output_type": "execute_result"
    }
   ],
   "source": [
    "import collections\n",
    "class Node:\n",
    "    def __init__(self, val, next = None ):\n",
    "        self.val = val\n",
    "        self.next = next\n",
    "\n",
    "\n",
    "def reverse_link( head ):\n",
    "    current = head\n",
    "    prev = None\n",
    "    next = head\n",
    "    while current:\n",
    "        next = next.next\n",
    "        current.next = prev\n",
    "        prev = current\n",
    "        current = next\n",
    "\n",
    "    return prev\n",
    "\n",
    "\n",
    "def count_max_pages(chapters):\n",
    "    fast = chapters\n",
    "    slow = chapters\n",
    "    curr = chapters\n",
    "\n",
    "    while fast and fast.next:\n",
    "        slow = slow.next\n",
    "        fast = fast.next.next\n",
    "\n",
    "    slow = reverse_link( slow )\n",
    "    max_pages = 0\n",
    "    \n",
    "    while slow:\n",
    "        sum = slow.val + curr.val\n",
    "        max_pages = max(sum,max_pages)\n",
    "     \n",
    "        print(\" \")\n",
    "        slow = slow.next\n",
    "        curr = curr.next\n",
    "\n",
    "    return max_pages\n",
    "\n",
    "chapters = Node(1)\n",
    "chapters.next = Node(2)\n",
    "chapters.next = Node(1)\n",
    "chapters.next.next = Node(3)\n",
    "chapters.next.next.next = Node(9)\n",
    "\n",
    "\n",
    "count_max_pages( chapters )"
   ]
  },
  {
   "cell_type": "code",
   "execution_count": 77,
   "id": "05bb6fe8",
   "metadata": {},
   "outputs": [
    {
     "data": {
      "text/plain": [
       "2"
      ]
     },
     "execution_count": 77,
     "metadata": {},
     "output_type": "execute_result"
    }
   ],
   "source": [
    "## O( N )\n",
    "def numswaps(binary):\n",
    "    count = 0\n",
    "    n = len(binary)\n",
    "\n",
    "    combinations = []\n",
    "    indexes = []\n",
    "    for i in range(n // 2):\n",
    "        if binary[i] != binary[n - i - 1]:\n",
    "            combinations.append(binary[i]+ binary[n - i - 1])\n",
    "            indexes.append(i)\n",
    "\n",
    "    comb_queue = []\n",
    "    index_queue = []\n",
    "    comb_queue.append( combinations[0] )\n",
    "    index_queue.append( indexes[0] )\n",
    "    \n",
    "   \n",
    "    for i in range(1,len(combinations)):\n",
    "        comb_queue.append(combinations[i])\n",
    "        index_queue.append(indexes[i])\n",
    "        \n",
    "        if( comb_queue[0] != comb_queue[-1]):\n",
    "            comb_queue = comb_queue[1:-1]\n",
    "            count += ( n - index_queue[0] - 1 )- (n - index_queue[-1] - 1)\n",
    "            index_queue = index_queue[1:-1]\n",
    "\n",
    "    if(len(index_queue)>0):\n",
    "        if( len(index_queue) == 1 ):\n",
    "            count +=  (n // 2 ) - index_queue[0]\n",
    "        else:\n",
    "            count += ( n - index_queue[0] - 1 )- ( index_queue[-1] )\n",
    "    \n",
    "    return count\n",
    "\n",
    "# numswaps('110000000')\n",
    "# numswaps('00111000001')\n",
    "numswaps('0100101')\n",
    "# numswaps('1100011000010100')"
   ]
  },
  {
   "cell_type": "code",
   "execution_count": 3,
   "id": "7ba64ca1",
   "metadata": {},
   "outputs": [
    {
     "name": "stdout",
     "output_type": "stream",
     "text": [
      "9\n"
     ]
    }
   ],
   "source": [
    "import collections\n",
    "\n",
    "def solve(s):\n",
    "    ans = 0\n",
    "    dictionary = collections.defaultdict(int)\n",
    "    curr = 0\n",
    "\n",
    "    for index in range(len(s)):\n",
    "        curr =  curr + index + 1 - dictionary[s[index]]\n",
    "        ans += curr\n",
    "        dictionary[s[index]] = index + 1\n",
    "        \n",
    "    return ans\n",
    "\n",
    "print(solve(\"aba\"))"
   ]
  },
  {
   "cell_type": "code",
   "execution_count": 76,
   "id": "09a61217",
   "metadata": {},
   "outputs": [
    {
     "data": {
      "text/plain": [
       "35"
      ]
     },
     "execution_count": 76,
     "metadata": {},
     "output_type": "execute_result"
    }
   ],
   "source": [
    "def distinctCharactersSubstring(string):\n",
    "    result = 0\n",
    "    temp = 0\n",
    "    dictionary = defaultdict(int)\n",
    "\n",
    "    for index in range(len(string)):\n",
    "        temp = temp + index + 1 - dictionary[string[index]]\n",
    "        result += temp\n",
    "        dictionary[string[index]] = index + 1\n",
    "\n",
    "    return result\n",
    "\n",
    "string = 'abcde'\n",
    "distinctCharactersSubstring(string)"
   ]
  },
  {
   "cell_type": "code",
   "execution_count": 1,
   "id": "2d281582",
   "metadata": {},
   "outputs": [
    {
     "data": {
      "text/plain": [
       "[['N/A'],\n",
       " ['UIAHSIHGFG', 'RGSRTWR', 'EYJTRJYEYTJ'],\n",
       " ['N/A'],\n",
       " ['QERGFSFDS', 'QERGFSFDS2', 'QERGFSFDS3']]"
      ]
     },
     "execution_count": 1,
     "metadata": {},
     "output_type": "execute_result"
    }
   ],
   "source": [
    "# insert_and_ship_orders = [['INSERT','GT23513413'], ['INSERT', 'TQC2451340'], ['SHIP','-'], ['INSERT','VYP8561991'], ['INSERT','TEST'], ['SHIP','-']]\n",
    "# insert_and_ship_orders = [[\"INSERT\", \"UIAHSIHGFG\"] , [\"INSERT\", \"RGSRTWR\"] , [\"SHIP\", \"-\"] , [\"INSERT\", \"EYJTRJYEYTJ\"] , [\"INSERT\", \"QERGFSFDS\"], [\"SHIP\", \"-\"]]\n",
    "insert_and_ship_orders = [[\"INSERT\", \"UIAHSIHGFG\"] , [\"INSERT\", \"RGSRTWR\"] , [\"SHIP\", \"-\"] , [\"INSERT\", \"EYJTRJYEYTJ\"] , [\"INSERT\", \"QERGFSFDS\"], [\"SHIP\", \"-\"], [\"INSERT\", \"QERGFSFDS2\"], [\"SHIP\", \"-\"], [\"INSERT\", \"QERGFSFDS3\"], [\"SHIP\", \"-\"]]\n",
    "\n",
    "def createFunction( orders):\n",
    "    queue = []\n",
    "    batch = []\n",
    "    for index in range(len(orders)):\n",
    "        order_type , code = orders[index]\n",
    "        if order_type == 'INSERT':\n",
    "            queue.append(code)\n",
    "        else:\n",
    "            if len(queue) < 3:\n",
    "                batch.append(['N/A'])\n",
    "            else:\n",
    "                batch.append(queue[0:3])\n",
    "                queue = queue[3:]\n",
    "    return batch\n",
    "\n",
    "createFunction( insert_and_ship_orders)"
   ]
  },
  {
   "cell_type": "code",
   "execution_count": 2,
   "id": "8568f562",
   "metadata": {},
   "outputs": [
    {
     "data": {
      "text/plain": [
       "1"
      ]
     },
     "execution_count": 2,
     "metadata": {},
     "output_type": "execute_result"
    }
   ],
   "source": [
    "\n",
    "s = \"001011\"\n",
    "def countflips(s):\n",
    "    string_len = len(s)\n",
    "    ones = s.count(\"1\")\n",
    "    zeroes = 0\n",
    "    \n",
    "    best = ones\n",
    "    for i in range( string_len - 1, -1, -1):\n",
    "        if s[i]== \"0\":\n",
    "            zeroes += 1\n",
    "        else:\n",
    "            ones -= 1\n",
    "\n",
    "        best = min(zeroes + ones, best)\n",
    "\n",
    "    return best\n",
    "\n",
    "countflips(s)"
   ]
  },
  {
   "cell_type": "code",
   "execution_count": 37,
   "id": "d0619cc0",
   "metadata": {},
   "outputs": [
    {
     "data": {
      "text/plain": [
       "1"
      ]
     },
     "execution_count": 37,
     "metadata": {},
     "output_type": "execute_result"
    }
   ],
   "source": [
    "s = \"001011\"\n",
    "\n",
    "def countflips(s):\n",
    "    n = len(s)\n",
    "    ones = s.count('1')\n",
    "    zeroes = 0\n",
    "    best = ones \n",
    "    \n",
    "    for i in reversed(range(n)):\n",
    "        if s[i]== \"0\":\n",
    "            zeroes += 1\n",
    "        else:\n",
    "            ones -= 1\n",
    "\n",
    "        best = min(zeroes + ones, best)\n",
    "\n",
    "    return best\n",
    "\n",
    "countflips(s)"
   ]
  },
  {
   "cell_type": "code",
   "execution_count": 5,
   "id": "ecb3fdbd",
   "metadata": {},
   "outputs": [
    {
     "name": "stdout",
     "output_type": "stream",
     "text": [
      "32\n"
     ]
    }
   ],
   "source": [
    "arr = [2,4]\n",
    "\n",
    "array_len = len(arr)\n",
    "\n",
    "k = 1\n",
    "power = 0\n",
    "for index1 in range(len(arr)):\n",
    "    for index2 in range(array_len):\n",
    "        power += min( arr[index2:index2+k]) * sum( arr[index2:index2+k])\n",
    "    array_len -=1\n",
    "    k += 1\n",
    "\n",
    "print(power)"
   ]
  },
  {
   "cell_type": "code",
   "execution_count": 147,
   "id": "bf3954a4",
   "metadata": {},
   "outputs": [
    {
     "name": "stdout",
     "output_type": "stream",
     "text": [
      "1   1  -->  0   5 :  17   0   17\n",
      "2   3  -->  1   3 :  3   1   4\n",
      "3   1  -->  1   5 :  14   5   12\n",
      "4   2  -->  3   5 :  2   5   7\n"
     ]
    },
    {
     "data": {
      "text/plain": [
       "44"
      ]
     },
     "execution_count": 147,
     "metadata": {},
     "output_type": "execute_result"
    }
   ],
   "source": [
    "def totalStrength(strength):\n",
    "    n = len(strength)\n",
    "    \n",
    "    stack = [] \n",
    "    next_less = [-1] * n\n",
    "    for index in range(n):\n",
    "        while stack and strength[stack[-1]] > strength[index]:\n",
    "            stack.pop()\n",
    "\n",
    "        prev_less[index] = stack[-1] if len(stack) > 0 else -1\n",
    "        stack.append(index)\n",
    "\n",
    "    stack = [] \n",
    "    prev_less = [n] * n \n",
    "    for index in reversed(range(n)):\n",
    "        while stack and strength[stack[-1]] >= strength[index]:\n",
    "            stack.pop()\n",
    "        next_less[index] = stack[-1] if len(stack) > 0 else n\n",
    "        stack.append(index)\n",
    "\n",
    "    pref = [0] * (n+2)\n",
    "    for j in range(1,n+1):\n",
    "        pref[j] = (pref[j-1] + strength[j-1]) \n",
    "    \n",
    "\n",
    "    pref_pref = [0] * (n+2)\n",
    "    for j in range(1,n+1):\n",
    "        pref_pref[j] = (pref_pref[j-1] + pref[j]) \n",
    "    ans = 0\n",
    "    for j in range(1,n+1):\n",
    "        prv = prev_less[j-1]+1\n",
    "        nxt = next_less[j-1]+1\n",
    "        minus = pref_pref[j-1] -(0 if prv == 0 else pref_pref[prv-1])\n",
    "        plus = (pref_pref[nxt-1] - pref_pref[j-1] ) \n",
    "        before = j - prv\n",
    "        after = nxt - j\n",
    "        total = (plus * before)  - (minus * after)\n",
    "        print( j , \" \" , strength[j-1] , \" --> \" , prv , \" \" , nxt, \": \" ,total ,\" \" ,minus ,\" \" ,plus )\n",
    "        \n",
    "        ans = (ans + (total * strength[j-1]) ) \n",
    "    \n",
    "    return ans\n",
    "    \n",
    "strength = [1,3,1,2]\n",
    "totalStrength(strength)"
   ]
  },
  {
   "cell_type": "code",
   "execution_count": 132,
   "metadata": {},
   "outputs": [
    {
     "name": "stdout",
     "output_type": "stream",
     "text": [
      "\tLeft Boundary: [-1, -1, 0, 2] \t NG Left: [-1, 0, 0, 2]\n",
      "\tRight Boundary: [4, 3, 4, 4] \t NG Right: [4, 2, 4, 4]\n",
      " \n",
      "Total Imbalance: 0 \tTotal: 4 \t Smaller Sub: 4\n",
      "Total Imbalance: 3 \tTotal: 4 \t Smaller Sub: 1\n",
      "Total Imbalance: 0 \tTotal: 4 \t Smaller Sub: 4\n",
      "Total Imbalance: 0 \tTotal: 1 \t Smaller Sub: 1\n",
      " \n",
      "3\n"
     ]
    }
   ],
   "source": [
    "def solve(rank):\n",
    "    n = len(rank)\n",
    "\n",
    "    left_boundary = [-1] * n\n",
    "    rank_and_index = {}\n",
    "    for i in range(n):\n",
    "        if rank[i] + 1 in rank_and_index:\n",
    "            left_boundary[i] = rank_and_index[rank[i] + 1]\n",
    "        rank_and_index[rank[i]] = i\n",
    "\n",
    "    right_boundary = [n] * n\n",
    "    rank_and_index = {}\n",
    "    for i in range(n - 1, -1, -1):\n",
    "        if rank[i] + 1 in rank_and_index:\n",
    "            right_boundary[i] = rank_and_index[rank[i] + 1]\n",
    "        rank_and_index[rank[i]] = i\n",
    "    \n",
    "    greater_right = [n] * n\n",
    "    stack = []\n",
    "    for i in range(n):\n",
    "        while stack and rank[i] > rank[stack[-1]]:  \n",
    "            greater_right[stack.pop()] = i\n",
    "        stack.append(i)\n",
    "    \n",
    "    greater_left = [-1] * n\n",
    "    stack = []\n",
    "    for i in range(n - 1, -1, -1):\n",
    "        while stack and rank[i] > rank[stack[-1]]:\n",
    "            greater_left[stack.pop()] = i\n",
    "        stack.append(i)\n",
    "\n",
    "    res = 0\n",
    "    for i in range(n):\n",
    "        total_possible = (i - left_boundary[i]) * (right_boundary[i] - i)\n",
    "        smaller_sub_count = (i - greater_left[i]) * (greater_right[i] - i)\n",
    "        res += (total_possible - smaller_sub_count)\n",
    "\n",
    "    return res\n",
    "\n",
    "print(solve([4,1,3,2])) \n",
    "# print(solve([1,3,1]))"
   ]
  },
  {
   "cell_type": "code",
   "execution_count": 72,
   "id": "212642bb",
   "metadata": {},
   "outputs": [
    {
     "name": "stdout",
     "output_type": "stream",
     "text": [
      "K Size: 2\n",
      "None\n"
     ]
    }
   ],
   "source": [
    "\n",
    "def calPowerMax(boot,process,p_max):\n",
    "    n = len(process)\n",
    "\n",
    "    # Prefix Sum For Sum of Array\n",
    "    pref = [0] * n\n",
    "    for j in range(n):\n",
    "        pref[j] = process[j] + pref[j-1] \n",
    "    \n",
    "    # Monotonic Stack to define the range of window\n",
    "    prev_less = [-1]* n\n",
    "    stack = []\n",
    "    for j in range(n):\n",
    "        while stack and boot[stack[-1]] < boot[j]:\n",
    "            stack.pop()\n",
    "        prev_less[j] = stack[-1] if len(stack) > 0 else -1\n",
    "        stack.append(j)\n",
    "\n",
    "    next_less = [n]* n\n",
    "    stack = []\n",
    "    for j in reversed(range(n)):\n",
    "        while stack and boot[stack[-1]] <= boot[j]:\n",
    "            stack.pop()\n",
    "            \n",
    "        next_less[j] = stack[-1] if len(stack) > 0 else n\n",
    "        stack.append(j)\n",
    "\n",
    "    i = 0\n",
    "    maximum_cluster = 1\n",
    "    maximum_power_max = p_max\n",
    "    k_size = 0\n",
    "    while i < n:\n",
    "        start, end = prev_less[i] , next_less[i] -1\n",
    "        range_k = (end+1) - (start+1)\n",
    "        \n",
    "        if range_k >= maximum_cluster :\n",
    "            start_window    = (start+1) if (i-maximum_cluster+1) < (start+1)  else (i-maximum_cluster+1)\n",
    "            end_window      = (end+1) if (i+maximum_cluster - 1) > (end+1)  else (i+maximum_cluster - 1)\n",
    "            max             = boot[i]\n",
    "\n",
    "            while i >= start_window  and (start_window + maximum_cluster - 1) <= end :\n",
    "                start_pref = start_window-1\n",
    "                end_pref = start_window + maximum_cluster - 1\n",
    "                sum_of_subarray = pref[end_pref] - (pref[start_pref] if start_pref >= 0 else 0)\n",
    "                power_max = max + sum_of_subarray * maximum_cluster \n",
    "                \n",
    "                if( power_max <= maximum_power_max):\n",
    "                    k_size = maximum_cluster\n",
    "                    maximum_cluster+= 1\n",
    "                    i = 0\n",
    "\n",
    "                start_window += 1\n",
    "                end_window += 1\n",
    "\n",
    "        i += 1\n",
    "        # sum = after -  before\n",
    "        # print( start, end )\n",
    "    print(\"K Size:\",k_size)\n",
    "\n",
    "# boot =    [3,6,1,3,4]\n",
    "# process = [2,1,3,4,5]\n",
    "# p_max = 25\n",
    "\n",
    "boot =    [8,8,10,9,12]\n",
    "process = [4,1,4,5,3]\n",
    "p_max = 33\n",
    "\n",
    "# boot =    [11,12,19]\n",
    "# process = [10,8,7]\n",
    "# p_max = 6\n",
    "print(calPowerMax(boot,process,p_max))"
   ]
  }
 ],
 "metadata": {
  "kernelspec": {
   "display_name": "Python 3.10.5 64-bit",
   "language": "python",
   "name": "python3"
  },
  "language_info": {
   "codemirror_mode": {
    "name": "ipython",
    "version": 3
   },
   "file_extension": ".py",
   "mimetype": "text/x-python",
   "name": "python",
   "nbconvert_exporter": "python",
   "pygments_lexer": "ipython3",
   "version": "3.10.5"
  },
  "vscode": {
   "interpreter": {
    "hash": "369f2c481f4da34e4445cda3fffd2e751bd1c4d706f27375911949ba6bb62e1c"
   }
  }
 },
 "nbformat": 4,
 "nbformat_minor": 5
}
