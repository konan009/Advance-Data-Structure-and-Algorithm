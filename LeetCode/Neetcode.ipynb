{
 "cells": [
  {
   "cell_type": "markdown",
   "id": "edb56c50",
   "metadata": {},
   "source": [
    "<h2>Top Amazon Leetcode</h2>\n",
    "Link : https://leetcode.com/problem-list/top-amazon-questions/\n"
   ]
  },
  {
   "cell_type": "code",
   "execution_count": 42,
   "id": "0ceb25fa",
   "metadata": {},
   "outputs": [
    {
     "name": "stdout",
     "output_type": "stream",
     "text": [
      "9\n",
      "13\n",
      "17\n",
      "18\n",
      "22\n",
      "26\n"
     ]
    }
   ],
   "source": [
    "## 1. Two Sum\n",
    "nums = [2,7,11,15]\n",
    "target = 9\n",
    "\n",
    "for item,value in enumerate(nums) :\n",
    "    for i in nums[int(item)+1:]:\n",
    "        print(i+value )\n"
   ]
  },
  {
   "cell_type": "code",
   "execution_count": 59,
   "id": "9765ff38",
   "metadata": {},
   "outputs": [
    {
     "name": "stdout",
     "output_type": "stream",
     "text": [
      "not palindrome\n"
     ]
    }
   ],
   "source": [
    "## 9. Palindrome Number\n",
    "x = 10\n",
    "test = str(x)\n",
    "\n",
    "length = len(test)\n",
    "if(length%2==1):\n",
    "    length -= 1\n",
    "\n",
    "for item in range(length//2):\n",
    "    if(test[item]!=test[(length-1)-item]):\n",
    "        print(\"not palindrome\")"
   ]
  },
  {
   "cell_type": "code",
   "execution_count": 16,
   "id": "cc1d447d",
   "metadata": {},
   "outputs": [
    {
     "name": "stdout",
     "output_type": "stream",
     "text": [
      "Not Match\n"
     ]
    }
   ],
   "source": [
    "## 20. Valid Parentheses\n",
    "## Valid Parenthesis\n",
    "# s = \"()\"\n",
    "s = \"(]\"\n",
    "# s = \"()[]{}\"\n",
    "\n",
    "opening = ['(','[','{']\n",
    "partner = {'(':')','[':']','{':'}'}\n",
    "length = []\n",
    "\n",
    "for item in s:\n",
    "    if item in opening:\n",
    "        length.append(item)\n",
    "    else:\n",
    "        if(item != partner[length[-1]] ):\n",
    "            return false\n",
    "        else:\n",
    "            length.pop()\n",
    "return true\n",
    "\n",
    "\n"
   ]
  },
  {
   "cell_type": "code",
   "execution_count": 59,
   "id": "12219a44",
   "metadata": {},
   "outputs": [
    {
     "name": "stdout",
     "output_type": "stream",
     "text": [
      "[1, 1, 1, 1, 1, 3, 4, 6]\n"
     ]
    }
   ],
   "source": [
    "list1 = [1,1,1,1]\n",
    "list2 = [1,3,4,6]\n",
    "\n",
    "merge_list = list1 + list2\n",
    "\n",
    "for i in range(len(merge_list)):\n",
    "    for j in range(0, len(merge_list) - i - 1):\n",
    "        if merge_list[j] > merge_list[j + 1]:\n",
    "            temp = merge_list[j]\n",
    "            merge_list[j] = merge_list[j+1]\n",
    "            merge_list[j+1] = temp\n",
    "\n",
    "\n",
    "print(merge_list)\n"
   ]
  },
  {
   "cell_type": "code",
   "execution_count": 95,
   "id": "63c5301b",
   "metadata": {},
   "outputs": [
    {
     "data": {
      "text/plain": [
       "[0, 1, 2, 3, 4, 2, 2, 3, 3, 4]"
      ]
     },
     "execution_count": 95,
     "metadata": {},
     "output_type": "execute_result"
    }
   ],
   "source": [
    "## 26. Remove Duplicates from Sorted Array\n",
    "\n",
    "l = 1\n",
    "nums = [0,0,1,1,1,2,2,3,3,4]\n",
    "for r in range(1, len(nums)):\n",
    "    if nums[r] != nums[r-1]:\n",
    "        nums[l] = nums[r]\n",
    "        l +=1\n",
    "\n",
    "nums"
   ]
  },
  {
   "cell_type": "code",
   "execution_count": null,
   "id": "6db5aa3c",
   "metadata": {},
   "outputs": [],
   "source": [
    "# 27. Remove Element\n",
    "k = 0\n",
    "for i in range(len(nums)):\n",
    "    if nums[i] != val:\n",
    "        nums[k] = nums[i]\n",
    "        k += 1\n",
    "\n",
    "k    "
   ]
  },
  {
   "cell_type": "code",
   "execution_count": null,
   "id": "97d8a5bc",
   "metadata": {},
   "outputs": [],
   "source": [
    "strs = [\"flower\",\"flow\",\"flight\"]\n",
    "\n",
    "\n",
    "def longestCommonPrefix( strs):\n",
    "    res = \"\"\n",
    "\n",
    "    for i in range(len(strs[0])):\n",
    "        for s in strs:\n",
    "            if i == len(s) or s[i] != strs[0][i]:\n",
    "                return res\n",
    "        res += strs[0][i]\n",
    "\n",
    "    return res \n",
    "\n",
    "longestCommonPrefix( strs)"
   ]
  }
 ],
 "metadata": {
  "kernelspec": {
   "display_name": "Python 3.10.5 64-bit",
   "language": "python",
   "name": "python3"
  },
  "language_info": {
   "codemirror_mode": {
    "name": "ipython",
    "version": 3
   },
   "file_extension": ".py",
   "mimetype": "text/x-python",
   "name": "python",
   "nbconvert_exporter": "python",
   "pygments_lexer": "ipython3",
   "version": "3.10.5"
  },
  "vscode": {
   "interpreter": {
    "hash": "369f2c481f4da34e4445cda3fffd2e751bd1c4d706f27375911949ba6bb62e1c"
   }
  }
 },
 "nbformat": 4,
 "nbformat_minor": 5
}
