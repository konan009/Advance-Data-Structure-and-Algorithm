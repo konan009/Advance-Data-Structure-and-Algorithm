{
 "cells": [
  {
   "cell_type": "code",
   "execution_count": 47,
   "id": "a63d7f65",
   "metadata": {},
   "outputs": [
    {
     "name": "stdout",
     "output_type": "stream",
     "text": [
      "{0: [], 1: [0], 2: [0], 3: [1, 2]}\n"
     ]
    },
    {
     "data": {
      "text/plain": [
       "[0, 1, 2, 3]"
      ]
     },
     "execution_count": 47,
     "metadata": {},
     "output_type": "execute_result"
    }
   ],
   "source": [
    "## Leetcode 210. Course Schedule II\n",
    "class Solution:\n",
    "    def findOrder(self, numCourses, prerequisites) :\n",
    "        prereq = { c: [] for c in range(numCourses) }\n",
    "\n",
    "        for crs, pre in prerequisites:\n",
    "            prereq[crs].append(pre)\n",
    "            \n",
    "        output = []\n",
    "        visit, cycle = set(), set()\n",
    "        def dfs(crs):\n",
    "            if crs in cycle:\n",
    "                return False\n",
    "            if crs in visit:\n",
    "                return True\n",
    "\n",
    "            cycle.add(crs)\n",
    "            for pre in prereq[crs]:\n",
    "                if dfs(pre) == False:\n",
    "                    return False\n",
    "\n",
    "            cycle.remove(crs)\n",
    "            visit.add(crs)\n",
    "            output.append(crs)\n",
    "            return True\n",
    "\n",
    "        for c in range(numCourses):\n",
    "            if dfs(c) == False:\n",
    "                return []\n",
    "\n",
    "        return output\n",
    "\n",
    "numCourses = 4\n",
    "prerequisites = [[1,0],[2,0],[3,1],[3,2]]\n",
    "solution = Solution()\n",
    "solution.findOrder(numCourses, prerequisites)"
   ]
  },
  {
   "cell_type": "code",
   "execution_count": null,
   "id": "cd0eef32",
   "metadata": {},
   "outputs": [],
   "source": [
    "# Leetcode 217\n",
    "class Solution:\n",
    "    def containsDuplicate(self, nums):\n",
    "        list = set()\n",
    "\n",
    "        for i in nums:\n",
    "            if i in list:\n",
    "                return True\n",
    "            list.add(i)\n",
    "\n",
    "        return False\n",
    "\n",
    "\n",
    "\n",
    "nums = [1,2,3,4]\n"
   ]
  },
  {
   "cell_type": "code",
   "execution_count": null,
   "id": "8f82c599",
   "metadata": {},
   "outputs": [],
   "source": [
    "# Leetcode 219\n",
    "class Solution:\n",
    "    def containsNearbyDuplicate(self, nums, k):\n",
    "        L = 0\n",
    "        window = set()\n",
    "        for R in range(len(nums)):\n",
    "            if (R - L) > k:\n",
    "                window.remove(nums[L])\n",
    "                L += 1\n",
    "            if nums[R] in window:\n",
    "                return True\n",
    "            \n",
    "            window.add(nums[R])\n",
    "        \n",
    "        return False\n",
    "\n"
   ]
  },
  {
   "cell_type": "code",
   "execution_count": null,
   "id": "d1dde63c",
   "metadata": {},
   "outputs": [],
   "source": [
    "## Leetcode 221\n",
    "class Solution:\n",
    "    def maximalSquare(self, matrix):\n",
    "        ROWS, COLS = len(matrix), len(matrix[0])\n",
    "        cache = {}\n",
    "\n",
    "        def helper(r, c):\n",
    "            if r >= ROWS or c >= COLS:\n",
    "                return 0\n",
    "\n",
    "            if (r, c) not in cache:\n",
    "                down = helper(r + 1, c)\n",
    "                right = helper(r , c + 1)\n",
    "                diag = helper(r + 1, c + 1)\n",
    "\n",
    "                cache[(r,c)] = 0\n",
    "                if matrix[r][c] == \"1\":\n",
    "                    cache[(r,c)] = 1 + min(down, right, diag)\n",
    "                \n",
    "            return cache[(r,c)]\n",
    "\n",
    "        helper(0,0)\n",
    "        return max(cache.values()) ** 2\n"
   ]
  },
  {
   "cell_type": "code",
   "execution_count": 6,
   "id": "21ba733e",
   "metadata": {},
   "outputs": [
    {
     "data": {
      "text/plain": [
       "True"
      ]
     },
     "execution_count": 6,
     "metadata": {},
     "output_type": "execute_result"
    }
   ],
   "source": [
    "from typing import Counter\n",
    "\n",
    "\n",
    "class Solution:\n",
    "    def isAnagram(self, s, t) :\n",
    "        if len(s) != len(t):\n",
    "            return False\n",
    "\n",
    "        s_hash = {}\n",
    "        t_hash = {}\n",
    "        for i in range(len(s)):\n",
    "            s_hash[s[i]] = 1 + s_hash.get(s[i], 0)\n",
    "            t_hash[t[i]] = 1 + t_hash.get(t[i], 0)\n",
    "\n",
    "        for i in range(len(s)):\n",
    "            if s_hash[s[i]] != t_hash.get(s[i],0):\n",
    "                return False\n",
    "\n",
    "        return True\n",
    "\n",
    "solution = Solution()\n",
    "s = \"anagram\"\n",
    "t = \"nagaram\"\n",
    "solution.isAnagram(s,t)"
   ]
  }
 ],
 "metadata": {
  "kernelspec": {
   "display_name": "Python 3.10.5 64-bit",
   "language": "python",
   "name": "python3"
  },
  "language_info": {
   "codemirror_mode": {
    "name": "ipython",
    "version": 3
   },
   "file_extension": ".py",
   "mimetype": "text/x-python",
   "name": "python",
   "nbconvert_exporter": "python",
   "pygments_lexer": "ipython3",
   "version": "3.10.7"
  },
  "vscode": {
   "interpreter": {
    "hash": "369f2c481f4da34e4445cda3fffd2e751bd1c4d706f27375911949ba6bb62e1c"
   }
  }
 },
 "nbformat": 4,
 "nbformat_minor": 5
}
